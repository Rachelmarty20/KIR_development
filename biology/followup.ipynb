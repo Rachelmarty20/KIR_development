{
 "cells": [
  {
   "cell_type": "code",
   "execution_count": 27,
   "metadata": {},
   "outputs": [
    {
     "name": "stdout",
     "output_type": "stream",
     "text": [
      "Populating the interactive namespace from numpy and matplotlib\n",
      "Populating the interactive namespace from numpy and matplotlib\n",
      "Populating the interactive namespace from numpy and matplotlib\n"
     ]
    },
    {
     "name": "stderr",
     "output_type": "stream",
     "text": [
      "/cellar/users/ramarty/anaconda/lib/python2.7/site-packages/IPython/core/magics/pylab.py:161: UserWarning: pylab import has clobbered these variables: ['normal']\n",
      "`%matplotlib` prevents importing * from pylab and numpy\n",
      "  \"\\n`%matplotlib` prevents importing * from pylab and numpy\"\n"
     ]
    }
   ],
   "source": [
    "import io\n",
    "from IPython.nbformat import current\n",
    "def execute_notebook(nbfile):\n",
    "    with io.open(nbfile) as f:\n",
    "        nb = current.read(f, 'json')\n",
    "    ip = get_ipython()\n",
    "    for cell in nb.worksheets[0].cells:\n",
    "        if cell.cell_type != 'code':\n",
    "            continue\n",
    "        ip.run_cell(cell.input)\n",
    "execute_notebook(\"/cellar/users/ramarty/Projects/kir/KIR_development/bin/imports.ipynb\")\n",
    "execute_notebook(\"/cellar/users/ramarty/Projects/kir/KIR_development/data_gathering/alternate/sample_mapping.ipynb\")"
   ]
  },
  {
   "cell_type": "code",
   "execution_count": 28,
   "metadata": {},
   "outputs": [],
   "source": [
    "df = pd.read_csv('/cellar/users/ramarty/Data/kir/TCGA/data_frames/all_the_good_stuff.csv', index_col=0)"
   ]
  },
  {
   "cell_type": "code",
   "execution_count": 29,
   "metadata": {},
   "outputs": [
    {
     "data": {
      "text/plain": [
       "86"
      ]
     },
     "execution_count": 29,
     "metadata": {},
     "output_type": "execute_result"
    }
   ],
   "source": [
    "len(df[(df.tissue == 'CESC')|(df.tissue == 'UCS')])"
   ]
  },
  {
   "cell_type": "code",
   "execution_count": 30,
   "metadata": {},
   "outputs": [],
   "source": [
    "t = (df.tissue == 'CESC')|(df.tissue == 'UCS')"
   ]
  },
  {
   "cell_type": "code",
   "execution_count": 31,
   "metadata": {},
   "outputs": [],
   "source": [
    "inhibitory = df[t].inhibitory > df[t].inhibitory.quantile(0.5)"
   ]
  },
  {
   "cell_type": "code",
   "execution_count": 25,
   "metadata": {},
   "outputs": [
    {
     "data": {
      "text/plain": [
       "Index([u'KIR3DL3', u'KIR3DP1', u'KIR2DL4', u'KIR3DL2', u'KIR2DP1', u'KIR2DL1',\n",
       "       u'KIR2DS4', u'KIR2DS3', u'KIR2DS2', u'KIR2DS5', u'KIR3DS1', u'KIR2DS1',\n",
       "       u'KIR2DL2', u'KIR3DL1', u'KIR2DL3', u'KIR2DL5A', u'age_at_diagnosis',\n",
       "       u'days_to_death', u'days_to_last_followup', u'ethnicity', u'gender',\n",
       "       u'race', u'tissue', u'vital_status', u'B cells naive',\n",
       "       u'B cells memory', u'Plasma cells', u'T cells CD8',\n",
       "       u'T cells CD4 naive', u'T cells CD4 memory resting',\n",
       "       u'T cells CD4 memory activated', u'T cells follicular helper',\n",
       "       u'T cells regulatory (Tregs)', u'T cells gamma delta',\n",
       "       u'NK cells resting', u'NK cells activated', u'Monocytes',\n",
       "       u'Macrophages M0', u'Macrophages M1', u'Macrophages M2',\n",
       "       u'Dendritic cells resting', u'Dendritic cells activated',\n",
       "       u'Mast cells resting', u'Mast cells activated', u'Eosinophils',\n",
       "       u'Neutrophils', u'P-value', u'Pearson Correlation', u'RMSE', u'Bcells',\n",
       "       u'CAFs', u'CD4_Tcells', u'CD8_Tcells', u'Endothelial', u'Macrophages',\n",
       "       u'NKcells', u'otherCells', u'A1', u'A2', u'B1', u'B2', u'C1', u'C2',\n",
       "       u'A1_', u'A2_', u'B1_', u'B2_', u'C1_', u'C2_', u'activating',\n",
       "       u'inhibitory', u'ratio'],\n",
       "      dtype='object')"
      ]
     },
     "execution_count": 25,
     "metadata": {},
     "output_type": "execute_result"
    }
   ],
   "source": [
    "df.columns"
   ]
  },
  {
   "cell_type": "code",
   "execution_count": 16,
   "metadata": {},
   "outputs": [
    {
     "name": "stdout",
     "output_type": "stream",
     "text": [
      "Ttest_indResult(statistic=-1.680289426730533, pvalue=0.0966164557402218)\n",
      "Ttest_indResult(statistic=-0.9056287732280709, pvalue=0.3677227215719342)\n",
      "Ttest_indResult(statistic=-1.5093869811467568, pvalue=0.13495235194502528)\n",
      "Ttest_indResult(statistic=-0.28554044801073414, pvalue=0.7759330413241117)\n",
      "Ttest_indResult(statistic=-2.3457769084664215, pvalue=0.02134409697202939)\n"
     ]
    }
   ],
   "source": [
    "for cell in ['T cells CD8', 'NK cells resting', 'NK cells activated', 'NKcells', 'CD8_Tcells']:\n",
    "    print sp.ttest_ind(df[t&inhibitory][cell], df[t&~inhibitory][cell])"
   ]
  },
  {
   "cell_type": "code",
   "execution_count": 71,
   "metadata": {},
   "outputs": [],
   "source": [
    "patient_affinitiesI = pd.read_csv('/cellar/users/ramarty/Data/hla_ii/presentation/clean_matrices/patient_affinities.cancer.TCGA.conservative.mut.ClassI.csv',\n",
    "                                index_col=0)\n",
    "patient_affinitiesII = pd.read_csv('/cellar/users/ramarty/Data/hla_ii/presentation/clean_matrices/patient_affinities.cancer.TCGA.conservative.mut.ClassII.csv',\n",
    "                                index_col=0)\n",
    "patient_mutations = pd.read_csv('/cellar/users/ramarty/Data/hla_ii/presentation/clean_matrices/patient_mutations.cancer.TCGA.conservative.mut.csv',\n",
    "                                index_col=0)"
   ]
  },
  {
   "cell_type": "code",
   "execution_count": 108,
   "metadata": {},
   "outputs": [],
   "source": [
    "patient_affinities = pd.read_csv('/cellar/users/ramarty/Data/hla/git_data/data/patient_affinities.cancer.PHBR.csv',\n",
    "                                index_col=0)\n",
    "patient_mutations = pd.read_csv('/cellar/users/ramarty/Data/hla/git_data/data/patient_mutations.cancer.PHBR.csv',\n",
    "                                index_col=0)"
   ]
  },
  {
   "cell_type": "code",
   "execution_count": 109,
   "metadata": {},
   "outputs": [
    {
     "data": {
      "text/plain": [
       "((9176, 1018), (5942, 1018), (5942, 1018))"
      ]
     },
     "execution_count": 109,
     "metadata": {},
     "output_type": "execute_result"
    }
   ],
   "source": [
    "patient_mutations.shape, patient_affinitiesI.shape, patient_affinitiesII.shape"
   ]
  },
  {
   "cell_type": "code",
   "execution_count": 110,
   "metadata": {},
   "outputs": [],
   "source": [
    "many_patients = list(df[t][inhibitory].index)\n",
    "few_patients = (list(df[t][~inhibitory].index))\n",
    "other_patients = [x for x in df.index if x not in many_patients+few_patients and x in patient_affinities.index]"
   ]
  },
  {
   "cell_type": "code",
   "execution_count": 111,
   "metadata": {
    "scrolled": true
   },
   "outputs": [
    {
     "data": {
      "text/plain": [
       "3.263681279886141"
      ]
     },
     "execution_count": 111,
     "metadata": {},
     "output_type": "execute_result"
    }
   ],
   "source": [
    "patient_affinitiesI.loc[many_patients].mean(axis=1).mean()"
   ]
  },
  {
   "cell_type": "code",
   "execution_count": 112,
   "metadata": {},
   "outputs": [
    {
     "data": {
      "text/plain": [
       "3.3410851257502254"
      ]
     },
     "execution_count": 112,
     "metadata": {},
     "output_type": "execute_result"
    }
   ],
   "source": [
    "patient_affinitiesI.loc[few_patients].mean(axis=1).mean()"
   ]
  },
  {
   "cell_type": "code",
   "execution_count": 113,
   "metadata": {},
   "outputs": [
    {
     "data": {
      "text/plain": [
       "0.0015348722986247543"
      ]
     },
     "execution_count": 113,
     "metadata": {},
     "output_type": "execute_result"
    }
   ],
   "source": [
    "patient_mutations.loc[many_patients].mean(axis=1).mean()"
   ]
  },
  {
   "cell_type": "code",
   "execution_count": 114,
   "metadata": {},
   "outputs": [
    {
     "data": {
      "text/plain": [
       "0.0014173449340443452"
      ]
     },
     "execution_count": 114,
     "metadata": {},
     "output_type": "execute_result"
    }
   ],
   "source": [
    "patient_mutations.loc[few_patients].mean(axis=1).mean()"
   ]
  },
  {
   "cell_type": "markdown",
   "metadata": {},
   "source": [
    "Get the PHBR scores of the observed mutations"
   ]
  },
  {
   "cell_type": "code",
   "execution_count": 115,
   "metadata": {},
   "outputs": [],
   "source": [
    "import warnings\n",
    "warnings.filterwarnings('ignore')"
   ]
  },
  {
   "cell_type": "code",
   "execution_count": 119,
   "metadata": {},
   "outputs": [
    {
     "data": {
      "text/html": [
       "<div>\n",
       "<style scoped>\n",
       "    .dataframe tbody tr th:only-of-type {\n",
       "        vertical-align: middle;\n",
       "    }\n",
       "\n",
       "    .dataframe tbody tr th {\n",
       "        vertical-align: top;\n",
       "    }\n",
       "\n",
       "    .dataframe thead th {\n",
       "        text-align: right;\n",
       "    }\n",
       "</style>\n",
       "<table border=\"1\" class=\"dataframe\">\n",
       "  <thead>\n",
       "    <tr style=\"text-align: right;\">\n",
       "      <th></th>\n",
       "      <th>EGFR_ifd_55174772</th>\n",
       "      <th>NOTCH1_ifd_136518618</th>\n",
       "      <th>PIK3R1_ifd_68295304</th>\n",
       "      <th>CTNNB1_ifd_41224643</th>\n",
       "      <th>PIK3R1_ifd_68293795</th>\n",
       "      <th>ERBB2_ifi_39724728</th>\n",
       "      <th>EGFR_ifd_55174773</th>\n",
       "      <th>PIK3R1_ifd_68293758</th>\n",
       "      <th>TP53_ifd_7675066</th>\n",
       "      <th>BRAF_ifd_140778037</th>\n",
       "      <th>...</th>\n",
       "      <th>THRAP3_R504W</th>\n",
       "      <th>KMT2C_W430C</th>\n",
       "      <th>KMT2B_R1597Q</th>\n",
       "      <th>PIK3R1_L573P</th>\n",
       "      <th>KMT2C_D4425Y</th>\n",
       "      <th>TCF12_R589H</th>\n",
       "      <th>TP53_A161D</th>\n",
       "      <th>KEAP1_V155F</th>\n",
       "      <th>NF1_P1990Q</th>\n",
       "      <th>TP53_I254S</th>\n",
       "    </tr>\n",
       "  </thead>\n",
       "  <tbody>\n",
       "    <tr>\n",
       "      <th>TCGA-02-0003</th>\n",
       "      <td>8.192318</td>\n",
       "      <td>12.610138</td>\n",
       "      <td>0.561641</td>\n",
       "      <td>4.660101</td>\n",
       "      <td>14.391665</td>\n",
       "      <td>0.220919</td>\n",
       "      <td>4.281047</td>\n",
       "      <td>14.003648</td>\n",
       "      <td>5.115616</td>\n",
       "      <td>2.589041</td>\n",
       "      <td>...</td>\n",
       "      <td>12.627785</td>\n",
       "      <td>16.526459</td>\n",
       "      <td>7.236090</td>\n",
       "      <td>0.939944</td>\n",
       "      <td>1.636364</td>\n",
       "      <td>20.198295</td>\n",
       "      <td>3.536356</td>\n",
       "      <td>0.336606</td>\n",
       "      <td>0.356552</td>\n",
       "      <td>0.131961</td>\n",
       "    </tr>\n",
       "    <tr>\n",
       "      <th>TCGA-02-0033</th>\n",
       "      <td>7.402495</td>\n",
       "      <td>2.895448</td>\n",
       "      <td>2.525261</td>\n",
       "      <td>0.610539</td>\n",
       "      <td>10.076580</td>\n",
       "      <td>1.043046</td>\n",
       "      <td>2.391201</td>\n",
       "      <td>4.878120</td>\n",
       "      <td>2.572530</td>\n",
       "      <td>2.110847</td>\n",
       "      <td>...</td>\n",
       "      <td>11.345070</td>\n",
       "      <td>5.132615</td>\n",
       "      <td>3.218709</td>\n",
       "      <td>4.645128</td>\n",
       "      <td>0.475590</td>\n",
       "      <td>7.233886</td>\n",
       "      <td>1.730472</td>\n",
       "      <td>0.312188</td>\n",
       "      <td>2.058811</td>\n",
       "      <td>0.441847</td>\n",
       "    </tr>\n",
       "    <tr>\n",
       "      <th>TCGA-02-0047</th>\n",
       "      <td>7.439759</td>\n",
       "      <td>8.762255</td>\n",
       "      <td>6.725895</td>\n",
       "      <td>1.471782</td>\n",
       "      <td>15.400653</td>\n",
       "      <td>0.205625</td>\n",
       "      <td>2.544861</td>\n",
       "      <td>14.577646</td>\n",
       "      <td>11.253003</td>\n",
       "      <td>0.173633</td>\n",
       "      <td>...</td>\n",
       "      <td>34.055701</td>\n",
       "      <td>19.521127</td>\n",
       "      <td>4.700519</td>\n",
       "      <td>4.444964</td>\n",
       "      <td>1.043478</td>\n",
       "      <td>15.865278</td>\n",
       "      <td>2.907045</td>\n",
       "      <td>0.442105</td>\n",
       "      <td>2.934783</td>\n",
       "      <td>2.151394</td>\n",
       "    </tr>\n",
       "    <tr>\n",
       "      <th>TCGA-02-0055</th>\n",
       "      <td>2.047533</td>\n",
       "      <td>1.854651</td>\n",
       "      <td>10.074397</td>\n",
       "      <td>0.443036</td>\n",
       "      <td>0.957902</td>\n",
       "      <td>1.208768</td>\n",
       "      <td>0.980926</td>\n",
       "      <td>4.407298</td>\n",
       "      <td>0.666515</td>\n",
       "      <td>3.246911</td>\n",
       "      <td>...</td>\n",
       "      <td>3.579627</td>\n",
       "      <td>3.434619</td>\n",
       "      <td>11.010495</td>\n",
       "      <td>2.290909</td>\n",
       "      <td>0.160612</td>\n",
       "      <td>6.887191</td>\n",
       "      <td>0.447077</td>\n",
       "      <td>1.929064</td>\n",
       "      <td>1.627907</td>\n",
       "      <td>1.172414</td>\n",
       "    </tr>\n",
       "    <tr>\n",
       "      <th>TCGA-02-2466</th>\n",
       "      <td>1.980968</td>\n",
       "      <td>1.614350</td>\n",
       "      <td>1.907821</td>\n",
       "      <td>1.275458</td>\n",
       "      <td>8.178074</td>\n",
       "      <td>1.027902</td>\n",
       "      <td>1.368945</td>\n",
       "      <td>0.719084</td>\n",
       "      <td>1.491943</td>\n",
       "      <td>0.968920</td>\n",
       "      <td>...</td>\n",
       "      <td>10.348993</td>\n",
       "      <td>3.569482</td>\n",
       "      <td>8.524514</td>\n",
       "      <td>2.527537</td>\n",
       "      <td>0.518110</td>\n",
       "      <td>6.831963</td>\n",
       "      <td>0.503793</td>\n",
       "      <td>0.313840</td>\n",
       "      <td>0.117139</td>\n",
       "      <td>0.308923</td>\n",
       "    </tr>\n",
       "  </tbody>\n",
       "</table>\n",
       "<p>5 rows × 1018 columns</p>\n",
       "</div>"
      ],
      "text/plain": [
       "              EGFR_ifd_55174772  NOTCH1_ifd_136518618  PIK3R1_ifd_68295304  \\\n",
       "TCGA-02-0003           8.192318             12.610138             0.561641   \n",
       "TCGA-02-0033           7.402495              2.895448             2.525261   \n",
       "TCGA-02-0047           7.439759              8.762255             6.725895   \n",
       "TCGA-02-0055           2.047533              1.854651            10.074397   \n",
       "TCGA-02-2466           1.980968              1.614350             1.907821   \n",
       "\n",
       "              CTNNB1_ifd_41224643  PIK3R1_ifd_68293795  ERBB2_ifi_39724728  \\\n",
       "TCGA-02-0003             4.660101            14.391665            0.220919   \n",
       "TCGA-02-0033             0.610539            10.076580            1.043046   \n",
       "TCGA-02-0047             1.471782            15.400653            0.205625   \n",
       "TCGA-02-0055             0.443036             0.957902            1.208768   \n",
       "TCGA-02-2466             1.275458             8.178074            1.027902   \n",
       "\n",
       "              EGFR_ifd_55174773  PIK3R1_ifd_68293758  TP53_ifd_7675066  \\\n",
       "TCGA-02-0003           4.281047            14.003648          5.115616   \n",
       "TCGA-02-0033           2.391201             4.878120          2.572530   \n",
       "TCGA-02-0047           2.544861            14.577646         11.253003   \n",
       "TCGA-02-0055           0.980926             4.407298          0.666515   \n",
       "TCGA-02-2466           1.368945             0.719084          1.491943   \n",
       "\n",
       "              BRAF_ifd_140778037     ...      THRAP3_R504W  KMT2C_W430C  \\\n",
       "TCGA-02-0003            2.589041     ...         12.627785    16.526459   \n",
       "TCGA-02-0033            2.110847     ...         11.345070     5.132615   \n",
       "TCGA-02-0047            0.173633     ...         34.055701    19.521127   \n",
       "TCGA-02-0055            3.246911     ...          3.579627     3.434619   \n",
       "TCGA-02-2466            0.968920     ...         10.348993     3.569482   \n",
       "\n",
       "              KMT2B_R1597Q  PIK3R1_L573P  KMT2C_D4425Y  TCF12_R589H  \\\n",
       "TCGA-02-0003      7.236090      0.939944      1.636364    20.198295   \n",
       "TCGA-02-0033      3.218709      4.645128      0.475590     7.233886   \n",
       "TCGA-02-0047      4.700519      4.444964      1.043478    15.865278   \n",
       "TCGA-02-0055     11.010495      2.290909      0.160612     6.887191   \n",
       "TCGA-02-2466      8.524514      2.527537      0.518110     6.831963   \n",
       "\n",
       "              TP53_A161D  KEAP1_V155F  NF1_P1990Q  TP53_I254S  \n",
       "TCGA-02-0003    3.536356     0.336606    0.356552    0.131961  \n",
       "TCGA-02-0033    1.730472     0.312188    2.058811    0.441847  \n",
       "TCGA-02-0047    2.907045     0.442105    2.934783    2.151394  \n",
       "TCGA-02-0055    0.447077     1.929064    1.627907    1.172414  \n",
       "TCGA-02-2466    0.503793     0.313840    0.117139    0.308923  \n",
       "\n",
       "[5 rows x 1018 columns]"
      ]
     },
     "execution_count": 119,
     "metadata": {},
     "output_type": "execute_result"
    }
   ],
   "source": [
    "patient_affinities.head()"
   ]
  },
  {
   "cell_type": "code",
   "execution_count": 120,
   "metadata": {},
   "outputs": [
    {
     "data": {
      "text/html": [
       "<div>\n",
       "<style scoped>\n",
       "    .dataframe tbody tr th:only-of-type {\n",
       "        vertical-align: middle;\n",
       "    }\n",
       "\n",
       "    .dataframe tbody tr th {\n",
       "        vertical-align: top;\n",
       "    }\n",
       "\n",
       "    .dataframe thead th {\n",
       "        text-align: right;\n",
       "    }\n",
       "</style>\n",
       "<table border=\"1\" class=\"dataframe\">\n",
       "  <thead>\n",
       "    <tr style=\"text-align: right;\">\n",
       "      <th></th>\n",
       "      <th>EGFR_ifd_55174772</th>\n",
       "      <th>NOTCH1_ifd_136518618</th>\n",
       "      <th>PIK3R1_ifd_68295304</th>\n",
       "      <th>CTNNB1_ifd_41224643</th>\n",
       "      <th>PIK3R1_ifd_68293795</th>\n",
       "      <th>ERBB2_ifi_39724728</th>\n",
       "      <th>EGFR_ifd_55174773</th>\n",
       "      <th>PIK3R1_ifd_68293758</th>\n",
       "      <th>TP53_ifd_7675066</th>\n",
       "      <th>BRAF_ifd_140778037</th>\n",
       "      <th>...</th>\n",
       "      <th>THRAP3_R504W</th>\n",
       "      <th>KMT2C_W430C</th>\n",
       "      <th>KMT2B_R1597Q</th>\n",
       "      <th>PIK3R1_L573P</th>\n",
       "      <th>KMT2C_D4425Y</th>\n",
       "      <th>TCF12_R589H</th>\n",
       "      <th>TP53_A161D</th>\n",
       "      <th>KEAP1_V155F</th>\n",
       "      <th>NF1_P1990Q</th>\n",
       "      <th>TP53_I254S</th>\n",
       "    </tr>\n",
       "  </thead>\n",
       "  <tbody>\n",
       "    <tr>\n",
       "      <th>TCGA-02-0003</th>\n",
       "      <td>8.192318</td>\n",
       "      <td>12.610138</td>\n",
       "      <td>0.561641</td>\n",
       "      <td>4.660101</td>\n",
       "      <td>14.391665</td>\n",
       "      <td>0.220919</td>\n",
       "      <td>4.281047</td>\n",
       "      <td>14.003648</td>\n",
       "      <td>5.115616</td>\n",
       "      <td>2.589041</td>\n",
       "      <td>...</td>\n",
       "      <td>12.627785</td>\n",
       "      <td>16.526459</td>\n",
       "      <td>7.236090</td>\n",
       "      <td>0.939944</td>\n",
       "      <td>1.636364</td>\n",
       "      <td>20.198295</td>\n",
       "      <td>3.536356</td>\n",
       "      <td>0.336606</td>\n",
       "      <td>0.356552</td>\n",
       "      <td>0.131961</td>\n",
       "    </tr>\n",
       "    <tr>\n",
       "      <th>TCGA-02-0033</th>\n",
       "      <td>7.402495</td>\n",
       "      <td>2.895448</td>\n",
       "      <td>2.525261</td>\n",
       "      <td>0.610539</td>\n",
       "      <td>10.076580</td>\n",
       "      <td>1.043046</td>\n",
       "      <td>2.391201</td>\n",
       "      <td>4.878120</td>\n",
       "      <td>2.572530</td>\n",
       "      <td>2.110847</td>\n",
       "      <td>...</td>\n",
       "      <td>11.345070</td>\n",
       "      <td>5.132615</td>\n",
       "      <td>3.218709</td>\n",
       "      <td>4.645128</td>\n",
       "      <td>0.475590</td>\n",
       "      <td>7.233886</td>\n",
       "      <td>1.730472</td>\n",
       "      <td>0.312188</td>\n",
       "      <td>2.058811</td>\n",
       "      <td>0.441847</td>\n",
       "    </tr>\n",
       "    <tr>\n",
       "      <th>TCGA-02-0047</th>\n",
       "      <td>7.439759</td>\n",
       "      <td>8.762255</td>\n",
       "      <td>6.725895</td>\n",
       "      <td>1.471782</td>\n",
       "      <td>15.400653</td>\n",
       "      <td>0.205625</td>\n",
       "      <td>2.544861</td>\n",
       "      <td>14.577646</td>\n",
       "      <td>11.253003</td>\n",
       "      <td>0.173633</td>\n",
       "      <td>...</td>\n",
       "      <td>34.055701</td>\n",
       "      <td>19.521127</td>\n",
       "      <td>4.700519</td>\n",
       "      <td>4.444964</td>\n",
       "      <td>1.043478</td>\n",
       "      <td>15.865278</td>\n",
       "      <td>2.907045</td>\n",
       "      <td>0.442105</td>\n",
       "      <td>2.934783</td>\n",
       "      <td>2.151394</td>\n",
       "    </tr>\n",
       "    <tr>\n",
       "      <th>TCGA-02-0055</th>\n",
       "      <td>2.047533</td>\n",
       "      <td>1.854651</td>\n",
       "      <td>10.074397</td>\n",
       "      <td>0.443036</td>\n",
       "      <td>0.957902</td>\n",
       "      <td>1.208768</td>\n",
       "      <td>0.980926</td>\n",
       "      <td>4.407298</td>\n",
       "      <td>0.666515</td>\n",
       "      <td>3.246911</td>\n",
       "      <td>...</td>\n",
       "      <td>3.579627</td>\n",
       "      <td>3.434619</td>\n",
       "      <td>11.010495</td>\n",
       "      <td>2.290909</td>\n",
       "      <td>0.160612</td>\n",
       "      <td>6.887191</td>\n",
       "      <td>0.447077</td>\n",
       "      <td>1.929064</td>\n",
       "      <td>1.627907</td>\n",
       "      <td>1.172414</td>\n",
       "    </tr>\n",
       "    <tr>\n",
       "      <th>TCGA-02-2466</th>\n",
       "      <td>1.980968</td>\n",
       "      <td>1.614350</td>\n",
       "      <td>1.907821</td>\n",
       "      <td>1.275458</td>\n",
       "      <td>8.178074</td>\n",
       "      <td>1.027902</td>\n",
       "      <td>1.368945</td>\n",
       "      <td>0.719084</td>\n",
       "      <td>1.491943</td>\n",
       "      <td>0.968920</td>\n",
       "      <td>...</td>\n",
       "      <td>10.348993</td>\n",
       "      <td>3.569482</td>\n",
       "      <td>8.524514</td>\n",
       "      <td>2.527537</td>\n",
       "      <td>0.518110</td>\n",
       "      <td>6.831963</td>\n",
       "      <td>0.503793</td>\n",
       "      <td>0.313840</td>\n",
       "      <td>0.117139</td>\n",
       "      <td>0.308923</td>\n",
       "    </tr>\n",
       "  </tbody>\n",
       "</table>\n",
       "<p>5 rows × 1018 columns</p>\n",
       "</div>"
      ],
      "text/plain": [
       "              EGFR_ifd_55174772  NOTCH1_ifd_136518618  PIK3R1_ifd_68295304  \\\n",
       "TCGA-02-0003           8.192318             12.610138             0.561641   \n",
       "TCGA-02-0033           7.402495              2.895448             2.525261   \n",
       "TCGA-02-0047           7.439759              8.762255             6.725895   \n",
       "TCGA-02-0055           2.047533              1.854651            10.074397   \n",
       "TCGA-02-2466           1.980968              1.614350             1.907821   \n",
       "\n",
       "              CTNNB1_ifd_41224643  PIK3R1_ifd_68293795  ERBB2_ifi_39724728  \\\n",
       "TCGA-02-0003             4.660101            14.391665            0.220919   \n",
       "TCGA-02-0033             0.610539            10.076580            1.043046   \n",
       "TCGA-02-0047             1.471782            15.400653            0.205625   \n",
       "TCGA-02-0055             0.443036             0.957902            1.208768   \n",
       "TCGA-02-2466             1.275458             8.178074            1.027902   \n",
       "\n",
       "              EGFR_ifd_55174773  PIK3R1_ifd_68293758  TP53_ifd_7675066  \\\n",
       "TCGA-02-0003           4.281047            14.003648          5.115616   \n",
       "TCGA-02-0033           2.391201             4.878120          2.572530   \n",
       "TCGA-02-0047           2.544861            14.577646         11.253003   \n",
       "TCGA-02-0055           0.980926             4.407298          0.666515   \n",
       "TCGA-02-2466           1.368945             0.719084          1.491943   \n",
       "\n",
       "              BRAF_ifd_140778037     ...      THRAP3_R504W  KMT2C_W430C  \\\n",
       "TCGA-02-0003            2.589041     ...         12.627785    16.526459   \n",
       "TCGA-02-0033            2.110847     ...         11.345070     5.132615   \n",
       "TCGA-02-0047            0.173633     ...         34.055701    19.521127   \n",
       "TCGA-02-0055            3.246911     ...          3.579627     3.434619   \n",
       "TCGA-02-2466            0.968920     ...         10.348993     3.569482   \n",
       "\n",
       "              KMT2B_R1597Q  PIK3R1_L573P  KMT2C_D4425Y  TCF12_R589H  \\\n",
       "TCGA-02-0003      7.236090      0.939944      1.636364    20.198295   \n",
       "TCGA-02-0033      3.218709      4.645128      0.475590     7.233886   \n",
       "TCGA-02-0047      4.700519      4.444964      1.043478    15.865278   \n",
       "TCGA-02-0055     11.010495      2.290909      0.160612     6.887191   \n",
       "TCGA-02-2466      8.524514      2.527537      0.518110     6.831963   \n",
       "\n",
       "              TP53_A161D  KEAP1_V155F  NF1_P1990Q  TP53_I254S  \n",
       "TCGA-02-0003    3.536356     0.336606    0.356552    0.131961  \n",
       "TCGA-02-0033    1.730472     0.312188    2.058811    0.441847  \n",
       "TCGA-02-0047    2.907045     0.442105    2.934783    2.151394  \n",
       "TCGA-02-0055    0.447077     1.929064    1.627907    1.172414  \n",
       "TCGA-02-2466    0.503793     0.313840    0.117139    0.308923  \n",
       "\n",
       "[5 rows x 1018 columns]"
      ]
     },
     "execution_count": 120,
     "metadata": {},
     "output_type": "execute_result"
    }
   ],
   "source": [
    "patient_affinitiesI.head()"
   ]
  },
  {
   "cell_type": "code",
   "execution_count": 125,
   "metadata": {},
   "outputs": [],
   "source": [
    "few_observed, many_observed = [], []\n",
    "for mutation in patient_affinitiesI.columns:\n",
    "    few_observed.extend(list(patient_affinitiesI.loc[few_patients][patient_mutations[mutation].astype(bool)][mutation]))\n",
    "    many_observed.extend(list(patient_affinitiesI.loc[many_patients][patient_mutations[mutation].astype(bool)][mutation]))"
   ]
  },
  {
   "cell_type": "code",
   "execution_count": 147,
   "metadata": {},
   "outputs": [],
   "source": [
    "uc_observed, other_observed = [], []\n",
    "for mutation in patient_affinities.columns:\n",
    "    uc_observed.extend(list(patient_affinities.loc[few_patients+many_patients][patient_mutations[mutation].astype(bool)][mutation]))\n",
    "    other_observed.extend(list(patient_affinities.loc[other_patients][patient_mutations[mutation].astype(bool)][mutation]))"
   ]
  },
  {
   "cell_type": "code",
   "execution_count": 148,
   "metadata": {},
   "outputs": [
    {
     "data": {
      "text/plain": [
       "MannwhitneyuResult(statistic=157480.0, pvalue=0.0034055883823857244)"
      ]
     },
     "execution_count": 148,
     "metadata": {},
     "output_type": "execute_result"
    }
   ],
   "source": [
    "sp.mannwhitneyu(uc_observed, other_observed)"
   ]
  },
  {
   "cell_type": "code",
   "execution_count": 149,
   "metadata": {},
   "outputs": [],
   "source": [
    "plotting_df = pd.DataFrame({'PHBR': uc_observed + other_observed,\n",
    "                           'Tissue': ['UCEC or UCS' for x in uc_observed] + ['Other' for x in other_observed]})"
   ]
  },
  {
   "cell_type": "code",
   "execution_count": 150,
   "metadata": {},
   "outputs": [],
   "source": [
    "plotting_df = plotting_df.dropna()"
   ]
  },
  {
   "cell_type": "code",
   "execution_count": 151,
   "metadata": {},
   "outputs": [
    {
     "data": {
      "text/plain": [
       "<matplotlib.axes._subplots.AxesSubplot at 0x7fea79f2afd0>"
      ]
     },
     "execution_count": 151,
     "metadata": {},
     "output_type": "execute_result"
    },
    {
     "data": {
      "image/png": "[encoded data removed]",
      "text/plain": [
       "<Figure size 432x288 with 1 Axes>"
      ]
     },
     "metadata": {},
     "output_type": "display_data"
    }
   ],
   "source": [
    "sns.boxplot(x='Tissue', y='PHBR', data=plotting_df)"
   ]
  },
  {
   "cell_type": "code",
   "execution_count": null,
   "metadata": {},
   "outputs": [],
   "source": []
  },
  {
   "cell_type": "code",
   "execution_count": 127,
   "metadata": {},
   "outputs": [
    {
     "data": {
      "text/plain": [
       "<matplotlib.axes._subplots.AxesSubplot at 0x7fea79fb6790>"
      ]
     },
     "execution_count": 127,
     "metadata": {},
     "output_type": "execute_result"
    },
    {
     "data": {
      "image/png": "[encoded data removed]",
      "text/plain": [
       "<Figure size 432x288 with 1 Axes>"
      ]
     },
     "metadata": {},
     "output_type": "display_data"
    }
   ],
   "source": [
    "pd.Series(many_observed).hist()"
   ]
  },
  {
   "cell_type": "code",
   "execution_count": 128,
   "metadata": {},
   "outputs": [
    {
     "data": {
      "text/plain": [
       "<matplotlib.axes._subplots.AxesSubplot at 0x7fea79f9dad0>"
      ]
     },
     "execution_count": 128,
     "metadata": {},
     "output_type": "execute_result"
    },
    {
     "data": {
      "image/png": "[encoded data removed]",
      "text/plain": [
       "<Figure size 432x288 with 1 Axes>"
      ]
     },
     "metadata": {},
     "output_type": "display_data"
    }
   ],
   "source": [
    "pd.Series(few_observed).hist()"
   ]
  },
  {
   "cell_type": "code",
   "execution_count": 56,
   "metadata": {},
   "outputs": [
    {
     "ename": "AttributeError",
     "evalue": "'Series' object has no attribute 'as_type'",
     "output_type": "error",
     "traceback": [
      "\u001b[0;31m---------------------------------------------------------------------------\u001b[0m",
      "\u001b[0;31mAttributeError\u001b[0m                            Traceback (most recent call last)",
      "\u001b[0;32m<ipython-input-56-44538af06913>\u001b[0m in \u001b[0;36m<module>\u001b[0;34m()\u001b[0m\n\u001b[0;32m----> 1\u001b[0;31m \u001b[0mpatient_mutations\u001b[0m\u001b[0;34m.\u001b[0m\u001b[0mloc\u001b[0m\u001b[0;34m[\u001b[0m\u001b[0mfew_patients\u001b[0m\u001b[0;34m,\u001b[0m \u001b[0mmutation\u001b[0m\u001b[0;34m]\u001b[0m\u001b[0;34m.\u001b[0m\u001b[0mas_type\u001b[0m\u001b[0;34m(\u001b[0m\u001b[0mbool\u001b[0m\u001b[0;34m)\u001b[0m\u001b[0;34m\u001b[0m\u001b[0m\n\u001b[0m",
      "\u001b[0;32m/cellar/users/ramarty/anaconda/lib/python2.7/site-packages/pandas/core/generic.pyc\u001b[0m in \u001b[0;36m__getattr__\u001b[0;34m(self, name)\u001b[0m\n\u001b[1;32m   4370\u001b[0m             \u001b[0;32mif\u001b[0m \u001b[0mself\u001b[0m\u001b[0;34m.\u001b[0m\u001b[0m_info_axis\u001b[0m\u001b[0;34m.\u001b[0m\u001b[0m_can_hold_identifiers_and_holds_name\u001b[0m\u001b[0;34m(\u001b[0m\u001b[0mname\u001b[0m\u001b[0;34m)\u001b[0m\u001b[0;34m:\u001b[0m\u001b[0;34m\u001b[0m\u001b[0m\n\u001b[1;32m   4371\u001b[0m                 \u001b[0;32mreturn\u001b[0m \u001b[0mself\u001b[0m\u001b[0;34m[\u001b[0m\u001b[0mname\u001b[0m\u001b[0;34m]\u001b[0m\u001b[0;34m\u001b[0m\u001b[0m\n\u001b[0;32m-> 4372\u001b[0;31m             \u001b[0;32mreturn\u001b[0m \u001b[0mobject\u001b[0m\u001b[0;34m.\u001b[0m\u001b[0m__getattribute__\u001b[0m\u001b[0;34m(\u001b[0m\u001b[0mself\u001b[0m\u001b[0;34m,\u001b[0m \u001b[0mname\u001b[0m\u001b[0;34m)\u001b[0m\u001b[0;34m\u001b[0m\u001b[0m\n\u001b[0m\u001b[1;32m   4373\u001b[0m \u001b[0;34m\u001b[0m\u001b[0m\n\u001b[1;32m   4374\u001b[0m     \u001b[0;32mdef\u001b[0m \u001b[0m__setattr__\u001b[0m\u001b[0;34m(\u001b[0m\u001b[0mself\u001b[0m\u001b[0;34m,\u001b[0m \u001b[0mname\u001b[0m\u001b[0;34m,\u001b[0m \u001b[0mvalue\u001b[0m\u001b[0;34m)\u001b[0m\u001b[0;34m:\u001b[0m\u001b[0;34m\u001b[0m\u001b[0m\n",
      "\u001b[0;31mAttributeError\u001b[0m: 'Series' object has no attribute 'as_type'"
     ]
    }
   ],
   "source": [
    "patient_mutations.loc[few_patients, mutation].as_type(bool)"
   ]
  },
  {
   "cell_type": "code",
   "execution_count": null,
   "metadata": {},
   "outputs": [],
   "source": []
  },
  {
   "cell_type": "code",
   "execution_count": null,
   "metadata": {},
   "outputs": [],
   "source": []
  },
  {
   "cell_type": "code",
   "execution_count": 18,
   "metadata": {},
   "outputs": [
    {
     "data": {
      "text/plain": [
       "SpearmanrResult(correlation=-0.15189001725679116, pvalue=0.1626924783954203)"
      ]
     },
     "execution_count": 18,
     "metadata": {},
     "output_type": "execute_result"
    }
   ],
   "source": [
    "sp.spearmanr(df[t][cell], df[t]['inhibitory'])"
   ]
  },
  {
   "cell_type": "code",
   "execution_count": 19,
   "metadata": {},
   "outputs": [
    {
     "data": {
      "text/plain": [
       "<matplotlib.axes._subplots.AxesSubplot at 0x7feabc26cfd0>"
      ]
     },
     "execution_count": 19,
     "metadata": {},
     "output_type": "execute_result"
    },
    {
     "data": {
      "image/png": "[encoded data removed]",
      "text/plain": [
       "<Figure size 432x288 with 1 Axes>"
      ]
     },
     "metadata": {},
     "output_type": "display_data"
    }
   ],
   "source": [
    "sns.boxplot(x='inhibitory', y='CD8_Tcells', data=df[t], color='grey')"
   ]
  },
  {
   "cell_type": "code",
   "execution_count": 9,
   "metadata": {},
   "outputs": [
    {
     "name": "stderr",
     "output_type": "stream",
     "text": [
      "/cellar/users/ramarty/anaconda/lib/python2.7/site-packages/matplotlib/axes/_axes.py:6462: UserWarning: The 'normed' kwarg is deprecated, and has been replaced by the 'density' kwarg.\n",
      "  warnings.warn(\"The 'normed' kwarg is deprecated, and has been \"\n",
      "/cellar/users/ramarty/anaconda/lib/python2.7/site-packages/matplotlib/axes/_axes.py:6462: UserWarning: The 'normed' kwarg is deprecated, and has been replaced by the 'density' kwarg.\n",
      "  warnings.warn(\"The 'normed' kwarg is deprecated, and has been \"\n"
     ]
    },
    {
     "data": {
      "text/plain": [
       "<matplotlib.axes._subplots.AxesSubplot at 0x7f4f38620b50>"
      ]
     },
     "execution_count": 9,
     "metadata": {},
     "output_type": "execute_result"
    },
    {
     "data": {
      "image/png": "[encoded data removed]",
      "text/plain": [
       "<Figure size 432x288 with 1 Axes>"
      ]
     },
     "metadata": {},
     "output_type": "display_data"
    }
   ],
   "source": [
    "df[t&inhibitory]['T cells CD8'].hist(normed=True, alpha=0.5)\n",
    "df[t&~inhibitory]['T cells CD8'].hist(normed=True, alpha=0.5)"
   ]
  },
  {
   "cell_type": "code",
   "execution_count": 10,
   "metadata": {},
   "outputs": [],
   "source": [
    "# is there lower MHC expression in these tissue types? Higher coverage?? "
   ]
  },
  {
   "cell_type": "code",
   "execution_count": null,
   "metadata": {},
   "outputs": [],
   "source": []
  },
  {
   "cell_type": "markdown",
   "metadata": {},
   "source": [
    "### MHC expression"
   ]
  },
  {
   "cell_type": "code",
   "execution_count": 11,
   "metadata": {},
   "outputs": [],
   "source": [
    "all_dfs = []\n",
    "for a, b in zip(range(0, 10000, 1000), range(1000, 11000, 1000)):\n",
    "    tmp = pd.read_csv('/cellar/users/ramarty/Data/kir/biological/tumor_infiltration/dataframes/expression.{0}_{1}.df'.format(a, b),\n",
    "                 index_col=0).loc[['HLA-A', 'HLA-B', 'HLA-C']]\n",
    "    all_dfs.append(tmp.transpose())\n",
    "\n",
    "df_exp = pd.concat(all_dfs, sort=True)"
   ]
  },
  {
   "cell_type": "code",
   "execution_count": 12,
   "metadata": {},
   "outputs": [
    {
     "data": {
      "text/html": [
       "<div>\n",
       "<style scoped>\n",
       "    .dataframe tbody tr th:only-of-type {\n",
       "        vertical-align: middle;\n",
       "    }\n",
       "\n",
       "    .dataframe tbody tr th {\n",
       "        vertical-align: top;\n",
       "    }\n",
       "\n",
       "    .dataframe thead th {\n",
       "        text-align: right;\n",
       "    }\n",
       "</style>\n",
       "<table border=\"1\" class=\"dataframe\">\n",
       "  <thead>\n",
       "    <tr style=\"text-align: right;\">\n",
       "      <th>symbol</th>\n",
       "      <th>HLA-A</th>\n",
       "      <th>HLA-B</th>\n",
       "      <th>HLA-C</th>\n",
       "    </tr>\n",
       "  </thead>\n",
       "  <tbody>\n",
       "    <tr>\n",
       "      <th>TCGA-J2-8192</th>\n",
       "      <td>115158</td>\n",
       "      <td>208291</td>\n",
       "      <td>127414</td>\n",
       "    </tr>\n",
       "    <tr>\n",
       "      <th>TCGA-CJ-4885</th>\n",
       "      <td>212257</td>\n",
       "      <td>261935</td>\n",
       "      <td>166581</td>\n",
       "    </tr>\n",
       "    <tr>\n",
       "      <th>TCGA-AS-3777</th>\n",
       "      <td>62970</td>\n",
       "      <td>119578</td>\n",
       "      <td>70830</td>\n",
       "    </tr>\n",
       "    <tr>\n",
       "      <th>TCGA-80-5611</th>\n",
       "      <td>89574</td>\n",
       "      <td>146908</td>\n",
       "      <td>129418</td>\n",
       "    </tr>\n",
       "    <tr>\n",
       "      <th>TCGA-A8-A06R</th>\n",
       "      <td>62969</td>\n",
       "      <td>94772</td>\n",
       "      <td>51212</td>\n",
       "    </tr>\n",
       "  </tbody>\n",
       "</table>\n",
       "</div>"
      ],
      "text/plain": [
       "symbol         HLA-A   HLA-B   HLA-C\n",
       "TCGA-J2-8192  115158  208291  127414\n",
       "TCGA-CJ-4885  212257  261935  166581\n",
       "TCGA-AS-3777   62970  119578   70830\n",
       "TCGA-80-5611   89574  146908  129418\n",
       "TCGA-A8-A06R   62969   94772   51212"
      ]
     },
     "execution_count": 12,
     "metadata": {},
     "output_type": "execute_result"
    }
   ],
   "source": [
    "df_exp.head()"
   ]
  },
  {
   "cell_type": "code",
   "execution_count": 25,
   "metadata": {},
   "outputs": [],
   "source": [
    "combined_exp = pd.merge(df, df_exp, left_index=True, right_index=True)\n",
    "t = (combined_exp.tissue == 'CESC')|(combined_exp.tissue == 'UCS')\n",
    "inhibitory = combined_exp[t].inhibitory > combined_exp[t].inhibitory.quantile(0.5)"
   ]
  },
  {
   "cell_type": "code",
   "execution_count": 26,
   "metadata": {
    "scrolled": false
   },
   "outputs": [
    {
     "name": "stderr",
     "output_type": "stream",
     "text": [
      "/cellar/users/ramarty/anaconda/lib/python2.7/site-packages/matplotlib/axes/_axes.py:6462: UserWarning: The 'normed' kwarg is deprecated, and has been replaced by the 'density' kwarg.\n",
      "  warnings.warn(\"The 'normed' kwarg is deprecated, and has been \"\n",
      "/cellar/users/ramarty/anaconda/lib/python2.7/site-packages/matplotlib/axes/_axes.py:6462: UserWarning: The 'normed' kwarg is deprecated, and has been replaced by the 'density' kwarg.\n",
      "  warnings.warn(\"The 'normed' kwarg is deprecated, and has been \"\n"
     ]
    },
    {
     "data": {
      "text/plain": [
       "<matplotlib.axes._subplots.AxesSubplot at 0x7f4ef4453250>"
      ]
     },
     "execution_count": 26,
     "metadata": {},
     "output_type": "execute_result"
    },
    {
     "data": {
      "image/png": "[encoded data removed]",
      "text/plain": [
       "<Figure size 432x288 with 1 Axes>"
      ]
     },
     "metadata": {},
     "output_type": "display_data"
    }
   ],
   "source": [
    "combined_exp[t&inhibitory]['HLA-B'].hist(normed=True, alpha=0.5)\n",
    "combined_exp[t&~inhibitory]['HLA-B'].hist(normed=True, alpha=0.5)"
   ]
  },
  {
   "cell_type": "code",
   "execution_count": 27,
   "metadata": {
    "scrolled": false
   },
   "outputs": [
    {
     "name": "stdout",
     "output_type": "stream",
     "text": [
      "Ttest_indResult(statistic=-0.8177019177006319, pvalue=0.41584082037495274)\n",
      "Ttest_indResult(statistic=-0.6972904100057755, pvalue=0.4875465153378904)\n"
     ]
    }
   ],
   "source": [
    "print sp.ttest_ind(combined_exp[t&inhibitory]['HLA-B'], combined_exp[t&~inhibitory]['HLA-B'])\n",
    "print sp.ttest_ind(combined_exp[t&inhibitory]['HLA-A'], combined_exp[t&~inhibitory]['HLA-A'])"
   ]
  },
  {
   "cell_type": "markdown",
   "metadata": {},
   "source": [
    "### Coverage"
   ]
  },
  {
   "cell_type": "code",
   "execution_count": 52,
   "metadata": {},
   "outputs": [],
   "source": [
    "mhc2_df = pd.read_csv('/cellar/users/ramarty/Data/hla_ii/clinical/comprehensive_df.csv',\n",
    "                     index_col=0)"
   ]
  },
  {
   "cell_type": "code",
   "execution_count": 53,
   "metadata": {},
   "outputs": [],
   "source": [
    "t = (mhc2_df.Tissue == 'CESC')|(mhc2_df.Tissue == 'UCS')"
   ]
  },
  {
   "cell_type": "code",
   "execution_count": 55,
   "metadata": {},
   "outputs": [],
   "source": [
    "combined = pd.merge(df, mhc2_df, left_index=True, right_index=True)\n",
    "t = (combined.tissue == 'CESC')|(combined.tissue == 'UCS')\n",
    "inhibitory = combined[t].inhibitory > combined[t].inhibitory.quantile(0.5)"
   ]
  },
  {
   "cell_type": "code",
   "execution_count": 32,
   "metadata": {},
   "outputs": [
    {
     "data": {
      "text/plain": [
       "Ttest_indResult(statistic=1.180049874814244, pvalue=0.24248826108130983)"
      ]
     },
     "execution_count": 32,
     "metadata": {},
     "output_type": "execute_result"
    }
   ],
   "source": [
    "sp.ttest_ind(combined[t&inhibitory].classI, combined[t&~inhibitory].classI)"
   ]
  },
  {
   "cell_type": "code",
   "execution_count": 56,
   "metadata": {},
   "outputs": [
    {
     "data": {
      "text/plain": [
       "Ttest_indResult(statistic=-1.2245664236527674, pvalue=0.22537116313469427)"
      ]
     },
     "execution_count": 56,
     "metadata": {},
     "output_type": "execute_result"
    }
   ],
   "source": [
    "sp.ttest_ind(combined[t&inhibitory].Cytolytic, combined[t&~inhibitory].Cytolytic)"
   ]
  },
  {
   "cell_type": "code",
   "execution_count": 71,
   "metadata": {},
   "outputs": [
    {
     "data": {
      "text/plain": [
       "['KIR3DL3',\n",
       " 'KIR3DP1',\n",
       " 'KIR2DL4',\n",
       " 'KIR3DL2',\n",
       " 'KIR2DP1',\n",
       " 'KIR2DL1',\n",
       " 'KIR2DS4',\n",
       " 'KIR2DS3',\n",
       " 'KIR2DS2',\n",
       " 'KIR2DS5',\n",
       " 'KIR3DS1',\n",
       " 'KIR2DS1',\n",
       " 'KIR2DL2',\n",
       " 'KIR3DL1',\n",
       " 'KIR2DL3',\n",
       " 'KIR2DL5A',\n",
       " 'KIR2DL5B',\n",
       " 'age_at_diagnosis',\n",
       " 'days_to_death',\n",
       " 'days_to_last_followup',\n",
       " 'ethnicity',\n",
       " 'gender',\n",
       " 'race',\n",
       " 'tissue',\n",
       " 'vital_status',\n",
       " 'B cells naive_x',\n",
       " 'B cells memory_x',\n",
       " 'Plasma cells_x',\n",
       " 'T cells CD8_x',\n",
       " 'T cells CD4 naive_x',\n",
       " 'T cells CD4 memory resting_x',\n",
       " 'T cells CD4 memory activated_x',\n",
       " 'T cells follicular helper_x',\n",
       " 'T cells regulatory (Tregs)_x',\n",
       " 'T cells gamma delta_x',\n",
       " 'NK cells resting_x',\n",
       " 'NK cells activated_x',\n",
       " 'Monocytes_x',\n",
       " 'Macrophages M0_x',\n",
       " 'Macrophages M1_x',\n",
       " 'Macrophages M2_x',\n",
       " 'Dendritic cells resting_x',\n",
       " 'Dendritic cells activated_x',\n",
       " 'Mast cells resting_x',\n",
       " 'Mast cells activated_x',\n",
       " 'Eosinophils_x',\n",
       " 'Neutrophils_x',\n",
       " 'P-value_x',\n",
       " 'Pearson Correlation_x',\n",
       " 'RMSE_x',\n",
       " 'A1',\n",
       " 'A2',\n",
       " 'B1',\n",
       " 'B2',\n",
       " 'C1',\n",
       " 'C2',\n",
       " 'A1_',\n",
       " 'A2_',\n",
       " 'B1_',\n",
       " 'B2_',\n",
       " 'C1_',\n",
       " 'C2_',\n",
       " 'activating',\n",
       " 'inhibitory',\n",
       " 'ratio',\n",
       " 'classI',\n",
       " 'classII',\n",
       " 'Tissue',\n",
       " 'Age',\n",
       " 'Race',\n",
       " 'homozygous_classI',\n",
       " 'homozygous_classII',\n",
       " 'homozygous_total',\n",
       " 'passenger_coverageI',\n",
       " 'passenger_coverageII',\n",
       " 'classI_cat',\n",
       " 'classII_cat',\n",
       " 'classI_het',\n",
       " 'classII_het',\n",
       " 'B cells naive_y',\n",
       " 'B cells memory_y',\n",
       " 'Plasma cells_y',\n",
       " 'T cells CD8_y',\n",
       " 'T cells CD4 naive_y',\n",
       " 'T cells CD4 memory resting_y',\n",
       " 'T cells CD4 memory activated_y',\n",
       " 'T cells follicular helper_y',\n",
       " 'T cells regulatory (Tregs)_y',\n",
       " 'T cells gamma delta_y',\n",
       " 'NK cells resting_y',\n",
       " 'NK cells activated_y',\n",
       " 'Monocytes_y',\n",
       " 'Macrophages M0_y',\n",
       " 'Macrophages M1_y',\n",
       " 'Macrophages M2_y',\n",
       " 'Dendritic cells resting_y',\n",
       " 'Dendritic cells activated_y',\n",
       " 'Mast cells resting_y',\n",
       " 'Mast cells activated_y',\n",
       " 'Eosinophils_y',\n",
       " 'Neutrophils_y',\n",
       " 'P-value_y',\n",
       " 'Pearson Correlation_y',\n",
       " 'RMSE_y',\n",
       " 'GZMA',\n",
       " 'PRF1',\n",
       " 'Cytolytic',\n",
       " 'CD4/CD8 Ratio']"
      ]
     },
     "execution_count": 71,
     "metadata": {},
     "output_type": "execute_result"
    }
   ],
   "source": [
    "list(combined[t].columns)"
   ]
  },
  {
   "cell_type": "markdown",
   "metadata": {},
   "source": [
    "### Known interactions"
   ]
  },
  {
   "cell_type": "code",
   "execution_count": 66,
   "metadata": {},
   "outputs": [],
   "source": [
    "binding_pairs_A = [['A*23:01', 'KIR3DL1'], ['A*03:01', 'KIR3DL2'], ['A*23:04', 'KIR3DL1'], ['A*23:02', 'KIR3DL1']]\n",
    "\n",
    "binding_pairs_B =  [['B*53:01', 'KIR3DL1'], ['B*52:01', 'KIR3DL1'], ['B*44:03', 'KIR3DL1'], ['B*58:01', 'KIR3DL1'],\n",
    "                 ['B*15:16', 'KIR3DL1'], ['B*49:01', 'KIR3DL1'], ['B*51:16', 'KIR3DL1'], ['B*57:04', 'KIR3DL1']]\n",
    "\n",
    "binding_pairs_C = [#['C*04:01', ['KIR2DL1', 'KIR2DS1', 'KIR2DL2', 'KIR2DL3', 'KIR2DS4']], \n",
    "                    ['C*04:01', ['KIR2DL1', 'KIR2DL2', 'KIR2DL3']], \n",
    "                    ['C*04:01', ['KIR2DS1', 'KIR2DS4']], \n",
    "                   #['C*16:01', ['KIR2DL2', 'KIR2DL3', 'KIR2DS4', 'KIR2DS4']],\n",
    "                    ['C*16:01', ['KIR2DL2', 'KIR2DL3']],\n",
    "                    ['C*16:01', ['KIR2DS4']],\n",
    "                   #['C*17:01', ['KIR2DL1', 'KIR2DS1', 'KIR2DL2', 'KIR2DL3']], \n",
    "                    ['C*17:01', ['KIR2DL1', 'KIR2DL2', 'KIR2DL3']], \n",
    "                    ['C*17:01', ['KIR2DS1']], \n",
    "                   #['C*02:02', ['KIR2DL1', 'KIR2DS1', 'KIR2DL2', 'KIR2DL3', 'KIR2DS4']],\n",
    "                    ['C*02:02', ['KIR2DL1', 'KIR2DL2', 'KIR2DL3']],\n",
    "                    ['C*02:02', ['KIR2DS1', 'KIR2DS4']],\n",
    "                   ['C*03:04', ['KIR2DL2', 'KIR2DL3']], \n",
    "                   ['C*07:01', ['KIR2DL2', 'KIR2DL3']],\n",
    "                   ['C*07:02', ['KIR2DL2', 'KIR2DL3']], \n",
    "                   ['C*03:02', ['KIR2DL2', 'KIR2DL3']],\n",
    "                   ['C*18:01', ['KIR2DL1', 'KIR2DS1', 'KIR2DL2']], \n",
    "                   ['C*18:02', ['KIR2DL2', 'KIR2DL3']]]"
   ]
  },
  {
   "cell_type": "code",
   "execution_count": 73,
   "metadata": {},
   "outputs": [],
   "source": [
    "import lifelines\n",
    "from lifelines.statistics import logrank_test\n",
    "from lifelines import KaplanMeierFitter\n",
    "from lifelines import CoxPHFitter"
   ]
  },
  {
   "cell_type": "code",
   "execution_count": 81,
   "metadata": {},
   "outputs": [
    {
     "ename": "ValueError",
     "evalue": "operands could not be broadcast together with shapes (192,) (3,) ",
     "output_type": "error",
     "traceback": [
      "\u001b[0;31m---------------------------------------------------------------------------\u001b[0m",
      "\u001b[0;31mValueError\u001b[0m                                Traceback (most recent call last)",
      "\u001b[0;32m<ipython-input-81-074f1e5dfec3>\u001b[0m in \u001b[0;36m<module>\u001b[0;34m()\u001b[0m\n\u001b[1;32m     15\u001b[0m     \u001b[0mkir\u001b[0m \u001b[0;34m=\u001b[0m \u001b[0;34m(\u001b[0m\u001b[0mdf_t\u001b[0m\u001b[0;34m[\u001b[0m\u001b[0mkir_gene\u001b[0m\u001b[0;34m]\u001b[0m \u001b[0;34m>\u001b[0m \u001b[0;36m0\u001b[0m\u001b[0;34m)\u001b[0m\u001b[0;34m\u001b[0m\u001b[0m\n\u001b[1;32m     16\u001b[0m \u001b[0;34m\u001b[0m\u001b[0m\n\u001b[0;32m---> 17\u001b[0;31m     \u001b[0;32mif\u001b[0m \u001b[0msum\u001b[0m\u001b[0;34m(\u001b[0m\u001b[0mC\u001b[0m\u001b[0;34m[\u001b[0m\u001b[0mhla\u001b[0m\u001b[0;34m&\u001b[0m\u001b[0mkir\u001b[0m\u001b[0;34m]\u001b[0m\u001b[0;34m)\u001b[0m \u001b[0;34m>\u001b[0m \u001b[0;36m5\u001b[0m \u001b[0;32mand\u001b[0m \u001b[0msum\u001b[0m\u001b[0;34m(\u001b[0m\u001b[0mC\u001b[0m\u001b[0;34m[\u001b[0m\u001b[0;34m~\u001b[0m\u001b[0;34m(\u001b[0m\u001b[0mhla\u001b[0m\u001b[0;34m&\u001b[0m\u001b[0mkir\u001b[0m\u001b[0;34m)\u001b[0m\u001b[0;34m]\u001b[0m\u001b[0;34m)\u001b[0m \u001b[0;34m>\u001b[0m \u001b[0;36m5\u001b[0m\u001b[0;34m:\u001b[0m\u001b[0;34m\u001b[0m\u001b[0m\n\u001b[0m\u001b[1;32m     18\u001b[0m         \u001b[0mresults\u001b[0m \u001b[0;34m=\u001b[0m \u001b[0mlogrank_test\u001b[0m\u001b[0;34m(\u001b[0m\u001b[0mT\u001b[0m\u001b[0;34m[\u001b[0m\u001b[0mhla\u001b[0m\u001b[0;34m&\u001b[0m\u001b[0mkir\u001b[0m\u001b[0;34m]\u001b[0m\u001b[0;34m,\u001b[0m \u001b[0mT\u001b[0m\u001b[0;34m[\u001b[0m\u001b[0;34m~\u001b[0m\u001b[0;34m(\u001b[0m\u001b[0mhla\u001b[0m\u001b[0;34m&\u001b[0m\u001b[0mkir\u001b[0m\u001b[0;34m)\u001b[0m\u001b[0;34m]\u001b[0m\u001b[0;34m,\u001b[0m \u001b[0mC\u001b[0m\u001b[0;34m[\u001b[0m\u001b[0mhla\u001b[0m\u001b[0;34m&\u001b[0m\u001b[0mkir\u001b[0m\u001b[0;34m]\u001b[0m\u001b[0;34m,\u001b[0m \u001b[0mC\u001b[0m\u001b[0;34m[\u001b[0m\u001b[0;34m~\u001b[0m\u001b[0;34m(\u001b[0m\u001b[0mhla\u001b[0m\u001b[0;34m&\u001b[0m\u001b[0mkir\u001b[0m\u001b[0;34m)\u001b[0m\u001b[0;34m]\u001b[0m\u001b[0;34m,\u001b[0m \u001b[0malpha\u001b[0m\u001b[0;34m=\u001b[0m\u001b[0;36m.99\u001b[0m \u001b[0;34m)\u001b[0m\u001b[0;34m\u001b[0m\u001b[0m\n\u001b[1;32m     19\u001b[0m         \u001b[0;32mprint\u001b[0m \u001b[0mtissue\u001b[0m\u001b[0;34m,\u001b[0m \u001b[0mresults\u001b[0m\u001b[0;34m.\u001b[0m\u001b[0mp_value\u001b[0m \u001b[0;34m*\u001b[0m \u001b[0mpredicted_total\u001b[0m\u001b[0;34m\u001b[0m\u001b[0m\n",
      "\u001b[0;32m/cellar/users/ramarty/anaconda/lib/python2.7/site-packages/pandas/core/ops.pyc\u001b[0m in \u001b[0;36mf\u001b[0;34m(self, other, axis, level, fill_value)\u001b[0m\n\u001b[1;32m   1522\u001b[0m             return _combine_series_frame(self, other, na_op,\n\u001b[1;32m   1523\u001b[0m                                          \u001b[0mfill_value\u001b[0m\u001b[0;34m=\u001b[0m\u001b[0mfill_value\u001b[0m\u001b[0;34m,\u001b[0m \u001b[0maxis\u001b[0m\u001b[0;34m=\u001b[0m\u001b[0maxis\u001b[0m\u001b[0;34m,\u001b[0m\u001b[0;34m\u001b[0m\u001b[0m\n\u001b[0;32m-> 1524\u001b[0;31m                                          level=level, try_cast=True)\n\u001b[0m\u001b[1;32m   1525\u001b[0m         \u001b[0;32melse\u001b[0m\u001b[0;34m:\u001b[0m\u001b[0;34m\u001b[0m\u001b[0m\n\u001b[1;32m   1526\u001b[0m             \u001b[0;32mif\u001b[0m \u001b[0mfill_value\u001b[0m \u001b[0;32mis\u001b[0m \u001b[0;32mnot\u001b[0m \u001b[0mNone\u001b[0m\u001b[0;34m:\u001b[0m\u001b[0;34m\u001b[0m\u001b[0m\n",
      "\u001b[0;32m/cellar/users/ramarty/anaconda/lib/python2.7/site-packages/pandas/core/ops.pyc\u001b[0m in \u001b[0;36m_combine_series_frame\u001b[0;34m(self, other, func, fill_value, axis, level, try_cast)\u001b[0m\n\u001b[1;32m   1395\u001b[0m         \u001b[0;32melse\u001b[0m\u001b[0;34m:\u001b[0m\u001b[0;34m\u001b[0m\u001b[0m\n\u001b[1;32m   1396\u001b[0m             return self._combine_match_columns(other, func, level=level,\n\u001b[0;32m-> 1397\u001b[0;31m                                                try_cast=try_cast)\n\u001b[0m\u001b[1;32m   1398\u001b[0m     \u001b[0;32melse\u001b[0m\u001b[0;34m:\u001b[0m\u001b[0;34m\u001b[0m\u001b[0m\n\u001b[1;32m   1399\u001b[0m         \u001b[0;32mif\u001b[0m \u001b[0;32mnot\u001b[0m \u001b[0mlen\u001b[0m\u001b[0;34m(\u001b[0m\u001b[0mother\u001b[0m\u001b[0;34m)\u001b[0m\u001b[0;34m:\u001b[0m\u001b[0;34m\u001b[0m\u001b[0m\n",
      "\u001b[0;32m/cellar/users/ramarty/anaconda/lib/python2.7/site-packages/pandas/core/frame.pyc\u001b[0m in \u001b[0;36m_combine_match_columns\u001b[0;34m(self, other, func, level, try_cast)\u001b[0m\n\u001b[1;32m   4768\u001b[0m         new_data = left._data.eval(func=func, other=right,\n\u001b[1;32m   4769\u001b[0m                                    \u001b[0maxes\u001b[0m\u001b[0;34m=\u001b[0m\u001b[0;34m[\u001b[0m\u001b[0mleft\u001b[0m\u001b[0;34m.\u001b[0m\u001b[0mcolumns\u001b[0m\u001b[0;34m,\u001b[0m \u001b[0mself\u001b[0m\u001b[0;34m.\u001b[0m\u001b[0mindex\u001b[0m\u001b[0;34m]\u001b[0m\u001b[0;34m,\u001b[0m\u001b[0;34m\u001b[0m\u001b[0m\n\u001b[0;32m-> 4770\u001b[0;31m                                    try_cast=try_cast)\n\u001b[0m\u001b[1;32m   4771\u001b[0m         \u001b[0;32mreturn\u001b[0m \u001b[0mself\u001b[0m\u001b[0;34m.\u001b[0m\u001b[0m_constructor\u001b[0m\u001b[0;34m(\u001b[0m\u001b[0mnew_data\u001b[0m\u001b[0;34m)\u001b[0m\u001b[0;34m\u001b[0m\u001b[0m\n\u001b[1;32m   4772\u001b[0m \u001b[0;34m\u001b[0m\u001b[0m\n",
      "\u001b[0;32m/cellar/users/ramarty/anaconda/lib/python2.7/site-packages/pandas/core/internals.pyc\u001b[0m in \u001b[0;36meval\u001b[0;34m(self, **kwargs)\u001b[0m\n\u001b[1;32m   3685\u001b[0m \u001b[0;34m\u001b[0m\u001b[0m\n\u001b[1;32m   3686\u001b[0m     \u001b[0;32mdef\u001b[0m \u001b[0meval\u001b[0m\u001b[0;34m(\u001b[0m\u001b[0mself\u001b[0m\u001b[0;34m,\u001b[0m \u001b[0;34m**\u001b[0m\u001b[0mkwargs\u001b[0m\u001b[0;34m)\u001b[0m\u001b[0;34m:\u001b[0m\u001b[0;34m\u001b[0m\u001b[0m\n\u001b[0;32m-> 3687\u001b[0;31m         \u001b[0;32mreturn\u001b[0m \u001b[0mself\u001b[0m\u001b[0;34m.\u001b[0m\u001b[0mapply\u001b[0m\u001b[0;34m(\u001b[0m\u001b[0;34m'eval'\u001b[0m\u001b[0;34m,\u001b[0m \u001b[0;34m**\u001b[0m\u001b[0mkwargs\u001b[0m\u001b[0;34m)\u001b[0m\u001b[0;34m\u001b[0m\u001b[0m\n\u001b[0m\u001b[1;32m   3688\u001b[0m \u001b[0;34m\u001b[0m\u001b[0m\n\u001b[1;32m   3689\u001b[0m     \u001b[0;32mdef\u001b[0m \u001b[0mquantile\u001b[0m\u001b[0;34m(\u001b[0m\u001b[0mself\u001b[0m\u001b[0;34m,\u001b[0m \u001b[0;34m**\u001b[0m\u001b[0mkwargs\u001b[0m\u001b[0;34m)\u001b[0m\u001b[0;34m:\u001b[0m\u001b[0;34m\u001b[0m\u001b[0m\n",
      "\u001b[0;32m/cellar/users/ramarty/anaconda/lib/python2.7/site-packages/pandas/core/internals.pyc\u001b[0m in \u001b[0;36mapply\u001b[0;34m(self, f, axes, filter, do_integrity_check, consolidate, **kwargs)\u001b[0m\n\u001b[1;32m   3579\u001b[0m \u001b[0;34m\u001b[0m\u001b[0m\n\u001b[1;32m   3580\u001b[0m             \u001b[0mkwargs\u001b[0m\u001b[0;34m[\u001b[0m\u001b[0;34m'mgr'\u001b[0m\u001b[0;34m]\u001b[0m \u001b[0;34m=\u001b[0m \u001b[0mself\u001b[0m\u001b[0;34m\u001b[0m\u001b[0m\n\u001b[0;32m-> 3581\u001b[0;31m             \u001b[0mapplied\u001b[0m \u001b[0;34m=\u001b[0m \u001b[0mgetattr\u001b[0m\u001b[0;34m(\u001b[0m\u001b[0mb\u001b[0m\u001b[0;34m,\u001b[0m \u001b[0mf\u001b[0m\u001b[0;34m)\u001b[0m\u001b[0;34m(\u001b[0m\u001b[0;34m**\u001b[0m\u001b[0mkwargs\u001b[0m\u001b[0;34m)\u001b[0m\u001b[0;34m\u001b[0m\u001b[0m\n\u001b[0m\u001b[1;32m   3582\u001b[0m             \u001b[0mresult_blocks\u001b[0m \u001b[0;34m=\u001b[0m \u001b[0m_extend_blocks\u001b[0m\u001b[0;34m(\u001b[0m\u001b[0mapplied\u001b[0m\u001b[0;34m,\u001b[0m \u001b[0mresult_blocks\u001b[0m\u001b[0;34m)\u001b[0m\u001b[0;34m\u001b[0m\u001b[0m\n\u001b[1;32m   3583\u001b[0m \u001b[0;34m\u001b[0m\u001b[0m\n",
      "\u001b[0;32m/cellar/users/ramarty/anaconda/lib/python2.7/site-packages/pandas/core/internals.pyc\u001b[0m in \u001b[0;36meval\u001b[0;34m(self, func, other, errors, try_cast, mgr)\u001b[0m\n\u001b[1;32m   1413\u001b[0m         \u001b[0;32mtry\u001b[0m\u001b[0;34m:\u001b[0m\u001b[0;34m\u001b[0m\u001b[0m\n\u001b[1;32m   1414\u001b[0m             \u001b[0;32mwith\u001b[0m \u001b[0mnp\u001b[0m\u001b[0;34m.\u001b[0m\u001b[0merrstate\u001b[0m\u001b[0;34m(\u001b[0m\u001b[0mall\u001b[0m\u001b[0;34m=\u001b[0m\u001b[0;34m'ignore'\u001b[0m\u001b[0;34m)\u001b[0m\u001b[0;34m:\u001b[0m\u001b[0;34m\u001b[0m\u001b[0m\n\u001b[0;32m-> 1415\u001b[0;31m                 \u001b[0mresult\u001b[0m \u001b[0;34m=\u001b[0m \u001b[0mget_result\u001b[0m\u001b[0;34m(\u001b[0m\u001b[0mother\u001b[0m\u001b[0;34m)\u001b[0m\u001b[0;34m\u001b[0m\u001b[0m\n\u001b[0m\u001b[1;32m   1416\u001b[0m \u001b[0;34m\u001b[0m\u001b[0m\n\u001b[1;32m   1417\u001b[0m         \u001b[0;31m# if we have an invalid shape/broadcast error\u001b[0m\u001b[0;34m\u001b[0m\u001b[0;34m\u001b[0m\u001b[0m\n",
      "\u001b[0;32m/cellar/users/ramarty/anaconda/lib/python2.7/site-packages/pandas/core/internals.pyc\u001b[0m in \u001b[0;36mget_result\u001b[0;34m(other)\u001b[0m\n\u001b[1;32m   1381\u001b[0m                 \u001b[0mresult\u001b[0m \u001b[0;34m=\u001b[0m \u001b[0mfunc\u001b[0m\u001b[0;34m(\u001b[0m\u001b[0mvalues\u001b[0m\u001b[0;34m,\u001b[0m \u001b[0mother\u001b[0m\u001b[0;34m)\u001b[0m\u001b[0;34m\u001b[0m\u001b[0m\n\u001b[1;32m   1382\u001b[0m             \u001b[0;32melse\u001b[0m\u001b[0;34m:\u001b[0m\u001b[0;34m\u001b[0m\u001b[0m\n\u001b[0;32m-> 1383\u001b[0;31m                 \u001b[0mresult\u001b[0m \u001b[0;34m=\u001b[0m \u001b[0mfunc\u001b[0m\u001b[0;34m(\u001b[0m\u001b[0mvalues\u001b[0m\u001b[0;34m,\u001b[0m \u001b[0mother\u001b[0m\u001b[0;34m)\u001b[0m\u001b[0;34m\u001b[0m\u001b[0m\n\u001b[0m\u001b[1;32m   1384\u001b[0m \u001b[0;34m\u001b[0m\u001b[0m\n\u001b[1;32m   1385\u001b[0m             \u001b[0;31m# mask if needed\u001b[0m\u001b[0;34m\u001b[0m\u001b[0;34m\u001b[0m\u001b[0m\n",
      "\u001b[0;32m/cellar/users/ramarty/anaconda/lib/python2.7/site-packages/pandas/core/ops.pyc\u001b[0m in \u001b[0;36mna_op\u001b[0;34m(x, y)\u001b[0m\n\u001b[1;32m   1472\u001b[0m                 \u001b[0mresult\u001b[0m \u001b[0;34m=\u001b[0m \u001b[0mnp\u001b[0m\u001b[0;34m.\u001b[0m\u001b[0mempty\u001b[0m\u001b[0;34m(\u001b[0m\u001b[0mx\u001b[0m\u001b[0;34m.\u001b[0m\u001b[0msize\u001b[0m\u001b[0;34m,\u001b[0m \u001b[0mdtype\u001b[0m\u001b[0;34m=\u001b[0m\u001b[0mdtype\u001b[0m\u001b[0;34m)\u001b[0m\u001b[0;34m\u001b[0m\u001b[0m\n\u001b[1;32m   1473\u001b[0m                 \u001b[0myrav\u001b[0m \u001b[0;34m=\u001b[0m \u001b[0my\u001b[0m\u001b[0;34m.\u001b[0m\u001b[0mravel\u001b[0m\u001b[0;34m(\u001b[0m\u001b[0;34m)\u001b[0m\u001b[0;34m\u001b[0m\u001b[0m\n\u001b[0;32m-> 1474\u001b[0;31m                 \u001b[0mmask\u001b[0m \u001b[0;34m=\u001b[0m \u001b[0mnotna\u001b[0m\u001b[0;34m(\u001b[0m\u001b[0mxrav\u001b[0m\u001b[0;34m)\u001b[0m \u001b[0;34m&\u001b[0m \u001b[0mnotna\u001b[0m\u001b[0;34m(\u001b[0m\u001b[0myrav\u001b[0m\u001b[0;34m)\u001b[0m\u001b[0;34m\u001b[0m\u001b[0m\n\u001b[0m\u001b[1;32m   1475\u001b[0m                 \u001b[0mxrav\u001b[0m \u001b[0;34m=\u001b[0m \u001b[0mxrav\u001b[0m\u001b[0;34m[\u001b[0m\u001b[0mmask\u001b[0m\u001b[0;34m]\u001b[0m\u001b[0;34m\u001b[0m\u001b[0m\n\u001b[1;32m   1476\u001b[0m \u001b[0;34m\u001b[0m\u001b[0m\n",
      "\u001b[0;31mValueError\u001b[0m: operands could not be broadcast together with shapes (192,) (3,) "
     ]
    }
   ],
   "source": [
    "predicted_total = 1\n",
    "total = 0\n",
    "tissue ='uterus'\n",
    "for i, binding_pair in enumerate(binding_pairs_C):\n",
    "\n",
    "    t = (combined.tissue == 'CESC')|(combined.tissue == 'UCS')\n",
    "    df_t = combined[t]\n",
    "\n",
    "    T = df_t.days_to_death\n",
    "    C = df_t.days_to_last_followup\n",
    "\n",
    "    hla_allele = binding_pair[0]\n",
    "    kir_gene = binding_pair[1]\n",
    "    hla = (df_t.C1_ == hla_allele) | (df_t.C2_ == hla_allele)\n",
    "    kir = (df_t[kir_gene] > 0)\n",
    "\n",
    "    if sum(C[hla&kir]) > 5 and sum(C[~(hla&kir)]) > 5:\n",
    "        results = logrank_test(T[hla&kir], T[~(hla&kir)], C[hla&kir], C[~(hla&kir)], alpha=.99 )\n",
    "        print tissue, results.p_value * predicted_total\n",
    "        total += 1\n",
    "        if results.p_value * predicted_total < 0.05:\n",
    "            print len(df_t[hla&kir]), len(df_t[~(hla&kir)])\n",
    "            print i, tissue, hla_allele, kir_gene, results.p_value, results.p_value * predicted_total\n",
    "            ax = plt.subplot(111)\n",
    "            kmf.fit(T[hla&kir], event_observed=C[hla&kir], label=\"Binding - {0}\".format(sum(C[hla&kir])))\n",
    "            kmf.plot(ax=ax, ci_force_lines=False)\n",
    "            kmf.fit(T[~(hla&kir)], event_observed=C[~(hla&kir)], label=\"Non-Binding - {0}\".format(sum(C[~(hla&kir)])))\n",
    "            kmf.plot(ax=ax, ci_force_lines=False)\n",
    "            plt.title('{0},{1} - {2}'.format(hla_allele, kir_gene, str(results.p_value * predicted_total)))\n",
    "            plt.xlim(0, 1825)\n",
    "            #plt.savefig('/cellar/users/ramarty/Data/kir/figures/survival.{0}.{1}_{2}.pdf'.format(tissue, hla_allele, kir_gene))\n",
    "            plt.show()\n",
    "            plt.clf()\n",
    "print total"
   ]
  },
  {
   "cell_type": "code",
   "execution_count": null,
   "metadata": {},
   "outputs": [],
   "source": []
  }
 ],
 "metadata": {
  "kernelspec": {
   "display_name": "Python 2",
   "language": "python",
   "name": "python2"
  },
  "language_info": {
   "codemirror_mode": {
    "name": "ipython",
    "version": 2
   },
   "file_extension": ".py",
   "mimetype": "text/x-python",
   "name": "python",
   "nbconvert_exporter": "python",
   "pygments_lexer": "ipython2",
   "version": "2.7.15"
  }
 },
 "nbformat": 4,
 "nbformat_minor": 2
}
