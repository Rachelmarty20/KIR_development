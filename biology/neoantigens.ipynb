{
 "cells": [
  {
   "cell_type": "code",
   "execution_count": 2,
   "metadata": {
    "collapsed": false
   },
   "outputs": [
    {
     "name": "stdout",
     "output_type": "stream",
     "text": [
      "Populating the interactive namespace from numpy and matplotlib\n"
     ]
    },
    {
     "data": {
      "text/plain": [
       "\"\\ndef plot_cutoffs(gene, w):\\n    kernel = sp.gaussian_kde(w[gene])\\n    max_value = w[gene].max()\\n    a = kernel(np.arange(0, max_value, max_value/float(100)))\\n    coverage_values = np.arange(0, max_value, max_value/float(100))\\n    plt.scatter(coverage_values, a)\\n    for l in coverage_values[np.r_[True, a[1:] < a[:-1]] & np.r_[a[:-1] < a[1:], True]]:\\n        plt.axvline(x=l, ymin=0, ymax=1, linewidth=2, color='k')\\n    plt.title(gene)\\n    plt.show()\\n    plt.clf()\\n\""
      ]
     },
     "execution_count": 2,
     "metadata": {},
     "output_type": "execute_result"
    }
   ],
   "source": [
    "import io\n",
    "from IPython.nbformat import current\n",
    "def execute_notebook(nbfile):\n",
    "    with io.open(nbfile) as f:\n",
    "        nb = current.read(f, 'json')\n",
    "    ip = get_ipython()\n",
    "    for cell in nb.worksheets[0].cells:\n",
    "        if cell.cell_type != 'code':\n",
    "            continue\n",
    "        ip.run_cell(cell.input)\n",
    "execute_notebook(\"/cellar/users/ramarty/Projects/kir/worker_notebooks/imports.ipynb\")\n",
    "execute_notebook(\"/cellar/users/ramarty/Projects/kir/worker_notebooks/clinical.ipynb\")\n",
    "execute_notebook(\"/cellar/users/ramarty/Projects/kir/worker_notebooks/typing.ipynb\")"
   ]
  },
  {
   "cell_type": "code",
   "execution_count": 3,
   "metadata": {
    "collapsed": true
   },
   "outputs": [],
   "source": [
    "df = pd.read_csv('/cellar/users/ramarty/Data/kir/biological/all_the_good_stuff.csv', index_col=0)\n",
    "df = df[~(df.tissue.isin(['LIHC', 'DLBC', 'ACC', 'BRCA', 'UCS', 'SKCM']))]"
   ]
  },
  {
   "cell_type": "code",
   "execution_count": 4,
   "metadata": {
    "collapsed": false
   },
   "outputs": [
    {
     "data": {
      "text/html": [
       "<div>\n",
       "<table border=\"1\" class=\"dataframe\">\n",
       "  <thead>\n",
       "    <tr style=\"text-align: right;\">\n",
       "      <th></th>\n",
       "      <th>Tumor_Sample_Barcode</th>\n",
       "      <th>num_neoantigens5</th>\n",
       "      <th>num_neoantigens10</th>\n",
       "      <th>total_presented_peptides</th>\n",
       "      <th>mutation_count</th>\n",
       "      <th>max_neoantigen</th>\n",
       "      <th>num_neoantigens1</th>\n",
       "      <th>KIR2DP1</th>\n",
       "      <th>KIR2DS4</th>\n",
       "      <th>KIR2DS5</th>\n",
       "      <th>...</th>\n",
       "      <th>A1</th>\n",
       "      <th>A2</th>\n",
       "      <th>B1</th>\n",
       "      <th>B2</th>\n",
       "      <th>C1</th>\n",
       "      <th>C2</th>\n",
       "      <th>activating</th>\n",
       "      <th>inhibitory</th>\n",
       "      <th>ratio</th>\n",
       "      <th>capture_kit</th>\n",
       "    </tr>\n",
       "  </thead>\n",
       "  <tbody>\n",
       "    <tr>\n",
       "      <th>0</th>\n",
       "      <td>TCGA-05-4244</td>\n",
       "      <td>65</td>\n",
       "      <td>19</td>\n",
       "      <td>863</td>\n",
       "      <td>200</td>\n",
       "      <td>31</td>\n",
       "      <td>130</td>\n",
       "      <td>1</td>\n",
       "      <td>1</td>\n",
       "      <td>1</td>\n",
       "      <td>...</td>\n",
       "      <td>A*01</td>\n",
       "      <td>A*02</td>\n",
       "      <td>B*41</td>\n",
       "      <td>B*52</td>\n",
       "      <td>C*12</td>\n",
       "      <td>C*17</td>\n",
       "      <td>9</td>\n",
       "      <td>11</td>\n",
       "      <td>0.818182</td>\n",
       "      <td>Agilent_50</td>\n",
       "    </tr>\n",
       "    <tr>\n",
       "      <th>1</th>\n",
       "      <td>TCGA-05-4250</td>\n",
       "      <td>99</td>\n",
       "      <td>25</td>\n",
       "      <td>1465</td>\n",
       "      <td>349</td>\n",
       "      <td>29</td>\n",
       "      <td>244</td>\n",
       "      <td>2</td>\n",
       "      <td>2</td>\n",
       "      <td>0</td>\n",
       "      <td>...</td>\n",
       "      <td>A*01</td>\n",
       "      <td>A*11</td>\n",
       "      <td>B*45</td>\n",
       "      <td>B*57</td>\n",
       "      <td>C*06</td>\n",
       "      <td>C*06</td>\n",
       "      <td>4</td>\n",
       "      <td>12</td>\n",
       "      <td>0.333333</td>\n",
       "      <td>Agilent_50</td>\n",
       "    </tr>\n",
       "    <tr>\n",
       "      <th>2</th>\n",
       "      <td>TCGA-05-4384</td>\n",
       "      <td>39</td>\n",
       "      <td>14</td>\n",
       "      <td>586</td>\n",
       "      <td>136</td>\n",
       "      <td>53</td>\n",
       "      <td>78</td>\n",
       "      <td>2</td>\n",
       "      <td>2</td>\n",
       "      <td>0</td>\n",
       "      <td>...</td>\n",
       "      <td>A*02</td>\n",
       "      <td>A*23</td>\n",
       "      <td>B*37</td>\n",
       "      <td>B*39</td>\n",
       "      <td>C*06</td>\n",
       "      <td>C*12</td>\n",
       "      <td>4</td>\n",
       "      <td>12</td>\n",
       "      <td>0.333333</td>\n",
       "      <td>Agilent_50</td>\n",
       "    </tr>\n",
       "    <tr>\n",
       "      <th>3</th>\n",
       "      <td>TCGA-05-4390</td>\n",
       "      <td>175</td>\n",
       "      <td>62</td>\n",
       "      <td>2476</td>\n",
       "      <td>555</td>\n",
       "      <td>34</td>\n",
       "      <td>369</td>\n",
       "      <td>2</td>\n",
       "      <td>1</td>\n",
       "      <td>1</td>\n",
       "      <td>...</td>\n",
       "      <td>A*01</td>\n",
       "      <td>A*02</td>\n",
       "      <td>B*07</td>\n",
       "      <td>B*08</td>\n",
       "      <td>C*07</td>\n",
       "      <td>C*07</td>\n",
       "      <td>6</td>\n",
       "      <td>13</td>\n",
       "      <td>0.461538</td>\n",
       "      <td>Agilent_50</td>\n",
       "    </tr>\n",
       "    <tr>\n",
       "      <th>4</th>\n",
       "      <td>TCGA-05-4396</td>\n",
       "      <td>135</td>\n",
       "      <td>41</td>\n",
       "      <td>2015</td>\n",
       "      <td>488</td>\n",
       "      <td>25</td>\n",
       "      <td>330</td>\n",
       "      <td>2</td>\n",
       "      <td>0</td>\n",
       "      <td>1</td>\n",
       "      <td>...</td>\n",
       "      <td>A*01</td>\n",
       "      <td>A*02</td>\n",
       "      <td>B*08</td>\n",
       "      <td>B*40</td>\n",
       "      <td>C*03</td>\n",
       "      <td>C*07</td>\n",
       "      <td>5</td>\n",
       "      <td>12</td>\n",
       "      <td>0.416667</td>\n",
       "      <td>Agilent_50</td>\n",
       "    </tr>\n",
       "  </tbody>\n",
       "</table>\n",
       "<p>5 rows × 49 columns</p>\n",
       "</div>"
      ],
      "text/plain": [
       "  Tumor_Sample_Barcode  num_neoantigens5  num_neoantigens10  \\\n",
       "0         TCGA-05-4244                65                 19   \n",
       "1         TCGA-05-4250                99                 25   \n",
       "2         TCGA-05-4384                39                 14   \n",
       "3         TCGA-05-4390               175                 62   \n",
       "4         TCGA-05-4396               135                 41   \n",
       "\n",
       "   total_presented_peptides  mutation_count  max_neoantigen  num_neoantigens1  \\\n",
       "0                       863             200              31               130   \n",
       "1                      1465             349              29               244   \n",
       "2                       586             136              53                78   \n",
       "3                      2476             555              34               369   \n",
       "4                      2015             488              25               330   \n",
       "\n",
       "   KIR2DP1  KIR2DS4  KIR2DS5     ...         A1    A2    B1    B2    C1    C2  \\\n",
       "0        1        1        1     ...       A*01  A*02  B*41  B*52  C*12  C*17   \n",
       "1        2        2        0     ...       A*01  A*11  B*45  B*57  C*06  C*06   \n",
       "2        2        2        0     ...       A*02  A*23  B*37  B*39  C*06  C*12   \n",
       "3        2        1        1     ...       A*01  A*02  B*07  B*08  C*07  C*07   \n",
       "4        2        0        1     ...       A*01  A*02  B*08  B*40  C*03  C*07   \n",
       "\n",
       "   activating  inhibitory     ratio  capture_kit  \n",
       "0           9          11  0.818182   Agilent_50  \n",
       "1           4          12  0.333333   Agilent_50  \n",
       "2           4          12  0.333333   Agilent_50  \n",
       "3           6          13  0.461538   Agilent_50  \n",
       "4           5          12  0.416667   Agilent_50  \n",
       "\n",
       "[5 rows x 49 columns]"
      ]
     },
     "execution_count": 4,
     "metadata": {},
     "output_type": "execute_result"
    }
   ],
   "source": [
    "df.head()"
   ]
  },
  {
   "cell_type": "code",
   "execution_count": 5,
   "metadata": {
    "collapsed": false
   },
   "outputs": [
    {
     "data": {
      "text/plain": [
       "LUAD    378\n",
       "HNSC    367\n",
       "LGG     240\n",
       "THCA    215\n",
       "BLCA    198\n",
       "LUSC     91\n",
       "Name: tissue, dtype: int64"
      ]
     },
     "execution_count": 5,
     "metadata": {},
     "output_type": "execute_result"
    }
   ],
   "source": [
    "df.tissue.value_counts()"
   ]
  },
  {
   "cell_type": "code",
   "execution_count": 6,
   "metadata": {
    "collapsed": false
   },
   "outputs": [
    {
     "data": {
      "text/plain": [
       "Index([u'Tumor_Sample_Barcode', u'num_neoantigens5', u'num_neoantigens10',\n",
       "       u'total_presented_peptides', u'mutation_count', u'max_neoantigen',\n",
       "       u'num_neoantigens1', u'KIR2DP1', u'KIR2DS4', u'KIR2DS5', u'KIR2DS2',\n",
       "       u'KIR2DS3', u'KIR2DS1', u'KIR2DL3', u'KIR2DL2', u'KIR2DL1', u'KIR2DL4',\n",
       "       u'KIR3DS1', u'KIR3DL1', u'KIR3DL2', u'KIR3DL3', u'KIR2DL5A', u'KIR3DP1',\n",
       "       u'Sample', u'barcode', u'age_at_diagnosis', u'days_to_death',\n",
       "       u'days_to_last_followup', u'ethnicity', u'gender', u'race', u'tissue',\n",
       "       u'vital_status', u'Bcells', u'Monocytes', u'Neutrophils', u'NKcells',\n",
       "       u'Tcells', u'unkCells', u'A1', u'A2', u'B1', u'B2', u'C1', u'C2',\n",
       "       u'activating', u'inhibitory', u'ratio', u'capture_kit'],\n",
       "      dtype='object')"
      ]
     },
     "execution_count": 6,
     "metadata": {},
     "output_type": "execute_result"
    }
   ],
   "source": [
    "df.columns"
   ]
  },
  {
   "cell_type": "code",
   "execution_count": 7,
   "metadata": {
    "collapsed": true
   },
   "outputs": [],
   "source": [
    "neoantigen_features = ['num_neoantigens10',\n",
    "       'total_presented_peptides', 'mutation_count']"
   ]
  },
  {
   "cell_type": "markdown",
   "metadata": {},
   "source": [
    "###Tissue agnostic"
   ]
  },
  {
   "cell_type": "markdown",
   "metadata": {},
   "source": [
    "Activating/inhibitory"
   ]
  },
  {
   "cell_type": "code",
   "execution_count": 8,
   "metadata": {
    "collapsed": false
   },
   "outputs": [
    {
     "name": "stdout",
     "output_type": "stream",
     "text": [
      "num_neoantigens10 SpearmanrResult(correlation=0.023047114213981729, pvalue=0.37416264810448641)\n",
      "total_presented_peptides SpearmanrResult(correlation=0.014537412173586412, pvalue=0.57512356206976545)\n",
      "mutation_count SpearmanrResult(correlation=0.014727242604054745, pvalue=0.57014230186860981)\n"
     ]
    }
   ],
   "source": [
    "for neo in neoantigen_features:\n",
    "    print neo, sp.spearmanr(df[neo], df.inhibitory)"
   ]
  },
  {
   "cell_type": "code",
   "execution_count": 9,
   "metadata": {
    "collapsed": false
   },
   "outputs": [
    {
     "name": "stdout",
     "output_type": "stream",
     "text": [
      "num_neoantigens10 SpearmanrResult(correlation=-0.063620917186093986, pvalue=0.014072706863007651)\n",
      "total_presented_peptides SpearmanrResult(correlation=-0.062074292406916066, pvalue=0.016593437753802506)\n",
      "mutation_count SpearmanrResult(correlation=-0.056421007700279809, pvalue=0.029476459910841468)\n"
     ]
    }
   ],
   "source": [
    "for neo in neoantigen_features:\n",
    "    print neo, sp.spearmanr(df[neo], df.activating)"
   ]
  },
  {
   "cell_type": "markdown",
   "metadata": {},
   "source": [
    "Gene specific"
   ]
  },
  {
   "cell_type": "code",
   "execution_count": 10,
   "metadata": {
    "collapsed": true
   },
   "outputs": [],
   "source": [
    "genes = ['KIR3DL3', 'KIR3DP1', 'KIR2DL4', 'KIR3DL2', 'KIR2DS2', 'KIR2DS3', 'KIR2DP1', \n",
    "         'KIR2DL1', 'KIR3DS1', 'KIR2DS5', 'KIR2DS4']"
   ]
  },
  {
   "cell_type": "code",
   "execution_count": 16,
   "metadata": {
    "collapsed": false
   },
   "outputs": [
    {
     "name": "stdout",
     "output_type": "stream",
     "text": [
      "KIR3DL3 num_neoantigens10 SpearmanrResult(correlation=0.00030640991031757707, pvalue=0.99057426454384179)\n",
      "KIR3DL3 total_presented_peptides SpearmanrResult(correlation=0.0044819087514771398, pvalue=0.86280741026145558)\n",
      "KIR3DL3 mutation_count SpearmanrResult(correlation=0.0021808489173523074, pvalue=0.93299038432030712)\n",
      " \n",
      "KIR3DP1 num_neoantigens10 SpearmanrResult(correlation=-0.022812724303365239, pvalue=0.37904210185877418)\n",
      "KIR3DP1 total_presented_peptides SpearmanrResult(correlation=-0.022431054571030361, pvalue=0.387070822241526)\n",
      "KIR3DP1 mutation_count SpearmanrResult(correlation=-0.023167730964503825, pvalue=0.37166688327093822)\n",
      " \n",
      "KIR2DL4 num_neoantigens10 SpearmanrResult(correlation=-0.028443226903616298, pvalue=0.27270479598787084)\n",
      "KIR2DL4 total_presented_peptides SpearmanrResult(correlation=-0.027059248723065376, pvalue=0.29673315643703846)\n",
      "KIR2DL4 mutation_count SpearmanrResult(correlation=-0.027261839264359208, pvalue=0.29313007446501355)\n",
      " \n",
      "KIR3DL2 num_neoantigens10 SpearmanrResult(correlation=-0.0078715591241309384, pvalue=0.76151349958951808)\n",
      "KIR3DL2 total_presented_peptides SpearmanrResult(correlation=-0.014245842124281548, pvalue=0.58281431063207978)\n",
      "KIR3DL2 mutation_count SpearmanrResult(correlation=-0.012322379289574836, pvalue=0.634709071784479)\n",
      " \n",
      "KIR2DS2 num_neoantigens10 SpearmanrResult(correlation=-0.045978860368607086, pvalue=0.076119375592238858)\n",
      "KIR2DS2 total_presented_peptides SpearmanrResult(correlation=-0.045856626342672888, pvalue=0.076903893290815969)\n",
      "KIR2DS2 mutation_count SpearmanrResult(correlation=-0.039594527760960382, pvalue=0.12671823088298353)\n",
      " \n",
      "KIR2DS3 num_neoantigens10 SpearmanrResult(correlation=-0.022959906809504504, pvalue=0.3759735517203544)\n",
      "KIR2DS3 total_presented_peptides SpearmanrResult(correlation=-0.031660666388311491, pvalue=0.22209055212872317)\n",
      "KIR2DS3 mutation_count SpearmanrResult(correlation=-0.02998347436124502, pvalue=0.24756766783376502)\n",
      " \n",
      "KIR2DP1 num_neoantigens10 SpearmanrResult(correlation=0.033139776093222259, pvalue=0.20122816985986511)\n",
      "KIR2DP1 total_presented_peptides SpearmanrResult(correlation=0.026193498837584445, pvalue=0.3124628367042947)\n",
      "KIR2DP1 mutation_count SpearmanrResult(correlation=0.022040094632035986, pvalue=0.39540152305296861)\n",
      " \n",
      "KIR2DL1 num_neoantigens10 SpearmanrResult(correlation=0.051335943232893054, pvalue=0.047639371658844278)\n",
      "KIR2DL1 total_presented_peptides SpearmanrResult(correlation=0.049672120865582037, pvalue=0.055327005243951365)\n",
      "KIR2DL1 mutation_count SpearmanrResult(correlation=0.046214873965067564, pvalue=0.074623057562482442)\n",
      " \n",
      "KIR3DS1 num_neoantigens10 SpearmanrResult(correlation=-0.071124609507675421, pvalue=0.0060382282469862002)\n",
      "KIR3DS1 total_presented_peptides SpearmanrResult(correlation=-0.066478414663902904, pvalue=0.010290123987245067)\n",
      "KIR3DS1 mutation_count SpearmanrResult(correlation=-0.063493561854033251, pvalue=0.01426670813050971)\n",
      " \n",
      "KIR2DS5 num_neoantigens10 SpearmanrResult(correlation=-0.036191897023395973, pvalue=0.16276221904046434)\n",
      "KIR2DS5 total_presented_peptides SpearmanrResult(correlation=-0.02596355668987177, pvalue=0.31673120946865013)\n",
      "KIR2DS5 mutation_count SpearmanrResult(correlation=-0.019058576201214514, pvalue=0.46241676493948725)\n",
      " \n",
      "KIR2DS4 num_neoantigens10 SpearmanrResult(correlation=0.066858333600452166, pvalue=0.0098622700392538201)\n",
      "KIR2DS4 total_presented_peptides SpearmanrResult(correlation=0.061931554370127803, pvalue=0.016844920780484152)\n",
      "KIR2DS4 mutation_count SpearmanrResult(correlation=0.059048008737199238, pvalue=0.022691239461618284)\n",
      " \n"
     ]
    }
   ],
   "source": [
    "for gene in genes:\n",
    "    for neo in neoantigen_features:\n",
    "        print gene, neo, sp.spearmanr(df[neo], df[gene])\n",
    "    print ' '"
   ]
  },
  {
   "cell_type": "markdown",
   "metadata": {
    "collapsed": true
   },
   "source": [
    "###Tissue dependent"
   ]
  },
  {
   "cell_type": "markdown",
   "metadata": {},
   "source": [
    "Activating/inhibitory"
   ]
  },
  {
   "cell_type": "code",
   "execution_count": 17,
   "metadata": {
    "collapsed": false
   },
   "outputs": [
    {
     "name": "stdout",
     "output_type": "stream",
     "text": [
      "LUAD\n",
      "num_neoantigens10 SpearmanrResult(correlation=0.014595388838234023, pvalue=0.77729792233659523)\n",
      "total_presented_peptides SpearmanrResult(correlation=0.013147350153889771, pvalue=0.79889445867401909)\n",
      "mutation_count SpearmanrResult(correlation=0.014163485411261452, pvalue=0.78372238326048094)\n",
      " \n",
      "LUSC\n",
      "num_neoantigens10 SpearmanrResult(correlation=-0.08107775254970416, pvalue=0.44486745187022902)\n",
      "total_presented_peptides SpearmanrResult(correlation=-0.20738774246585234, pvalue=0.048551886042005943)\n",
      "mutation_count SpearmanrResult(correlation=-0.22452389601860745, pvalue=0.032386214063309306)\n",
      " \n",
      "HNSC\n",
      "num_neoantigens10 SpearmanrResult(correlation=0.040109989576911288, pvalue=0.44362636519730392)\n",
      "total_presented_peptides SpearmanrResult(correlation=0.0058458692159323051, pvalue=0.91113291396439822)\n",
      "mutation_count SpearmanrResult(correlation=0.0031459748239349222, pvalue=0.95210564924638685)\n",
      " \n",
      "THCA\n",
      "num_neoantigens10 SpearmanrResult(correlation=-0.0095952583022967559, pvalue=0.88875706453905401)\n",
      "total_presented_peptides SpearmanrResult(correlation=-0.04704386091286928, pvalue=0.49261398011010638)\n",
      "mutation_count SpearmanrResult(correlation=0.013290205881229191, pvalue=0.84637539384848393)\n",
      " \n",
      "BLCA\n",
      "num_neoantigens10 SpearmanrResult(correlation=0.024415399584430855, pvalue=0.73277929310469747)\n",
      "total_presented_peptides SpearmanrResult(correlation=0.028795228750133968, pvalue=0.68716682631999948)\n",
      "mutation_count SpearmanrResult(correlation=0.027480765978046703, pvalue=0.70074653673200837)\n",
      " \n",
      "LGG\n",
      "num_neoantigens10 SpearmanrResult(correlation=0.018134469745990155, pvalue=0.77986555274079383)\n",
      "total_presented_peptides SpearmanrResult(correlation=0.017461595820915797, pvalue=0.78783573504313065)\n",
      "mutation_count SpearmanrResult(correlation=0.021162961211351219, pvalue=0.74428814456451931)\n",
      " \n"
     ]
    }
   ],
   "source": [
    "for tissue in df.tissue.unique():\n",
    "    print tissue\n",
    "    t = df.tissue == tissue\n",
    "    for neo in neoantigen_features:\n",
    "        print neo, sp.spearmanr(df[t][neo], df[t].inhibitory)\n",
    "    print ' '"
   ]
  },
  {
   "cell_type": "code",
   "execution_count": 18,
   "metadata": {
    "collapsed": false
   },
   "outputs": [
    {
     "name": "stdout",
     "output_type": "stream",
     "text": [
      "LUAD\n",
      "num_neoantigens10 SpearmanrResult(correlation=0.0022315678707621627, pvalue=0.96550782901499899)\n",
      "total_presented_peptides SpearmanrResult(correlation=-0.0058260310635034245, pvalue=0.91011237067171824)\n",
      "mutation_count SpearmanrResult(correlation=-0.0048893107174290528, pvalue=0.92451753039006102)\n",
      " \n",
      "LUSC\n",
      "num_neoantigens10 SpearmanrResult(correlation=-0.1046517034415126, pvalue=0.3235312993172359)\n",
      "total_presented_peptides SpearmanrResult(correlation=-0.065182200835014789, pvalue=0.53931033068339196)\n",
      "mutation_count SpearmanrResult(correlation=-0.080598691487953789, pvalue=0.44757107522641992)\n",
      " \n",
      "HNSC\n",
      "num_neoantigens10 SpearmanrResult(correlation=-0.059155582691542696, pvalue=0.25831523320778904)\n",
      "total_presented_peptides SpearmanrResult(correlation=-0.075067259173563092, pvalue=0.15122963494358971)\n",
      "mutation_count SpearmanrResult(correlation=-0.075735193860440031, pvalue=0.14761467733416347)\n",
      " \n",
      "THCA\n",
      "num_neoantigens10 SpearmanrResult(correlation=0.02713455902921259, pvalue=0.69238229230198889)\n",
      "total_presented_peptides SpearmanrResult(correlation=-0.0717687352877691, pvalue=0.29484458357317017)\n",
      "mutation_count SpearmanrResult(correlation=0.001515228807046475, pvalue=0.98237767183609304)\n",
      " \n",
      "BLCA\n",
      "num_neoantigens10 SpearmanrResult(correlation=-0.068162694641740892, pvalue=0.33999678750190931)\n",
      "total_presented_peptides SpearmanrResult(correlation=0.021688614938679771, pvalue=0.76166943968515677)\n",
      "mutation_count SpearmanrResult(correlation=0.058467945909939721, pvalue=0.41323837053712364)\n",
      " \n",
      "LGG\n",
      "num_neoantigens10 SpearmanrResult(correlation=-0.038074524157887465, pvalue=0.55721621771790131)\n",
      "total_presented_peptides SpearmanrResult(correlation=-0.0040354679950522741, pvalue=0.95041068120946393)\n",
      "mutation_count SpearmanrResult(correlation=0.032929218552563519, pvalue=0.61172575460957135)\n",
      " \n"
     ]
    }
   ],
   "source": [
    "for tissue in df.tissue.unique():\n",
    "    print tissue\n",
    "    t = df.tissue == tissue\n",
    "    for neo in neoantigen_features:\n",
    "        print neo, sp.spearmanr(df[t][neo], df[t].activating)\n",
    "    print ' '"
   ]
  },
  {
   "cell_type": "code",
   "execution_count": 19,
   "metadata": {
    "collapsed": false,
    "scrolled": true
   },
   "outputs": [
    {
     "name": "stdout",
     "output_type": "stream",
     "text": [
      "LUAD\n",
      "num_neoantigens10 KIR3DL3 SpearmanrResult(correlation=-0.08039850838012419, pvalue=0.11864749999830823)\n",
      "num_neoantigens10 KIR3DP1 SpearmanrResult(correlation=0.026131253846914664, pvalue=0.61253831585362484)\n",
      "num_neoantigens10 KIR2DL4 SpearmanrResult(correlation=0.087940793113112314, pvalue=0.087745661903752076)\n",
      "num_neoantigens10 KIR3DL2 SpearmanrResult(correlation=0.018696886049945599, pvalue=0.71710038116184927)\n",
      "num_neoantigens10 KIR2DS2 SpearmanrResult(correlation=-0.049433288699845229, pvalue=0.33781269868728647)\n",
      "num_neoantigens10 KIR2DS3 SpearmanrResult(correlation=-0.048233345913174311, pvalue=0.34968418699934822)\n",
      "num_neoantigens10 KIR2DP1 SpearmanrResult(correlation=-0.0072485830403427529, pvalue=0.88829366102689966)\n",
      "num_neoantigens10 KIR2DL1 SpearmanrResult(correlation=-0.0077816009038715822, pvalue=0.8801391422274365)\n",
      "num_neoantigens10 KIR3DS1 SpearmanrResult(correlation=-0.019960278251986145, pvalue=0.69888544214374426)\n",
      "num_neoantigens10 KIR2DS5 SpearmanrResult(correlation=-0.017988114700903501, pvalue=0.72739048805905449)\n",
      "num_neoantigens10 KIR2DS4 SpearmanrResult(correlation=0.079877100699506778, pvalue=0.121064003832208)\n",
      "total_presented_peptides KIR3DL3 SpearmanrResult(correlation=-0.078736119141736241, pvalue=0.12648563609974586)\n",
      "total_presented_peptides KIR3DP1 SpearmanrResult(correlation=0.010776097488134483, pvalue=0.83458605701950717)\n",
      "total_presented_peptides KIR2DL4 SpearmanrResult(correlation=0.089644065128902536, pvalue=0.081751355231260814)\n",
      "total_presented_peptides KIR3DL2 SpearmanrResult(correlation=0.027781246938530502, pvalue=0.59027038668879417)\n",
      "total_presented_peptides KIR2DS2 SpearmanrResult(correlation=-0.047288695407932228, pvalue=0.35921319097182358)\n",
      "total_presented_peptides KIR2DS3 SpearmanrResult(correlation=-0.057648575100648872, pvalue=0.26355231909864307)\n",
      "total_presented_peptides KIR2DP1 SpearmanrResult(correlation=-0.016204314556494466, pvalue=0.75350198387565537)\n",
      "total_presented_peptides KIR2DL1 SpearmanrResult(correlation=-0.012897437444921517, pvalue=0.80263780206292212)\n",
      "total_presented_peptides KIR3DS1 SpearmanrResult(correlation=-0.025142807597222101, pvalue=0.62605274949672474)\n",
      "total_presented_peptides KIR2DS5 SpearmanrResult(correlation=-0.02241693646166865, pvalue=0.66396445118538949)\n",
      "total_presented_peptides KIR2DS4 SpearmanrResult(correlation=0.083855457621049456, pvalue=0.10356624320449311)\n",
      "mutation_count KIR3DL3 SpearmanrResult(correlation=-0.087295750993457502, pvalue=0.090105941907571582)\n",
      "mutation_count KIR3DP1 SpearmanrResult(correlation=0.0043349765990308405, pvalue=0.93305417494567156)\n",
      "mutation_count KIR2DL4 SpearmanrResult(correlation=0.088973776732604787, pvalue=0.084069570198335664)\n",
      "mutation_count KIR3DL2 SpearmanrResult(correlation=0.031694497996947665, pvalue=0.53900059680686863)\n",
      "mutation_count KIR2DS2 SpearmanrResult(correlation=-0.040180462246165831, pvalue=0.43602400753430182)\n",
      "mutation_count KIR2DS3 SpearmanrResult(correlation=-0.053515144069293114, pvalue=0.29938590208771698)\n",
      "mutation_count KIR2DP1 SpearmanrResult(correlation=-0.01987618486192572, pvalue=0.70009264570428287)\n",
      "mutation_count KIR2DL1 SpearmanrResult(correlation=-0.016783283122017795, pvalue=0.74499449240042936)\n",
      "mutation_count KIR3DS1 SpearmanrResult(correlation=-0.030052087548051439, pvalue=0.56024620441991035)\n",
      "mutation_count KIR2DS5 SpearmanrResult(correlation=-0.020861955642412489, pvalue=0.6859895845969779)\n",
      "mutation_count KIR2DS4 SpearmanrResult(correlation=0.084876649904114768, pvalue=0.099414284984999463)\n",
      " \n",
      "LUSC\n",
      "num_neoantigens10 KIR3DL3 SpearmanrResult(correlation=0.11976809428608771, pvalue=0.25814067260265894)\n",
      "num_neoantigens10 KIR3DP1 SpearmanrResult(correlation=-0.025238487196111877, pvalue=0.81229265212150392)\n",
      "num_neoantigens10 KIR2DL4 SpearmanrResult(correlation=-0.047435967533446831, pvalue=0.65523153186136529)\n",
      "num_neoantigens10 KIR3DL2 SpearmanrResult(correlation=-0.19976390819381132, pvalue=0.057634734589323507)\n",
      "num_neoantigens10 KIR2DS2 SpearmanrResult(correlation=-0.0058245579011167257, pvalue=0.95630170109358448)\n",
      "num_neoantigens10 KIR2DS3 SpearmanrResult(correlation=0.018370206448161348, pvalue=0.86278296342433969)\n",
      "num_neoantigens10 KIR2DP1 SpearmanrResult(correlation=0.11615717228502086, pvalue=0.27287425147187705)\n",
      "num_neoantigens10 KIR2DL1 SpearmanrResult(correlation=0.016295343214307308, pvalue=0.8781546529701294)\n",
      "num_neoantigens10 KIR3DS1 SpearmanrResult(correlation=-0.079164820099374741, pvalue=0.45571787764079341)\n",
      "num_neoantigens10 KIR2DS5 SpearmanrResult(correlation=-0.15309142278232657, pvalue=0.14740295871387091)\n",
      "num_neoantigens10 KIR2DS4 SpearmanrResult(correlation=0.067186931252977658, pvalue=0.52687859515686153)\n",
      "total_presented_peptides KIR3DL3 SpearmanrResult(correlation=0.12053754648453345, pvalue=0.25507254239630972)\n",
      "total_presented_peptides KIR3DP1 SpearmanrResult(correlation=0.070171694775829005, pvalue=0.50863980372966477)\n",
      "total_presented_peptides KIR2DL4 SpearmanrResult(correlation=-0.0048760472559189229, pvalue=0.96341244698152739)\n",
      "total_presented_peptides KIR3DL2 SpearmanrResult(correlation=-0.22688406168185382, pvalue=0.030563914848637529)\n",
      "total_presented_peptides KIR2DS2 SpearmanrResult(correlation=0.048614527878454911, pvalue=0.6472305669129681)\n",
      "total_presented_peptides KIR2DS3 SpearmanrResult(correlation=0.0069843785349146762, pvalue=0.94761151698915747)\n",
      "total_presented_peptides KIR2DP1 SpearmanrResult(correlation=-0.051567801164718367, pvalue=0.62735834169505933)\n",
      "total_presented_peptides KIR2DL1 SpearmanrResult(correlation=-0.15022354256294951, pvalue=0.15522649519616533)\n",
      "total_presented_peptides KIR3DS1 SpearmanrResult(correlation=-0.057524873956677748, pvalue=0.58808357566350411)\n",
      "total_presented_peptides KIR2DS5 SpearmanrResult(correlation=-0.15161095652313536, pvalue=0.15140381150374801)\n",
      "total_presented_peptides KIR2DS4 SpearmanrResult(correlation=0.052027825667693504, pvalue=0.62428620334470097)\n",
      "mutation_count KIR3DL3 SpearmanrResult(correlation=0.098625556291072877, pvalue=0.35232338831268439)\n",
      "mutation_count KIR3DP1 SpearmanrResult(correlation=0.07554267591051865, pvalue=0.47665852579129009)\n",
      "mutation_count KIR2DL4 SpearmanrResult(correlation=-0.0030072719240187484, pvalue=0.97743003351473767)\n",
      "mutation_count KIR3DL2 SpearmanrResult(correlation=-0.21849199408668932, pvalue=0.037463355132043581)\n",
      "mutation_count KIR2DS2 SpearmanrResult(correlation=0.049055048654726846, pvalue=0.64425017328264889)\n",
      "mutation_count KIR2DS3 SpearmanrResult(correlation=0.013244589564413272, pvalue=0.90083690565094687)\n",
      "mutation_count KIR2DP1 SpearmanrResult(correlation=-0.075027158125135787, pvalue=0.47968041578515563)\n",
      "mutation_count KIR2DL1 SpearmanrResult(correlation=-0.16749502379275485, pvalue=0.11252489674102005)\n",
      "mutation_count KIR3DS1 SpearmanrResult(correlation=-0.077450443908548036, pvalue=0.46556515652725416)\n",
      "mutation_count KIR2DS5 SpearmanrResult(correlation=-0.16811628447032786, pvalue=0.11117876678472476)\n",
      "mutation_count KIR2DS4 SpearmanrResult(correlation=0.059409483318700433, pvalue=0.57589530953836277)\n",
      " \n",
      "HNSC\n",
      "num_neoantigens10 KIR3DL3 SpearmanrResult(correlation=-0.036281040320811413, pvalue=0.48837113924329478)\n",
      "num_neoantigens10 KIR3DP1 SpearmanrResult(correlation=0.026703398057726025, pvalue=0.61011498249352947)\n",
      "num_neoantigens10 KIR2DL4 SpearmanrResult(correlation=0.080406388984801416, pvalue=0.12414630283141342)\n",
      "num_neoantigens10 KIR3DL2 SpearmanrResult(correlation=-0.026152449434172893, pvalue=0.61750806651946732)\n",
      "num_neoantigens10 KIR2DS2 SpearmanrResult(correlation=-0.096829917589595416, pvalue=0.063879095043383557)\n",
      "num_neoantigens10 KIR2DS3 SpearmanrResult(correlation=-0.00048995072621301448, pvalue=0.99253662728385283)\n",
      "num_neoantigens10 KIR2DP1 SpearmanrResult(correlation=0.082531026891616552, pvalue=0.1144812888944917)\n",
      "num_neoantigens10 KIR2DL1 SpearmanrResult(correlation=0.10768612710686239, pvalue=0.039214274574308233)\n",
      "num_neoantigens10 KIR3DS1 SpearmanrResult(correlation=-0.033653986518338057, pvalue=0.52041854781669517)\n",
      "num_neoantigens10 KIR2DS5 SpearmanrResult(correlation=-0.047875304580321389, pvalue=0.36042546572553202)\n",
      "num_neoantigens10 KIR2DS4 SpearmanrResult(correlation=0.036936076822713423, pvalue=0.48054868987595811)\n",
      "total_presented_peptides KIR3DL3 SpearmanrResult(correlation=-0.017939523599538997, pvalue=0.73195431648394149)\n",
      "total_presented_peptides KIR3DP1 SpearmanrResult(correlation=0.018761280425759828, pvalue=0.72017877582048118)\n",
      "total_presented_peptides KIR2DL4 SpearmanrResult(correlation=0.070628333847478242, pvalue=0.17697907051939019)\n",
      "total_presented_peptides KIR3DL2 SpearmanrResult(correlation=-0.050635768035981611, pvalue=0.33336745043325366)\n",
      "total_presented_peptides KIR2DS2 SpearmanrResult(correlation=-0.11118346732613216, pvalue=0.033228732235286038)\n",
      "total_presented_peptides KIR2DS3 SpearmanrResult(correlation=-0.049274845682124639, pvalue=0.34653989425039888)\n",
      "total_presented_peptides KIR2DP1 SpearmanrResult(correlation=0.093050957645461826, pvalue=0.075013243877438865)\n",
      "total_presented_peptides KIR2DL1 SpearmanrResult(correlation=0.099485469532369086, pvalue=0.056898207297122305)\n",
      "total_presented_peptides KIR3DS1 SpearmanrResult(correlation=-0.039063470810493717, pvalue=0.4556188594787185)\n",
      "total_presented_peptides KIR2DS5 SpearmanrResult(correlation=-0.0024394209454069358, pvalue=0.96285336766731855)\n",
      "total_presented_peptides KIR2DS4 SpearmanrResult(correlation=0.031378619095456681, pvalue=0.54902299562241286)\n",
      "mutation_count KIR3DL3 SpearmanrResult(correlation=-0.018970239863600351, pvalue=0.7171948307399465)\n",
      "mutation_count KIR3DP1 SpearmanrResult(correlation=0.017393718469768834, pvalue=0.73981063729090935)\n",
      "mutation_count KIR2DL4 SpearmanrResult(correlation=0.075758123611192524, pvalue=0.14749175628986863)\n",
      "mutation_count KIR3DL2 SpearmanrResult(correlation=-0.052718397153395491, pvalue=0.31384132373925222)\n",
      "mutation_count KIR2DS2 SpearmanrResult(correlation=-0.12171615293033575, pvalue=0.019675976876636907)\n",
      "mutation_count KIR2DS3 SpearmanrResult(correlation=-0.067214774714455638, pvalue=0.19889346842545985)\n",
      "mutation_count KIR2DP1 SpearmanrResult(correlation=0.10302765527163897, pvalue=0.048581751634668414)\n",
      "mutation_count KIR2DL1 SpearmanrResult(correlation=0.098903671499877457, pvalue=0.05837095375941434)\n",
      "mutation_count KIR3DS1 SpearmanrResult(correlation=-0.030317559996713875, pvalue=0.56262109862348963)\n",
      "mutation_count KIR2DS5 SpearmanrResult(correlation=0.011374602172047719, pvalue=0.82807609446321528)\n",
      "mutation_count KIR2DS4 SpearmanrResult(correlation=0.031416244683007598, pvalue=0.54854378222681976)\n",
      " \n",
      "THCA\n",
      "num_neoantigens10 KIR3DL3 SpearmanrResult(correlation=-0.071105593485586788, pvalue=0.29934037433598382)\n",
      "num_neoantigens10 KIR3DP1 SpearmanrResult(correlation=-0.16066809785699021, pvalue=0.018400473016358873)\n",
      "num_neoantigens10 KIR2DL4 SpearmanrResult(correlation=-0.20377947468730895, pvalue=0.0026808872915142601)\n",
      "num_neoantigens10 KIR3DL2 SpearmanrResult(correlation=0.11486672042309452, pvalue=0.092952745615822063)\n",
      "num_neoantigens10 KIR2DS2 SpearmanrResult(correlation=-0.0088876197848616247, pvalue=0.8969138021765114)\n",
      "num_neoantigens10 KIR2DS3 SpearmanrResult(correlation=-0.045340318226573764, pvalue=0.50843010666348998)\n",
      "num_neoantigens10 KIR2DP1 SpearmanrResult(correlation=0.039379230115235433, pvalue=0.56578537261117157)\n",
      "num_neoantigens10 KIR2DL1 SpearmanrResult(correlation=-0.010169308126813761, pvalue=0.88214870449689231)\n",
      "num_neoantigens10 KIR3DS1 SpearmanrResult(correlation=0.055129920068662429, pvalue=0.4212452312503705)\n",
      "num_neoantigens10 KIR2DS5 SpearmanrResult(correlation=0.11840496528414708, pvalue=0.083249537429655004)\n",
      "num_neoantigens10 KIR2DS4 SpearmanrResult(correlation=-0.040296773715963227, pvalue=0.55675988632422213)\n",
      "total_presented_peptides KIR3DL3 SpearmanrResult(correlation=-0.019484706067865537, pvalue=0.77636185017495785)\n",
      "total_presented_peptides KIR3DP1 SpearmanrResult(correlation=-0.0018153995512629321, pvalue=0.97888738530118324)\n",
      "total_presented_peptides KIR2DL4 SpearmanrResult(correlation=-0.040042894095511622, pvalue=0.55925020741188702)\n",
      "total_presented_peptides KIR3DL2 SpearmanrResult(correlation=-0.086018539501165558, pvalue=0.20902301761109002)\n",
      "total_presented_peptides KIR2DS2 SpearmanrResult(correlation=-0.066143168392384072, pvalue=0.3344181527563479)\n",
      "total_presented_peptides KIR2DS3 SpearmanrResult(correlation=-0.005070965402402673, pvalue=0.94107247730351462)\n",
      "total_presented_peptides KIR2DP1 SpearmanrResult(correlation=0.096330676559401959, pvalue=0.15927138969218024)\n",
      "total_presented_peptides KIR2DL1 SpearmanrResult(correlation=0.067221388192268416, pvalue=0.32658130157665333)\n",
      "total_presented_peptides KIR3DS1 SpearmanrResult(correlation=-0.04275574922571982, pvalue=0.53292125675209945)\n",
      "total_presented_peptides KIR2DS5 SpearmanrResult(correlation=-0.0012898349111474751, pvalue=0.98499870162937098)\n",
      "total_presented_peptides KIR2DS4 SpearmanrResult(correlation=-0.01323824591491746, pvalue=0.84696862924323979)\n",
      "mutation_count KIR3DL3 SpearmanrResult(correlation=0.00056419504577792927, pvalue=0.99343787443114584)\n",
      "mutation_count KIR3DP1 SpearmanrResult(correlation=0.019443410927743546, pvalue=0.77682333521123159)\n",
      "mutation_count KIR2DL4 SpearmanrResult(correlation=-0.015352380843016322, pvalue=0.82290437882718326)\n",
      "mutation_count KIR3DL2 SpearmanrResult(correlation=-0.10127935192363448, pvalue=0.13882033040608249)\n",
      "mutation_count KIR2DS2 SpearmanrResult(correlation=-0.016416553779308167, pvalue=0.81085218413666493)\n",
      "mutation_count KIR2DS3 SpearmanrResult(correlation=0.090841947667605769, pvalue=0.1845137273339886)\n",
      "mutation_count KIR2DP1 SpearmanrResult(correlation=0.11500294959496005, pvalue=0.092563162915935679)\n",
      "mutation_count KIR2DL1 SpearmanrResult(correlation=0.099461215912548001, pvalue=0.14608707688596528)\n",
      "mutation_count KIR3DS1 SpearmanrResult(correlation=0.0033729221632969359, pvalue=0.96078495436291189)\n",
      "mutation_count KIR2DS5 SpearmanrResult(correlation=0.02116050366398398, pvalue=0.75770214650191214)\n",
      "mutation_count KIR2DS4 SpearmanrResult(correlation=-0.042397439733246001, pvalue=0.53636273724431871)\n",
      " \n",
      "BLCA\n",
      "num_neoantigens10 KIR3DL3 SpearmanrResult(correlation=-0.043894727270187513, pvalue=0.53918961052245962)\n",
      "num_neoantigens10 KIR3DP1 SpearmanrResult(correlation=0.007429113978717569, pvalue=0.91726739456738915)\n",
      "num_neoantigens10 KIR2DL4 SpearmanrResult(correlation=0.061071128117522092, pvalue=0.39271498563046658)\n",
      "num_neoantigens10 KIR3DL2 SpearmanrResult(correlation=-0.022740247227050907, pvalue=0.75048586196996048)\n",
      "num_neoantigens10 KIR2DS2 SpearmanrResult(correlation=-0.022808905496807662, pvalue=0.7497574936282142)\n",
      "num_neoantigens10 KIR2DS3 SpearmanrResult(correlation=0.0082036769059343085, pvalue=0.90867735957996665)\n",
      "num_neoantigens10 KIR2DP1 SpearmanrResult(correlation=-0.0011702025860418376, pvalue=0.98694562820754395)\n",
      "num_neoantigens10 KIR2DL1 SpearmanrResult(correlation=0.014120963466588202, pvalue=0.84347435829145623)\n",
      "num_neoantigens10 KIR3DS1 SpearmanrResult(correlation=-0.095419226126727139, pvalue=0.18115098013723954)\n",
      "num_neoantigens10 KIR2DS5 SpearmanrResult(correlation=-0.02913656700139498, pvalue=0.68365657052079043)\n",
      "num_neoantigens10 KIR2DS4 SpearmanrResult(correlation=0.080666249174709798, pvalue=0.25858999951425499)\n",
      "total_presented_peptides KIR3DL3 SpearmanrResult(correlation=-0.057156783585158147, pvalue=0.42380981434863363)\n",
      "total_presented_peptides KIR3DP1 SpearmanrResult(correlation=-0.0057268783069520761, pvalue=0.93617780236959447)\n",
      "total_presented_peptides KIR2DL4 SpearmanrResult(correlation=0.032200633108202113, pvalue=0.65245733715636955)\n",
      "total_presented_peptides KIR3DL2 SpearmanrResult(correlation=-0.001905922902941448, pvalue=0.97873974472259695)\n",
      "total_presented_peptides KIR2DS2 SpearmanrResult(correlation=0.037912054956479077, pvalue=0.59591579314257315)\n",
      "total_presented_peptides KIR2DS3 SpearmanrResult(correlation=0.035189977448414213, pvalue=0.62258914184809244)\n",
      "total_presented_peptides KIR2DP1 SpearmanrResult(correlation=-0.052325599606449058, pvalue=0.46409144740817043)\n",
      "total_presented_peptides KIR2DL1 SpearmanrResult(correlation=-0.039123213274886985, pvalue=0.58421633735950596)\n",
      "total_presented_peptides KIR3DS1 SpearmanrResult(correlation=-0.024901811494732501, pvalue=0.7276637128270631)\n",
      "total_presented_peptides KIR2DS5 SpearmanrResult(correlation=0.030575545805409138, pvalue=0.66893362097431575)\n",
      "total_presented_peptides KIR2DS4 SpearmanrResult(correlation=0.031879349216547219, pvalue=0.6557017425216507)\n",
      "mutation_count KIR3DL3 SpearmanrResult(correlation=-0.058412284891210149, pvalue=0.41368397181828376)\n",
      "mutation_count KIR3DP1 SpearmanrResult(correlation=-0.022271615208967026, pvalue=0.75546325790838831)\n",
      "mutation_count KIR2DL4 SpearmanrResult(correlation=0.00080762500834904224, pvalue=0.99099020826908379)\n",
      "mutation_count KIR3DL2 SpearmanrResult(correlation=0.017718539729351834, pvalue=0.80431792891835141)\n",
      "mutation_count KIR2DS2 SpearmanrResult(correlation=0.074853904985645495, pvalue=0.29459713200734833)\n",
      "mutation_count KIR2DS3 SpearmanrResult(correlation=0.041310410787843505, pvalue=0.56336181539013475)\n",
      "mutation_count KIR2DP1 SpearmanrResult(correlation=-0.082345713025640283, pvalue=0.24877483267321665)\n",
      "mutation_count KIR2DL1 SpearmanrResult(correlation=-0.066237993865619196, pvalue=0.35383901769520487)\n",
      "mutation_count KIR3DS1 SpearmanrResult(correlation=-0.0044908575938889077, pvalue=0.94993199253586358)\n",
      "mutation_count KIR2DS5 SpearmanrResult(correlation=0.059940012534544826, pvalue=0.40155625592697419)\n",
      "mutation_count KIR2DS4 SpearmanrResult(correlation=0.019851798771268844, pvalue=0.78132075365560505)\n",
      " \n",
      "LGG\n",
      "num_neoantigens10 KIR3DL3 SpearmanrResult(correlation=0.035242301489027621, pvalue=0.58693031473115775)\n",
      "num_neoantigens10 KIR3DP1 SpearmanrResult(correlation=0.029952032434419344, pvalue=0.64429937944266735)\n",
      "num_neoantigens10 KIR2DL4 SpearmanrResult(correlation=0.04395805340180188, pvalue=0.4979190797240598)\n",
      "num_neoantigens10 KIR3DL2 SpearmanrResult(correlation=-0.045230041592637875, pvalue=0.48555278783407252)\n",
      "num_neoantigens10 KIR2DS2 SpearmanrResult(correlation=0.023166671584909839, pvalue=0.72103886642939474)\n",
      "num_neoantigens10 KIR2DS3 SpearmanrResult(correlation=0.04527467330740171, pvalue=0.48512189778212367)\n",
      "num_neoantigens10 KIR2DP1 SpearmanrResult(correlation=0.02373450718475591, pvalue=0.71449546021467203)\n",
      "num_neoantigens10 KIR2DL1 SpearmanrResult(correlation=0.01500700621961812, pvalue=0.81709201482048854)\n",
      "num_neoantigens10 KIR3DS1 SpearmanrResult(correlation=-0.071674344578589372, pvalue=0.26872646321262961)\n",
      "num_neoantigens10 KIR2DS5 SpearmanrResult(correlation=-0.063508681591361346, pvalue=0.32722187945405667)\n",
      "num_neoantigens10 KIR2DS4 SpearmanrResult(correlation=0.0034129127684817632, pvalue=0.95805322273021654)\n",
      "total_presented_peptides KIR3DL3 SpearmanrResult(correlation=0.041936480308349053, pvalue=0.51791040657037479)\n",
      "total_presented_peptides KIR3DP1 SpearmanrResult(correlation=0.045434938087585301, pvalue=0.48357634352460244)\n",
      "total_presented_peptides KIR2DL4 SpearmanrResult(correlation=0.072166424240817192, pvalue=0.26544517699634751)\n",
      "total_presented_peptides KIR3DL2 SpearmanrResult(correlation=-0.10910213020360622, pvalue=0.091715628381121309)\n",
      "total_presented_peptides KIR2DS2 SpearmanrResult(correlation=0.0070270036253397101, pvalue=0.91376180276744523)\n",
      "total_presented_peptides KIR2DS3 SpearmanrResult(correlation=0.034691833886340992, pvalue=0.59278907416228988)\n",
      "total_presented_peptides KIR2DP1 SpearmanrResult(correlation=0.083915443938603548, pvalue=0.1951438490859092)\n",
      "total_presented_peptides KIR2DL1 SpearmanrResult(correlation=0.10053637974516628, pvalue=0.12034922538416161)\n",
      "total_presented_peptides KIR3DS1 SpearmanrResult(correlation=-0.0018047344444298559, pvalue=0.97781139384123017)\n",
      "total_presented_peptides KIR2DS5 SpearmanrResult(correlation=0.038978493990293135, pvalue=0.54788792069466252)\n",
      "total_presented_peptides KIR2DS4 SpearmanrResult(correlation=-0.10492847715202219, pvalue=0.10490241634657561)\n",
      "mutation_count KIR3DL3 SpearmanrResult(correlation=0.028156729079147597, pvalue=0.6642805334086137)\n",
      "mutation_count KIR3DP1 SpearmanrResult(correlation=0.076122010775753521, pvalue=0.24006447371178308)\n",
      "mutation_count KIR2DL4 SpearmanrResult(correlation=0.10407845351545215, pvalue=0.10776307074440342)\n",
      "mutation_count KIR3DL2 SpearmanrResult(correlation=-0.10256670940683058, pvalue=0.1130019328390038)\n",
      "mutation_count KIR2DS2 SpearmanrResult(correlation=0.038283977959303966, pvalue=0.5550479850374227)\n",
      "mutation_count KIR2DS3 SpearmanrResult(correlation=0.045153067609291525, pvalue=0.48629640472070368)\n",
      "mutation_count KIR2DP1 SpearmanrResult(correlation=0.078978516168505861, pvalue=0.22282629795376882)\n",
      "mutation_count KIR2DL1 SpearmanrResult(correlation=0.10659712291583059, pvalue=0.099461252269624517)\n",
      "mutation_count KIR3DS1 SpearmanrResult(correlation=0.023686511117153763, pvalue=0.71504774054542819)\n",
      "mutation_count KIR2DS5 SpearmanrResult(correlation=0.082972966330643147, pvalue=0.20022509198882366)\n",
      "mutation_count KIR2DS4 SpearmanrResult(correlation=-0.14365276129123219, pvalue=0.026054733647701681)\n",
      " \n"
     ]
    }
   ],
   "source": [
    "for tissue in df.tissue.unique():\n",
    "    print tissue\n",
    "    t = df.tissue == tissue\n",
    "    for neo in neoantigen_features:\n",
    "        for gene in genes:\n",
    "            print neo, gene, sp.spearmanr(df[t][neo], df[t][gene])\n",
    "    print ' '"
   ]
  },
  {
   "cell_type": "markdown",
   "metadata": {
    "collapsed": true
   },
   "source": [
    "### KIR/MHC combinations"
   ]
  },
  {
   "cell_type": "code",
   "execution_count": 11,
   "metadata": {
    "collapsed": true
   },
   "outputs": [],
   "source": [
    "hla_a = [x.split(',')[1:3] for x in open('/cellar/users/ramarty/Data/kir/biological/combinations.hla_a.csv').readlines()[1:]]\n",
    "hla_b = [x.split(',')[1:3] for x in open('/cellar/users/ramarty/Data/kir/biological/combinations.hla_b.csv').readlines()[1:]]\n",
    "hla_c = [x.split(',')[1:3] for x in open('/cellar/users/ramarty/Data/kir/biological/combinations.hla_c.csv').readlines()[1:]]"
   ]
  },
  {
   "cell_type": "code",
   "execution_count": 15,
   "metadata": {
    "collapsed": false
   },
   "outputs": [
    {
     "name": "stdout",
     "output_type": "stream",
     "text": [
      "total_presented_peptides KIR2DS4 A*02 A*02 Ttest_indResult(statistic=2.095473679693669, pvalue=0.038556853072887781)\n",
      "mutation_count KIR2DS4 A*02 A*02 Ttest_indResult(statistic=2.0604112924790989, pvalue=0.041855286536953341)\n",
      "219\n"
     ]
    }
   ],
   "source": [
    "predicted_total = 100 # update\n",
    "total = 0\n",
    "for gene in genes:\n",
    "    for hla1, hla2 in hla_a:\n",
    "        for neo in neoantigen_features:\n",
    "            h = (df.A1 == hla1)&(df.A2 == hla2)\n",
    "            k = df[gene] > 1\n",
    "            if len(df[k&h][neo]) > 5 and len(df[~k&h][neo]) > 5:\n",
    "                total += 1\n",
    "                if (sp.ttest_ind(df[k&h][neo], df[~k&h][neo])[1]) < 0.05:\n",
    "                    print neo, gene, hla1, hla2, sp.ttest_ind(df[k&h][neo], df[~k&h][neo])\n",
    "print total"
   ]
  },
  {
   "cell_type": "code",
   "execution_count": 17,
   "metadata": {
    "collapsed": false
   },
   "outputs": [
    {
     "name": "stdout",
     "output_type": "stream",
     "text": [
      "135\n"
     ]
    }
   ],
   "source": [
    "predicted_total = 100 # update\n",
    "total = 0\n",
    "for gene in genes:\n",
    "    for hla1, hla2 in hla_b:\n",
    "        for neo in neoantigen_features:\n",
    "            h = (df.B1 == hla1)&(df.B2 == hla2)\n",
    "            k = df[gene] > 1\n",
    "            if len(df[k&h][neo]) > 5 and len(df[~k&h][neo]) > 5:\n",
    "                total += 1\n",
    "                if (sp.ttest_ind(df[k&h][neo], df[~k&h][neo])[1]) < 0.05:\n",
    "                    print neo, gene, hla1, hla2, sp.ttest_ind(df[k&h][neo], df[~k&h][neo])\n",
    "print total"
   ]
  },
  {
   "cell_type": "code",
   "execution_count": 18,
   "metadata": {
    "collapsed": false
   },
   "outputs": [
    {
     "name": "stdout",
     "output_type": "stream",
     "text": [
      "num_neoantigens10 KIR3DL2 C*07 C*07 Ttest_indResult(statistic=-2.4057434649648255, pvalue=0.017309720856048507)\n",
      "total_presented_peptides KIR3DL2 C*07 C*07 Ttest_indResult(statistic=-2.3532452568955433, pvalue=0.019857538165528477)\n",
      "mutation_count KIR3DL2 C*07 C*07 Ttest_indResult(statistic=-2.3467118607305015, pvalue=0.020196691395797217)\n",
      "num_neoantigens10 KIR3DL2 C*07 C*12 Ttest_indResult(statistic=-2.6646505829320692, pvalue=0.010240062808754342)\n",
      "total_presented_peptides KIR3DL2 C*07 C*12 Ttest_indResult(statistic=-2.5919630311058834, pvalue=0.012359652205709703)\n",
      "mutation_count KIR3DL2 C*07 C*12 Ttest_indResult(statistic=-2.5318682058975024, pvalue=0.014406023655204421)\n",
      "mutation_count KIR2DP1 C*03 C*06 Ttest_indResult(statistic=2.0591647147075123, pvalue=0.045867938636460222)\n",
      "total_presented_peptides KIR2DP1 C*04 C*06 Ttest_indResult(statistic=-2.2428141793563734, pvalue=0.031964252154628732)\n",
      "mutation_count KIR2DP1 C*04 C*06 Ttest_indResult(statistic=-2.2497951406182239, pvalue=0.031470815946369565)\n",
      "total_presented_peptides KIR2DL1 C*04 C*06 Ttest_indResult(statistic=-2.2428141793563734, pvalue=0.031964252154628732)\n",
      "mutation_count KIR2DL1 C*04 C*06 Ttest_indResult(statistic=-2.2497951406182239, pvalue=0.031470815946369565)\n",
      "num_neoantigens10 KIR2DS4 C*05 C*07 Ttest_indResult(statistic=2.6633409319328729, pvalue=0.0095935192515893518)\n",
      "total_presented_peptides KIR2DS4 C*05 C*07 Ttest_indResult(statistic=2.5398446178267795, pvalue=0.013312756723116546)\n",
      "mutation_count KIR2DS4 C*05 C*07 Ttest_indResult(statistic=2.5185137343086992, pvalue=0.014073537658261859)\n",
      "num_neoantigens10 KIR2DS4 C*04 C*12 Ttest_indResult(statistic=2.3704210559156356, pvalue=0.026530742502454796)\n",
      "total_presented_peptides KIR2DS4 C*04 C*12 Ttest_indResult(statistic=2.1539531572083281, pvalue=0.041959205819867534)\n",
      "234\n"
     ]
    }
   ],
   "source": [
    "predicted_total = 100 # update\n",
    "total = 0\n",
    "for gene in genes:\n",
    "    for hla1, hla2 in hla_c:\n",
    "        for neo in neoantigen_features:\n",
    "            h = (df.C1 == hla1)&(df.C2 == hla2)\n",
    "            k = df[gene] > 1\n",
    "            if len(df[k&h][neo]) > 5 and len(df[~k&h][neo]) > 5:\n",
    "                total += 1\n",
    "                if (sp.ttest_ind(df[k&h][neo], df[~k&h][neo])[1]) < 0.05:\n",
    "                    print neo, gene, hla1, hla2, sp.ttest_ind(df[k&h][neo], df[~k&h][neo])\n",
    "print total"
   ]
  },
  {
   "cell_type": "code",
   "execution_count": null,
   "metadata": {
    "collapsed": true
   },
   "outputs": [],
   "source": []
  }
 ],
 "metadata": {
  "kernelspec": {
   "display_name": "Python 2",
   "language": "python",
   "name": "python2"
  },
  "language_info": {
   "codemirror_mode": {
    "name": "ipython",
    "version": 2
   },
   "file_extension": ".py",
   "mimetype": "text/x-python",
   "name": "python",
   "nbconvert_exporter": "python",
   "pygments_lexer": "ipython2",
   "version": "2.7.12"
  }
 },
 "nbformat": 4,
 "nbformat_minor": 0
}
