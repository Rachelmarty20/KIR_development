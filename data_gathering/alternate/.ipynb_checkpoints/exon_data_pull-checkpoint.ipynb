{
 "cells": [
  {
   "cell_type": "code",
   "execution_count": 6,
   "metadata": {
    "collapsed": false
   },
   "outputs": [
    {
     "name": "stdout",
     "output_type": "stream",
     "text": [
      "Populating the interactive namespace from numpy and matplotlib\n",
      "Populating the interactive namespace from numpy and matplotlib\n"
     ]
    },
    {
     "name": "stderr",
     "output_type": "stream",
     "text": [
      "WARNING: pylab import has clobbered these variables: ['sample']\n",
      "`%matplotlib` prevents importing * from pylab and numpy\n"
     ]
    }
   ],
   "source": [
    "import io\n",
    "from IPython.nbformat import current\n",
    "def execute_notebook(nbfile):\n",
    "    with io.open(nbfile) as f:\n",
    "        nb = current.read(f, 'json')\n",
    "    ip = get_ipython()\n",
    "    for cell in nb.worksheets[0].cells:\n",
    "        if cell.cell_type != 'code':\n",
    "            continue\n",
    "        ip.run_cell(cell.input)\n",
    "execute_notebook(\"/cellar/users/ramarty/Projects/kir/KIR_development/bin/imports.ipynb\")\n",
    "execute_notebook(\"/cellar/users/ramarty/Projects/kir/KIR_development/data_gathering/alternate/sample_mapping.ipynb\")"
   ]
  },
  {
   "cell_type": "markdown",
   "metadata": {},
   "source": [
    "###Gathering data from non-cancer, dbgap populations"
   ]
  },
  {
   "cell_type": "code",
   "execution_count": 7,
   "metadata": {
    "collapsed": false
   },
   "outputs": [
    {
     "data": {
      "text/plain": [
       "10"
      ]
     },
     "execution_count": 7,
     "metadata": {},
     "output_type": "execute_result"
    }
   ],
   "source": [
    "len(population_dictionary)"
   ]
  },
  {
   "cell_type": "code",
   "execution_count": 8,
   "metadata": {
    "collapsed": false
   },
   "outputs": [
    {
     "data": {
      "text/plain": [
       "['2017_dbGap_phs000254.v2.p1_NHLBILungCF',\n",
       " '2017_dbGap_phs000632.v1.p1_NHLBIFamHC',\n",
       " '2017_dbGap_phs000362.v1.p1_NHLBIFamFAF',\n",
       " '2017_dbGap_phs000209.v13.p3_MESA',\n",
       " '2017_dbGap_phs000290.v1.p1_NHLBILungPAH',\n",
       " '2017_dbGap_phs000179.v5.p2_GenEpidCOPD',\n",
       " '2017_dbGap_phs000631.v1.p1_ARDSnet',\n",
       " '2017_dbGap_phs000291.v2.p1_NHLBILungCOPD',\n",
       " '2017_dbGap_phs000422.v1.p1_NHLBILungA',\n",
       " '2017_dbGap_phs000518.v1.p1_NHLBIFamIB']"
      ]
     },
     "execution_count": 8,
     "metadata": {},
     "output_type": "execute_result"
    }
   ],
   "source": [
    "population_dictionary.keys()"
   ]
  },
  {
   "cell_type": "code",
   "execution_count": 15,
   "metadata": {
    "collapsed": false
   },
   "outputs": [],
   "source": [
    "all_sra_files, all_fastq_files, all_out_dirs = [], [], []\n",
    "populations, samples = [], []\n",
    "for i, population in enumerate(population_dictionary.keys()):\n",
    "    # adding an s to sample_list\n",
    "    \n",
    "    sra_files = ['{0}{1}/sra/{2}'.format(base, population, sample) for sample in population_dictionary[population]]\n",
    "    fastq_files = ['{0}{1}/sra/{2}.fastq'.format(base, population, sample.split('.')[0]) for sample in population_dictionary[population]]\n",
    "    out_dirs = ['/nrnb/users/ramarty/alternate_pops/{1}/{2}/'.format(base, population, sample.split('.')[0]) for sample in population_dictionary[population]]\n",
    "    \n",
    "    #all_sra_files.extend(sra_files)\n",
    "    #all_fastq_files.extend(fastq_files)\n",
    "    #all_out_dirs.extend(out_dirs)\n",
    "    populations.extend([population for sample in population_dictionary[population]])\n",
    "    samples.extend([sample.split('.')[0] for sample in population_dictionary[population]])"
   ]
  },
  {
   "cell_type": "code",
   "execution_count": 16,
   "metadata": {
    "collapsed": false
   },
   "outputs": [
    {
     "name": "stdout",
     "output_type": "stream",
     "text": [
      "2017_dbGap_phs000254.v2.p1_NHLBILungCF\n",
      "SRR201049\n",
      "1758 1758\n"
     ]
    }
   ],
   "source": [
    "print populations[0]\n",
    "print samples[0]\n",
    "print len(populations), len(samples)"
   ]
  },
  {
   "cell_type": "code",
   "execution_count": 35,
   "metadata": {
    "collapsed": true
   },
   "outputs": [],
   "source": [
    "def create_cluster_script_type(populations, samples):\n",
    "\n",
    "    new_script_file = '/cellar/users/ramarty/Projects/kir/KIR_development/data_gathering/alternate/to_fastq.sh'\n",
    "\n",
    "    with open(new_script_file, 'w') as out_file:\n",
    "        out_file.write(\"#! /bin/csh\\n\")\n",
    "        out_file.write(\"#$ -V\\n\")\n",
    "        out_file.write(\"#$ -S /bin/csh\\n\")\n",
    "        out_file.write(\"#$ -o /cellar/users/ramarty/Data/kir/sge-system_files\\n\")\n",
    "        out_file.write(\"#$ -e /cellar/users/ramarty/Data/kir/sge-system_files\\n\")\n",
    "        out_file.write(\"#$ -cwd\\n\")\n",
    "        #out_file.write(\"#$ -t 1-{0}\\n\".format(len(sra_files)))\n",
    "        out_file.write(\"#$ -t 1-10\\n\".format(len(samples)))\n",
    "        out_file.write(\"#$ -l h_vmem=2G\\n\")\n",
    "        out_file.write(\"#$ -tc 50\\n\")\n",
    "        out_file.write(\"#$ -l long\")\n",
    "        out_file.write(\"\\n\")\n",
    "\n",
    "        out_file.write(\"set populations=({0})\\n\".format(\" \".join(populations)))\n",
    "        out_file.write(\"set samples=({0})\\n\".format(\" \".join(samples)))\n",
    "        out_file.write(\"\\n\")\n",
    "\n",
    "        out_file.write(\"set population=$populations[$SGE_TASK_ID]\\n\")\n",
    "        out_file.write(\"set sample=$samples[$SGE_TASK_ID]\\n\")\n",
    "        out_file.write(\"\\n\")\n",
    "\n",
    "        out_file.write(\"date\\n\")\n",
    "        out_file.write(\"hostname\\n\")\n",
    "        \n",
    "        # Make new directories\n",
    "        out_file.write(\"mkdir /nrnb/users/ramarty/alternate_pops/$population\\n\")\n",
    "        out_file.write(\"mkdir /nrnb/users/ramarty/alternate_pops/$population/$sample\\n\")\n",
    "        # others??\n",
    "        \n",
    "        # Move to working directory\n",
    "        out_file.write(\"cd /nrnb/data/controlled/2017_dbGap_phs000179.v5.p2_GenEpidCOPD\\n\")\n",
    "        \n",
    "        # Get fastq from SRA and move to respective folder\n",
    "        out_file.write(\"echo /cellar/users/ramarty/programs/sratoolkit.2.8.2-1-ubuntu64/bin/fastq-dump /nrnb/data/controlled/$population/sra/$sample\\n\")\n",
    "        out_file.write(\"/cellar/users/ramarty/programs/sratoolkit.2.8.2-1-ubuntu64/bin/fastq-dump /nrnb/data/controlled/$population/sra/$sample.sra\\n\")\n",
    "        out_file.write(\"mv /nrnb/data/controlled/2017_dbGap_phs000179.v5.p2_GenEpidCOPD/$sample* /nrnb/data/controlled/$population/.\\n\")\n",
    "        out_file.write(\"/cellar/users/ramarty/programs/sratoolkit.2.8.2-1-ubuntu64/bin/fastq-dump --split-files /nrnb/data/controlled/$population/sra/$sample.sra\\n\")\n",
    "        out_file.write(\"mv /nrnb/data/controlled/2017_dbGap_phs000179.v5.p2_GenEpidCOPD/$sample* /nrnb/data/controlled/$population/.\\n\")\n",
    "        \n",
    "        # Gather components\n",
    "        #out_file.write(\"echo python /cellar/users/ramarty/Projects/kir/scripts/python/component_collection.py $fastq_file $out_dir cellar\\n\")\n",
    "        #out_file.write(\"python /cellar/users/ramarty/Projects/kir/scripts/python/component_collection.py $fastq_file $out_dir cellar\\n\")\n",
    "        \n",
    "        # Run PING\n",
    "        #out_file.write(\"Rscript --vanilla /cellar/users/ramarty/Projects/kir/KIR_development/data_gathering/bin/runPING_extractor.R $out full_exome_1.fastq full_exome_2.fastq $out/PING_sequences/ 4\\n\")\n",
    "        # does PING_sequences need to be created beforehand?? \n",
    "        #out_file.write(\"Rscript --vanilla /cellar/users/ramarty/Projects/kir/KIR_development/data_gathering/bin/runPING_gc_caller.R $out/PING_sequences $out/PING_sequences/ $out/PING/ 40000\\n\")\n",
    "        \n",
    "        # Run HLA-HD\n",
    "        #out_file.write(\"hlahd.sh -t 8 -m 70 -f ~/programs/hlahd.1.0.0/freq_data/ $out/full_exome_1.fastq $out/full_exome_2.fastq ~/programs/hlahd.1.0.0/HLA_gene.split.txt ~/programs/hlahd.1.0.0/dictionary/ sampleID $out/HLAHD\\n\")\n",
    "        \n",
    "        # Remove fastq files\n",
    "        #out_file.write(\"rm $fastq_file\\n\")\n",
    "        out_file.write(\"date\\n\")"
   ]
  },
  {
   "cell_type": "code",
   "execution_count": 36,
   "metadata": {
    "collapsed": false
   },
   "outputs": [],
   "source": [
    "create_cluster_script_type(populations, samples)"
   ]
  },
  {
   "cell_type": "code",
   "execution_count": null,
   "metadata": {
    "collapsed": true
   },
   "outputs": [],
   "source": [
    "def create_cluster_script_gather(populations, samples):\n",
    "\n",
    "    new_script_file = '/cellar/users/ramarty/Projects/kir/KIR_development/data_gathering/alternate/data_pull.sh'\n",
    "\n",
    "    with open(new_script_file, 'w') as out_file:\n",
    "        out_file.write(\"#! /bin/csh\\n\")\n",
    "        out_file.write(\"#$ -V\\n\")\n",
    "        out_file.write(\"#$ -S /bin/csh\\n\")\n",
    "        out_file.write(\"#$ -o /cellar/users/ramarty/Data/kir/sge-system_files\\n\")\n",
    "        out_file.write(\"#$ -e /cellar/users/ramarty/Data/kir/sge-system_files\\n\")\n",
    "        out_file.write(\"#$ -cwd\\n\")\n",
    "        #out_file.write(\"#$ -t 1-{0}\\n\".format(len(sra_files)))\n",
    "        out_file.write(\"#$ -t 1-10\\n\".format(len(samples)))\n",
    "        out_file.write(\"#$ -l h_vmem=2G\\n\")\n",
    "        out_file.write(\"#$ -tc 50\\n\")\n",
    "        out_file.write(\"#$ -l long\")\n",
    "        out_file.write(\"\\n\")\n",
    "\n",
    "        out_file.write(\"set populations=({0})\\n\".format(\" \".join(populations)))\n",
    "        out_file.write(\"set samples=({0})\\n\".format(\" \".join(samples)))\n",
    "        out_file.write(\"\\n\")\n",
    "\n",
    "        out_file.write(\"set population=$populations[$SGE_TASK_ID]\\n\")\n",
    "        out_file.write(\"set sample=$samples[$SGE_TASK_ID]\\n\")\n",
    "        out_file.write(\"\\n\")\n",
    "\n",
    "        out_file.write(\"date\\n\")\n",
    "        out_file.write(\"hostname\\n\")\n",
    "        \n",
    "        # Make new directories\n",
    "        out_file.write(\"mkdir /nrnb/users/ramarty/alternate_pops/$population\\n\")\n",
    "        out_file.write(\"mkdir /nrnb/users/ramarty/alternate_pops/$population/$sample\\n\")\n",
    "        # others??\n",
    "        \n",
    "        # Move to working directory\n",
    "        out_file.write(\"cd /nrnb/data/controlled/2017_dbGap_phs000179.v5.p2_GenEpidCOPD\\n\")\n",
    "        \n",
    "        # Get fastq from SRA\n",
    "        #out_file.write(\"echo /cellar/users/ramarty/programs/sratoolkit.2.8.2-1-ubuntu64/bin/fastq-dump /nrnb/data/controlled/$population/sra/$sample\\n\")\n",
    "        #out_file.write(\"/cellar/users/ramarty/programs/sratoolkit.2.8.2-1-ubuntu64/bin/fastq-dump /nrnb/data/controlled/$population/sra/$sample.sra\\n\")\n",
    "        #out_file.write(\"/cellar/users/ramarty/programs/sratoolkit.2.8.2-1-ubuntu64/bin/fastq-dump --split-files /nrnb/data/controlled/$population/sra/$sample.sra\\n\")\n",
    "        \n",
    "        # Gather components\n",
    "        out_file.write(\"echo python /cellar/users/ramarty/Projects/kir/scripts/python/component_collection.py $fastq_file $out_dir cellar\\n\")\n",
    "        out_file.write(\"python /cellar/users/ramarty/Projects/kir/scripts/python/component_collection.py $fastq_file $out_dir cellar\\n\")\n",
    "        \n",
    "        # Run PING\n",
    "        out_file.write(\"Rscript --vanilla /cellar/users/ramarty/Projects/kir/KIR_development/data_gathering/bin/runPING_extractor.R $out full_exome_1.fastq full_exome_2.fastq $out/PING_sequences/ 4\\n\")\n",
    "        # does PING_sequences need to be created beforehand?? \n",
    "        out_file.write(\"Rscript --vanilla /cellar/users/ramarty/Projects/kir/KIR_development/data_gathering/bin/runPING_gc_caller.R $out/PING_sequences $out/PING_sequences/ $out/PING/ 40000\\n\")\n",
    "        \n",
    "        # Run HLA-HD\n",
    "        out_file.write(\"hlahd.sh -t 8 -m 70 -f ~/programs/hlahd.1.0.0/freq_data/ $out/full_exome_1.fastq $out/full_exome_2.fastq ~/programs/hlahd.1.0.0/HLA_gene.split.txt ~/programs/hlahd.1.0.0/dictionary/ sampleID $out/HLAHD\\n\")\n",
    "        \n",
    "        # Remove fastq files\n",
    "        out_file.write(\"rm $fastq_file\\n\")\n",
    "        out_file.write(\"date\\n\")"
   ]
  }
 ],
 "metadata": {
  "kernelspec": {
   "display_name": "Python 2",
   "language": "python",
   "name": "python2"
  },
  "language_info": {
   "codemirror_mode": {
    "name": "ipython",
    "version": 2
   },
   "file_extension": ".py",
   "mimetype": "text/x-python",
   "name": "python",
   "nbconvert_exporter": "python",
   "pygments_lexer": "ipython2",
   "version": "2.7.12"
  }
 },
 "nbformat": 4,
 "nbformat_minor": 0
}
