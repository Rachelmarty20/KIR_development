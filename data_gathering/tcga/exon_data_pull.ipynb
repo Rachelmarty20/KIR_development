{
 "cells": [
  {
   "cell_type": "code",
   "execution_count": 2,
   "metadata": {
    "collapsed": false
   },
   "outputs": [
    {
     "name": "stderr",
     "output_type": "stream",
     "text": [
      "/cellar/users/ramarty/anaconda/lib/python2.7/site-packages/IPython/nbformat/current.py:19: UserWarning: IPython.nbformat.current is deprecated.\n",
      "\n",
      "- use IPython.nbformat for read/write/validate public API\n",
      "- use IPython.nbformat.vX directly to composing notebooks of a particular version\n",
      "\n",
      "  \"\"\")\n",
      ":0: FutureWarning: IPython widgets are experimental and may change in the future.\n"
     ]
    },
    {
     "name": "stdout",
     "output_type": "stream",
     "text": [
      "Populating the interactive namespace from numpy and matplotlib\n"
     ]
    }
   ],
   "source": [
    "import io\n",
    "from IPython.nbformat import current\n",
    "def execute_notebook(nbfile):\n",
    "    with io.open(nbfile) as f:\n",
    "        nb = current.read(f, 'json')\n",
    "    ip = get_ipython()\n",
    "    for cell in nb.worksheets[0].cells:\n",
    "        if cell.cell_type != 'code':\n",
    "            continue\n",
    "        ip.run_cell(cell.input)\n",
    "execute_notebook(\"/cellar/users/ramarty/Projects/kir/KIR_development/bin/imports.ipynb\")"
   ]
  },
  {
   "cell_type": "markdown",
   "metadata": {},
   "source": [
    "###Acquire samples to run"
   ]
  },
  {
   "cell_type": "code",
   "execution_count": null,
   "metadata": {
    "collapsed": true
   },
   "outputs": [],
   "source": []
  },
  {
   "cell_type": "code",
   "execution_count": null,
   "metadata": {
    "collapsed": true
   },
   "outputs": [],
   "source": [
    "out_dirs = ['/nrnb/users/ramarty/kir/TCGA/exomes/{0}'.format(x) for x in normal_samples]"
   ]
  },
  {
   "cell_type": "markdown",
   "metadata": {},
   "source": [
    "###Create cluster script"
   ]
  },
  {
   "cell_type": "code",
   "execution_count": null,
   "metadata": {
    "collapsed": true
   },
   "outputs": [],
   "source": [
    "def create_cluster_script_type(samples, out_dirs):\n",
    "\n",
    "    new_script_file = '/cellar/users/ramarty/Projects/kir/scripts/cluster/TCGA.component_collection.sh'\n",
    "\n",
    "    with open(new_script_file, 'w') as out_file:\n",
    "        out_file.write(\"#! /bin/csh\\n\")\n",
    "        out_file.write(\"#$ -V\\n\")\n",
    "        out_file.write(\"#$ -S /bin/csh\\n\")\n",
    "        out_file.write(\"#$ -o /cellar/users/ramarty/Data/kir/sge-system_files\\n\")\n",
    "        out_file.write(\"#$ -e /cellar/users/ramarty/Data/kir/sge-system_files\\n\")\n",
    "        out_file.write(\"#$ -cwd\\n\")\n",
    "        out_file.write(\"#$ -t 1-{0}\\n\".format(len(samples)))\n",
    "        #out_file.write(\"#$ -t 1-10\\n\".format(len(samples)))\n",
    "        out_file.write(\"#$ -l h_vmem=10G\\n\")\n",
    "        out_file.write(\"#$ -tc 200\\n\")\n",
    "        out_file.write(\"#$ -l long\")\n",
    "        out_file.write(\"\\n\")\n",
    "\n",
    "        out_file.write(\"set samples=({0})\\n\".format(\" \".join(samples)))\n",
    "        out_file.write(\"set outs=({0})\\n\".format(\" \".join(out_dirs)))\n",
    "        out_file.write(\"\\n\")\n",
    "\n",
    "        out_file.write(\"set sample=$samples[$SGE_TASK_ID]\\n\")\n",
    "        out_file.write(\"set out=$outs[$SGE_TASK_ID]\\n\")\n",
    "        out_file.write(\"\\n\")\n",
    "\n",
    "        out_file.write(\"date\\n\")\n",
    "        out_file.write(\"hostname\\n\")\n",
    "        out_file.write(\"mkdir $out\\n\")\n",
    "        out_file.write(\"mkdir $out/components\\n\")\n",
    "        out_file.write(\"bash /nrnb/users/ramarty/kir/scripts/GDC.exome.sh $sample $out/full_exome.bam\\n\")\n",
    "        out_file.write(\"python /cellar/users/ramarty/Projects/kir/scripts/python/convert_to_fastq.py $out/full_exome.bam $out/full_exome.fastq\\n\")\n",
    "        out_file.write(\"python /cellar/users/ramarty/Projects/kir/scripts/python/component_collection.py $out/full_exome.fastq $out/components\\n\")\n",
    "        out_file.write(\"rm $out/full_exome.fastq\\n\")\n",
    "        out_file.write(\"rm $out/full_exome.bam\\n\")\n",
    "        out_file.write(\"date\\n\")"
   ]
  }
 ],
 "metadata": {
  "kernelspec": {
   "display_name": "Python 2",
   "language": "python",
   "name": "python2"
  },
  "language_info": {
   "codemirror_mode": {
    "name": "ipython",
    "version": 2
   },
   "file_extension": ".py",
   "mimetype": "text/x-python",
   "name": "python",
   "nbconvert_exporter": "python",
   "pygments_lexer": "ipython2",
   "version": "2.7.12"
  }
 },
 "nbformat": 4,
 "nbformat_minor": 0
}
