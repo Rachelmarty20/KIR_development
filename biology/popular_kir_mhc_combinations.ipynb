{
 "cells": [
  {
   "cell_type": "code",
   "execution_count": 1,
   "metadata": {},
   "outputs": [
    {
     "name": "stderr",
     "output_type": "stream",
     "text": [
      "/cellar/users/ramarty/anaconda/lib/python2.7/site-packages/IPython/nbformat/current.py:19: UserWarning: IPython.nbformat.current is deprecated.\n",
      "\n",
      "- use IPython.nbformat for read/write/validate public API\n",
      "- use IPython.nbformat.vX directly to composing notebooks of a particular version\n",
      "\n",
      "  \"\"\")\n",
      ":0: FutureWarning: IPython widgets are experimental and may change in the future.\n"
     ]
    },
    {
     "name": "stdout",
     "output_type": "stream",
     "text": [
      "Populating the interactive namespace from numpy and matplotlib\n"
     ]
    },
    {
     "data": {
      "text/plain": [
       "\"\\ndef plot_cutoffs(gene, w):\\n    kernel = sp.gaussian_kde(w[gene])\\n    max_value = w[gene].max()\\n    a = kernel(np.arange(0, max_value, max_value/float(100)))\\n    coverage_values = np.arange(0, max_value, max_value/float(100))\\n    plt.scatter(coverage_values, a)\\n    for l in coverage_values[np.r_[True, a[1:] < a[:-1]] & np.r_[a[:-1] < a[1:], True]]:\\n        plt.axvline(x=l, ymin=0, ymax=1, linewidth=2, color='k')\\n    plt.title(gene)\\n    plt.show()\\n    plt.clf()\\n\""
      ]
     },
     "execution_count": 1,
     "metadata": {},
     "output_type": "execute_result"
    }
   ],
   "source": [
    "import io\n",
    "from IPython.nbformat import current\n",
    "def execute_notebook(nbfile):\n",
    "    with io.open(nbfile) as f:\n",
    "        nb = current.read(f, 'json')\n",
    "    ip = get_ipython()\n",
    "    for cell in nb.worksheets[0].cells:\n",
    "        if cell.cell_type != 'code':\n",
    "            continue\n",
    "        ip.run_cell(cell.input)\n",
    "execute_notebook(\"/cellar/users/ramarty/Projects/kir/worker_notebooks/imports.ipynb\")\n",
    "execute_notebook(\"/cellar/users/ramarty/Projects/kir/worker_notebooks/clinical.ipynb\")\n",
    "execute_notebook(\"/cellar/users/ramarty/Projects/kir/worker_notebooks/typing.ipynb\")"
   ]
  },
  {
   "cell_type": "markdown",
   "metadata": {},
   "source": [
    "###Getting the mhc/kir combinations that will be common enough to provide statistics on"
   ]
  },
  {
   "cell_type": "code",
   "execution_count": 8,
   "metadata": {
    "collapsed": true
   },
   "outputs": [],
   "source": [
    "df = pd.read_csv('/cellar/users/ramarty/Data/kir/biological/all_the_good_stuff.csv', index_col=0)\n",
    "df = df[~(df.tissue.isin(['LIHC', 'DLBC', 'ACC', 'BRCA', 'UCS', 'SKCM']))]"
   ]
  },
  {
   "cell_type": "code",
   "execution_count": 9,
   "metadata": {},
   "outputs": [
    {
     "data": {
      "text/plain": [
       "Index([u'Tumor_Sample_Barcode', u'num_neoantigens5', u'num_neoantigens10',\n",
       "       u'total_presented_peptides', u'mutation_count', u'max_neoantigen',\n",
       "       u'num_neoantigens1', u'KIR2DP1', u'KIR2DS4', u'KIR2DS5', u'KIR2DS2',\n",
       "       u'KIR2DS3', u'KIR2DS1', u'KIR2DL3', u'KIR2DL2', u'KIR2DL1', u'KIR2DL4',\n",
       "       u'KIR3DS1', u'KIR3DL1', u'KIR3DL2', u'KIR3DL3', u'KIR2DL5A', u'KIR3DP1',\n",
       "       u'Sample', u'barcode', u'age_at_diagnosis', u'days_to_death',\n",
       "       u'days_to_last_followup', u'ethnicity', u'gender', u'race', u'tissue',\n",
       "       u'vital_status', u'Bcells', u'Monocytes', u'Neutrophils', u'NKcells',\n",
       "       u'Tcells', u'unkCells', u'A1', u'A2', u'B1', u'B2', u'C1', u'C2',\n",
       "       u'A1_', u'A2_', u'B1_', u'B2_', u'C1_', u'C2_', u'activating',\n",
       "       u'inhibitory', u'ratio', u'capture_kit'],\n",
       "      dtype='object')"
      ]
     },
     "execution_count": 9,
     "metadata": {},
     "output_type": "execute_result"
    }
   ],
   "source": [
    "df.columns"
   ]
  },
  {
   "cell_type": "code",
   "execution_count": 10,
   "metadata": {
    "collapsed": true
   },
   "outputs": [],
   "source": [
    "hla_c = ['C1', 'C2']\n",
    "hla_b = ['B1', 'B2']\n",
    "hla_a = ['A1', 'A2']\n",
    "sample = ['Tumor_Sample_Barcode']"
   ]
  },
  {
   "cell_type": "code",
   "execution_count": 11,
   "metadata": {
    "scrolled": false
   },
   "outputs": [
    {
     "name": "stderr",
     "output_type": "stream",
     "text": [
      "/cellar/users/ramarty/anaconda/lib/python2.7/site-packages/IPython/kernel/__main__.py:2: FutureWarning: sort(columns=....) is deprecated, use sort_values(by=.....)\n",
      "  from IPython.kernel.zmq import kernelapp as app\n"
     ]
    }
   ],
   "source": [
    "for hla, name in ([[hla_a, 'hla_a'], [hla_b, 'hla_b'], [hla_c, 'hla_c']]):\n",
    "    x = df[hla + sample].groupby(hla).count().reset_index().sort('Tumor_Sample_Barcode', ascending=False)\n",
    "    x[x.Tumor_Sample_Barcode > 20].to_csv('/cellar/users/ramarty/Data/kir/biological/combinations.{0}.csv'.format(name))"
   ]
  },
  {
   "cell_type": "markdown",
   "metadata": {
    "collapsed": true
   },
   "source": [
    "Also get the frequent singles."
   ]
  },
  {
   "cell_type": "code",
   "execution_count": 25,
   "metadata": {},
   "outputs": [],
   "source": [
    "As = list(pd.Series(list(df['A1']) + list(df['A2'])).value_counts()[:15].index)\n",
    "Bs = list(pd.Series(list(df['B1']) + list(df['B2'])).value_counts()[:23].index)\n",
    "Cs = list(pd.Series(list(df['C1']) + list(df['C2'])).value_counts()[:13].index)"
   ]
  },
  {
   "cell_type": "code",
   "execution_count": 26,
   "metadata": {
    "collapsed": true
   },
   "outputs": [],
   "source": [
    "for group, name in ([[As, 'A'], [Bs, 'B'], [Cs, 'C']]):\n",
    "    with open('/cellar/users/ramarty/Data/kir/biological/singles.{0}.txt'.format(name), 'w') as out_file:\n",
    "        for t in group:\n",
    "            out_file.write('{0}\\n'.format(t))"
   ]
  },
  {
   "cell_type": "markdown",
   "metadata": {},
   "source": [
    "May also want to integrate allele calls with four digits - need to go back to the original document for that"
   ]
  },
  {
   "cell_type": "code",
   "execution_count": 24,
   "metadata": {
    "collapsed": true
   },
   "outputs": [],
   "source": [
    "As = list(pd.Series(list(df['A1_']) + list(df['A2_'])).value_counts()[:15].index)\n",
    "Bs = list(pd.Series(list(df['B1_']) + list(df['B2_'])).value_counts()[:23].index)\n",
    "Cs = list(pd.Series(list(df['C1_']) + list(df['C2_'])).value_counts()[:21].index)"
   ]
  },
  {
   "cell_type": "code",
   "execution_count": 26,
   "metadata": {
    "collapsed": true
   },
   "outputs": [],
   "source": [
    "for group, name in ([[As, 'A'], [Bs, 'B'], [Cs, 'C']]):\n",
    "    with open('/cellar/users/ramarty/Data/kir/biological/singles.{0}.four_digit.txt'.format(name), 'w') as out_file:\n",
    "        for t in group:\n",
    "            out_file.write('{0}\\n'.format(t))"
   ]
  },
  {
   "cell_type": "code",
   "execution_count": null,
   "metadata": {
    "collapsed": true
   },
   "outputs": [],
   "source": []
  }
 ],
 "metadata": {
  "kernelspec": {
   "display_name": "Python 2",
   "language": "python",
   "name": "python2"
  },
  "language_info": {
   "codemirror_mode": {
    "name": "ipython",
    "version": 2
   },
   "file_extension": ".py",
   "mimetype": "text/x-python",
   "name": "python",
   "nbconvert_exporter": "python",
   "pygments_lexer": "ipython2",
   "version": "2.7.15"
  }
 },
 "nbformat": 4,
 "nbformat_minor": 1
}
