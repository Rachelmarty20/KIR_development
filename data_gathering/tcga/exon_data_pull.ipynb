{
 "cells": [
  {
   "cell_type": "code",
   "execution_count": 1,
   "metadata": {
    "collapsed": false
   },
   "outputs": [
    {
     "name": "stderr",
     "output_type": "stream",
     "text": [
      "/cellar/users/ramarty/anaconda/lib/python2.7/site-packages/IPython/nbformat/current.py:19: UserWarning: IPython.nbformat.current is deprecated.\n",
      "\n",
      "- use IPython.nbformat for read/write/validate public API\n",
      "- use IPython.nbformat.vX directly to composing notebooks of a particular version\n",
      "\n",
      "  \"\"\")\n",
      ":0: FutureWarning: IPython widgets are experimental and may change in the future.\n"
     ]
    },
    {
     "name": "stdout",
     "output_type": "stream",
     "text": [
      "Populating the interactive namespace from numpy and matplotlib\n",
      "Populating the interactive namespace from numpy and matplotlib\n"
     ]
    }
   ],
   "source": [
    "import io\n",
    "from IPython.nbformat import current\n",
    "def execute_notebook(nbfile):\n",
    "    with io.open(nbfile) as f:\n",
    "        nb = current.read(f, 'json')\n",
    "    ip = get_ipython()\n",
    "    for cell in nb.worksheets[0].cells:\n",
    "        if cell.cell_type != 'code':\n",
    "            continue\n",
    "        ip.run_cell(cell.input)\n",
    "execute_notebook(\"/cellar/users/ramarty/Projects/kir/KIR_development/bin/imports.ipynb\")\n",
    "execute_notebook(\"/cellar/users/ramarty/Projects/kir/KIR_development/bin/samples.ipynb\")"
   ]
  },
  {
   "cell_type": "markdown",
   "metadata": {},
   "source": [
    "###Acquire samples to run"
   ]
  },
  {
   "cell_type": "code",
   "execution_count": 2,
   "metadata": {
    "collapsed": false
   },
   "outputs": [
    {
     "data": {
      "text/plain": [
       "(9105, 9105)"
      ]
     },
     "execution_count": 2,
     "metadata": {},
     "output_type": "execute_result"
    }
   ],
   "source": [
    "len(normal_samples), len(normal_barcodes)"
   ]
  },
  {
   "cell_type": "code",
   "execution_count": 3,
   "metadata": {
    "collapsed": true
   },
   "outputs": [],
   "source": [
    "out_dirs = ['/nrnb/users/ramarty/TCGA/exomes/{0}'.format(x) for x in normal_barcodes]"
   ]
  },
  {
   "cell_type": "code",
   "execution_count": 4,
   "metadata": {
    "collapsed": false
   },
   "outputs": [
    {
     "data": {
      "text/plain": [
       "['/nrnb/users/ramarty/TCGA/exomes/TCGA-HC-7737',\n",
       " '/nrnb/users/ramarty/TCGA/exomes/TCGA-EJ-5515',\n",
       " '/nrnb/users/ramarty/TCGA/exomes/TCGA-FP-8631',\n",
       " '/nrnb/users/ramarty/TCGA/exomes/TCGA-85-8352',\n",
       " '/nrnb/users/ramarty/TCGA/exomes/TCGA-CV-6943']"
      ]
     },
     "execution_count": 4,
     "metadata": {},
     "output_type": "execute_result"
    }
   ],
   "source": [
    "out_dirs[:5]"
   ]
  },
  {
   "cell_type": "markdown",
   "metadata": {},
   "source": [
    "###Create cluster script"
   ]
  },
  {
   "cell_type": "markdown",
   "metadata": {},
   "source": [
    "Download, convert to fastq, collect components, run PING, run HLA-HD <br>\n",
    "Put the different results in different locations?? Might want to start fresh with barcodes"
   ]
  },
  {
   "cell_type": "code",
   "execution_count": 10,
   "metadata": {
    "collapsed": true
   },
   "outputs": [],
   "source": [
    "def create_cluster_script_download(samples, barcodes, out_dirs):\n",
    "\n",
    "    new_script_file = '/cellar/users/ramarty/Projects/kir/KIR_development/data_gathering/tcga/exon_download.sh'\n",
    "\n",
    "    with open(new_script_file, 'w') as out_file:\n",
    "        out_file.write(\"#! /bin/csh\\n\")\n",
    "        out_file.write(\"#$ -V\\n\")\n",
    "        out_file.write(\"#$ -S /bin/csh\\n\")\n",
    "        out_file.write(\"#$ -o /cellar/users/ramarty/Data/kir/sge-system_files\\n\")\n",
    "        out_file.write(\"#$ -e /cellar/users/ramarty/Data/kir/sge-system_files\\n\")\n",
    "        out_file.write(\"#$ -cwd\\n\")\n",
    "        #out_file.write(\"#$ -t 1-{0}\\n\".format(len(samples)))\n",
    "        out_file.write(\"#$ -t 1-500\\n\".format(len(samples)))\n",
    "        out_file.write(\"#$ -l h_vmem=10G\\n\")\n",
    "        out_file.write(\"#$ -tc 100\\n\")\n",
    "        out_file.write(\"#$ -l long\")\n",
    "        out_file.write(\"\\n\")\n",
    "\n",
    "        out_file.write(\"set samples=({0})\\n\".format(\" \".join(samples)))\n",
    "        out_file.write(\"set barcodes=({0})\\n\".format(\" \".join(barcodes)))\n",
    "        out_file.write(\"set outs=({0})\\n\".format(\" \".join(out_dirs)))\n",
    "        out_file.write(\"\\n\")\n",
    "\n",
    "        out_file.write(\"set sample=$samples[$SGE_TASK_ID]\\n\")\n",
    "        out_file.write(\"set barcode=$barcodes[$SGE_TASK_ID]\\n\")\n",
    "        out_file.write(\"set out=$outs[$SGE_TASK_ID]\\n\")\n",
    "        out_file.write(\"\\n\")\n",
    "\n",
    "        out_file.write(\"date\\n\")\n",
    "        out_file.write(\"hostname\\n\")\n",
    "        \n",
    "        # Make directory\n",
    "        out_file.write(\"mkdir $out\\n\")\n",
    "        \n",
    "        # Download and process\n",
    "        out_file.write(\"bash /cellar/users/ramarty/Projects/kir/KIR_development/data_gathering/bin/GDC.exome.sh $sample $out/full_exome.bam\\n\")\n",
    "        out_file.write(\"python /cellar/users/ramarty/Projects/kir/KIR_development/data_gathering/bin/convert_to_fastq.py $out/full_exome.bam $out/full_exome.fastq cellar\\n\")\n",
    "        out_file.write(\"python /cellar/users/ramarty/Projects/kir/KIR_development/data_gathering/bin/convert_to_fastq2.py $out/full_exome.bam $out/full_exome_1.fastq $out/full_exome_1.fastq cellar\\n\")\n",
    "        \n",
    "        out_file.write(\"date\\n\")"
   ]
  },
  {
   "cell_type": "code",
   "execution_count": 11,
   "metadata": {
    "collapsed": true
   },
   "outputs": [],
   "source": [
    "create_cluster_script_download(normal_samples, normal_barcodes, out_dirs)"
   ]
  },
  {
   "cell_type": "markdown",
   "metadata": {},
   "source": [
    "Restart those that failed"
   ]
  },
  {
   "cell_type": "code",
   "execution_count": 53,
   "metadata": {
    "collapsed": true
   },
   "outputs": [],
   "source": [
    "job_id = '290648'"
   ]
  },
  {
   "cell_type": "code",
   "execution_count": 54,
   "metadata": {
    "collapsed": true
   },
   "outputs": [],
   "source": [
    "all_error_files = os.listdir('/cellar/users/ramarty/Data/kir/sge-system_files/')\n",
    "relevant_error_files = [x for x in all_error_files if 'exon_download.sh.e{0}'.format(job_id) in x]"
   ]
  },
  {
   "cell_type": "code",
   "execution_count": 55,
   "metadata": {
    "collapsed": false
   },
   "outputs": [
    {
     "data": {
      "text/plain": [
       "148"
      ]
     },
     "execution_count": 55,
     "metadata": {},
     "output_type": "execute_result"
    }
   ],
   "source": [
    "len(relevant_error_files)"
   ]
  },
  {
   "cell_type": "code",
   "execution_count": 61,
   "metadata": {
    "collapsed": false
   },
   "outputs": [],
   "source": [
    "jobs_to_restart = []\n",
    "for f in relevant_error_files:\n",
    "    lines = open('/cellar/users/ramarty/Data/kir/sge-system_files/' + f).readlines()\n",
    "    try:\n",
    "        if 'transfer closed' in lines[-1]:\n",
    "            # minus one to reflect the position in the original list\n",
    "            jobs_to_restart.append(int(f.split('.')[-1]) - 1)\n",
    "    except:\n",
    "        print f"
   ]
  },
  {
   "cell_type": "code",
   "execution_count": 67,
   "metadata": {
    "collapsed": true
   },
   "outputs": [],
   "source": [
    "jobs_to_restart = sort(jobs_to_restart)"
   ]
  },
  {
   "cell_type": "code",
   "execution_count": 68,
   "metadata": {
    "collapsed": false
   },
   "outputs": [
    {
     "data": {
      "text/plain": [
       "19"
      ]
     },
     "execution_count": 68,
     "metadata": {},
     "output_type": "execute_result"
    }
   ],
   "source": [
    "len(jobs_to_restart)"
   ]
  },
  {
   "cell_type": "code",
   "execution_count": 69,
   "metadata": {
    "collapsed": true
   },
   "outputs": [],
   "source": [
    "def create_cluster_script_download_restart(samples, barcodes, out_dirs):\n",
    "\n",
    "    new_script_file = '/cellar/users/ramarty/Projects/kir/KIR_development/data_gathering/tcga/exon_download.rerun.sh'\n",
    "\n",
    "    with open(new_script_file, 'w') as out_file:\n",
    "        out_file.write(\"#! /bin/csh\\n\")\n",
    "        out_file.write(\"#$ -V\\n\")\n",
    "        out_file.write(\"#$ -S /bin/csh\\n\")\n",
    "        out_file.write(\"#$ -o /cellar/users/ramarty/Data/kir/sge-system_files\\n\")\n",
    "        out_file.write(\"#$ -e /cellar/users/ramarty/Data/kir/sge-system_files\\n\")\n",
    "        out_file.write(\"#$ -cwd\\n\")\n",
    "        #out_file.write(\"#$ -t 1-{0}\\n\".format(len(samples)))\n",
    "        out_file.write(\"#$ -t 1-{0}\\n\".format(len(samples)))\n",
    "        out_file.write(\"#$ -l h_vmem=1G\\n\")\n",
    "        out_file.write(\"#$ -tc 100\\n\")\n",
    "        out_file.write(\"#$ -l long\")\n",
    "        out_file.write(\"\\n\")\n",
    "\n",
    "        out_file.write(\"set samples=({0})\\n\".format(\" \".join(samples)))\n",
    "        out_file.write(\"set barcodes=({0})\\n\".format(\" \".join(barcodes)))\n",
    "        out_file.write(\"set outs=({0})\\n\".format(\" \".join(out_dirs)))\n",
    "        out_file.write(\"\\n\")\n",
    "\n",
    "        out_file.write(\"set sample=$samples[$SGE_TASK_ID]\\n\")\n",
    "        out_file.write(\"set barcode=$barcodes[$SGE_TASK_ID]\\n\")\n",
    "        out_file.write(\"set out=$outs[$SGE_TASK_ID]\\n\")\n",
    "        out_file.write(\"\\n\")\n",
    "\n",
    "        out_file.write(\"date\\n\")\n",
    "        out_file.write(\"hostname\\n\")\n",
    "        \n",
    "        # Make directory\n",
    "        out_file.write(\"mkdir $out\\n\")\n",
    "        \n",
    "        # Download and process\n",
    "        out_file.write(\"bash /cellar/users/ramarty/Projects/kir/KIR_development/data_gathering/bin/GDC.exome.sh $sample $out/full_exome.bam\\n\")\n",
    "        out_file.write(\"python /cellar/users/ramarty/Projects/kir/KIR_development/data_gathering/bin/convert_to_fastq.py $out/full_exome.bam $out/full_exome.fastq cellar\\n\")\n",
    "        out_file.write(\"python /cellar/users/ramarty/Projects/kir/KIR_development/data_gathering/bin/convert_to_fastq2.py $out/full_exome.bam $out/full_exome_1.fastq $out/full_exome_1.fastq cellar\\n\")\n",
    "        \n",
    "        out_file.write(\"date\\n\")"
   ]
  },
  {
   "cell_type": "code",
   "execution_count": 70,
   "metadata": {
    "collapsed": false
   },
   "outputs": [],
   "source": [
    "create_cluster_script_download_restart([normal_samples[i] for i in jobs_to_restart], [normal_barcodes[i] for i in jobs_to_restart], [out_dirs[i] for i in jobs_to_restart])"
   ]
  },
  {
   "cell_type": "code",
   "execution_count": null,
   "metadata": {
    "collapsed": true
   },
   "outputs": [],
   "source": []
  },
  {
   "cell_type": "markdown",
   "metadata": {},
   "source": [
    "Data pull"
   ]
  },
  {
   "cell_type": "code",
   "execution_count": 29,
   "metadata": {
    "collapsed": true
   },
   "outputs": [],
   "source": [
    "def create_cluster_script_gather(samples, barcodes, out_dirs):\n",
    "\n",
    "    new_script_file = '/cellar/users/ramarty/Projects/kir/KIR_development/data_gathering/tcga/exon_data_pull.sh'\n",
    "\n",
    "    with open(new_script_file, 'w') as out_file:\n",
    "        out_file.write(\"#! /bin/csh\\n\")\n",
    "        out_file.write(\"#$ -V\\n\")\n",
    "        out_file.write(\"#$ -S /bin/csh\\n\")\n",
    "        out_file.write(\"#$ -o /cellar/users/ramarty/Data/kir/sge-system_files\\n\")\n",
    "        out_file.write(\"#$ -e /cellar/users/ramarty/Data/kir/sge-system_files\\n\")\n",
    "        out_file.write(\"#$ -cwd\\n\")\n",
    "        #out_file.write(\"#$ -t 1-{0}\\n\".format(len(samples)))\n",
    "        out_file.write(\"#$ -t 1-10\\n\".format(len(samples)))\n",
    "        out_file.write(\"#$ -l h_vmem=10G\\n\")\n",
    "        out_file.write(\"#$ -tc 200\\n\")\n",
    "        out_file.write(\"#$ -l long\")\n",
    "        out_file.write(\"\\n\")\n",
    "\n",
    "        out_file.write(\"set samples=({0})\\n\".format(\" \".join(samples)))\n",
    "        out_file.write(\"set barcodes=({0})\\n\".format(\" \".join(barcodes)))\n",
    "        out_file.write(\"set outs=({0})\\n\".format(\" \".join(out_dirs)))\n",
    "        out_file.write(\"\\n\")\n",
    "\n",
    "        out_file.write(\"set sample=$samples[$SGE_TASK_ID]\\n\")\n",
    "        out_file.write(\"set barcode=$barcodes[$SGE_TASK_ID]\\n\")\n",
    "        out_file.write(\"set out=$outs[$SGE_TASK_ID]\\n\")\n",
    "        out_file.write(\"\\n\")\n",
    "\n",
    "        out_file.write(\"date\\n\")\n",
    "        out_file.write(\"hostname\\n\")\n",
    "        \n",
    "        # Make directories\n",
    "        out_file.write(\"mkdir $out/features\\n\")\n",
    "        out_file.write(\"mkdir $out/hlaHD\\n\")\n",
    "        \n",
    "        #out_file.write(\"python /cellar/users/ramarty/Projects/kir/KIR_development/data_gathering/bin/convert_to_fastq.py $out/full_exome.bam $out/full_exome.fastq\\n\")        \n",
    "        \n",
    "        # Collect components\n",
    "        out_file.write(\"python /cellar/users/ramarty/Projects/kir//scripts/python/component_collection.py $out/full_exome.fastq $out/features\\n\")\n",
    "        \n",
    "        # Run PING\n",
    "        out_file.write(\"Rscript --vanilla /cellar/users/ramarty/Projects/kir/KIR_development/data_gathering/bin/runPING_extractor.R $out full_exome_1.fastq full_exome_2.fastq $out/PING_sequences/ 4\\n\")\n",
    "        # does PING_sequences need to be created beforehand?? \n",
    "        out_file.write(\"Rscript --vanilla /cellar/users/ramarty/Projects/kir/KIR_development/data_gathering/bin/runPING_gc_caller.R $out/PING_sequences $out/PING_sequences/ $out/PING/ 40000\\n\")\n",
    "        \n",
    "        # Run HLA-HD\n",
    "        out_file.write(\"hlahd.sh -t 8 -m 70 -f ~/programs/hlahd.1.0.0/freq_data/ $out/full_exome_1.fastq $out/full_exome_2.fastq ~/programs/hlahd.1.0.0/HLA_gene.split.txt ~/programs/hlahd.1.0.0/dictionary/ sampleID $out/HLAHD\\n\")\n",
    "        \n",
    "        # Clean up\n",
    "        #out_file.write(\"rm $out/full_exome.fastq\\n\")\n",
    "        #out_file.write(\"rm $out/full_exome_1.fastq\\n\")\n",
    "        #out_file.write(\"rm $out/full_exome_2.fastq\\n\")\n",
    "        #out_file.write(\"rm $out/full_exome.bam\\n\")\n",
    "        out_file.write(\"date\\n\")"
   ]
  },
  {
   "cell_type": "code",
   "execution_count": 30,
   "metadata": {
    "collapsed": true
   },
   "outputs": [],
   "source": [
    "create_cluster_script_gather(normal_samples, normal_barcodes, out_dirs)"
   ]
  },
  {
   "cell_type": "code",
   "execution_count": null,
   "metadata": {
    "collapsed": true
   },
   "outputs": [],
   "source": []
  }
 ],
 "metadata": {
  "kernelspec": {
   "display_name": "Python 2",
   "language": "python",
   "name": "python2"
  },
  "language_info": {
   "codemirror_mode": {
    "name": "ipython",
    "version": 2
   },
   "file_extension": ".py",
   "mimetype": "text/x-python",
   "name": "python",
   "nbconvert_exporter": "python",
   "pygments_lexer": "ipython2",
   "version": "2.7.12"
  }
 },
 "nbformat": 4,
 "nbformat_minor": 0
}
