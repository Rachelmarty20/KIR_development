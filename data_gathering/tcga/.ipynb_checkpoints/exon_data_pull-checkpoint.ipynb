{
 "cells": [
  {
   "cell_type": "code",
   "execution_count": 12,
   "metadata": {
    "collapsed": false
   },
   "outputs": [
    {
     "name": "stdout",
     "output_type": "stream",
     "text": [
      "Populating the interactive namespace from numpy and matplotlib\n",
      "Populating the interactive namespace from numpy and matplotlib\n"
     ]
    },
    {
     "name": "stderr",
     "output_type": "stream",
     "text": [
      "WARNING: pylab import has clobbered these variables: ['normal']\n",
      "`%matplotlib` prevents importing * from pylab and numpy\n"
     ]
    }
   ],
   "source": [
    "import io\n",
    "from IPython.nbformat import current\n",
    "def execute_notebook(nbfile):\n",
    "    with io.open(nbfile) as f:\n",
    "        nb = current.read(f, 'json')\n",
    "    ip = get_ipython()\n",
    "    for cell in nb.worksheets[0].cells:\n",
    "        if cell.cell_type != 'code':\n",
    "            continue\n",
    "        ip.run_cell(cell.input)\n",
    "execute_notebook(\"/cellar/users/ramarty/Projects/kir/KIR_development/bin/imports.ipynb\")\n",
    "execute_notebook(\"/cellar/users/ramarty/Projects/kir/KIR_development/bin/samples.ipynb\")"
   ]
  },
  {
   "cell_type": "markdown",
   "metadata": {},
   "source": [
    "###Acquire samples to run"
   ]
  },
  {
   "cell_type": "code",
   "execution_count": 13,
   "metadata": {
    "collapsed": false
   },
   "outputs": [
    {
     "data": {
      "text/plain": [
       "(9105, 9105)"
      ]
     },
     "execution_count": 13,
     "metadata": {},
     "output_type": "execute_result"
    }
   ],
   "source": [
    "len(normal_samples), len(normal_barcodes)"
   ]
  },
  {
   "cell_type": "code",
   "execution_count": 17,
   "metadata": {
    "collapsed": true
   },
   "outputs": [],
   "source": [
    "out_dirs = ['/nrnb/users/ramarty/TCGA/exomes/{0}'.format(x) for x in normal_barcodes]"
   ]
  },
  {
   "cell_type": "code",
   "execution_count": 18,
   "metadata": {
    "collapsed": false
   },
   "outputs": [
    {
     "data": {
      "text/plain": [
       "['/nrnb/users/ramarty/TCGA/exomes/TCGA-HC-7737',\n",
       " '/nrnb/users/ramarty/TCGA/exomes/TCGA-EJ-5515',\n",
       " '/nrnb/users/ramarty/TCGA/exomes/TCGA-FP-8631',\n",
       " '/nrnb/users/ramarty/TCGA/exomes/TCGA-85-8352',\n",
       " '/nrnb/users/ramarty/TCGA/exomes/TCGA-CV-6943']"
      ]
     },
     "execution_count": 18,
     "metadata": {},
     "output_type": "execute_result"
    }
   ],
   "source": [
    "out_dirs[:5]"
   ]
  },
  {
   "cell_type": "markdown",
   "metadata": {},
   "source": [
    "###Create cluster script"
   ]
  },
  {
   "cell_type": "markdown",
   "metadata": {},
   "source": [
    "Download, convert to fastq, collect components, run PING, run HLA-HD <br>\n",
    "Put the different results in different locations?? Might want to start fresh with barcodes"
   ]
  },
  {
   "cell_type": "code",
   "execution_count": 23,
   "metadata": {
    "collapsed": true
   },
   "outputs": [],
   "source": [
    "def create_cluster_script_download(samples, barcodes, out_dirs):\n",
    "\n",
    "    new_script_file = '/cellar/users/ramarty/Projects/kir/KIR_development/data_gathering/tcga/exon_download.sh'\n",
    "\n",
    "    with open(new_script_file, 'w') as out_file:\n",
    "        out_file.write(\"#! /bin/csh\\n\")\n",
    "        out_file.write(\"#$ -V\\n\")\n",
    "        out_file.write(\"#$ -S /bin/csh\\n\")\n",
    "        out_file.write(\"#$ -o /cellar/users/ramarty/Data/kir/sge-system_files\\n\")\n",
    "        out_file.write(\"#$ -e /cellar/users/ramarty/Data/kir/sge-system_files\\n\")\n",
    "        out_file.write(\"#$ -cwd\\n\")\n",
    "        #out_file.write(\"#$ -t 1-{0}\\n\".format(len(samples)))\n",
    "        out_file.write(\"#$ -t 1-10\\n\".format(len(samples)))\n",
    "        out_file.write(\"#$ -l h_vmem=10G\\n\")\n",
    "        out_file.write(\"#$ -tc 200\\n\")\n",
    "        out_file.write(\"#$ -l long\")\n",
    "        out_file.write(\"\\n\")\n",
    "\n",
    "        out_file.write(\"set samples=({0})\\n\".format(\" \".join(samples)))\n",
    "        out_file.write(\"set barcodes=({0})\\n\".format(\" \".join(barcodes)))\n",
    "        out_file.write(\"set outs=({0})\\n\".format(\" \".join(out_dirs)))\n",
    "        out_file.write(\"\\n\")\n",
    "\n",
    "        out_file.write(\"set sample=$samples[$SGE_TASK_ID]\\n\")\n",
    "        out_file.write(\"set barcode=$barcodes[$SGE_TASK_ID]\\n\")\n",
    "        out_file.write(\"set out=$outs[$SGE_TASK_ID]\\n\")\n",
    "        out_file.write(\"\\n\")\n",
    "\n",
    "        out_file.write(\"date\\n\")\n",
    "        out_file.write(\"hostname\\n\")\n",
    "        \n",
    "        # Make directory\n",
    "        out_file.write(\"mkdir $out\\n\")\n",
    "        \n",
    "        # Download and process\n",
    "        out_file.write(\"bash /cellar/users/ramarty/Projects/kir/KIR_development/data_gathering/bin/GDC.exome.sh $sample $out/full_exome.bam\\n\")\n",
    "        out_file.write(\"python /cellar/users/ramarty/Projects/kir/scripts/python/convert_to_fastq.py $out/full_exome.bam $out/full_exome.fastq\\n\")\n",
    "        \n",
    "        out_file.write(\"date\\n\")"
   ]
  },
  {
   "cell_type": "code",
   "execution_count": 24,
   "metadata": {
    "collapsed": true
   },
   "outputs": [],
   "source": [
    "create_cluster_script_download(normal_samples, normal_barcodes, out_dirs)"
   ]
  },
  {
   "cell_type": "code",
   "execution_count": 14,
   "metadata": {
    "collapsed": true
   },
   "outputs": [],
   "source": [
    "def create_cluster_script_type(samples, barcodes, out_dirs):\n",
    "\n",
    "    new_script_file = '/cellar/users/ramarty/Projects/kir/KIR_development/data_gathering/tcga/exon_data_pull.sh'\n",
    "\n",
    "    with open(new_script_file, 'w') as out_file:\n",
    "        out_file.write(\"#! /bin/csh\\n\")\n",
    "        out_file.write(\"#$ -V\\n\")\n",
    "        out_file.write(\"#$ -S /bin/csh\\n\")\n",
    "        out_file.write(\"#$ -o /cellar/users/ramarty/Data/kir/sge-system_files\\n\")\n",
    "        out_file.write(\"#$ -e /cellar/users/ramarty/Data/kir/sge-system_files\\n\")\n",
    "        out_file.write(\"#$ -cwd\\n\")\n",
    "        out_file.write(\"#$ -t 1-{0}\\n\".format(len(samples)))\n",
    "        #out_file.write(\"#$ -t 1-10\\n\".format(len(samples)))\n",
    "        out_file.write(\"#$ -l h_vmem=10G\\n\")\n",
    "        out_file.write(\"#$ -tc 200\\n\")\n",
    "        out_file.write(\"#$ -l long\")\n",
    "        out_file.write(\"\\n\")\n",
    "\n",
    "        out_file.write(\"set samples=({0})\\n\".format(\" \".join(samples)))\n",
    "        out_file.write(\"set barcodes=({0})\\n\".format(\" \".join(barcodes)))\n",
    "        out_file.write(\"set outs=({0})\\n\".format(\" \".join(out_dirs)))\n",
    "        out_file.write(\"\\n\")\n",
    "\n",
    "        out_file.write(\"set sample=$samples[$SGE_TASK_ID]\\n\")\n",
    "        out_file.write(\"set barcode=$barcodes[$SGE_TASK_ID]\\n\")\n",
    "        out_file.write(\"set out=$outs[$SGE_TASK_ID]\\n\")\n",
    "        out_file.write(\"\\n\")\n",
    "\n",
    "        out_file.write(\"date\\n\")\n",
    "        out_file.write(\"hostname\\n\")\n",
    "        \n",
    "        # Make directories\n",
    "        out_file.write(\"mkdir $out/features\\n\")\n",
    "        out_file.write(\"mkdir $out/hlaHD\\n\")\n",
    "        \n",
    "        # Download and process\n",
    "        out_file.write(\"bash /cellar/users/ramarty/Projects/kir/KIR_development/data_gathering/bin/GDC.exome.sh $sample $out/full_exome.bam\\n\")\n",
    "        out_file.write(\"python /cellar/users/ramarty/Projects/kir/KIR_development/data_gathering/bin/convert_to_fastq.py $out/full_exome.bam $out/full_exome.fastq\\n\")\n",
    "        # /nrnb/users/ramarty/kir/TCGA/exomes\n",
    "        \n",
    "        \n",
    "        # Collect components\n",
    "        out_file.write(\"python /cellar/users/ramarty/Projects/kir/scripts/python/component_collection.py $out/full_exome.fastq $out/components\\n\")\n",
    "        \n",
    "        # ~/Data/kir/TCGA$ mkdir features_v1\n",
    "        \n",
    "        # Run PING\n",
    "        \n",
    "        # Run HLA-HD\n",
    "        \n",
    "        # Clean up\n",
    "        out_file.write(\"rm $out/full_exome.fastq\\n\")\n",
    "        out_file.write(\"rm $out/full_exome.bam\\n\")\n",
    "        out_file.write(\"date\\n\")"
   ]
  },
  {
   "cell_type": "code",
   "execution_count": null,
   "metadata": {
    "collapsed": true
   },
   "outputs": [],
   "source": []
  }
 ],
 "metadata": {
  "kernelspec": {
   "display_name": "Python 2",
   "language": "python",
   "name": "python2"
  },
  "language_info": {
   "codemirror_mode": {
    "name": "ipython",
    "version": 2
   },
   "file_extension": ".py",
   "mimetype": "text/x-python",
   "name": "python",
   "nbconvert_exporter": "python",
   "pygments_lexer": "ipython2",
   "version": "2.7.12"
  }
 },
 "nbformat": 4,
 "nbformat_minor": 0
}
