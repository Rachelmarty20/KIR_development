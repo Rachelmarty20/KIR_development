{
 "cells": [
  {
   "cell_type": "code",
   "execution_count": 2,
   "metadata": {},
   "outputs": [
    {
     "name": "stdout",
     "output_type": "stream",
     "text": [
      "Populating the interactive namespace from numpy and matplotlib\n",
      "Populating the interactive namespace from numpy and matplotlib\n",
      "Populating the interactive namespace from numpy and matplotlib\n"
     ]
    }
   ],
   "source": [
    "import io\n",
    "from IPython.nbformat import current\n",
    "def execute_notebook(nbfile):\n",
    "    with io.open(nbfile) as f:\n",
    "        nb = current.read(f, 'json')\n",
    "    ip = get_ipython()\n",
    "    for cell in nb.worksheets[0].cells:\n",
    "        if cell.cell_type != 'code':\n",
    "            continue\n",
    "        ip.run_cell(cell.input)\n",
    "execute_notebook(\"/cellar/users/ramarty/Projects/kir/KIR_development/bin/imports.ipynb\")\n",
    "execute_notebook(\"/cellar/users/ramarty/Projects/kir/KIR_development/data_gathering/alternate/sample_mapping.ipynb\")"
   ]
  },
  {
   "cell_type": "code",
   "execution_count": 6,
   "metadata": {},
   "outputs": [],
   "source": [
    "df = pd.read_csv('/cellar/users/ramarty/Data/kir/TCGA/data_frames/all_the_good_stuff.csv', index_col=0)"
   ]
  },
  {
   "cell_type": "code",
   "execution_count": 7,
   "metadata": {},
   "outputs": [
    {
     "name": "stdout",
     "output_type": "stream",
     "text": [
      "3501\n"
     ]
    },
    {
     "data": {
      "text/html": [
       "<div>\n",
       "<style scoped>\n",
       "    .dataframe tbody tr th:only-of-type {\n",
       "        vertical-align: middle;\n",
       "    }\n",
       "\n",
       "    .dataframe tbody tr th {\n",
       "        vertical-align: top;\n",
       "    }\n",
       "\n",
       "    .dataframe thead th {\n",
       "        text-align: right;\n",
       "    }\n",
       "</style>\n",
       "<table border=\"1\" class=\"dataframe\">\n",
       "  <thead>\n",
       "    <tr style=\"text-align: right;\">\n",
       "      <th></th>\n",
       "      <th>KIR3DL3</th>\n",
       "      <th>KIR3DP1</th>\n",
       "      <th>KIR2DL4</th>\n",
       "      <th>KIR3DL2</th>\n",
       "      <th>KIR2DP1</th>\n",
       "      <th>KIR2DL1</th>\n",
       "      <th>KIR2DS4</th>\n",
       "      <th>KIR2DL5</th>\n",
       "      <th>KIR2DS3</th>\n",
       "      <th>KIR2DS2</th>\n",
       "      <th>...</th>\n",
       "      <th>C2</th>\n",
       "      <th>A1_</th>\n",
       "      <th>A2_</th>\n",
       "      <th>B1_</th>\n",
       "      <th>B2_</th>\n",
       "      <th>C1_</th>\n",
       "      <th>C2_</th>\n",
       "      <th>activating</th>\n",
       "      <th>inhibitory</th>\n",
       "      <th>ratio</th>\n",
       "    </tr>\n",
       "  </thead>\n",
       "  <tbody>\n",
       "    <tr>\n",
       "      <th>TCGA-02-0047</th>\n",
       "      <td>2</td>\n",
       "      <td>2</td>\n",
       "      <td>2</td>\n",
       "      <td>2</td>\n",
       "      <td>1</td>\n",
       "      <td>1</td>\n",
       "      <td>2</td>\n",
       "      <td>0</td>\n",
       "      <td>0</td>\n",
       "      <td>1</td>\n",
       "      <td>...</td>\n",
       "      <td>C*03</td>\n",
       "      <td>A*02:01</td>\n",
       "      <td>A*32:01</td>\n",
       "      <td>B*15:01</td>\n",
       "      <td>B*15:01</td>\n",
       "      <td>C*03:03</td>\n",
       "      <td>C*03:03</td>\n",
       "      <td>5</td>\n",
       "      <td>11</td>\n",
       "      <td>0.454545</td>\n",
       "    </tr>\n",
       "    <tr>\n",
       "      <th>TCGA-02-0055</th>\n",
       "      <td>2</td>\n",
       "      <td>2</td>\n",
       "      <td>2</td>\n",
       "      <td>2</td>\n",
       "      <td>1</td>\n",
       "      <td>1</td>\n",
       "      <td>2</td>\n",
       "      <td>0</td>\n",
       "      <td>0</td>\n",
       "      <td>1</td>\n",
       "      <td>...</td>\n",
       "      <td>C*15</td>\n",
       "      <td>A*11:01</td>\n",
       "      <td>A*31:01</td>\n",
       "      <td>B*51:01</td>\n",
       "      <td>B*55:01</td>\n",
       "      <td>C*03:03</td>\n",
       "      <td>C*15:02</td>\n",
       "      <td>5</td>\n",
       "      <td>11</td>\n",
       "      <td>0.454545</td>\n",
       "    </tr>\n",
       "    <tr>\n",
       "      <th>TCGA-02-2483</th>\n",
       "      <td>3</td>\n",
       "      <td>3</td>\n",
       "      <td>2</td>\n",
       "      <td>3</td>\n",
       "      <td>3</td>\n",
       "      <td>3</td>\n",
       "      <td>0</td>\n",
       "      <td>1</td>\n",
       "      <td>0</td>\n",
       "      <td>0</td>\n",
       "      <td>...</td>\n",
       "      <td>C*12</td>\n",
       "      <td>A*03:01</td>\n",
       "      <td>A*11:01</td>\n",
       "      <td>B*07:02</td>\n",
       "      <td>B*52:01</td>\n",
       "      <td>C*07:02</td>\n",
       "      <td>C*12:02</td>\n",
       "      <td>11</td>\n",
       "      <td>14</td>\n",
       "      <td>0.785714</td>\n",
       "    </tr>\n",
       "    <tr>\n",
       "      <th>TCGA-02-2485</th>\n",
       "      <td>2</td>\n",
       "      <td>2</td>\n",
       "      <td>2</td>\n",
       "      <td>2</td>\n",
       "      <td>2</td>\n",
       "      <td>2</td>\n",
       "      <td>2</td>\n",
       "      <td>0</td>\n",
       "      <td>0</td>\n",
       "      <td>0</td>\n",
       "      <td>...</td>\n",
       "      <td>C*16</td>\n",
       "      <td>A*03:01</td>\n",
       "      <td>A*29:02</td>\n",
       "      <td>B*44:04</td>\n",
       "      <td>B*49:01</td>\n",
       "      <td>C*07:01</td>\n",
       "      <td>C*16:01</td>\n",
       "      <td>4</td>\n",
       "      <td>12</td>\n",
       "      <td>0.333333</td>\n",
       "    </tr>\n",
       "    <tr>\n",
       "      <th>TCGA-02-2486</th>\n",
       "      <td>3</td>\n",
       "      <td>3</td>\n",
       "      <td>2</td>\n",
       "      <td>3</td>\n",
       "      <td>0</td>\n",
       "      <td>0</td>\n",
       "      <td>3</td>\n",
       "      <td>0</td>\n",
       "      <td>0</td>\n",
       "      <td>3</td>\n",
       "      <td>...</td>\n",
       "      <td>C*07</td>\n",
       "      <td>A*03:01</td>\n",
       "      <td>A*03:01</td>\n",
       "      <td>B*07:02</td>\n",
       "      <td>B*07:02</td>\n",
       "      <td>C*07:02</td>\n",
       "      <td>C*07:02</td>\n",
       "      <td>8</td>\n",
       "      <td>14</td>\n",
       "      <td>0.571429</td>\n",
       "    </tr>\n",
       "  </tbody>\n",
       "</table>\n",
       "<p>5 rows × 64 columns</p>\n",
       "</div>"
      ],
      "text/plain": [
       "              KIR3DL3  KIR3DP1  KIR2DL4  KIR3DL2  KIR2DP1  KIR2DL1  KIR2DS4  \\\n",
       "TCGA-02-0047        2        2        2        2        1        1        2   \n",
       "TCGA-02-0055        2        2        2        2        1        1        2   \n",
       "TCGA-02-2483        3        3        2        3        3        3        0   \n",
       "TCGA-02-2485        2        2        2        2        2        2        2   \n",
       "TCGA-02-2486        3        3        2        3        0        0        3   \n",
       "\n",
       "              KIR2DL5  KIR2DS3  KIR2DS2    ...       C2      A1_      A2_  \\\n",
       "TCGA-02-0047        0        0        1    ...     C*03  A*02:01  A*32:01   \n",
       "TCGA-02-0055        0        0        1    ...     C*15  A*11:01  A*31:01   \n",
       "TCGA-02-2483        1        0        0    ...     C*12  A*03:01  A*11:01   \n",
       "TCGA-02-2485        0        0        0    ...     C*16  A*03:01  A*29:02   \n",
       "TCGA-02-2486        0        0        3    ...     C*07  A*03:01  A*03:01   \n",
       "\n",
       "                  B1_      B2_      C1_      C2_  activating  inhibitory  \\\n",
       "TCGA-02-0047  B*15:01  B*15:01  C*03:03  C*03:03           5          11   \n",
       "TCGA-02-0055  B*51:01  B*55:01  C*03:03  C*15:02           5          11   \n",
       "TCGA-02-2483  B*07:02  B*52:01  C*07:02  C*12:02          11          14   \n",
       "TCGA-02-2485  B*44:04  B*49:01  C*07:01  C*16:01           4          12   \n",
       "TCGA-02-2486  B*07:02  B*07:02  C*07:02  C*07:02           8          14   \n",
       "\n",
       "                 ratio  \n",
       "TCGA-02-0047  0.454545  \n",
       "TCGA-02-0055  0.454545  \n",
       "TCGA-02-2483  0.785714  \n",
       "TCGA-02-2485  0.333333  \n",
       "TCGA-02-2486  0.571429  \n",
       "\n",
       "[5 rows x 64 columns]"
      ]
     },
     "execution_count": 7,
     "metadata": {},
     "output_type": "execute_result"
    }
   ],
   "source": [
    "print len(df)\n",
    "df.head()"
   ]
  },
  {
   "cell_type": "markdown",
   "metadata": {},
   "source": [
    "Activating/inhibitory"
   ]
  },
  {
   "cell_type": "code",
   "execution_count": 8,
   "metadata": {},
   "outputs": [],
   "source": [
    "bad_ages = df.age_at_diagnosis < 10"
   ]
  },
  {
   "cell_type": "code",
   "execution_count": 9,
   "metadata": {},
   "outputs": [
    {
     "name": "stderr",
     "output_type": "stream",
     "text": [
      "/cellar/users/ramarty/anaconda/lib/python2.7/site-packages/matplotlib/axes/_axes.py:6462: UserWarning: The 'normed' kwarg is deprecated, and has been replaced by the 'density' kwarg.\n",
      "  warnings.warn(\"The 'normed' kwarg is deprecated, and has been \"\n",
      "/cellar/users/ramarty/anaconda/lib/python2.7/site-packages/matplotlib/axes/_axes.py:6462: UserWarning: The 'normed' kwarg is deprecated, and has been replaced by the 'density' kwarg.\n",
      "  warnings.warn(\"The 'normed' kwarg is deprecated, and has been \"\n"
     ]
    },
    {
     "data": {
      "text/plain": [
       "<seaborn.axisgrid.JointGrid at 0x7fcd66042a50>"
      ]
     },
     "execution_count": 9,
     "metadata": {},
     "output_type": "execute_result"
    },
    {
     "data": {
      "image/png": "[encoded data removed]",
      "text/plain": [
       "<Figure size 432x432 with 3 Axes>"
      ]
     },
     "metadata": {},
     "output_type": "display_data"
    }
   ],
   "source": [
    "sns.jointplot(df[~bad_ages].age_at_diagnosis, df[~bad_ages].inhibitory)"
   ]
  },
  {
   "cell_type": "code",
   "execution_count": 10,
   "metadata": {},
   "outputs": [
    {
     "name": "stdout",
     "output_type": "stream",
     "text": [
      "SpearmanrResult(correlation=0.014366318852098875, pvalue=0.4151774859048257)\n",
      "SpearmanrResult(correlation=-0.0036187518839580148, pvalue=0.8373883098287653)\n"
     ]
    }
   ],
   "source": [
    "print sp.spearmanr(df[~bad_ages].age_at_diagnosis, df[~bad_ages].inhibitory)\n",
    "print sp.spearmanr(df[~bad_ages].age_at_diagnosis, df[~bad_ages].activating)"
   ]
  },
  {
   "cell_type": "code",
   "execution_count": 11,
   "metadata": {},
   "outputs": [
    {
     "name": "stdout",
     "output_type": "stream",
     "text": [
      "GBM SpearmanrResult(correlation=-0.038722645388269895, pvalue=0.6605760412830624)\n",
      "OV SpearmanrResult(correlation=0.08150651917425619, pvalue=0.3491570096416766)\n",
      "LUAD SpearmanrResult(correlation=0.06837161000811148, pvalue=0.19746012106893554)\n",
      "PRAD SpearmanrResult(correlation=-0.0713295285300802, pvalue=0.22833449497886993)\n",
      "LUSC SpearmanrResult(correlation=-0.026110848154821314, pvalue=0.696871057079248)\n",
      "PAAD SpearmanrResult(correlation=-0.12157855290334232, pvalue=0.21890534160402003)\n",
      "KIRC SpearmanrResult(correlation=0.01945656227511721, pvalue=0.8274391483565388)\n",
      "KIRP SpearmanrResult(correlation=-0.15509454783881355, pvalue=0.19012787588408092)\n",
      "STAD SpearmanrResult(correlation=-0.12349258030949518, pvalue=0.06150922940866808)\n",
      "HNSC SpearmanrResult(correlation=0.03606366389044521, pvalue=0.4681113584889871)\n",
      "SKCM SpearmanrResult(correlation=0.1096448388097787, pvalue=0.3734233118800434)\n",
      "CESC SpearmanrResult(correlation=-0.0354898390972864, pvalue=0.8348132934977193)\n",
      "THCA SpearmanrResult(correlation=0.11355137093863504, pvalue=0.023478961002574898)\n",
      "BLCA SpearmanrResult(correlation=0.007003113435556174, pvalue=0.9242154015864359)\n",
      "LGG SpearmanrResult(correlation=0.010687723751137827, pvalue=0.8205377941661705)\n",
      "UCS SpearmanrResult(correlation=nan, pvalue=nan)\n",
      "PCPG SpearmanrResult(correlation=nan, pvalue=nan)\n",
      "UVM SpearmanrResult(correlation=nan, pvalue=nan)\n"
     ]
    }
   ],
   "source": [
    "for tissue in df.tissue.unique():\n",
    "    t = df.tissue == tissue\n",
    "    print tissue, sp.spearmanr(df[~bad_ages&t].age_at_diagnosis, df[~bad_ages&t].inhibitory)"
   ]
  },
  {
   "cell_type": "code",
   "execution_count": 12,
   "metadata": {},
   "outputs": [
    {
     "name": "stdout",
     "output_type": "stream",
     "text": [
      "GBM SpearmanrResult(correlation=0.13991672447897277, pvalue=0.11095332502072779)\n",
      "OV SpearmanrResult(correlation=-0.1935194435483928, pvalue=0.02506594224138824)\n",
      "LUAD SpearmanrResult(correlation=-0.04613596124045124, pvalue=0.38478201634300613)\n",
      "PRAD SpearmanrResult(correlation=0.05422931681702304, pvalue=0.3599988490581818)\n",
      "LUSC SpearmanrResult(correlation=-0.019654692809479183, pvalue=0.7693642191393065)\n",
      "PAAD SpearmanrResult(correlation=0.07012600270973078, pvalue=0.47933296542497406)\n",
      "KIRC SpearmanrResult(correlation=0.1588833778609077, pvalue=0.07324141808606406)\n",
      "KIRP SpearmanrResult(correlation=0.09448192728057253, pvalue=0.42655426659897433)\n",
      "STAD SpearmanrResult(correlation=-0.062035217586431456, pvalue=0.34897096888179313)\n",
      "HNSC SpearmanrResult(correlation=0.016543794476811615, pvalue=0.7393194077747378)\n",
      "SKCM SpearmanrResult(correlation=-0.1946454530094117, pvalue=0.11170328607585016)\n",
      "CESC SpearmanrResult(correlation=-0.40140673266907906, pvalue=0.013800807367204388)\n",
      "THCA SpearmanrResult(correlation=0.04630338862428375, pvalue=0.3568737123396153)\n",
      "BLCA SpearmanrResult(correlation=-0.026289164587627162, pvalue=0.7209793877307651)\n",
      "LGG SpearmanrResult(correlation=-0.009013200187445497, pvalue=0.8482835210080326)\n",
      "UCS SpearmanrResult(correlation=nan, pvalue=nan)\n",
      "PCPG SpearmanrResult(correlation=nan, pvalue=nan)\n",
      "UVM SpearmanrResult(correlation=nan, pvalue=nan)\n"
     ]
    }
   ],
   "source": [
    "for tissue in df.tissue.unique():\n",
    "    t = df.tissue == tissue\n",
    "    print tissue, sp.spearmanr(df[~bad_ages&t].age_at_diagnosis, df[~bad_ages&t].activating)"
   ]
  },
  {
   "cell_type": "markdown",
   "metadata": {},
   "source": [
    "Specific genes"
   ]
  },
  {
   "cell_type": "code",
   "execution_count": 13,
   "metadata": {},
   "outputs": [],
   "source": [
    "genes = ['KIR3DL3', 'KIR3DP1', 'KIR2DL4', 'KIR3DL2', 'KIR2DS2', 'KIR2DS3', 'KIR2DP1', \n",
    "         'KIR2DL1', 'KIR3DS1', 'KIR2DS5', 'KIR2DS4']"
   ]
  },
  {
   "cell_type": "code",
   "execution_count": 14,
   "metadata": {},
   "outputs": [
    {
     "name": "stdout",
     "output_type": "stream",
     "text": [
      "KIR3DL3 SpearmanrResult(correlation=0.04244264272752428, pvalue=0.01603203387319035)\n",
      "KIR3DP1 SpearmanrResult(correlation=0.006143506508553356, pvalue=0.7275192875716108)\n",
      "KIR2DL4 SpearmanrResult(correlation=0.014967132286265512, pvalue=0.3959389304268769)\n",
      "KIR3DL2 SpearmanrResult(correlation=0.029921360668625954, pvalue=0.0896312787515665)\n",
      "KIR2DS2 SpearmanrResult(correlation=0.006692836961569105, pvalue=0.7042548937944375)\n",
      "KIR2DS3 SpearmanrResult(correlation=0.0008345892223546207, pvalue=0.9622477755003994)\n",
      "KIR2DP1 SpearmanrResult(correlation=0.02226416242384465, pvalue=0.2066428772405206)\n",
      "KIR2DL1 SpearmanrResult(correlation=0.014108255867661705, pvalue=0.42360755229032543)\n",
      "KIR3DS1 SpearmanrResult(correlation=-0.012866912794291854, pvalue=0.46553272778941646)\n",
      "KIR2DS5 SpearmanrResult(correlation=0.004603962822284529, pvalue=0.794006574391139)\n",
      "KIR2DS4 SpearmanrResult(correlation=0.011502061697007966, pvalue=0.5141742764863275)\n"
     ]
    }
   ],
   "source": [
    "for gene in genes:\n",
    "    print gene, sp.spearmanr(df[~bad_ages][gene], df[~bad_ages].age_at_diagnosis)"
   ]
  },
  {
   "cell_type": "code",
   "execution_count": 16,
   "metadata": {
    "scrolled": false
   },
   "outputs": [
    {
     "name": "stdout",
     "output_type": "stream",
     "text": [
      "OV KIR3DS1 SpearmanrResult(correlation=-0.1711168321022543, pvalue=0.0480564631620378)\n",
      "PRAD KIR3DL2 SpearmanrResult(correlation=0.17329742952981808, pvalue=0.003225903188621298)\n",
      "PRAD KIR2DP1 SpearmanrResult(correlation=-0.13324991314302248, pvalue=0.02396925352056255)\n",
      "KIRP KIR2DS2 SpearmanrResult(correlation=0.23329029268307977, pvalue=0.04699666177636779)\n",
      "KIRP KIR2DL1 SpearmanrResult(correlation=-0.23196776404238467, pvalue=0.04829639537987043)\n",
      "STAD KIR3DP1 SpearmanrResult(correlation=-0.14894338243477975, pvalue=0.02387423762082846)\n",
      "STAD KIR2DL4 SpearmanrResult(correlation=-0.14894338243477975, pvalue=0.02387423762082846)\n",
      "CESC KIR3DS1 SpearmanrResult(correlation=-0.3380044591853746, pvalue=0.040747274963427754)\n",
      "THCA KIR3DL3 SpearmanrResult(correlation=0.1243837384235062, pvalue=0.013017371143146408)\n",
      "THCA KIR2DP1 SpearmanrResult(correlation=0.10000023646787173, pvalue=0.04618226016204349)\n"
     ]
    }
   ],
   "source": [
    "for tissue in df.tissue.unique():\n",
    "    t = df.tissue == tissue\n",
    "    for gene in genes:\n",
    "        if sp.spearmanr(df[~bad_ages&t][gene], df[~bad_ages&t].age_at_diagnosis)[1] < 0.05:\n",
    "            print tissue, gene, sp.spearmanr(df[~bad_ages&t][gene], df[~bad_ages&t].age_at_diagnosis)"
   ]
  },
  {
   "cell_type": "markdown",
   "metadata": {
    "collapsed": true
   },
   "source": [
    "## HLA/KIR combinations"
   ]
  },
  {
   "cell_type": "code",
   "execution_count": 17,
   "metadata": {},
   "outputs": [],
   "source": [
    "# maybe need to sort these in order to make the selections work?"
   ]
  },
  {
   "cell_type": "code",
   "execution_count": 18,
   "metadata": {},
   "outputs": [
    {
     "data": {
      "text/html": [
       "<div>\n",
       "<style scoped>\n",
       "    .dataframe tbody tr th:only-of-type {\n",
       "        vertical-align: middle;\n",
       "    }\n",
       "\n",
       "    .dataframe tbody tr th {\n",
       "        vertical-align: top;\n",
       "    }\n",
       "\n",
       "    .dataframe thead th {\n",
       "        text-align: right;\n",
       "    }\n",
       "</style>\n",
       "<table border=\"1\" class=\"dataframe\">\n",
       "  <thead>\n",
       "    <tr style=\"text-align: right;\">\n",
       "      <th></th>\n",
       "      <th>KIR3DL3</th>\n",
       "      <th>KIR3DP1</th>\n",
       "      <th>KIR2DL4</th>\n",
       "      <th>KIR3DL2</th>\n",
       "      <th>KIR2DP1</th>\n",
       "      <th>KIR2DL1</th>\n",
       "      <th>KIR2DS4</th>\n",
       "      <th>KIR2DL5</th>\n",
       "      <th>KIR2DS3</th>\n",
       "      <th>KIR2DS2</th>\n",
       "      <th>...</th>\n",
       "      <th>C2</th>\n",
       "      <th>A1_</th>\n",
       "      <th>A2_</th>\n",
       "      <th>B1_</th>\n",
       "      <th>B2_</th>\n",
       "      <th>C1_</th>\n",
       "      <th>C2_</th>\n",
       "      <th>activating</th>\n",
       "      <th>inhibitory</th>\n",
       "      <th>ratio</th>\n",
       "    </tr>\n",
       "  </thead>\n",
       "  <tbody>\n",
       "    <tr>\n",
       "      <th>TCGA-02-0047</th>\n",
       "      <td>2</td>\n",
       "      <td>2</td>\n",
       "      <td>2</td>\n",
       "      <td>2</td>\n",
       "      <td>1</td>\n",
       "      <td>1</td>\n",
       "      <td>2</td>\n",
       "      <td>0</td>\n",
       "      <td>0</td>\n",
       "      <td>1</td>\n",
       "      <td>...</td>\n",
       "      <td>C*03</td>\n",
       "      <td>A*02:01</td>\n",
       "      <td>A*32:01</td>\n",
       "      <td>B*15:01</td>\n",
       "      <td>B*15:01</td>\n",
       "      <td>C*03:03</td>\n",
       "      <td>C*03:03</td>\n",
       "      <td>5</td>\n",
       "      <td>11</td>\n",
       "      <td>0.454545</td>\n",
       "    </tr>\n",
       "    <tr>\n",
       "      <th>TCGA-02-0055</th>\n",
       "      <td>2</td>\n",
       "      <td>2</td>\n",
       "      <td>2</td>\n",
       "      <td>2</td>\n",
       "      <td>1</td>\n",
       "      <td>1</td>\n",
       "      <td>2</td>\n",
       "      <td>0</td>\n",
       "      <td>0</td>\n",
       "      <td>1</td>\n",
       "      <td>...</td>\n",
       "      <td>C*15</td>\n",
       "      <td>A*11:01</td>\n",
       "      <td>A*31:01</td>\n",
       "      <td>B*51:01</td>\n",
       "      <td>B*55:01</td>\n",
       "      <td>C*03:03</td>\n",
       "      <td>C*15:02</td>\n",
       "      <td>5</td>\n",
       "      <td>11</td>\n",
       "      <td>0.454545</td>\n",
       "    </tr>\n",
       "    <tr>\n",
       "      <th>TCGA-02-2483</th>\n",
       "      <td>3</td>\n",
       "      <td>3</td>\n",
       "      <td>2</td>\n",
       "      <td>3</td>\n",
       "      <td>3</td>\n",
       "      <td>3</td>\n",
       "      <td>0</td>\n",
       "      <td>1</td>\n",
       "      <td>0</td>\n",
       "      <td>0</td>\n",
       "      <td>...</td>\n",
       "      <td>C*12</td>\n",
       "      <td>A*03:01</td>\n",
       "      <td>A*11:01</td>\n",
       "      <td>B*07:02</td>\n",
       "      <td>B*52:01</td>\n",
       "      <td>C*07:02</td>\n",
       "      <td>C*12:02</td>\n",
       "      <td>11</td>\n",
       "      <td>14</td>\n",
       "      <td>0.785714</td>\n",
       "    </tr>\n",
       "    <tr>\n",
       "      <th>TCGA-02-2485</th>\n",
       "      <td>2</td>\n",
       "      <td>2</td>\n",
       "      <td>2</td>\n",
       "      <td>2</td>\n",
       "      <td>2</td>\n",
       "      <td>2</td>\n",
       "      <td>2</td>\n",
       "      <td>0</td>\n",
       "      <td>0</td>\n",
       "      <td>0</td>\n",
       "      <td>...</td>\n",
       "      <td>C*16</td>\n",
       "      <td>A*03:01</td>\n",
       "      <td>A*29:02</td>\n",
       "      <td>B*44:04</td>\n",
       "      <td>B*49:01</td>\n",
       "      <td>C*07:01</td>\n",
       "      <td>C*16:01</td>\n",
       "      <td>4</td>\n",
       "      <td>12</td>\n",
       "      <td>0.333333</td>\n",
       "    </tr>\n",
       "    <tr>\n",
       "      <th>TCGA-02-2486</th>\n",
       "      <td>3</td>\n",
       "      <td>3</td>\n",
       "      <td>2</td>\n",
       "      <td>3</td>\n",
       "      <td>0</td>\n",
       "      <td>0</td>\n",
       "      <td>3</td>\n",
       "      <td>0</td>\n",
       "      <td>0</td>\n",
       "      <td>3</td>\n",
       "      <td>...</td>\n",
       "      <td>C*07</td>\n",
       "      <td>A*03:01</td>\n",
       "      <td>A*03:01</td>\n",
       "      <td>B*07:02</td>\n",
       "      <td>B*07:02</td>\n",
       "      <td>C*07:02</td>\n",
       "      <td>C*07:02</td>\n",
       "      <td>8</td>\n",
       "      <td>14</td>\n",
       "      <td>0.571429</td>\n",
       "    </tr>\n",
       "  </tbody>\n",
       "</table>\n",
       "<p>5 rows × 64 columns</p>\n",
       "</div>"
      ],
      "text/plain": [
       "              KIR3DL3  KIR3DP1  KIR2DL4  KIR3DL2  KIR2DP1  KIR2DL1  KIR2DS4  \\\n",
       "TCGA-02-0047        2        2        2        2        1        1        2   \n",
       "TCGA-02-0055        2        2        2        2        1        1        2   \n",
       "TCGA-02-2483        3        3        2        3        3        3        0   \n",
       "TCGA-02-2485        2        2        2        2        2        2        2   \n",
       "TCGA-02-2486        3        3        2        3        0        0        3   \n",
       "\n",
       "              KIR2DL5  KIR2DS3  KIR2DS2    ...       C2      A1_      A2_  \\\n",
       "TCGA-02-0047        0        0        1    ...     C*03  A*02:01  A*32:01   \n",
       "TCGA-02-0055        0        0        1    ...     C*15  A*11:01  A*31:01   \n",
       "TCGA-02-2483        1        0        0    ...     C*12  A*03:01  A*11:01   \n",
       "TCGA-02-2485        0        0        0    ...     C*16  A*03:01  A*29:02   \n",
       "TCGA-02-2486        0        0        3    ...     C*07  A*03:01  A*03:01   \n",
       "\n",
       "                  B1_      B2_      C1_      C2_  activating  inhibitory  \\\n",
       "TCGA-02-0047  B*15:01  B*15:01  C*03:03  C*03:03           5          11   \n",
       "TCGA-02-0055  B*51:01  B*55:01  C*03:03  C*15:02           5          11   \n",
       "TCGA-02-2483  B*07:02  B*52:01  C*07:02  C*12:02          11          14   \n",
       "TCGA-02-2485  B*44:04  B*49:01  C*07:01  C*16:01           4          12   \n",
       "TCGA-02-2486  B*07:02  B*07:02  C*07:02  C*07:02           8          14   \n",
       "\n",
       "                 ratio  \n",
       "TCGA-02-0047  0.454545  \n",
       "TCGA-02-0055  0.454545  \n",
       "TCGA-02-2483  0.785714  \n",
       "TCGA-02-2485  0.333333  \n",
       "TCGA-02-2486  0.571429  \n",
       "\n",
       "[5 rows x 64 columns]"
      ]
     },
     "execution_count": 18,
     "metadata": {},
     "output_type": "execute_result"
    }
   ],
   "source": [
    "df.head()"
   ]
  },
  {
   "cell_type": "code",
   "execution_count": 19,
   "metadata": {},
   "outputs": [],
   "source": [
    "hla_a = [x.split(',')[1:3] for x in open('/cellar/users/ramarty/Data/kir/biological/combinations.hla_a.csv').readlines()[1:]]\n",
    "hla_b = [x.split(',')[1:3] for x in open('/cellar/users/ramarty/Data/kir/biological/combinations.hla_b.csv').readlines()[1:]]\n",
    "hla_c = [x.split(',')[1:3] for x in open('/cellar/users/ramarty/Data/kir/biological/combinations.hla_c.csv').readlines()[1:]]"
   ]
  },
  {
   "cell_type": "code",
   "execution_count": 20,
   "metadata": {},
   "outputs": [],
   "source": [
    "# try both 0 vs 1/2/3 and 0/1 vs 2/3"
   ]
  },
  {
   "cell_type": "code",
   "execution_count": 21,
   "metadata": {},
   "outputs": [
    {
     "name": "stdout",
     "output_type": "stream",
     "text": [
      "KIR3DL2 A*02 A*68 SpearmanrResult(correlation=0.2070404787909658, pvalue=0.04297143472245859)\n"
     ]
    }
   ],
   "source": [
    "for gene in genes:\n",
    "    for hla1, hla2 in hla_a:\n",
    "        h = (df.A1 == hla1)&(df.A2 == hla2)\n",
    "        if sp.spearmanr(df[~bad_ages&h][gene], df[~bad_ages&h].age_at_diagnosis)[1] < 0.05:\n",
    "            print gene, hla1, hla2, sp.spearmanr(df[~bad_ages&h][gene], df[~bad_ages&h].age_at_diagnosis)"
   ]
  },
  {
   "cell_type": "code",
   "execution_count": 22,
   "metadata": {},
   "outputs": [
    {
     "name": "stdout",
     "output_type": "stream",
     "text": [
      "KIR3DL3 B*07 B*07 SpearmanrResult(correlation=0.27804156793462514, pvalue=0.028663023282738738)\n",
      "KIR3DL2 B*08 B*35 SpearmanrResult(correlation=-0.2867060763709404, pvalue=0.03059926457020235)\n",
      "KIR2DS2 B*08 B*44 SpearmanrResult(correlation=0.23637076656779488, pvalue=0.02751265370380805)\n",
      "KIR2DS2 B*08 B*40 SpearmanrResult(correlation=0.47030068735874714, pvalue=0.002517702630277892)\n",
      "KIR2DS3 B*08 B*40 SpearmanrResult(correlation=0.4195938686895245, pvalue=0.007835544121023249)\n",
      "KIR2DP1 B*07 B*07 SpearmanrResult(correlation=0.2780296372584947, pvalue=0.02867014483304514)\n",
      "KIR3DS1 B*07 B*15 SpearmanrResult(correlation=-0.38201645755816055, pvalue=0.0009285232903883552)\n",
      "KIR3DS1 B*40 B*44 SpearmanrResult(correlation=0.30617899601774395, pvalue=0.021734480808261694)\n",
      "KIR2DS4 B*07 B*15 SpearmanrResult(correlation=0.29272470776993714, pvalue=0.012585056570648817)\n"
     ]
    }
   ],
   "source": [
    "for gene in genes:\n",
    "    for hla1, hla2 in hla_b:\n",
    "        h = (df.B1 == hla1)&(df.B2 == hla2)\n",
    "        if sp.spearmanr(df[~bad_ages&h][gene], df[~bad_ages&h].age_at_diagnosis)[1] < 0.05:\n",
    "            print gene, hla1, hla2, sp.spearmanr(df[~bad_ages&h][gene], df[~bad_ages&h].age_at_diagnosis)"
   ]
  },
  {
   "cell_type": "code",
   "execution_count": 23,
   "metadata": {},
   "outputs": [
    {
     "name": "stdout",
     "output_type": "stream",
     "text": [
      "KIR3DL3 C*03 C*05 SpearmanrResult(correlation=0.25659056068498065, pvalue=0.018470649701166648)\n",
      "KIR2DL1 C*04 C*12 SpearmanrResult(correlation=0.27873019989234354, pvalue=0.018583182342342543)\n",
      "KIR3DS1 C*03 C*05 SpearmanrResult(correlation=0.23508560817151664, pvalue=0.03135200309570093)\n",
      "KIR2DS5 C*04 C*05 SpearmanrResult(correlation=-0.347440570076469, pvalue=0.015537782438782208)\n",
      "KIR2DS4 C*04 C*05 SpearmanrResult(correlation=0.3040398563339178, pvalue=0.035645797378579314)\n"
     ]
    }
   ],
   "source": [
    "for gene in genes:\n",
    "    for hla1, hla2 in hla_c:\n",
    "        h = (df.C1 == hla1)&(df.C2 == hla2)\n",
    "        if sp.spearmanr(df[~bad_ages&h][gene], df[~bad_ages&h].age_at_diagnosis)[1] < 0.05:\n",
    "            print gene, hla1, hla2, sp.spearmanr(df[~bad_ages&h][gene], df[~bad_ages&h].age_at_diagnosis)"
   ]
  },
  {
   "cell_type": "code",
   "execution_count": null,
   "metadata": {
    "collapsed": true
   },
   "outputs": [],
   "source": []
  }
 ],
 "metadata": {
  "kernelspec": {
   "display_name": "Python 2",
   "language": "python",
   "name": "python2"
  },
  "language_info": {
   "codemirror_mode": {
    "name": "ipython",
    "version": 2
   },
   "file_extension": ".py",
   "mimetype": "text/x-python",
   "name": "python",
   "nbconvert_exporter": "python",
   "pygments_lexer": "ipython2",
   "version": "2.7.15"
  }
 },
 "nbformat": 4,
 "nbformat_minor": 1
}
