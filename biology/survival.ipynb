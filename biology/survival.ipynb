{
 "cells": [
  {
   "cell_type": "code",
   "execution_count": 1,
   "metadata": {
    "scrolled": true
   },
   "outputs": [
    {
     "name": "stderr",
     "output_type": "stream",
     "text": [
      "/cellar/users/ramarty/anaconda/lib/python2.7/site-packages/IPython/nbformat.py:13: ShimWarning: The `IPython.nbformat` package has been deprecated since IPython 4.0. You should import from nbformat instead.\n",
      "  \"You should import from nbformat instead.\", ShimWarning)\n",
      "/cellar/users/ramarty/anaconda/lib/python2.7/site-packages/nbformat/current.py:19: UserWarning: nbformat.current is deprecated.\n",
      "\n",
      "- use nbformat for read/write/validate public API\n",
      "- use nbformat.vX directly to composing notebooks of a particular version\n",
      "\n",
      "  \"\"\")\n"
     ]
    },
    {
     "name": "stdout",
     "output_type": "stream",
     "text": [
      "Populating the interactive namespace from numpy and matplotlib\n",
      "Populating the interactive namespace from numpy and matplotlib\n",
      "Populating the interactive namespace from numpy and matplotlib\n"
     ]
    }
   ],
   "source": [
    "import io\n",
    "from IPython.nbformat import current\n",
    "def execute_notebook(nbfile):\n",
    "    with io.open(nbfile) as f:\n",
    "        nb = current.read(f, 'json')\n",
    "    ip = get_ipython()\n",
    "    for cell in nb.worksheets[0].cells:\n",
    "        if cell.cell_type != 'code':\n",
    "            continue\n",
    "        ip.run_cell(cell.input)\n",
    "execute_notebook(\"/cellar/users/ramarty/Projects/kir/KIR_development/bin/imports.ipynb\")\n",
    "execute_notebook(\"/cellar/users/ramarty/Projects/kir/KIR_development/data_gathering/alternate/sample_mapping.ipynb\")"
   ]
  },
  {
   "cell_type": "code",
   "execution_count": 2,
   "metadata": {},
   "outputs": [],
   "source": [
    "import lifelines\n",
    "from lifelines.statistics import logrank_test\n",
    "from lifelines import KaplanMeierFitter\n",
    "from lifelines import CoxPHFitter\n",
    "import warnings\n",
    "warnings.filterwarnings('ignore')"
   ]
  },
  {
   "cell_type": "code",
   "execution_count": 3,
   "metadata": {},
   "outputs": [],
   "source": [
    "hnsc_clinical = pd.read_csv('/cellar/users/ramarty/Data/kir/TCGA/hnsc_clinical/viral_status.csv', index_col=0)"
   ]
  },
  {
   "cell_type": "code",
   "execution_count": 4,
   "metadata": {},
   "outputs": [
    {
     "name": "stdout",
     "output_type": "stream",
     "text": [
      "3501\n"
     ]
    }
   ],
   "source": [
    "df = pd.read_csv('/cellar/users/ramarty/Data/kir/TCGA/data_frames/all_the_good_stuff.excluded_close_boundaries.csv', index_col=0)\n",
    "print len(df)"
   ]
  },
  {
   "cell_type": "code",
   "execution_count": 5,
   "metadata": {},
   "outputs": [
    {
     "data": {
      "text/plain": [
       "<matplotlib.axes._subplots.AxesSubplot at 0x7fc28c142390>"
      ]
     },
     "execution_count": 5,
     "metadata": {},
     "output_type": "execute_result"
    },
    {
     "data": {
      "image/png": "[encoded data removed]",
      "text/plain": [
       "<Figure size 432x288 with 1 Axes>"
      ]
     },
     "metadata": {},
     "output_type": "display_data"
    }
   ],
   "source": [
    "df[df.tissue == 'CESC'][['CD4_Tcells', u'CD8_Tcells', u'Endothelial', u'Macrophages',\n",
    "       u'NKcells', u'otherCells']].boxplot()"
   ]
  },
  {
   "cell_type": "code",
   "execution_count": 6,
   "metadata": {},
   "outputs": [
    {
     "data": {
      "text/plain": [
       "<matplotlib.axes._subplots.AxesSubplot at 0x7fc28c1423d0>"
      ]
     },
     "execution_count": 6,
     "metadata": {},
     "output_type": "execute_result"
    },
    {
     "data": {
      "image/png": "[encoded data removed]",
      "text/plain": [
       "<Figure size 432x288 with 1 Axes>"
      ]
     },
     "metadata": {},
     "output_type": "display_data"
    }
   ],
   "source": [
    "df[df.tissue == 'UCS'][['CD4_Tcells', u'CD8_Tcells', u'Endothelial', u'Macrophages',\n",
    "       u'NKcells', u'otherCells']].boxplot()"
   ]
  },
  {
   "cell_type": "code",
   "execution_count": 7,
   "metadata": {},
   "outputs": [],
   "source": [
    "def combine_days(x):\n",
    "    to_death = x[0]\n",
    "    follow_up = x[1]\n",
    "    try:\n",
    "        return float(to_death)\n",
    "    except:\n",
    "        return float(follow_up)\n",
    "def observed_death(x):\n",
    "    if x == 'Alive':\n",
    "        return False\n",
    "    else:\n",
    "        return True"
   ]
  },
  {
   "cell_type": "code",
   "execution_count": 8,
   "metadata": {},
   "outputs": [],
   "source": [
    "df['days'] = df[['days_to_death', 'days_to_last_followup']].apply(combine_days, axis=1)\n",
    "df['observed_event'] = df['vital_status'].apply(observed_death)"
   ]
  },
  {
   "cell_type": "code",
   "execution_count": 9,
   "metadata": {},
   "outputs": [],
   "source": [
    "patient_affinities = pd.read_csv('/cellar/users/ramarty/Data/hla/git_data/data/patient_affinities.cancer.PHBR.csv',\n",
    "                                index_col=0)\n",
    "patient_mutations = pd.read_csv('/cellar/users/ramarty/Data/hla/git_data/data/patient_mutations.cancer.PHBR.csv',\n",
    "                                index_col=0)"
   ]
  },
  {
   "cell_type": "code",
   "execution_count": 14,
   "metadata": {},
   "outputs": [],
   "source": [
    "t = (df.tissue == 'CESC')|(df.tissue == 'UCS')"
   ]
  },
  {
   "cell_type": "code",
   "execution_count": 15,
   "metadata": {},
   "outputs": [],
   "source": [
    "many_patients = list(df[t][inhibitory].index)\n",
    "few_patients = (list(df[t][~inhibitory].index))\n",
    "other_patients = [x for x in df.index if x not in many_patients+few_patients and x in patient_affinities.index]"
   ]
  },
  {
   "cell_type": "code",
   "execution_count": 16,
   "metadata": {},
   "outputs": [],
   "source": [
    "uc_observed, other_observed = [], []\n",
    "for mutation in patient_affinities.columns:\n",
    "    uc_observed.extend(list(patient_affinities.loc[few_patients+many_patients][patient_mutations[mutation].astype(bool)][mutation]))\n",
    "    other_observed.extend(list(patient_affinities.loc[other_patients][patient_mutations[mutation].astype(bool)][mutation]))\n",
    "plotting_df = pd.DataFrame({'PHBR': uc_observed + other_observed,\n",
    "                           'Tissue': ['CESC or UCS' for x in uc_observed] + ['Other' for x in other_observed]})"
   ]
  },
  {
   "cell_type": "code",
   "execution_count": 17,
   "metadata": {},
   "outputs": [],
   "source": [
    "uc_observed, other_observed = [], []\n",
    "for mutation in patient_affinities.columns:\n",
    "    uc_observed.extend(list(patient_affinities.loc[few_patients][patient_mutations[mutation].astype(bool)][mutation]))\n",
    "    other_observed.extend(list(patient_affinities.loc[many_patients][patient_mutations[mutation].astype(bool)][mutation]))\n",
    "plotting_df_specifc = pd.DataFrame({'PHBR': uc_observed + other_observed,\n",
    "                           'Tissue': ['Few' for x in uc_observed] + ['Many' for x in other_observed]})"
   ]
  },
  {
   "cell_type": "markdown",
   "metadata": {},
   "source": [
    "### Tissue dependent"
   ]
  },
  {
   "cell_type": "markdown",
   "metadata": {},
   "source": [
    "Activating/inhibitory"
   ]
  },
  {
   "cell_type": "code",
   "execution_count": 18,
   "metadata": {
    "scrolled": true
   },
   "outputs": [
    {
     "data": {
      "text/plain": [
       "86"
      ]
     },
     "execution_count": 18,
     "metadata": {},
     "output_type": "execute_result"
    }
   ],
   "source": [
    "len(df[(df.tissue == 'CESC')|(df.tissue == 'UCS')])"
   ]
  },
  {
   "cell_type": "code",
   "execution_count": 21,
   "metadata": {
    "scrolled": true
   },
   "outputs": [
    {
     "data": {
      "image/png": "[encoded data removed]",
      "text/plain": [
       "<Figure size 1152x252 with 2 Axes>"
      ]
     },
     "metadata": {},
     "output_type": "display_data"
    }
   ],
   "source": [
    "fig = plt.figure(figsize=(16, 3.5))\n",
    "num_rows, num_columns = 1, 14\n",
    "\n",
    "ax0 = plt.subplot2grid((num_rows, num_columns), (0, 0), rowspan=1, colspan=4)\n",
    "kmf = KaplanMeierFitter()\n",
    "t = (df.tissue == 'CESC')|(df.tissue == 'UCS')\n",
    "inhibitory = df[t].inhibitory > df[t].inhibitory.quantile(0.5)\n",
    "\n",
    "T = df[t].days\n",
    "C = df[t].observed_event\n",
    "\n",
    "results = logrank_test(T[inhibitory], T[~inhibitory], C[inhibitory], \n",
    "                       C[~inhibitory], alpha=.99 )\n",
    "kmf.fit(T[inhibitory], event_observed=C[inhibitory], \n",
    "        label=\"Many Inhibitory Genes (n={0})\".format(len(T[inhibitory])))\n",
    "kmf.plot(ax=ax0, ci_force_lines=False, color=sns.color_palette(\"Paired\")[0])\n",
    "kmf.fit(T[~inhibitory], event_observed=C[~inhibitory], \n",
    "        label=\"Few Inhibitory Genes (n={0})\".format(len(T[~inhibitory])))\n",
    "kmf.plot(ax=ax0, ci_force_lines=False, color=sns.color_palette(\"Paired\")[1])\n",
    "plt.xlim(0, 1825)\n",
    "plt.xlabel('Days')\n",
    "plt.ylabel('Survival')\n",
    "plt.text(1200, .76, 'Adj P: {0}'.format(round(results.p_value, 4)*17))\n",
    "plt.text(-200, 1.1, 'A', size= 20)\n",
    "\n",
    "ax1 = plt.subplot2grid((num_rows, num_columns), (0, 5), rowspan=1, colspan=3)\n",
    "sns.boxplot(x='Tissue', y='PHBR', data=plotting_df, \n",
    "            palette=[sns.color_palette(\"Blues\",5)[2], 'darkgrey'])\n",
    "plt.ylabel('PHBR of driver mutations')\n",
    "plt.text(-0.4, 32, 'P: {0}'.format(round(sp.mannwhitneyu(uc_observed, other_observed)[1], 4)))\n",
    "plt.text(-1, 36, 'B', size= 20)\n",
    "\n",
    "#ax2 = plt.subplot2grid((num_rows, num_columns), (0, 9), rowspan=1, colspan=3)\n",
    "#sns.boxplot(x='Inhibitory Genes', y='CD8 Tcells', data=tmp, \n",
    "#            palette=sns.color_palette(\"Paired\"))\n",
    "#plt.text(-.4, 0.055, 'P: {0}'.format(round(sp.mannwhitneyu(tmp[tmp['Inhibitory Genes'] == 'Many']['CD8 Tcells'],\n",
    "#               tmp[tmp['Inhibitory Genes'] == 'Few']['CD8 Tcells'])[1], 4)))\n",
    "#plt.text(-1, 0.062, 'C', size= 20)\n",
    "\n",
    "# add p-values, adjust placement of p-values\n",
    "\n",
    "plt.savefig('/cellar/users/ramarty/Data/kir/manuscript_figures/figure_7.pdf', bbox_inches='tight')"
   ]
  },
  {
   "cell_type": "code",
   "execution_count": 42,
   "metadata": {},
   "outputs": [
    {
     "data": {
      "text/plain": [
       "0.0111"
      ]
     },
     "execution_count": 42,
     "metadata": {},
     "output_type": "execute_result"
    }
   ],
   "source": [
    "round(sp.mannwhitneyu(tmp[tmp['Inhibitory Genes'] == 'Many']['CD8 Tcells'],\n",
    "               tmp[tmp['Inhibitory Genes'] == 'Few']['CD8 Tcells'])[1], 4)"
   ]
  },
  {
   "cell_type": "code",
   "execution_count": 43,
   "metadata": {},
   "outputs": [
    {
     "name": "stdout",
     "output_type": "stream",
     "text": [
      "0.00035518930174415316\n"
     ]
    },
    {
     "data": {
      "text/plain": [
       "Text(1250,0.8,'P-value: 0.00036')"
      ]
     },
     "execution_count": 43,
     "metadata": {},
     "output_type": "execute_result"
    },
    {
     "data": {
      "image/png": "[encoded data removed]",
      "text/plain": [
       "<Figure size 432x288 with 1 Axes>"
      ]
     },
     "metadata": {},
     "output_type": "display_data"
    }
   ],
   "source": [
    "kmf = KaplanMeierFitter()\n",
    "t = (df.tissue == 'CESC')|(df.tissue == 'UCS')\n",
    "inhibitory = df[t].inhibitory > df[t].inhibitory.quantile(0.5)\n",
    "\n",
    "T = df[t].days\n",
    "C = df[t].observed_event\n",
    "\n",
    "results = logrank_test(T[inhibitory], T[~inhibitory], C[inhibitory], \n",
    "                       C[~inhibitory], alpha=.99 )\n",
    "if results.p_value < 0.05:\n",
    "    print results.p_value\n",
    "    ax = plt.subplot(111)\n",
    "    kmf.fit(T[inhibitory], event_observed=C[inhibitory], \n",
    "            label=\"Many Inhibitory Genes (n={0})\".format(len(T[inhibitory])))\n",
    "    kmf.plot(ax=ax, ci_force_lines=False, color=sns.color_palette(\"Paired\")[0])\n",
    "    kmf.fit(T[~inhibitory], event_observed=C[~inhibitory], \n",
    "            label=\"Few Inhibitory Genes (n={0})\".format(len(T[~inhibitory])))\n",
    "    kmf.plot(ax=ax, ci_force_lines=False, color=sns.color_palette(\"Paired\")[1])\n",
    "    plt.xlim(0, 1825)\n",
    "    plt.xlabel('Days')\n",
    "    plt.ylabel('Survival')\n",
    "plt.text(1250, .8, 'P-value: {0}'.format(round(results.p_value, 5)))\n",
    "    "
   ]
  },
  {
   "cell_type": "code",
   "execution_count": 60,
   "metadata": {},
   "outputs": [
    {
     "data": {
      "text/plain": [
       "Text(0,0.5,'PHBR-I of driver mutations')"
      ]
     },
     "execution_count": 60,
     "metadata": {},
     "output_type": "execute_result"
    },
    {
     "data": {
      "image/png": "[encoded data removed]",
      "text/plain": [
       "<Figure size 432x288 with 1 Axes>"
      ]
     },
     "metadata": {},
     "output_type": "display_data"
    }
   ],
   "source": [
    "sns.boxplot(x='Tissue', y='PHBR', data=plotting_df, \n",
    "            palette=[sns.color_palette(\"Blues\",5)[2], 'darkgrey'])\n",
    "plt.ylabel('PHBR-I of driver mutations')"
   ]
  },
  {
   "cell_type": "code",
   "execution_count": 64,
   "metadata": {},
   "outputs": [
    {
     "data": {
      "text/plain": [
       "Text(0,0.5,'PHBR-I of driver mutations')"
      ]
     },
     "execution_count": 64,
     "metadata": {},
     "output_type": "execute_result"
    },
    {
     "data": {
      "image/png": "[encoded data removed]",
      "text/plain": [
       "<Figure size 432x288 with 1 Axes>"
      ]
     },
     "metadata": {},
     "output_type": "display_data"
    }
   ],
   "source": [
    "sns.boxplot(x='Tissue', y='PHBR', data=plotting_df_specifc, \n",
    "            palette=[sns.color_palette(\"Blues\",5)[2], 'darkgrey'])\n",
    "plt.ylabel('PHBR-I of driver mutations')"
   ]
  },
  {
   "cell_type": "code",
   "execution_count": 65,
   "metadata": {},
   "outputs": [
    {
     "data": {
      "text/plain": [
       "MannwhitneyuResult(statistic=1198.0, pvalue=0.34771175281376276)"
      ]
     },
     "execution_count": 65,
     "metadata": {},
     "output_type": "execute_result"
    }
   ],
   "source": [
    "sp.mannwhitneyu(plotting_df_specifc[plotting_df_specifc.Tissue == 'Few'].PHBR,\n",
    "               plotting_df_specifc[plotting_df_specifc.Tissue == 'Many'].PHBR)"
   ]
  },
  {
   "cell_type": "code",
   "execution_count": 45,
   "metadata": {},
   "outputs": [
    {
     "data": {
      "text/plain": [
       "Index([u'KIR3DL3', u'KIR3DP1', u'KIR2DL4', u'KIR3DL2', u'KIR2DP1', u'KIR2DL1',\n",
       "       u'KIR2DS4', u'KIR2DS3', u'KIR2DS2', u'KIR2DS5', u'KIR3DS1', u'KIR2DS1',\n",
       "       u'KIR2DL2', u'KIR3DL1', u'KIR2DL3', u'KIR2DL5A', u'age_at_diagnosis',\n",
       "       u'days_to_death', u'days_to_last_followup', u'ethnicity', u'gender',\n",
       "       u'race', u'tissue', u'vital_status', u'B cells naive',\n",
       "       u'B cells memory', u'Plasma cells', u'T cells CD8',\n",
       "       u'T cells CD4 naive', u'T cells CD4 memory resting',\n",
       "       u'T cells CD4 memory activated', u'T cells follicular helper',\n",
       "       u'T cells regulatory (Tregs)', u'T cells gamma delta',\n",
       "       u'NK cells resting', u'NK cells activated', u'Monocytes',\n",
       "       u'Macrophages M0', u'Macrophages M1', u'Macrophages M2',\n",
       "       u'Dendritic cells resting', u'Dendritic cells activated',\n",
       "       u'Mast cells resting', u'Mast cells activated', u'Eosinophils',\n",
       "       u'Neutrophils', u'P-value', u'Pearson Correlation', u'RMSE', u'Bcells',\n",
       "       u'CAFs', u'CD4_Tcells', u'CD8_Tcells', u'Endothelial', u'Macrophages',\n",
       "       u'NKcells', u'otherCells', u'A1', u'A2', u'B1', u'B2', u'C1', u'C2',\n",
       "       u'A1_', u'A2_', u'B1_', u'B2_', u'C1_', u'C2_', u'activating',\n",
       "       u'inhibitory', u'ratio', u'days', u'observed_event'],\n",
       "      dtype='object')"
      ]
     },
     "execution_count": 45,
     "metadata": {},
     "output_type": "execute_result"
    }
   ],
   "source": [
    "df.columns"
   ]
  },
  {
   "cell_type": "code",
   "execution_count": 63,
   "metadata": {},
   "outputs": [],
   "source": [
    "tmp = pd.DataFrame({'CD8 Tcells': list(df[t][inhibitory]['CD8_Tcells']) + list(df[t][~inhibitory]['CD8_Tcells']),\n",
    "                    'NKcells': list(df[t][inhibitory]['NKcells']) + list(df[t][~inhibitory]['NKcells']),\n",
    "              'Inhibitory Genes': ['Many' for x in df[t][inhibitory].days] + ['Few' for x in df[t][~inhibitory].days]})"
   ]
  },
  {
   "cell_type": "code",
   "execution_count": 47,
   "metadata": {
    "scrolled": true
   },
   "outputs": [
    {
     "data": {
      "text/html": [
       "<div>\n",
       "<style scoped>\n",
       "    .dataframe tbody tr th:only-of-type {\n",
       "        vertical-align: middle;\n",
       "    }\n",
       "\n",
       "    .dataframe tbody tr th {\n",
       "        vertical-align: top;\n",
       "    }\n",
       "\n",
       "    .dataframe thead th {\n",
       "        text-align: right;\n",
       "    }\n",
       "</style>\n",
       "<table border=\"1\" class=\"dataframe\">\n",
       "  <thead>\n",
       "    <tr style=\"text-align: right;\">\n",
       "      <th></th>\n",
       "      <th>CD8 Tcells</th>\n",
       "      <th>Inhibitory Genes</th>\n",
       "      <th>NKcells</th>\n",
       "    </tr>\n",
       "  </thead>\n",
       "  <tbody>\n",
       "    <tr>\n",
       "      <th>0</th>\n",
       "      <td>2.987146e-06</td>\n",
       "      <td>Many</td>\n",
       "      <td>4.384432e-09</td>\n",
       "    </tr>\n",
       "    <tr>\n",
       "      <th>1</th>\n",
       "      <td>3.951459e-02</td>\n",
       "      <td>Many</td>\n",
       "      <td>1.245049e-09</td>\n",
       "    </tr>\n",
       "    <tr>\n",
       "      <th>2</th>\n",
       "      <td>4.954911e-03</td>\n",
       "      <td>Many</td>\n",
       "      <td>1.421358e-08</td>\n",
       "    </tr>\n",
       "    <tr>\n",
       "      <th>3</th>\n",
       "      <td>6.662363e-06</td>\n",
       "      <td>Many</td>\n",
       "      <td>1.078845e-08</td>\n",
       "    </tr>\n",
       "    <tr>\n",
       "      <th>4</th>\n",
       "      <td>3.421975e-02</td>\n",
       "      <td>Many</td>\n",
       "      <td>2.025058e-10</td>\n",
       "    </tr>\n",
       "    <tr>\n",
       "      <th>5</th>\n",
       "      <td>1.886285e-02</td>\n",
       "      <td>Many</td>\n",
       "      <td>2.309172e-03</td>\n",
       "    </tr>\n",
       "    <tr>\n",
       "      <th>6</th>\n",
       "      <td>2.176839e-06</td>\n",
       "      <td>Many</td>\n",
       "      <td>9.481984e-05</td>\n",
       "    </tr>\n",
       "    <tr>\n",
       "      <th>7</th>\n",
       "      <td>7.033154e-03</td>\n",
       "      <td>Many</td>\n",
       "      <td>1.323544e-08</td>\n",
       "    </tr>\n",
       "    <tr>\n",
       "      <th>8</th>\n",
       "      <td>1.434282e-02</td>\n",
       "      <td>Many</td>\n",
       "      <td>2.710258e-09</td>\n",
       "    </tr>\n",
       "    <tr>\n",
       "      <th>9</th>\n",
       "      <td>6.489790e-05</td>\n",
       "      <td>Many</td>\n",
       "      <td>3.834009e-07</td>\n",
       "    </tr>\n",
       "    <tr>\n",
       "      <th>10</th>\n",
       "      <td>1.394168e-02</td>\n",
       "      <td>Many</td>\n",
       "      <td>7.689633e-09</td>\n",
       "    </tr>\n",
       "    <tr>\n",
       "      <th>11</th>\n",
       "      <td>2.886706e-02</td>\n",
       "      <td>Many</td>\n",
       "      <td>5.672565e-09</td>\n",
       "    </tr>\n",
       "    <tr>\n",
       "      <th>12</th>\n",
       "      <td>5.993131e-07</td>\n",
       "      <td>Many</td>\n",
       "      <td>9.900065e-08</td>\n",
       "    </tr>\n",
       "    <tr>\n",
       "      <th>13</th>\n",
       "      <td>1.013810e-04</td>\n",
       "      <td>Many</td>\n",
       "      <td>5.960260e-08</td>\n",
       "    </tr>\n",
       "    <tr>\n",
       "      <th>14</th>\n",
       "      <td>1.834572e-06</td>\n",
       "      <td>Many</td>\n",
       "      <td>2.075297e-04</td>\n",
       "    </tr>\n",
       "    <tr>\n",
       "      <th>15</th>\n",
       "      <td>1.118145e-05</td>\n",
       "      <td>Many</td>\n",
       "      <td>5.530713e-05</td>\n",
       "    </tr>\n",
       "    <tr>\n",
       "      <th>16</th>\n",
       "      <td>2.218386e-02</td>\n",
       "      <td>Few</td>\n",
       "      <td>2.217711e-03</td>\n",
       "    </tr>\n",
       "    <tr>\n",
       "      <th>17</th>\n",
       "      <td>3.062618e-02</td>\n",
       "      <td>Few</td>\n",
       "      <td>2.744377e-08</td>\n",
       "    </tr>\n",
       "    <tr>\n",
       "      <th>18</th>\n",
       "      <td>8.376251e-03</td>\n",
       "      <td>Few</td>\n",
       "      <td>3.915506e-09</td>\n",
       "    </tr>\n",
       "    <tr>\n",
       "      <th>19</th>\n",
       "      <td>1.678664e-02</td>\n",
       "      <td>Few</td>\n",
       "      <td>3.887488e-10</td>\n",
       "    </tr>\n",
       "    <tr>\n",
       "      <th>20</th>\n",
       "      <td>4.694226e-05</td>\n",
       "      <td>Few</td>\n",
       "      <td>1.204592e-03</td>\n",
       "    </tr>\n",
       "    <tr>\n",
       "      <th>21</th>\n",
       "      <td>4.814433e-03</td>\n",
       "      <td>Few</td>\n",
       "      <td>1.927042e-09</td>\n",
       "    </tr>\n",
       "    <tr>\n",
       "      <th>22</th>\n",
       "      <td>2.720204e-02</td>\n",
       "      <td>Few</td>\n",
       "      <td>1.900791e-10</td>\n",
       "    </tr>\n",
       "    <tr>\n",
       "      <th>23</th>\n",
       "      <td>3.359211e-02</td>\n",
       "      <td>Few</td>\n",
       "      <td>7.114116e-10</td>\n",
       "    </tr>\n",
       "    <tr>\n",
       "      <th>24</th>\n",
       "      <td>2.627802e-02</td>\n",
       "      <td>Few</td>\n",
       "      <td>1.696710e-09</td>\n",
       "    </tr>\n",
       "    <tr>\n",
       "      <th>25</th>\n",
       "      <td>2.626202e-02</td>\n",
       "      <td>Few</td>\n",
       "      <td>6.496448e-10</td>\n",
       "    </tr>\n",
       "    <tr>\n",
       "      <th>26</th>\n",
       "      <td>5.171395e-02</td>\n",
       "      <td>Few</td>\n",
       "      <td>2.524652e-10</td>\n",
       "    </tr>\n",
       "    <tr>\n",
       "      <th>27</th>\n",
       "      <td>1.140016e-02</td>\n",
       "      <td>Few</td>\n",
       "      <td>1.459024e-11</td>\n",
       "    </tr>\n",
       "    <tr>\n",
       "      <th>28</th>\n",
       "      <td>3.423171e-02</td>\n",
       "      <td>Few</td>\n",
       "      <td>8.995189e-10</td>\n",
       "    </tr>\n",
       "    <tr>\n",
       "      <th>29</th>\n",
       "      <td>3.341114e-02</td>\n",
       "      <td>Few</td>\n",
       "      <td>1.462112e-10</td>\n",
       "    </tr>\n",
       "    <tr>\n",
       "      <th>...</th>\n",
       "      <td>...</td>\n",
       "      <td>...</td>\n",
       "      <td>...</td>\n",
       "    </tr>\n",
       "    <tr>\n",
       "      <th>56</th>\n",
       "      <td>8.411007e-06</td>\n",
       "      <td>Few</td>\n",
       "      <td>5.450371e-08</td>\n",
       "    </tr>\n",
       "    <tr>\n",
       "      <th>57</th>\n",
       "      <td>4.368760e-02</td>\n",
       "      <td>Few</td>\n",
       "      <td>7.904526e-10</td>\n",
       "    </tr>\n",
       "    <tr>\n",
       "      <th>58</th>\n",
       "      <td>3.425289e-02</td>\n",
       "      <td>Few</td>\n",
       "      <td>1.798689e-08</td>\n",
       "    </tr>\n",
       "    <tr>\n",
       "      <th>59</th>\n",
       "      <td>1.378110e-02</td>\n",
       "      <td>Few</td>\n",
       "      <td>3.043284e-09</td>\n",
       "    </tr>\n",
       "    <tr>\n",
       "      <th>60</th>\n",
       "      <td>1.191272e-02</td>\n",
       "      <td>Few</td>\n",
       "      <td>3.463485e-08</td>\n",
       "    </tr>\n",
       "    <tr>\n",
       "      <th>61</th>\n",
       "      <td>4.398375e-03</td>\n",
       "      <td>Few</td>\n",
       "      <td>6.477189e-07</td>\n",
       "    </tr>\n",
       "    <tr>\n",
       "      <th>62</th>\n",
       "      <td>2.024042e-02</td>\n",
       "      <td>Few</td>\n",
       "      <td>3.872790e-10</td>\n",
       "    </tr>\n",
       "    <tr>\n",
       "      <th>63</th>\n",
       "      <td>1.715753e-02</td>\n",
       "      <td>Few</td>\n",
       "      <td>6.729538e-04</td>\n",
       "    </tr>\n",
       "    <tr>\n",
       "      <th>64</th>\n",
       "      <td>1.423039e-02</td>\n",
       "      <td>Few</td>\n",
       "      <td>1.149854e-08</td>\n",
       "    </tr>\n",
       "    <tr>\n",
       "      <th>65</th>\n",
       "      <td>3.033220e-03</td>\n",
       "      <td>Few</td>\n",
       "      <td>1.153041e-05</td>\n",
       "    </tr>\n",
       "    <tr>\n",
       "      <th>66</th>\n",
       "      <td>5.092855e-02</td>\n",
       "      <td>Few</td>\n",
       "      <td>3.500820e-09</td>\n",
       "    </tr>\n",
       "    <tr>\n",
       "      <th>67</th>\n",
       "      <td>1.181744e-04</td>\n",
       "      <td>Few</td>\n",
       "      <td>1.157354e-08</td>\n",
       "    </tr>\n",
       "    <tr>\n",
       "      <th>68</th>\n",
       "      <td>3.860533e-05</td>\n",
       "      <td>Few</td>\n",
       "      <td>3.291917e-07</td>\n",
       "    </tr>\n",
       "    <tr>\n",
       "      <th>69</th>\n",
       "      <td>1.660208e-02</td>\n",
       "      <td>Few</td>\n",
       "      <td>5.418873e-09</td>\n",
       "    </tr>\n",
       "    <tr>\n",
       "      <th>70</th>\n",
       "      <td>5.715594e-02</td>\n",
       "      <td>Few</td>\n",
       "      <td>7.635226e-07</td>\n",
       "    </tr>\n",
       "    <tr>\n",
       "      <th>71</th>\n",
       "      <td>6.356425e-07</td>\n",
       "      <td>Few</td>\n",
       "      <td>2.473598e-06</td>\n",
       "    </tr>\n",
       "    <tr>\n",
       "      <th>72</th>\n",
       "      <td>1.322495e-02</td>\n",
       "      <td>Few</td>\n",
       "      <td>4.432008e-08</td>\n",
       "    </tr>\n",
       "    <tr>\n",
       "      <th>73</th>\n",
       "      <td>4.018789e-02</td>\n",
       "      <td>Few</td>\n",
       "      <td>4.184437e-09</td>\n",
       "    </tr>\n",
       "    <tr>\n",
       "      <th>74</th>\n",
       "      <td>9.142924e-06</td>\n",
       "      <td>Few</td>\n",
       "      <td>4.756621e-05</td>\n",
       "    </tr>\n",
       "    <tr>\n",
       "      <th>75</th>\n",
       "      <td>1.566859e-06</td>\n",
       "      <td>Few</td>\n",
       "      <td>1.244233e-06</td>\n",
       "    </tr>\n",
       "    <tr>\n",
       "      <th>76</th>\n",
       "      <td>1.474250e-06</td>\n",
       "      <td>Few</td>\n",
       "      <td>4.185010e-06</td>\n",
       "    </tr>\n",
       "    <tr>\n",
       "      <th>77</th>\n",
       "      <td>8.139815e-07</td>\n",
       "      <td>Few</td>\n",
       "      <td>3.560497e-07</td>\n",
       "    </tr>\n",
       "    <tr>\n",
       "      <th>78</th>\n",
       "      <td>1.352303e-02</td>\n",
       "      <td>Few</td>\n",
       "      <td>3.478088e-04</td>\n",
       "    </tr>\n",
       "    <tr>\n",
       "      <th>79</th>\n",
       "      <td>2.359480e-05</td>\n",
       "      <td>Few</td>\n",
       "      <td>7.337574e-08</td>\n",
       "    </tr>\n",
       "    <tr>\n",
       "      <th>80</th>\n",
       "      <td>4.560774e-02</td>\n",
       "      <td>Few</td>\n",
       "      <td>1.126786e-08</td>\n",
       "    </tr>\n",
       "    <tr>\n",
       "      <th>81</th>\n",
       "      <td>1.410175e-02</td>\n",
       "      <td>Few</td>\n",
       "      <td>1.530200e-08</td>\n",
       "    </tr>\n",
       "    <tr>\n",
       "      <th>82</th>\n",
       "      <td>5.003776e-03</td>\n",
       "      <td>Few</td>\n",
       "      <td>5.636631e-05</td>\n",
       "    </tr>\n",
       "    <tr>\n",
       "      <th>83</th>\n",
       "      <td>5.363146e-02</td>\n",
       "      <td>Few</td>\n",
       "      <td>4.178866e-10</td>\n",
       "    </tr>\n",
       "    <tr>\n",
       "      <th>84</th>\n",
       "      <td>2.361936e-02</td>\n",
       "      <td>Few</td>\n",
       "      <td>2.291833e-09</td>\n",
       "    </tr>\n",
       "    <tr>\n",
       "      <th>85</th>\n",
       "      <td>2.934672e-02</td>\n",
       "      <td>Few</td>\n",
       "      <td>3.909156e-09</td>\n",
       "    </tr>\n",
       "  </tbody>\n",
       "</table>\n",
       "<p>86 rows × 3 columns</p>\n",
       "</div>"
      ],
      "text/plain": [
       "      CD8 Tcells Inhibitory Genes       NKcells\n",
       "0   2.987146e-06             Many  4.384432e-09\n",
       "1   3.951459e-02             Many  1.245049e-09\n",
       "2   4.954911e-03             Many  1.421358e-08\n",
       "3   6.662363e-06             Many  1.078845e-08\n",
       "4   3.421975e-02             Many  2.025058e-10\n",
       "5   1.886285e-02             Many  2.309172e-03\n",
       "6   2.176839e-06             Many  9.481984e-05\n",
       "7   7.033154e-03             Many  1.323544e-08\n",
       "8   1.434282e-02             Many  2.710258e-09\n",
       "9   6.489790e-05             Many  3.834009e-07\n",
       "10  1.394168e-02             Many  7.689633e-09\n",
       "11  2.886706e-02             Many  5.672565e-09\n",
       "12  5.993131e-07             Many  9.900065e-08\n",
       "13  1.013810e-04             Many  5.960260e-08\n",
       "14  1.834572e-06             Many  2.075297e-04\n",
       "15  1.118145e-05             Many  5.530713e-05\n",
       "16  2.218386e-02              Few  2.217711e-03\n",
       "17  3.062618e-02              Few  2.744377e-08\n",
       "18  8.376251e-03              Few  3.915506e-09\n",
       "19  1.678664e-02              Few  3.887488e-10\n",
       "20  4.694226e-05              Few  1.204592e-03\n",
       "21  4.814433e-03              Few  1.927042e-09\n",
       "22  2.720204e-02              Few  1.900791e-10\n",
       "23  3.359211e-02              Few  7.114116e-10\n",
       "24  2.627802e-02              Few  1.696710e-09\n",
       "25  2.626202e-02              Few  6.496448e-10\n",
       "26  5.171395e-02              Few  2.524652e-10\n",
       "27  1.140016e-02              Few  1.459024e-11\n",
       "28  3.423171e-02              Few  8.995189e-10\n",
       "29  3.341114e-02              Few  1.462112e-10\n",
       "..           ...              ...           ...\n",
       "56  8.411007e-06              Few  5.450371e-08\n",
       "57  4.368760e-02              Few  7.904526e-10\n",
       "58  3.425289e-02              Few  1.798689e-08\n",
       "59  1.378110e-02              Few  3.043284e-09\n",
       "60  1.191272e-02              Few  3.463485e-08\n",
       "61  4.398375e-03              Few  6.477189e-07\n",
       "62  2.024042e-02              Few  3.872790e-10\n",
       "63  1.715753e-02              Few  6.729538e-04\n",
       "64  1.423039e-02              Few  1.149854e-08\n",
       "65  3.033220e-03              Few  1.153041e-05\n",
       "66  5.092855e-02              Few  3.500820e-09\n",
       "67  1.181744e-04              Few  1.157354e-08\n",
       "68  3.860533e-05              Few  3.291917e-07\n",
       "69  1.660208e-02              Few  5.418873e-09\n",
       "70  5.715594e-02              Few  7.635226e-07\n",
       "71  6.356425e-07              Few  2.473598e-06\n",
       "72  1.322495e-02              Few  4.432008e-08\n",
       "73  4.018789e-02              Few  4.184437e-09\n",
       "74  9.142924e-06              Few  4.756621e-05\n",
       "75  1.566859e-06              Few  1.244233e-06\n",
       "76  1.474250e-06              Few  4.185010e-06\n",
       "77  8.139815e-07              Few  3.560497e-07\n",
       "78  1.352303e-02              Few  3.478088e-04\n",
       "79  2.359480e-05              Few  7.337574e-08\n",
       "80  4.560774e-02              Few  1.126786e-08\n",
       "81  1.410175e-02              Few  1.530200e-08\n",
       "82  5.003776e-03              Few  5.636631e-05\n",
       "83  5.363146e-02              Few  4.178866e-10\n",
       "84  2.361936e-02              Few  2.291833e-09\n",
       "85  2.934672e-02              Few  3.909156e-09\n",
       "\n",
       "[86 rows x 3 columns]"
      ]
     },
     "execution_count": 47,
     "metadata": {},
     "output_type": "execute_result"
    }
   ],
   "source": [
    "tmp"
   ]
  },
  {
   "cell_type": "code",
   "execution_count": 48,
   "metadata": {},
   "outputs": [
    {
     "data": {
      "text/plain": [
       "MannwhitneyuResult(statistic=341.0, pvalue=0.007658705205317615)"
      ]
     },
     "execution_count": 48,
     "metadata": {},
     "output_type": "execute_result"
    }
   ],
   "source": [
    "sp.mannwhitneyu(tmp[tmp['Inhibitory Genes'] == 'Many']['CD8 Tcells'],\n",
    "               tmp[tmp['Inhibitory Genes'] == 'Few']['CD8 Tcells'])"
   ]
  },
  {
   "cell_type": "code",
   "execution_count": 49,
   "metadata": {},
   "outputs": [
    {
     "data": {
      "text/plain": [
       "MannwhitneyuResult(statistic=481.0, pvalue=0.19183683939774737)"
      ]
     },
     "execution_count": 49,
     "metadata": {},
     "output_type": "execute_result"
    }
   ],
   "source": [
    "sp.mannwhitneyu(tmp[tmp['Inhibitory Genes'] == 'Many']['NKcells'],\n",
    "               tmp[tmp['Inhibitory Genes'] == 'Few']['NKcells'])"
   ]
  },
  {
   "cell_type": "code",
   "execution_count": 50,
   "metadata": {},
   "outputs": [
    {
     "data": {
      "text/plain": [
       "<matplotlib.axes._subplots.AxesSubplot at 0x7faae515e5d0>"
      ]
     },
     "execution_count": 50,
     "metadata": {},
     "output_type": "execute_result"
    },
    {
     "data": {
      "image/png": "[encoded data removed]",
      "text/plain": [
       "<Figure size 432x288 with 1 Axes>"
      ]
     },
     "metadata": {},
     "output_type": "display_data"
    }
   ],
   "source": [
    "sns.boxplot(x='Inhibitory Genes', y='NKcells', data=tmp, \n",
    "            palette=sns.color_palette(\"Paired\"))"
   ]
  },
  {
   "cell_type": "code",
   "execution_count": 51,
   "metadata": {},
   "outputs": [
    {
     "data": {
      "text/plain": [
       "<matplotlib.axes._subplots.AxesSubplot at 0x7faae4f40410>"
      ]
     },
     "execution_count": 51,
     "metadata": {},
     "output_type": "execute_result"
    },
    {
     "data": {
      "image/png": "[encoded data removed]",
      "text/plain": [
       "<Figure size 432x288 with 1 Axes>"
      ]
     },
     "metadata": {},
     "output_type": "display_data"
    }
   ],
   "source": [
    "sns.boxplot(x='Inhibitory Genes', y='CD8 Tcells', data=tmp, \n",
    "            palette=sns.color_palette(\"Paired\"))"
   ]
  },
  {
   "cell_type": "code",
   "execution_count": 52,
   "metadata": {},
   "outputs": [
    {
     "data": {
      "text/plain": [
       "<matplotlib.axes._subplots.AxesSubplot at 0x7faae47f5c50>"
      ]
     },
     "execution_count": 52,
     "metadata": {},
     "output_type": "execute_result"
    },
    {
     "data": {
      "image/png": "[encoded data removed]",
      "text/plain": [
       "<Figure size 432x288 with 1 Axes>"
      ]
     },
     "metadata": {},
     "output_type": "display_data"
    }
   ],
   "source": [
    "sns.boxplot(x='inhibitory', y='T cells CD8', data=df[t], color='grey')"
   ]
  },
  {
   "cell_type": "code",
   "execution_count": 53,
   "metadata": {},
   "outputs": [
    {
     "data": {
      "text/plain": [
       "12.0"
      ]
     },
     "execution_count": 53,
     "metadata": {},
     "output_type": "execute_result"
    }
   ],
   "source": [
    "df[t].inhibitory.quantile(0.5)"
   ]
  },
  {
   "cell_type": "code",
   "execution_count": 54,
   "metadata": {},
   "outputs": [
    {
     "name": "stdout",
     "output_type": "stream",
     "text": [
      "GBM 131 0.7540308824937165\n",
      "OV 134 0.6763901820311855\n",
      "LUAD 368 0.2898865173597057\n",
      "PRAD 287 1.0\n",
      "LUSC 233 0.8348564995909796\n",
      "PAAD 104 0.6859805279063332\n",
      "KIRC 128 0.8231200441276597\n",
      "KIRP 76 0.465333875992065\n",
      "STAD 234 0.09389626465753138\n",
      "HNSC 408 0.7174308327552857\n",
      "SKCM 68 0.7485115296239209\n",
      "CESC 37 0.00018281063298183483\n"
     ]
    },
    {
     "data": {
      "image/png": "[encoded data removed]",
      "text/plain": [
       "<Figure size 432x288 with 1 Axes>"
      ]
     },
     "metadata": {},
     "output_type": "display_data"
    },
    {
     "name": "stdout",
     "output_type": "stream",
     "text": [
      "THCA 398 0.10721983583820031\n",
      "BLCA 187 0.15752325410627652\n",
      "LGG 453 0.19568143905490035\n",
      "UCS 49 0.0113730507826893\n"
     ]
    },
    {
     "data": {
      "image/png": "[encoded data removed]",
      "text/plain": [
       "<Figure size 432x288 with 1 Axes>"
      ]
     },
     "metadata": {},
     "output_type": "display_data"
    },
    {
     "name": "stdout",
     "output_type": "stream",
     "text": [
      "PCPG 148 1.0\n",
      "UVM 58 0.09479931709401028\n",
      "18\n"
     ]
    },
    {
     "data": {
      "text/plain": [
       "<Figure size 432x288 with 0 Axes>"
      ]
     },
     "metadata": {},
     "output_type": "display_data"
    }
   ],
   "source": [
    "kmf = KaplanMeierFitter()\n",
    "\n",
    "total = 0\n",
    "for tissue in df.tissue.unique():\n",
    "    t = df.tissue == tissue\n",
    "    inhibitory = df[t].inhibitory > df[t].inhibitory.quantile(0.5)\n",
    "    \n",
    "    T = df[t].days\n",
    "    C = df[t].observed_event\n",
    "\n",
    "    results = logrank_test(T[inhibitory], T[~inhibitory], C[inhibitory], C[~inhibitory], alpha=.99 )\n",
    "    print tissue, len(df[t]), results.p_value\n",
    "    if results.p_value < 0.05:\n",
    "        ax = plt.subplot(111)\n",
    "        kmf.fit(T[inhibitory], event_observed=C[inhibitory], \n",
    "                label=\"High Inhibitory - {0}\".format(len(T[inhibitory])))\n",
    "        kmf.plot(ax=ax, ci_force_lines=False)\n",
    "        kmf.fit(T[~inhibitory], event_observed=C[~inhibitory], \n",
    "                label=\"Low Inhibitory - {0}\".format(len(T[~inhibitory])))\n",
    "        kmf.plot(ax=ax, ci_force_lines=False)\n",
    "        plt.xlim(0, 1825)\n",
    "        plt.show()\n",
    "        plt.clf()\n",
    "    total += 1\n",
    "print total"
   ]
  },
  {
   "cell_type": "code",
   "execution_count": 19,
   "metadata": {
    "scrolled": true
   },
   "outputs": [
    {
     "name": "stdout",
     "output_type": "stream",
     "text": [
      "GBM\n",
      "OV\n",
      "LUAD\n",
      "HNSC\n"
     ]
    }
   ],
   "source": [
    "kmf = KaplanMeierFitter()\n",
    "total = 0\n",
    "for tissue in df.tissue.unique():\n",
    "    t = df.tissue == tissue\n",
    "    inhibitory_low = df[t].inhibitory < df[t].inhibitory.quantile(0.25)\n",
    "    inhibitory_high = df[t].inhibitory > df[t].inhibitory.quantile(0.75)\n",
    "    \n",
    "    T = df[t].days\n",
    "    C = df[t].observed_event\n",
    "\n",
    "    if sum(C[inhibitory_low]) > 5 and sum(C[inhibitory_high]) > 5:\n",
    "        print tissue\n",
    "        results = logrank_test(T[inhibitory_low], T[inhibitory_high], C[inhibitory_low], C[inhibitory_high], alpha=.99 )\n",
    "        if results.p_value * len(df.tissue.unique()) < 0.05: \n",
    "            print tissue, results.p_value* len(df.tissue.unique()), len(T[inhibitory_low]), len(T[inhibitory_high])\n",
    "            ax = plt.subplot(111)\n",
    "            kmf.fit(T[inhibitory_high], event_observed=C[inhibitory_high], label=\"High inhibition\")\n",
    "            kmf.plot(ax=ax, ci_force_lines=False)\n",
    "            kmf.fit(T[inhibitory_low], event_observed=C[inhibitory_low], label=\"Low inhibition\")\n",
    "            kmf.plot(ax=ax, ci_force_lines=False)\n",
    "            plt.xlim(0, 1825)\n",
    "            print T[inhibitory_low], C[inhibitory_low]\n"
   ]
  },
  {
   "cell_type": "code",
   "execution_count": 15,
   "metadata": {},
   "outputs": [
    {
     "name": "stdout",
     "output_type": "stream",
     "text": [
      "GBM 0.38486095771812234\n",
      "OV 0.005941883138883858\n",
      "LUAD 0.877596818404348\n",
      "PRAD 1.0\n",
      "LUSC 0.9286968291130953\n",
      "PAAD 0.38522010272902285\n",
      "KIRC 0.030170289430987495\n",
      "KIRP 0.7157638753802611\n",
      "STAD 0.5292360419020861\n",
      "HNSC 0.44191307526833423\n",
      "SKCM 0.9565731413175254\n",
      "CESC 0.0932234892441043\n",
      "THCA 1.0\n",
      "BLCA 0.0389006848956397\n",
      "LGG 0.5066649073226407\n",
      "UCS 0.45529727526892994\n",
      "PCPG 0.4407019065600808\n",
      "UVM 0.008526796291467565\n"
     ]
    }
   ],
   "source": [
    "kmf = KaplanMeierFitter()\n",
    "\n",
    "for tissue in df.tissue.unique():\n",
    "    t = df.tissue == tissue\n",
    "    inhibitory = df[t].activating > df[t].activating.quantile(0.5)\n",
    "    \n",
    "    T = df[t].days\n",
    "    C = df[t].observed_event\n",
    "\n",
    "    results = logrank_test(T[inhibitory], T[~inhibitory], C[inhibitory], C[~inhibitory], alpha=.99 )\n",
    "    print tissue, results.p_value"
   ]
  },
  {
   "cell_type": "code",
   "execution_count": 16,
   "metadata": {},
   "outputs": [
    {
     "name": "stdout",
     "output_type": "stream",
     "text": [
      "GBM 0.12302359041814385\n",
      "OV 0.05191896167071212\n",
      "LUAD 0.9582353918584036\n",
      "PRAD 1.0\n",
      "LUSC 0.7943324685326932\n",
      "PAAD 0.8132387807059116\n",
      "KIRC 0.23176867528236955\n",
      "KIRP nan\n",
      "STAD 0.42348519463733114\n",
      "HNSC 0.8025119601232771\n",
      "SKCM 0.45470723730273654\n",
      "CESC nan\n",
      "THCA 1.0\n",
      "BLCA 0.05023834665918656\n",
      "LGG 0.7962130377265731\n",
      "UCS 0.07707817433421696\n",
      "PCPG 1.0\n",
      "UVM 0.022281849739319178\n"
     ]
    }
   ],
   "source": [
    "kmf = KaplanMeierFitter()\n",
    "\n",
    "for tissue in df.tissue.unique():\n",
    "    t = df.tissue == tissue\n",
    "    inhibitory_low = df[t].activating < df[t].activating.quantile(0.4)\n",
    "    inhibitory_high = df[t].activating > df[t].activating.quantile(0.6)\n",
    "    \n",
    "    T = df[t].days\n",
    "    C = df[t].observed_event\n",
    "\n",
    "    results = logrank_test(T[inhibitory_low], T[inhibitory_high], C[inhibitory_low], C[inhibitory_high], alpha=.99 )\n",
    "    print tissue, results.p_value"
   ]
  },
  {
   "cell_type": "markdown",
   "metadata": {},
   "source": [
    "Gene specific"
   ]
  },
  {
   "cell_type": "code",
   "execution_count": 21,
   "metadata": {},
   "outputs": [],
   "source": [
    "genes = ['KIR3DL3', 'KIR3DP1', 'KIR2DL4', 'KIR3DL2', 'KIR2DS2', 'KIR2DS3', 'KIR2DP1', \n",
    "         'KIR2DL1', 'KIR3DS1', 'KIR2DS5', 'KIR2DS4']"
   ]
  },
  {
   "cell_type": "code",
   "execution_count": 23,
   "metadata": {
    "scrolled": true
   },
   "outputs": [
    {
     "name": "stdout",
     "output_type": "stream",
     "text": [
      "KIR3DL3\n",
      "KIRC KIR3DL3 1.2131545083660726e-07\n",
      "HNSC KIR3DL3 0.025685135714815163\n",
      "UCS KIR3DL3 0.02606139951340767\n",
      " \n",
      "KIR3DP1\n",
      " \n",
      "KIR2DL4\n",
      "STAD KIR2DL4 1.321632235035784e-52\n",
      " \n",
      "KIR3DL2\n",
      "OV KIR3DL2 0.014436953825102005\n",
      " \n",
      "KIR2DS2\n",
      "GBM KIR2DS2 0.0356146721210753\n",
      "BLCA KIR2DS2 0.023776657022722466\n",
      " \n",
      "KIR2DS3\n",
      "OV KIR2DS3 0.03845336291738253\n",
      "SKCM KIR2DS3 0.004677734981047276\n",
      " \n",
      "KIR2DP1\n",
      "LUAD KIR2DP1 0.01436922558559619\n",
      "LGG KIR2DP1 0.00011738309060367742\n",
      " \n",
      "KIR2DL1\n",
      "LUAD KIR2DL1 0.000285067762251422\n",
      "UCS KIR2DL1 0.00660746688745189\n",
      " \n",
      "KIR3DS1\n",
      "OV KIR3DS1 0.006069140851461785\n",
      " \n",
      "KIR2DS5\n",
      " \n",
      "KIR2DS4\n",
      "THCA KIR2DS4 0.004677734981047276\n",
      " \n"
     ]
    }
   ],
   "source": [
    "for gene in genes:\n",
    "    print gene\n",
    "    for tissue in df.tissue.unique():\n",
    "        try:\n",
    "            t = df.tissue == tissue\n",
    "            inhibitory = df[t][gene] > df[t][gene].quantile(0.5)\n",
    "\n",
    "            T = df[t].days\n",
    "            C = df[t].observed_event\n",
    "\n",
    "            results = logrank_test(T[inhibitory], T[~inhibitory], C[inhibitory], C[~inhibitory], alpha=.99 )\n",
    "            if results.p_value < 0.05:\n",
    "                print tissue, gene, results.p_value\n",
    "        except:\n",
    "            None\n",
    "    print ' '"
   ]
  },
  {
   "cell_type": "markdown",
   "metadata": {
    "collapsed": true
   },
   "source": [
    "### MHC/KIR combinations"
   ]
  },
  {
   "cell_type": "code",
   "execution_count": 24,
   "metadata": {},
   "outputs": [],
   "source": [
    "hla_a = [x.split(',')[1:3] for x in open('/cellar/users/ramarty/Data/kir/biological/combinations.hla_a.csv').readlines()[1:]]\n",
    "hla_b = [x.split(',')[1:3] for x in open('/cellar/users/ramarty/Data/kir/biological/combinations.hla_b.csv').readlines()[1:]]\n",
    "hla_c = [x.split(',')[1:3] for x in open('/cellar/users/ramarty/Data/kir/biological/combinations.hla_c.csv').readlines()[1:]]"
   ]
  },
  {
   "cell_type": "code",
   "execution_count": 25,
   "metadata": {},
   "outputs": [],
   "source": [
    "hla_a_single = [x.strip() for x in open('/cellar/users/ramarty/Data/kir/biological/singles.A.txt').readlines()]\n",
    "hla_b_single = [x.strip() for x in open('/cellar/users/ramarty/Data/kir/biological/singles.B.txt').readlines()]\n",
    "hla_c_single = [x.strip() for x in open('/cellar/users/ramarty/Data/kir/biological/singles.C.txt').readlines()]"
   ]
  },
  {
   "cell_type": "code",
   "execution_count": 26,
   "metadata": {},
   "outputs": [],
   "source": [
    "hla_a_single_fd = [x.strip() for x in open('/cellar/users/ramarty/Data/kir/biological/singles.A.four_digit.txt').readlines()]\n",
    "hla_b_single_fd = [x.strip() for x in open('/cellar/users/ramarty/Data/kir/biological/singles.B.four_digit.txt').readlines()]\n",
    "hla_c_single_fd = [x.strip() for x in open('/cellar/users/ramarty/Data/kir/biological/singles.C.four_digit.txt').readlines()]"
   ]
  },
  {
   "cell_type": "markdown",
   "metadata": {},
   "source": [
    "### HLA Pairs"
   ]
  },
  {
   "cell_type": "markdown",
   "metadata": {},
   "source": [
    "A"
   ]
  },
  {
   "cell_type": "code",
   "execution_count": 27,
   "metadata": {},
   "outputs": [
    {
     "name": "stdout",
     "output_type": "stream",
     "text": [
      "23\n"
     ]
    }
   ],
   "source": [
    "kmf = KaplanMeierFitter()\n",
    "predicted_total = 13 # update\n",
    "total = 0\n",
    "for hla1, hla2 in hla_a:\n",
    "    for tissue in df.tissue.unique():\n",
    "        t = df.tissue == tissue            \n",
    "        h = (df.A1 == hla1)&(df.A2 == hla2)\n",
    "        #k = df[gene] > 1\n",
    "\n",
    "        T = df[t].days\n",
    "        C = df[t].observed_event\n",
    "\n",
    "        if sum(C[h]) > 4 and sum(C[~(h)]) > 4:\n",
    "            total += 1\n",
    "            results = logrank_test(T[h], T[~h], C[h], C[~h], alpha=.99 )\n",
    "            if results.p_value * predicted_total < 0.05:\n",
    "                print hla1, hla2, tissue, results.p_value, results.p_value * predicted_total\n",
    "                ax = plt.subplot(111)\n",
    "                kmf.fit(T[h], event_observed=C[h], label=\"{0},{1}\".format(hla1, hla2))\n",
    "                kmf.plot(ax=ax, ci_force_lines=False)\n",
    "                kmf.fit(T[~h], event_observed=C[~h], label=\"Other\")\n",
    "                kmf.plot(ax=ax, ci_force_lines=False)\n",
    "                plt.xlim(0, 1825)\n",
    "                plt.title('{0} - {1}'.format(tissue, results.p_value * predicted_total))\n",
    "                plt.savefig('/cellar/users/ramarty/Data/kir/figures/survival.hla.{0}.{1}.{2}.pdf'.format(tissue, hla1, hla2))\n",
    "                plt.show()\n",
    "                plt.clf()\n",
    "                \n",
    "print total"
   ]
  },
  {
   "cell_type": "code",
   "execution_count": 28,
   "metadata": {
    "scrolled": false
   },
   "outputs": [
    {
     "name": "stdout",
     "output_type": "stream",
     "text": [
      "118\n"
     ]
    }
   ],
   "source": [
    "predicted_total = 75 # update\n",
    "total = 0\n",
    "for gene in genes:\n",
    "    for hla1, hla2 in hla_a:\n",
    "        for tissue in df.tissue.unique():\n",
    "            t = df.tissue == tissue            \n",
    "            h = (df.A1 == hla1)&(df.A2 == hla2)\n",
    "            k = df[gene] > 1\n",
    "            \n",
    "            T = df[t].days\n",
    "            C = df[t].observed_event\n",
    "            \n",
    "            if sum(C[k&h]) > 4 and sum(C[~(k&h)]) > 4:\n",
    "                total += 1\n",
    "                results = logrank_test(T[k&h], T[~(k&h)], C[k&h], C[~(k&h)], alpha=.99 )\n",
    "                if results.p_value * predicted_total < 0.05:\n",
    "                    print gene, hla1, hla2, tissue, results.p_value, results.p_value * predicted_total\n",
    "                    ax = plt.subplot(111)\n",
    "                    kmf.fit(T[k&h], event_observed=C[k&h], label=\"{0},{1}\".format(hla1, hla2))\n",
    "                    kmf.plot(ax=ax, ci_force_lines=False)\n",
    "                    kmf.fit(T[~(k&h)], event_observed=C[~(k&h)], label=\"Other\")\n",
    "                    kmf.plot(ax=ax, ci_force_lines=False)\n",
    "                    plt.xlim(0, 1825)\n",
    "                    plt.show()\n",
    "                    plt.clf()\n",
    "                \n",
    "print total"
   ]
  },
  {
   "cell_type": "code",
   "execution_count": 29,
   "metadata": {},
   "outputs": [
    {
     "name": "stdout",
     "output_type": "stream",
     "text": [
      "9\n"
     ]
    }
   ],
   "source": [
    "predicted_total = 6 # update\n",
    "total = 0\n",
    "for gene in genes:\n",
    "    for hla1, hla2 in hla_a:\n",
    "        for tissue in df.tissue.unique():\n",
    "            t = df.tissue == tissue            \n",
    "            h = (df.A1 == hla1)&(df.A2 == hla2)\n",
    "            k = df[gene] > 0\n",
    "            \n",
    "            T = df[t].days\n",
    "            C = df[t].observed_event\n",
    "            \n",
    "            if sum(C[k&h]) > 4 and sum(C[~k&h]) > 4:\n",
    "                total += 1\n",
    "                results = logrank_test(T[k&h], T[~(k&h)], C[k&h], C[~(k&h)], alpha=.99 )\n",
    "                if results.p_value * predicted_total < 0.05:\n",
    "                    print gene, hla1, hla2, tissue, results.p_value, results.p_value * predicted_total\n",
    "                    ax = plt.subplot(111)\n",
    "                    kmf.fit(T[k&h], event_observed=C[k&h], label=\"{0},{1}\".format(hla1, hla2))\n",
    "                    kmf.plot(ax=ax, ci_force_lines=False)\n",
    "                    kmf.fit(T[~k&h], event_observed=C[~k&h], label=\"Other\")\n",
    "                    kmf.plot(ax=ax, ci_force_lines=False)\n",
    "                    plt.xlim(0, 1825)\n",
    "                    plt.show()\n",
    "                    plt.clf()\n",
    "                \n",
    "print total"
   ]
  },
  {
   "cell_type": "markdown",
   "metadata": {},
   "source": [
    "B"
   ]
  },
  {
   "cell_type": "code",
   "execution_count": 30,
   "metadata": {
    "scrolled": false
   },
   "outputs": [
    {
     "name": "stdout",
     "output_type": "stream",
     "text": [
      "2\n"
     ]
    }
   ],
   "source": [
    "predicted_total = 3 # update\n",
    "total = 0\n",
    "for hla1, hla2 in hla_b:\n",
    "    for tissue in df.tissue.unique():\n",
    "        t = df.tissue == tissue            \n",
    "        h = (df.B1 == hla1)&(df.B2 == hla2)\n",
    "        #k = df[gene] > 1\n",
    "\n",
    "        T = df[t].days\n",
    "        C = df[t].observed_event\n",
    "\n",
    "        if sum(C[h]) > 5 and sum(C[~h]) > 5:\n",
    "            total += 1\n",
    "            try:\n",
    "                results = logrank_test(T[h], T[~h], C[h], C[~h], alpha=.99 )\n",
    "                if results.p_value * predicted_total < 0.05:\n",
    "                    print sum(C[h]), sum(C[~h])\n",
    "                    print hla1, hla2, tissue, results.p_value, results.p_value * predicted_total\n",
    "                    ax = plt.subplot(111)\n",
    "                    kmf.fit(T[h], event_observed=C[h], label=\"{0},{1}\".format(hla1, hla2))\n",
    "                    kmf.plot(ax=ax, ci_force_lines=False)\n",
    "                    kmf.fit(T[~h], event_observed=C[~h], label=\"Other\")\n",
    "                    kmf.plot(ax=ax, ci_force_lines=False)\n",
    "                    plt.xlim(0, 1825)\n",
    "                    plt.title('{0} - {1}'.format(tissue, results.p_value * predicted_total))\n",
    "                    plt.savefig('/cellar/users/ramarty/Data/kir/figures/survival.hla.{0}.{1}.{2}.pdf'.format(tissue, hla1, hla2))\n",
    "                    plt.show()\n",
    "                    plt.clf()\n",
    "            except:\n",
    "                total -= 1\n",
    "                \n",
    "print total"
   ]
  },
  {
   "cell_type": "code",
   "execution_count": 31,
   "metadata": {
    "scrolled": false
   },
   "outputs": [
    {
     "name": "stdout",
     "output_type": "stream",
     "text": [
      "17\n"
     ]
    }
   ],
   "source": [
    "predicted_total = 17 # update\n",
    "total = 0\n",
    "for gene in genes:\n",
    "    for hla1, hla2 in hla_b:\n",
    "        for tissue in df.tissue.unique():\n",
    "            t = df.tissue == tissue            \n",
    "            h = (df.B1 == hla1)&(df.B2 == hla2)\n",
    "            k = df[gene] > 1\n",
    "            \n",
    "            T = df[t].days\n",
    "            C = df[t].observed_event\n",
    "            \n",
    "            if sum(C[k&h]) > 4 and sum(C[~(k&h)]) > 4:\n",
    "                total += 1\n",
    "                results = logrank_test(T[k&h], T[~(k&h)], C[k&h], C[~(k&h)], alpha=.99 )\n",
    "                if results.p_value * predicted_total < 0.05:\n",
    "                    print gene, hla1, hla2, tissue, results.p_value, results.p_value * predicted_total\n",
    "                    ax = plt.subplot(111)\n",
    "                    kmf.fit(T[k&h], event_observed=C[k&h], label=\"{0},{1}\".format(hla1, hla2))\n",
    "                    kmf.plot(ax=ax, ci_force_lines=False)\n",
    "                    kmf.fit(T[~(k&h)], event_observed=C[~(k&h)], label=\"Other\")\n",
    "                    kmf.plot(ax=ax, ci_force_lines=False)\n",
    "                    plt.xlim(0, 1825)\n",
    "                    plt.show()\n",
    "                    plt.clf()\n",
    "                \n",
    "print total"
   ]
  },
  {
   "cell_type": "code",
   "execution_count": 32,
   "metadata": {},
   "outputs": [
    {
     "name": "stdout",
     "output_type": "stream",
     "text": [
      "0\n"
     ]
    }
   ],
   "source": [
    "predicted_total = 4 # update\n",
    "total = 0\n",
    "for gene in genes:\n",
    "    for hla1, hla2 in hla_b:\n",
    "        for tissue in df.tissue.unique():\n",
    "            t = df.tissue == tissue            \n",
    "            h = (df.B1 == hla1)&(df.B2 == hla2)\n",
    "            k = df[gene] > 1\n",
    "            \n",
    "            T = df[t].days\n",
    "            C = df[t].observed_event\n",
    "            \n",
    "            if sum(C[k&h]) > 4 and sum(C[~k&h]) > 4:\n",
    "                total += 1\n",
    "                results = logrank_test(T[k&h], T[~(k&h)], C[k&h], C[~(k&h)], alpha=.99 )\n",
    "                if results.p_value * predicted_total < 0.05:\n",
    "                    print gene, hla1, hla2, tissue, results.p_value, results.p_value * predicted_total\n",
    "                    ax = plt.subplot(111)\n",
    "                    kmf.fit(T[k&h], event_observed=C[k&h], label=\"{0},{1}\".format(hla1, hla2))\n",
    "                    kmf.plot(ax=ax, ci_force_lines=False)\n",
    "                    kmf.fit(T[~k&h], event_observed=C[~k&h], label=\"Other\")\n",
    "                    kmf.plot(ax=ax, ci_force_lines=False)\n",
    "                    plt.xlim(0, 1825)\n",
    "                    plt.show()\n",
    "                    plt.clf()\n",
    "                \n",
    "print total"
   ]
  },
  {
   "cell_type": "markdown",
   "metadata": {},
   "source": [
    "C"
   ]
  },
  {
   "cell_type": "code",
   "execution_count": 33,
   "metadata": {},
   "outputs": [
    {
     "name": "stdout",
     "output_type": "stream",
     "text": [
      "29\n"
     ]
    }
   ],
   "source": [
    "predicted_total = 17 # update\n",
    "total = 0\n",
    "for hla1, hla2 in hla_c:\n",
    "    for tissue in df.tissue.unique():\n",
    "        t = df.tissue == tissue            \n",
    "        h = (df.C1 == hla1)&(df.C2 == hla2)\n",
    "        k = df[gene] > 1\n",
    "\n",
    "        T = df[t].days\n",
    "        C = df[t].observed_event\n",
    "\n",
    "        if sum(C[h]) > 4 and sum(C[~h]) > 4:\n",
    "            total += 1\n",
    "            results = logrank_test(T[h], T[~h], C[h], C[~h], alpha=.99 )\n",
    "            if results.p_value * predicted_total < 0.05:\n",
    "                print hla1, hla2, tissue, results.p_value, results.p_value * predicted_total\n",
    "                ax = plt.subplot(111)\n",
    "                kmf.fit(T[h], event_observed=C[h], label=\"{0},{1}\".format(hla1, hla2))\n",
    "                kmf.plot(ax=ax, ci_force_lines=False)\n",
    "                kmf.fit(T[~h], event_observed=C[~h], label=\"Other\")\n",
    "                kmf.plot(ax=ax, ci_force_lines=False)\n",
    "                plt.xlim(0, 1825)\n",
    "                plt.show()\n",
    "                plt.clf()\n",
    "                \n",
    "print total"
   ]
  },
  {
   "cell_type": "code",
   "execution_count": 34,
   "metadata": {},
   "outputs": [
    {
     "name": "stdout",
     "output_type": "stream",
     "text": [
      "125\n"
     ]
    }
   ],
   "source": [
    "predicted_total = 60 # update\n",
    "total = 0\n",
    "for gene in genes:\n",
    "    for hla1, hla2 in hla_c:\n",
    "        for tissue in df.tissue.unique():\n",
    "            t = df.tissue == tissue            \n",
    "            h = (df.C1 == hla1)&(df.C2 == hla2)\n",
    "            k = df[gene] > 0\n",
    "            \n",
    "            T = df[t].days\n",
    "            C = df[t].observed_event\n",
    "            \n",
    "            if sum(C[k&h]) > 5 and sum(C[~(k&h)]) > 5:\n",
    "                total += 1\n",
    "                results = logrank_test(T[k&h], T[~(k&h)], C[k&h], C[~(k&h)], alpha=.99 )\n",
    "                if results.p_value * predicted_total < 0.05:\n",
    "                    print gene, hla1, hla2, tissue, results.p_value, results.p_value * predicted_total\n",
    "                    ax = plt.subplot(111)\n",
    "                    kmf.fit(T[k&h], event_observed=C[k&h], label=\"{0},{1}\".format(hla1, hla2))\n",
    "                    kmf.plot(ax=ax, ci_force_lines=False)\n",
    "                    kmf.fit(T[~(k&h)], event_observed=C[~(k&h)], label=\"Other\")\n",
    "                    kmf.plot(ax=ax, ci_force_lines=False)\n",
    "                    plt.xlim(0, 1825)\n",
    "                    plt.title('{0} - {1}'.format(tissue, results.p_value * predicted_total))\n",
    "                    plt.savefig('/cellar/users/ramarty/Data/kir/figures/survival.hla_kir.{0}.{1}.{2}.{3}.pdf'.format(tissue, hla1, hla2, gene))\n",
    "                    plt.show()\n",
    "                    plt.clf()\n",
    "                \n",
    "print total"
   ]
  },
  {
   "cell_type": "code",
   "execution_count": 35,
   "metadata": {},
   "outputs": [
    {
     "name": "stdout",
     "output_type": "stream",
     "text": [
      "1\n"
     ]
    }
   ],
   "source": [
    "predicted_total = 5 # update\n",
    "total = 0\n",
    "for gene in genes:\n",
    "    for hla1, hla2 in hla_c:\n",
    "        for tissue in df.tissue.unique():\n",
    "            t = df.tissue == tissue\n",
    "            df_t = df[t]\n",
    "            h = (df_t.C1 == hla1)&(df_t.C2 == hla2)\n",
    "            k = df_t[gene] > 1\n",
    "            \n",
    "            T = df_t.days\n",
    "            C = df_t.observed_event\n",
    "            \n",
    "            if sum(C[k&h]) > 4 and sum(C[~k&h]) > 4:\n",
    "                total += 1\n",
    "                results = logrank_test(T[k&h], T[~k&h], C[k&h], C[~k&h], alpha=.99 )\n",
    "                if results.p_value * predicted_total < 0.05:\n",
    "                    print gene, hla1, hla2, tissue, results.p_value, results.p_value * predicted_total\n",
    "                    ax = plt.subplot(111)\n",
    "                    kmf.fit(T[k&h], event_observed=C[k&h], label=\"2+ copy of {0}\".format(gene))\n",
    "                    kmf.plot(ax=ax, ci_force_lines=False)\n",
    "                    kmf.fit(T[~k&h], event_observed=C[~k&h], label=\"<2 copy of {0}\".format(gene))\n",
    "                    kmf.plot(ax=ax, ci_force_lines=False)\n",
    "                    plt.xlim(0, 1825)\n",
    "                    plt.title('{0},{1},{2}  - {3}'.format(tissue, hla1, hla2, results.p_value * predicted_total))\n",
    "                    plt.savefig('/cellar/users/ramarty/Data/kir/figures/survival.hla_kir.{0}.{1}.{2}.{3}.pdf'.format(tissue, hla1, hla2, gene))\n",
    "                    plt.show()\n",
    "                    plt.clf()\n",
    "                \n",
    "print total"
   ]
  },
  {
   "cell_type": "markdown",
   "metadata": {},
   "source": [
    "###Single HLAs"
   ]
  },
  {
   "cell_type": "markdown",
   "metadata": {},
   "source": [
    "####HLA alone"
   ]
  },
  {
   "cell_type": "markdown",
   "metadata": {},
   "source": [
    "A"
   ]
  },
  {
   "cell_type": "code",
   "execution_count": 31,
   "metadata": {},
   "outputs": [
    {
     "name": "stdout",
     "output_type": "stream",
     "text": [
      "33\n"
     ]
    }
   ],
   "source": [
    "kmf = KaplanMeierFitter()\n",
    "predicted_total = 37 # update\n",
    "total = 0\n",
    "for hla in hla_a_single:\n",
    "    for tissue in df.tissue.unique():\n",
    "        t = df.tissue == tissue            \n",
    "        h = (df.A1 == hla)|(df.A2 == hla)\n",
    "        #k = df[gene] > 1\n",
    "\n",
    "        T = df[t].days\n",
    "        C = df[t].observed_event\n",
    "\n",
    "        if sum(C[h]) > 10 and sum(C[~(h)]) > 10:\n",
    "            total += 1\n",
    "            results = logrank_test(T[h], T[~h], C[h], C[~h], alpha=.99 )\n",
    "            if results.p_value * predicted_total < 0.05:\n",
    "                print hla, tissue, results.p_value, results.p_value * predicted_total\n",
    "                ax = plt.subplot(111)\n",
    "                kmf.fit(T[h], event_observed=C[h], label=\"{0}\".format(hla))\n",
    "                kmf.plot(ax=ax, ci_force_lines=False)\n",
    "                kmf.fit(T[~h], event_observed=C[~h], label=\"Other\")\n",
    "                kmf.plot(ax=ax, ci_force_lines=False)\n",
    "                plt.xlim(0, 1825)\n",
    "                plt.title('{0} - {1}'.format(tissue, results.p_value * predicted_total))\n",
    "                plt.savefig('/cellar/users/ramarty/Data/kir/figures/survival.hla.{0}.{1}.pdf'.format(tissue, hla))\n",
    "                plt.show()\n",
    "                plt.clf()\n",
    "                \n",
    "print total"
   ]
  },
  {
   "cell_type": "markdown",
   "metadata": {},
   "source": [
    "B"
   ]
  },
  {
   "cell_type": "code",
   "execution_count": 32,
   "metadata": {},
   "outputs": [
    {
     "name": "stdout",
     "output_type": "stream",
     "text": [
      "31\n"
     ]
    }
   ],
   "source": [
    "kmf = KaplanMeierFitter()\n",
    "predicted_total = 37 # update\n",
    "total = 0\n",
    "for hla in hla_b_single:\n",
    "    for tissue in df.tissue.unique():\n",
    "        t = df.tissue == tissue            \n",
    "        h = (df.B1 == hla)|(df.B2 == hla)\n",
    "        #k = df[gene] > 1\n",
    "\n",
    "        T = df[t].days\n",
    "        C = df[t].observed_event\n",
    "\n",
    "        if sum(C[h]) > 10 and sum(C[~(h)]) > 10:\n",
    "            total += 1\n",
    "            results = logrank_test(T[h], T[~h], C[h], C[~h], alpha=.99 )\n",
    "            if results.p_value * predicted_total < 0.05:\n",
    "                print hla, tissue, results.p_value, results.p_value * predicted_total\n",
    "                ax = plt.subplot(111)\n",
    "                kmf.fit(T[h], event_observed=C[h], label=\"{0}\".format(hla))\n",
    "                kmf.plot(ax=ax, ci_force_lines=False)\n",
    "                kmf.fit(T[~h], event_observed=C[~h], label=\"Other\")\n",
    "                kmf.plot(ax=ax, ci_force_lines=False)\n",
    "                plt.xlim(0, 1825)\n",
    "                plt.title('{0} - {1}'.format(tissue, results.p_value * predicted_total))\n",
    "                plt.savefig('/cellar/users/ramarty/Data/kir/figures/survival.hla.{0}.{1}.pdf'.format(tissue, hla))\n",
    "                plt.show()\n",
    "                plt.clf()\n",
    "                \n",
    "print total"
   ]
  },
  {
   "cell_type": "markdown",
   "metadata": {},
   "source": [
    "C"
   ]
  },
  {
   "cell_type": "code",
   "execution_count": 33,
   "metadata": {},
   "outputs": [
    {
     "name": "stdout",
     "output_type": "stream",
     "text": [
      "40\n"
     ]
    }
   ],
   "source": [
    "kmf = KaplanMeierFitter()\n",
    "predicted_total = 40 # update\n",
    "total = 0\n",
    "for hla in hla_c_single:\n",
    "    for tissue in df.tissue.unique():\n",
    "        t = df.tissue == tissue            \n",
    "        h = (df.C1 == hla)|(df.C2 == hla)\n",
    "        #k = df[gene] > 1\n",
    "\n",
    "        T = df[t].days\n",
    "        C = df[t].observed_event\n",
    "\n",
    "        if sum(C[h]) > 10 and sum(C[~(h)]) > 10:\n",
    "            total += 1\n",
    "            results = logrank_test(T[h], T[~h], C[h], C[~h], alpha=.99 )\n",
    "            if results.p_value * predicted_total < 0.05:\n",
    "                print hla, tissue, results.p_value, results.p_value * predicted_total\n",
    "                ax = plt.subplot(111)\n",
    "                kmf.fit(T[h], event_observed=C[h], label=\"{0}\".format(hla))\n",
    "                kmf.plot(ax=ax, ci_force_lines=False)\n",
    "                kmf.fit(T[~h], event_observed=C[~h], label=\"Other\")\n",
    "                kmf.plot(ax=ax, ci_force_lines=False)\n",
    "                plt.xlim(0, 1825)\n",
    "                plt.title('{0} - {1}'.format(tissue, results.p_value * predicted_total))\n",
    "                plt.savefig('/cellar/users/ramarty/Data/kir/figures/survival.hla.{0}.{1}.pdf'.format(tissue, hla))\n",
    "                plt.show()\n",
    "                plt.clf()\n",
    "                \n",
    "print total"
   ]
  },
  {
   "cell_type": "markdown",
   "metadata": {},
   "source": [
    "#### Both HLA and KIR"
   ]
  },
  {
   "cell_type": "markdown",
   "metadata": {},
   "source": [
    "A"
   ]
  },
  {
   "cell_type": "code",
   "execution_count": 34,
   "metadata": {},
   "outputs": [
    {
     "name": "stdout",
     "output_type": "stream",
     "text": [
      "93\n"
     ]
    }
   ],
   "source": [
    "predicted_total = 6 # update\n",
    "total = 0\n",
    "for gene in genes:\n",
    "    for hla in hla_a_single:\n",
    "        for tissue in df.tissue.unique():\n",
    "            t = df.tissue == tissue            \n",
    "            h = (df.A1 == hla)|(df.A2 == hla)\n",
    "            k = df[gene] > 0\n",
    "            \n",
    "            T = df[t].days\n",
    "            C = df[t].observed_event\n",
    "            \n",
    "            if sum(C[k&h]) > 4 and sum(C[~k&h]) > 4:\n",
    "                total += 1\n",
    "                results = logrank_test(T[k&h], T[~(k&h)], C[k&h], C[~(k&h)], alpha=.99 )\n",
    "                if results.p_value * predicted_total < 0.05:\n",
    "                    print gene, hla, tissue, results.p_value, results.p_value * predicted_total\n",
    "                    ax = plt.subplot(111)\n",
    "                    kmf.fit(T[k&h], event_observed=C[k&h], label=\"{0}\".format(hla1))\n",
    "                    kmf.plot(ax=ax, ci_force_lines=False)\n",
    "                    kmf.fit(T[~k&h], event_observed=C[~k&h], label=\"Other\")\n",
    "                    kmf.plot(ax=ax, ci_force_lines=False)\n",
    "                    plt.xlim(0, 1825)\n",
    "                    plt.show()\n",
    "                    plt.clf()\n",
    "                \n",
    "print total"
   ]
  },
  {
   "cell_type": "markdown",
   "metadata": {},
   "source": [
    "B"
   ]
  },
  {
   "cell_type": "code",
   "execution_count": 35,
   "metadata": {},
   "outputs": [
    {
     "name": "stdout",
     "output_type": "stream",
     "text": [
      "77\n"
     ]
    }
   ],
   "source": [
    "predicted_total = 37 # update\n",
    "total = 0\n",
    "for gene in genes:\n",
    "    for hla in hla_b_single:\n",
    "        for tissue in df.tissue.unique():\n",
    "            t = df.tissue == tissue            \n",
    "            h = (df.B1 == hla)|(df.B2 == hla)\n",
    "            k = df[gene] > 0\n",
    "            \n",
    "            T = df[t].days\n",
    "            C = df[t].observed_event\n",
    "            \n",
    "            if sum(C[k&h]) > 4 and sum(C[~k&h]) > 4:\n",
    "                total += 1\n",
    "                results = logrank_test(T[k&h], T[~(k&h)], C[k&h], C[~(k&h)], alpha=.99 )\n",
    "                if results.p_value * predicted_total < 0.05:\n",
    "                    print gene, hla, tissue, results.p_value, results.p_value * predicted_total\n",
    "                    ax = plt.subplot(111)\n",
    "                    kmf.fit(T[k&h], event_observed=C[k&h], label=\"High {0} CN\".format(gene))\n",
    "                    kmf.plot(ax=ax, ci_force_lines=False)\n",
    "                    kmf.fit(T[~k&h], event_observed=C[~k&h], label=\"Low {0} CN\".format(gene))\n",
    "                    kmf.plot(ax=ax, ci_force_lines=False)\n",
    "                    plt.xlim(0, 1825)\n",
    "                    plt.show()\n",
    "                    plt.clf()\n",
    "                \n",
    "print total"
   ]
  },
  {
   "cell_type": "markdown",
   "metadata": {},
   "source": [
    "C"
   ]
  },
  {
   "cell_type": "code",
   "execution_count": 36,
   "metadata": {},
   "outputs": [
    {
     "name": "stdout",
     "output_type": "stream",
     "text": [
      "133\n"
     ]
    }
   ],
   "source": [
    "predicted_total = 60 # update\n",
    "total = 0\n",
    "for gene in genes:\n",
    "    for hla in hla_c_single:\n",
    "        for tissue in df.tissue.unique():\n",
    "            t = df.tissue == tissue            \n",
    "            h = (df.C1 == hla)|(df.C2 == hla)\n",
    "            k = df[gene] > 0\n",
    "            \n",
    "            T = df[t].days\n",
    "            C = df[t].observed_event\n",
    "            \n",
    "            if sum(C[k&h]) > 4 and sum(C[~k&h]) > 4:\n",
    "                total += 1\n",
    "                results = logrank_test(T[k&h], T[~(k&h)], C[k&h], C[~(k&h)], alpha=.99 )\n",
    "                if results.p_value * predicted_total < 0.05:\n",
    "                    print gene, hla, tissue, results.p_value, results.p_value * predicted_total\n",
    "                    ax = plt.subplot(111)\n",
    "                    kmf.fit(T[k&h], event_observed=C[k&h], label=\"{0}\".format(hla))\n",
    "                    kmf.plot(ax=ax, ci_force_lines=False)\n",
    "                    kmf.fit(T[~k&h], event_observed=C[~k&h], label=\"Other\")\n",
    "                    kmf.plot(ax=ax, ci_force_lines=False)\n",
    "                    plt.xlim(0, 1825)\n",
    "                    plt.show()\n",
    "                    plt.clf()\n",
    "                \n",
    "print total"
   ]
  },
  {
   "cell_type": "markdown",
   "metadata": {
    "collapsed": true
   },
   "source": [
    "KIR activating/inactivating + neoantigens"
   ]
  },
  {
   "cell_type": "code",
   "execution_count": 37,
   "metadata": {},
   "outputs": [
    {
     "data": {
      "text/html": [
       "<div>\n",
       "<style scoped>\n",
       "    .dataframe tbody tr th:only-of-type {\n",
       "        vertical-align: middle;\n",
       "    }\n",
       "\n",
       "    .dataframe tbody tr th {\n",
       "        vertical-align: top;\n",
       "    }\n",
       "\n",
       "    .dataframe thead th {\n",
       "        text-align: right;\n",
       "    }\n",
       "</style>\n",
       "<table border=\"1\" class=\"dataframe\">\n",
       "  <thead>\n",
       "    <tr style=\"text-align: right;\">\n",
       "      <th></th>\n",
       "      <th>KIR3DL3</th>\n",
       "      <th>KIR3DP1</th>\n",
       "      <th>KIR2DL4</th>\n",
       "      <th>KIR3DL2</th>\n",
       "      <th>KIR2DP1</th>\n",
       "      <th>KIR2DL1</th>\n",
       "      <th>KIR2DS4</th>\n",
       "      <th>KIR2DL5</th>\n",
       "      <th>KIR2DS3</th>\n",
       "      <th>KIR2DS2</th>\n",
       "      <th>...</th>\n",
       "      <th>A2_</th>\n",
       "      <th>B1_</th>\n",
       "      <th>B2_</th>\n",
       "      <th>C1_</th>\n",
       "      <th>C2_</th>\n",
       "      <th>activating</th>\n",
       "      <th>inhibitory</th>\n",
       "      <th>ratio</th>\n",
       "      <th>days</th>\n",
       "      <th>observed_event</th>\n",
       "    </tr>\n",
       "  </thead>\n",
       "  <tbody>\n",
       "    <tr>\n",
       "      <th>TCGA-02-0047</th>\n",
       "      <td>2</td>\n",
       "      <td>2</td>\n",
       "      <td>2</td>\n",
       "      <td>2</td>\n",
       "      <td>1</td>\n",
       "      <td>1</td>\n",
       "      <td>2</td>\n",
       "      <td>0</td>\n",
       "      <td>0</td>\n",
       "      <td>1</td>\n",
       "      <td>...</td>\n",
       "      <td>A*32:01</td>\n",
       "      <td>B*15:01</td>\n",
       "      <td>B*15:01</td>\n",
       "      <td>C*03:03</td>\n",
       "      <td>C*03:03</td>\n",
       "      <td>5</td>\n",
       "      <td>11</td>\n",
       "      <td>0.454545</td>\n",
       "      <td>448.0</td>\n",
       "      <td>True</td>\n",
       "    </tr>\n",
       "    <tr>\n",
       "      <th>TCGA-02-0055</th>\n",
       "      <td>2</td>\n",
       "      <td>2</td>\n",
       "      <td>2</td>\n",
       "      <td>2</td>\n",
       "      <td>1</td>\n",
       "      <td>1</td>\n",
       "      <td>2</td>\n",
       "      <td>0</td>\n",
       "      <td>0</td>\n",
       "      <td>1</td>\n",
       "      <td>...</td>\n",
       "      <td>A*31:01</td>\n",
       "      <td>B*51:01</td>\n",
       "      <td>B*55:01</td>\n",
       "      <td>C*03:03</td>\n",
       "      <td>C*15:02</td>\n",
       "      <td>5</td>\n",
       "      <td>11</td>\n",
       "      <td>0.454545</td>\n",
       "      <td>76.0</td>\n",
       "      <td>True</td>\n",
       "    </tr>\n",
       "    <tr>\n",
       "      <th>TCGA-02-2483</th>\n",
       "      <td>3</td>\n",
       "      <td>3</td>\n",
       "      <td>2</td>\n",
       "      <td>3</td>\n",
       "      <td>3</td>\n",
       "      <td>3</td>\n",
       "      <td>0</td>\n",
       "      <td>1</td>\n",
       "      <td>0</td>\n",
       "      <td>0</td>\n",
       "      <td>...</td>\n",
       "      <td>A*11:01</td>\n",
       "      <td>B*07:02</td>\n",
       "      <td>B*52:01</td>\n",
       "      <td>C*07:02</td>\n",
       "      <td>C*12:02</td>\n",
       "      <td>11</td>\n",
       "      <td>14</td>\n",
       "      <td>0.785714</td>\n",
       "      <td>-1.0</td>\n",
       "      <td>False</td>\n",
       "    </tr>\n",
       "    <tr>\n",
       "      <th>TCGA-02-2485</th>\n",
       "      <td>2</td>\n",
       "      <td>2</td>\n",
       "      <td>2</td>\n",
       "      <td>2</td>\n",
       "      <td>2</td>\n",
       "      <td>2</td>\n",
       "      <td>2</td>\n",
       "      <td>0</td>\n",
       "      <td>0</td>\n",
       "      <td>0</td>\n",
       "      <td>...</td>\n",
       "      <td>A*29:02</td>\n",
       "      <td>B*44:04</td>\n",
       "      <td>B*49:01</td>\n",
       "      <td>C*07:01</td>\n",
       "      <td>C*16:01</td>\n",
       "      <td>4</td>\n",
       "      <td>12</td>\n",
       "      <td>0.333333</td>\n",
       "      <td>-1.0</td>\n",
       "      <td>False</td>\n",
       "    </tr>\n",
       "    <tr>\n",
       "      <th>TCGA-02-2486</th>\n",
       "      <td>3</td>\n",
       "      <td>3</td>\n",
       "      <td>2</td>\n",
       "      <td>3</td>\n",
       "      <td>0</td>\n",
       "      <td>0</td>\n",
       "      <td>3</td>\n",
       "      <td>0</td>\n",
       "      <td>0</td>\n",
       "      <td>3</td>\n",
       "      <td>...</td>\n",
       "      <td>A*03:01</td>\n",
       "      <td>B*07:02</td>\n",
       "      <td>B*07:02</td>\n",
       "      <td>C*07:02</td>\n",
       "      <td>C*07:02</td>\n",
       "      <td>8</td>\n",
       "      <td>14</td>\n",
       "      <td>0.571429</td>\n",
       "      <td>-1.0</td>\n",
       "      <td>False</td>\n",
       "    </tr>\n",
       "  </tbody>\n",
       "</table>\n",
       "<p>5 rows × 66 columns</p>\n",
       "</div>"
      ],
      "text/plain": [
       "              KIR3DL3  KIR3DP1  KIR2DL4  KIR3DL2  KIR2DP1  KIR2DL1  KIR2DS4  \\\n",
       "TCGA-02-0047        2        2        2        2        1        1        2   \n",
       "TCGA-02-0055        2        2        2        2        1        1        2   \n",
       "TCGA-02-2483        3        3        2        3        3        3        0   \n",
       "TCGA-02-2485        2        2        2        2        2        2        2   \n",
       "TCGA-02-2486        3        3        2        3        0        0        3   \n",
       "\n",
       "              KIR2DL5  KIR2DS3  KIR2DS2      ...            A2_      B1_  \\\n",
       "TCGA-02-0047        0        0        1      ...        A*32:01  B*15:01   \n",
       "TCGA-02-0055        0        0        1      ...        A*31:01  B*51:01   \n",
       "TCGA-02-2483        1        0        0      ...        A*11:01  B*07:02   \n",
       "TCGA-02-2485        0        0        0      ...        A*29:02  B*44:04   \n",
       "TCGA-02-2486        0        0        3      ...        A*03:01  B*07:02   \n",
       "\n",
       "                  B2_      C1_      C2_  activating  inhibitory     ratio  \\\n",
       "TCGA-02-0047  B*15:01  C*03:03  C*03:03           5          11  0.454545   \n",
       "TCGA-02-0055  B*55:01  C*03:03  C*15:02           5          11  0.454545   \n",
       "TCGA-02-2483  B*52:01  C*07:02  C*12:02          11          14  0.785714   \n",
       "TCGA-02-2485  B*49:01  C*07:01  C*16:01           4          12  0.333333   \n",
       "TCGA-02-2486  B*07:02  C*07:02  C*07:02           8          14  0.571429   \n",
       "\n",
       "               days observed_event  \n",
       "TCGA-02-0047  448.0           True  \n",
       "TCGA-02-0055   76.0           True  \n",
       "TCGA-02-2483   -1.0          False  \n",
       "TCGA-02-2485   -1.0          False  \n",
       "TCGA-02-2486   -1.0          False  \n",
       "\n",
       "[5 rows x 66 columns]"
      ]
     },
     "execution_count": 37,
     "metadata": {},
     "output_type": "execute_result"
    }
   ],
   "source": [
    "df.head()"
   ]
  },
  {
   "cell_type": "code",
   "execution_count": 38,
   "metadata": {},
   "outputs": [
    {
     "ename": "AttributeError",
     "evalue": "'DataFrame' object has no attribute 'num_neoantigens10'",
     "output_type": "error",
     "traceback": [
      "\u001b[0;31m---------------------------------------------------------------------------\u001b[0m",
      "\u001b[0;31mAttributeError\u001b[0m                            Traceback (most recent call last)",
      "\u001b[0;32m<ipython-input-38-268a1d80373f>\u001b[0m in \u001b[0;36m<module>\u001b[0;34m()\u001b[0m\n\u001b[0;32m----> 1\u001b[0;31m \u001b[0mdf\u001b[0m\u001b[0;34m.\u001b[0m\u001b[0mnum_neoantigens10\u001b[0m\u001b[0;34m.\u001b[0m\u001b[0mdescribe\u001b[0m\u001b[0;34m(\u001b[0m\u001b[0;34m)\u001b[0m\u001b[0;34m\u001b[0m\u001b[0m\n\u001b[0m",
      "\u001b[0;32m/cellar/users/ramarty/anaconda/lib/python2.7/site-packages/pandas/core/generic.pyc\u001b[0m in \u001b[0;36m__getattr__\u001b[0;34m(self, name)\u001b[0m\n\u001b[1;32m   4370\u001b[0m             \u001b[0;32mif\u001b[0m \u001b[0mself\u001b[0m\u001b[0;34m.\u001b[0m\u001b[0m_info_axis\u001b[0m\u001b[0;34m.\u001b[0m\u001b[0m_can_hold_identifiers_and_holds_name\u001b[0m\u001b[0;34m(\u001b[0m\u001b[0mname\u001b[0m\u001b[0;34m)\u001b[0m\u001b[0;34m:\u001b[0m\u001b[0;34m\u001b[0m\u001b[0m\n\u001b[1;32m   4371\u001b[0m                 \u001b[0;32mreturn\u001b[0m \u001b[0mself\u001b[0m\u001b[0;34m[\u001b[0m\u001b[0mname\u001b[0m\u001b[0;34m]\u001b[0m\u001b[0;34m\u001b[0m\u001b[0m\n\u001b[0;32m-> 4372\u001b[0;31m             \u001b[0;32mreturn\u001b[0m \u001b[0mobject\u001b[0m\u001b[0;34m.\u001b[0m\u001b[0m__getattribute__\u001b[0m\u001b[0;34m(\u001b[0m\u001b[0mself\u001b[0m\u001b[0;34m,\u001b[0m \u001b[0mname\u001b[0m\u001b[0;34m)\u001b[0m\u001b[0;34m\u001b[0m\u001b[0m\n\u001b[0m\u001b[1;32m   4373\u001b[0m \u001b[0;34m\u001b[0m\u001b[0m\n\u001b[1;32m   4374\u001b[0m     \u001b[0;32mdef\u001b[0m \u001b[0m__setattr__\u001b[0m\u001b[0;34m(\u001b[0m\u001b[0mself\u001b[0m\u001b[0;34m,\u001b[0m \u001b[0mname\u001b[0m\u001b[0;34m,\u001b[0m \u001b[0mvalue\u001b[0m\u001b[0;34m)\u001b[0m\u001b[0;34m:\u001b[0m\u001b[0;34m\u001b[0m\u001b[0m\n",
      "\u001b[0;31mAttributeError\u001b[0m: 'DataFrame' object has no attribute 'num_neoantigens10'"
     ]
    }
   ],
   "source": [
    "df.num_neoantigens10.describe()"
   ]
  },
  {
   "cell_type": "code",
   "execution_count": null,
   "metadata": {},
   "outputs": [],
   "source": [
    "df.num_neoantigens10.quantile(.5)"
   ]
  },
  {
   "cell_type": "code",
   "execution_count": null,
   "metadata": {},
   "outputs": [],
   "source": [
    "predicted_total = 5 # update\n",
    "total = 0\n",
    "\n",
    "for tissue in df.tissue.unique():\n",
    "    t = df.tissue == tissue\n",
    "    df_t = df[t]\n",
    "    i = df_t.inhibitory > df_t.inhibitory.quantile(0.5)\n",
    "    n = df_t.num_neoantigens10 > df_t.num_neoantigens10.quantile(.5)\n",
    "\n",
    "    T = df_t.days\n",
    "    C = df_t.observed_event\n",
    "    print tissue, len(C)\n",
    "\n",
    "    print sum(C[n&i]), sum(C[n&~i])\n",
    "    total += 1\n",
    "    results = logrank_test(T[n&i], T[n&~i], C[n&i], C[n&~i], alpha=.99 )\n",
    "    if results.p_value * predicted_total < 0.05:\n",
    "        print gene, hla1, hla2, tissue, results.p_value, results.p_value * predicted_total\n",
    "        ax = plt.subplot(111)\n",
    "        kmf.fit(T[n&i], event_observed=C[n&i], label=\"{0},{1}\".format(hla1, hla2))\n",
    "        kmf.plot(ax=ax, ci_force_lines=False)\n",
    "        kmf.fit(T[n&~i], event_observed=C[n&~i], label=\"Other\")\n",
    "        kmf.plot(ax=ax, ci_force_lines=False)\n",
    "        plt.xlim(0, 1825)\n",
    "        plt.show()\n",
    "        plt.clf()\n",
    "\n",
    "print total"
   ]
  },
  {
   "cell_type": "markdown",
   "metadata": {},
   "source": [
    "Known interactions"
   ]
  },
  {
   "cell_type": "code",
   "execution_count": 36,
   "metadata": {},
   "outputs": [],
   "source": [
    "bw4 = ['B*05', 'B*13', 'B*17', 'B*27', 'B*37', 'B*38', 'B*44', 'B*47', 'B*49', 'B*51', \n",
    "       'B*52', 'B*53', 'B*57', 'B*58', 'B*59', 'B*63', 'B*77', 'A*09', 'A*23', 'A*24',\n",
    "       'A*24', 'A*25', 'A*32']\n",
    "\n",
    "def categorize_bw4(x):\n",
    "    return in_bw4(x[0]) + in_bw4(x[1]) + in_bw4(x[2]) + in_bw4(x[3])\n",
    "def in_bw4(x):\n",
    "    if x in bw4:\n",
    "        return 1\n",
    "    else:\n",
    "        return 0 \n",
    "df['bw4'] = df[['A1', 'A2', 'B1', 'B2']].apply(categorize_bw4, axis=1)"
   ]
  },
  {
   "cell_type": "code",
   "execution_count": 38,
   "metadata": {},
   "outputs": [],
   "source": [
    "activating_combo1 = (df.KIR3DS1 > 0) & (df.bw4 > 0)\n",
    "activating_combo2 = (df.KIR2DS1 > 0) & ((df.C1 == 'C*02')&(df.C2 == 'C*02')|(df.C1 == 'C*01')&(df.C2 == 'C*02')|(df.C1 == 'C*02')&(df.C2 == 'C*01'))\n",
    "activating_combo3 = (df.KIR2DS2 > 0) & ((df.C1 == 'C*01')&(df.C2 == 'C*01')|(df.C1 == 'C*01')&(df.C2 == 'C*02')|(df.C1 == 'C*02')&(df.C2 == 'C*01'))"
   ]
  },
  {
   "cell_type": "code",
   "execution_count": 39,
   "metadata": {},
   "outputs": [],
   "source": [
    "inactivating_combo1 = (df.KIR3DL1 > 0) & (df.bw4 > 0)\n",
    "inactivating_combo2 = (df.KIR2DL1 > 0) & ((df.C1 == 'C*02')&(df.C2 == 'C*02')|(df.C1 == 'C*01')&(df.C2 == 'C*02')|(df.C1 == 'C*02')&(df.C2 == 'C*01'))\n",
    "inactivating_combo3 = (df.KIR2DL2 > 0) & ((df.C1 == 'C*01')&(df.C2 == 'C*01')|(df.C1 == 'C*01')&(df.C2 == 'C*02')|(df.C1 == 'C*02')&(df.C2 == 'C*01'))\n",
    "inactivating_combo4 = (df.KIR2DL3 > 0) & ((df.C1 == 'C*01')&(df.C2 == 'C*01')|(df.C1 == 'C*01')&(df.C2 == 'C*02')|(df.C1 == 'C*02')&(df.C2 == 'C*01'))"
   ]
  },
  {
   "cell_type": "code",
   "execution_count": 40,
   "metadata": {
    "scrolled": true
   },
   "outputs": [
    {
     "name": "stderr",
     "output_type": "stream",
     "text": [
      "/cellar/users/ramarty/anaconda/lib/python2.7/site-packages/ipykernel_launcher.py:8: UserWarning: Boolean Series key will be reindexed to match DataFrame index.\n",
      "  \n",
      "/cellar/users/ramarty/anaconda/lib/python2.7/site-packages/ipykernel_launcher.py:8: UserWarning: Boolean Series key will be reindexed to match DataFrame index.\n",
      "  \n",
      "/cellar/users/ramarty/anaconda/lib/python2.7/site-packages/ipykernel_launcher.py:8: UserWarning: Boolean Series key will be reindexed to match DataFrame index.\n",
      "  \n",
      "/cellar/users/ramarty/anaconda/lib/python2.7/site-packages/ipykernel_launcher.py:8: UserWarning: Boolean Series key will be reindexed to match DataFrame index.\n",
      "  \n",
      "/cellar/users/ramarty/anaconda/lib/python2.7/site-packages/ipykernel_launcher.py:8: UserWarning: Boolean Series key will be reindexed to match DataFrame index.\n",
      "  \n",
      "/cellar/users/ramarty/anaconda/lib/python2.7/site-packages/ipykernel_launcher.py:8: UserWarning: Boolean Series key will be reindexed to match DataFrame index.\n",
      "  \n",
      "/cellar/users/ramarty/anaconda/lib/python2.7/site-packages/ipykernel_launcher.py:8: UserWarning: Boolean Series key will be reindexed to match DataFrame index.\n",
      "  \n",
      "/cellar/users/ramarty/anaconda/lib/python2.7/site-packages/ipykernel_launcher.py:8: UserWarning: Boolean Series key will be reindexed to match DataFrame index.\n",
      "  \n",
      "/cellar/users/ramarty/anaconda/lib/python2.7/site-packages/ipykernel_launcher.py:8: UserWarning: Boolean Series key will be reindexed to match DataFrame index.\n",
      "  \n",
      "/cellar/users/ramarty/anaconda/lib/python2.7/site-packages/ipykernel_launcher.py:8: UserWarning: Boolean Series key will be reindexed to match DataFrame index.\n",
      "  \n",
      "/cellar/users/ramarty/anaconda/lib/python2.7/site-packages/ipykernel_launcher.py:8: UserWarning: Boolean Series key will be reindexed to match DataFrame index.\n",
      "  \n",
      "/cellar/users/ramarty/anaconda/lib/python2.7/site-packages/ipykernel_launcher.py:8: UserWarning: Boolean Series key will be reindexed to match DataFrame index.\n",
      "  \n",
      "/cellar/users/ramarty/anaconda/lib/python2.7/site-packages/ipykernel_launcher.py:8: UserWarning: Boolean Series key will be reindexed to match DataFrame index.\n",
      "  \n",
      "/cellar/users/ramarty/anaconda/lib/python2.7/site-packages/ipykernel_launcher.py:8: UserWarning: Boolean Series key will be reindexed to match DataFrame index.\n",
      "  \n",
      "/cellar/users/ramarty/anaconda/lib/python2.7/site-packages/ipykernel_launcher.py:8: UserWarning: Boolean Series key will be reindexed to match DataFrame index.\n",
      "  \n",
      "/cellar/users/ramarty/anaconda/lib/python2.7/site-packages/ipykernel_launcher.py:8: UserWarning: Boolean Series key will be reindexed to match DataFrame index.\n",
      "  \n",
      "/cellar/users/ramarty/anaconda/lib/python2.7/site-packages/ipykernel_launcher.py:8: UserWarning: Boolean Series key will be reindexed to match DataFrame index.\n",
      "  \n",
      "/cellar/users/ramarty/anaconda/lib/python2.7/site-packages/ipykernel_launcher.py:8: UserWarning: Boolean Series key will be reindexed to match DataFrame index.\n",
      "  \n",
      "/cellar/users/ramarty/anaconda/lib/python2.7/site-packages/ipykernel_launcher.py:8: UserWarning: Boolean Series key will be reindexed to match DataFrame index.\n",
      "  \n",
      "/cellar/users/ramarty/anaconda/lib/python2.7/site-packages/ipykernel_launcher.py:8: UserWarning: Boolean Series key will be reindexed to match DataFrame index.\n",
      "  \n",
      "/cellar/users/ramarty/anaconda/lib/python2.7/site-packages/ipykernel_launcher.py:8: UserWarning: Boolean Series key will be reindexed to match DataFrame index.\n",
      "  \n",
      "/cellar/users/ramarty/anaconda/lib/python2.7/site-packages/ipykernel_launcher.py:8: UserWarning: Boolean Series key will be reindexed to match DataFrame index.\n",
      "  \n",
      "/cellar/users/ramarty/anaconda/lib/python2.7/site-packages/ipykernel_launcher.py:8: UserWarning: Boolean Series key will be reindexed to match DataFrame index.\n",
      "  \n",
      "/cellar/users/ramarty/anaconda/lib/python2.7/site-packages/ipykernel_launcher.py:8: UserWarning: Boolean Series key will be reindexed to match DataFrame index.\n",
      "  \n",
      "/cellar/users/ramarty/anaconda/lib/python2.7/site-packages/ipykernel_launcher.py:8: UserWarning: Boolean Series key will be reindexed to match DataFrame index.\n",
      "  \n",
      "/cellar/users/ramarty/anaconda/lib/python2.7/site-packages/ipykernel_launcher.py:8: UserWarning: Boolean Series key will be reindexed to match DataFrame index.\n",
      "  \n",
      "/cellar/users/ramarty/anaconda/lib/python2.7/site-packages/ipykernel_launcher.py:8: UserWarning: Boolean Series key will be reindexed to match DataFrame index.\n",
      "  \n",
      "/cellar/users/ramarty/anaconda/lib/python2.7/site-packages/ipykernel_launcher.py:8: UserWarning: Boolean Series key will be reindexed to match DataFrame index.\n",
      "  \n",
      "/cellar/users/ramarty/anaconda/lib/python2.7/site-packages/ipykernel_launcher.py:8: UserWarning: Boolean Series key will be reindexed to match DataFrame index.\n",
      "  \n",
      "/cellar/users/ramarty/anaconda/lib/python2.7/site-packages/ipykernel_launcher.py:8: UserWarning: Boolean Series key will be reindexed to match DataFrame index.\n",
      "  \n",
      "/cellar/users/ramarty/anaconda/lib/python2.7/site-packages/ipykernel_launcher.py:8: UserWarning: Boolean Series key will be reindexed to match DataFrame index.\n",
      "  \n",
      "/cellar/users/ramarty/anaconda/lib/python2.7/site-packages/ipykernel_launcher.py:8: UserWarning: Boolean Series key will be reindexed to match DataFrame index.\n",
      "  \n",
      "/cellar/users/ramarty/anaconda/lib/python2.7/site-packages/ipykernel_launcher.py:8: UserWarning: Boolean Series key will be reindexed to match DataFrame index.\n",
      "  \n",
      "/cellar/users/ramarty/anaconda/lib/python2.7/site-packages/ipykernel_launcher.py:8: UserWarning: Boolean Series key will be reindexed to match DataFrame index.\n",
      "  \n",
      "/cellar/users/ramarty/anaconda/lib/python2.7/site-packages/ipykernel_launcher.py:8: UserWarning: Boolean Series key will be reindexed to match DataFrame index.\n",
      "  \n",
      "/cellar/users/ramarty/anaconda/lib/python2.7/site-packages/ipykernel_launcher.py:8: UserWarning: Boolean Series key will be reindexed to match DataFrame index.\n",
      "  \n",
      "/cellar/users/ramarty/anaconda/lib/python2.7/site-packages/ipykernel_launcher.py:8: UserWarning: Boolean Series key will be reindexed to match DataFrame index.\n",
      "  \n",
      "/cellar/users/ramarty/anaconda/lib/python2.7/site-packages/ipykernel_launcher.py:8: UserWarning: Boolean Series key will be reindexed to match DataFrame index.\n",
      "  \n",
      "/cellar/users/ramarty/anaconda/lib/python2.7/site-packages/ipykernel_launcher.py:8: UserWarning: Boolean Series key will be reindexed to match DataFrame index.\n",
      "  \n",
      "/cellar/users/ramarty/anaconda/lib/python2.7/site-packages/ipykernel_launcher.py:8: UserWarning: Boolean Series key will be reindexed to match DataFrame index.\n",
      "  \n",
      "/cellar/users/ramarty/anaconda/lib/python2.7/site-packages/ipykernel_launcher.py:8: UserWarning: Boolean Series key will be reindexed to match DataFrame index.\n",
      "  \n",
      "/cellar/users/ramarty/anaconda/lib/python2.7/site-packages/ipykernel_launcher.py:8: UserWarning: Boolean Series key will be reindexed to match DataFrame index.\n",
      "  \n",
      "/cellar/users/ramarty/anaconda/lib/python2.7/site-packages/ipykernel_launcher.py:8: UserWarning: Boolean Series key will be reindexed to match DataFrame index.\n",
      "  \n",
      "/cellar/users/ramarty/anaconda/lib/python2.7/site-packages/ipykernel_launcher.py:8: UserWarning: Boolean Series key will be reindexed to match DataFrame index.\n",
      "  \n",
      "/cellar/users/ramarty/anaconda/lib/python2.7/site-packages/ipykernel_launcher.py:8: UserWarning: Boolean Series key will be reindexed to match DataFrame index.\n",
      "  \n",
      "/cellar/users/ramarty/anaconda/lib/python2.7/site-packages/ipykernel_launcher.py:8: UserWarning: Boolean Series key will be reindexed to match DataFrame index.\n",
      "  \n",
      "/cellar/users/ramarty/anaconda/lib/python2.7/site-packages/ipykernel_launcher.py:8: UserWarning: Boolean Series key will be reindexed to match DataFrame index.\n",
      "  \n",
      "/cellar/users/ramarty/anaconda/lib/python2.7/site-packages/ipykernel_launcher.py:8: UserWarning: Boolean Series key will be reindexed to match DataFrame index.\n",
      "  \n",
      "/cellar/users/ramarty/anaconda/lib/python2.7/site-packages/ipykernel_launcher.py:8: UserWarning: Boolean Series key will be reindexed to match DataFrame index.\n",
      "  \n",
      "/cellar/users/ramarty/anaconda/lib/python2.7/site-packages/ipykernel_launcher.py:8: UserWarning: Boolean Series key will be reindexed to match DataFrame index.\n",
      "  \n",
      "/cellar/users/ramarty/anaconda/lib/python2.7/site-packages/ipykernel_launcher.py:8: UserWarning: Boolean Series key will be reindexed to match DataFrame index.\n",
      "  \n",
      "/cellar/users/ramarty/anaconda/lib/python2.7/site-packages/ipykernel_launcher.py:8: UserWarning: Boolean Series key will be reindexed to match DataFrame index.\n",
      "  \n",
      "/cellar/users/ramarty/anaconda/lib/python2.7/site-packages/ipykernel_launcher.py:8: UserWarning: Boolean Series key will be reindexed to match DataFrame index.\n",
      "  \n",
      "/cellar/users/ramarty/anaconda/lib/python2.7/site-packages/ipykernel_launcher.py:8: UserWarning: Boolean Series key will be reindexed to match DataFrame index.\n",
      "  \n",
      "/cellar/users/ramarty/anaconda/lib/python2.7/site-packages/ipykernel_launcher.py:8: UserWarning: Boolean Series key will be reindexed to match DataFrame index.\n",
      "  \n",
      "/cellar/users/ramarty/anaconda/lib/python2.7/site-packages/ipykernel_launcher.py:8: UserWarning: Boolean Series key will be reindexed to match DataFrame index.\n",
      "  \n",
      "/cellar/users/ramarty/anaconda/lib/python2.7/site-packages/ipykernel_launcher.py:8: UserWarning: Boolean Series key will be reindexed to match DataFrame index.\n",
      "  \n",
      "/cellar/users/ramarty/anaconda/lib/python2.7/site-packages/ipykernel_launcher.py:8: UserWarning: Boolean Series key will be reindexed to match DataFrame index.\n",
      "  \n",
      "/cellar/users/ramarty/anaconda/lib/python2.7/site-packages/ipykernel_launcher.py:8: UserWarning: Boolean Series key will be reindexed to match DataFrame index.\n",
      "  \n",
      "/cellar/users/ramarty/anaconda/lib/python2.7/site-packages/ipykernel_launcher.py:8: UserWarning: Boolean Series key will be reindexed to match DataFrame index.\n",
      "  \n",
      "/cellar/users/ramarty/anaconda/lib/python2.7/site-packages/ipykernel_launcher.py:8: UserWarning: Boolean Series key will be reindexed to match DataFrame index.\n",
      "  \n",
      "/cellar/users/ramarty/anaconda/lib/python2.7/site-packages/ipykernel_launcher.py:8: UserWarning: Boolean Series key will be reindexed to match DataFrame index.\n",
      "  \n",
      "/cellar/users/ramarty/anaconda/lib/python2.7/site-packages/ipykernel_launcher.py:8: UserWarning: Boolean Series key will be reindexed to match DataFrame index.\n",
      "  \n",
      "/cellar/users/ramarty/anaconda/lib/python2.7/site-packages/ipykernel_launcher.py:8: UserWarning: Boolean Series key will be reindexed to match DataFrame index.\n",
      "  \n",
      "/cellar/users/ramarty/anaconda/lib/python2.7/site-packages/ipykernel_launcher.py:8: UserWarning: Boolean Series key will be reindexed to match DataFrame index.\n",
      "  \n",
      "/cellar/users/ramarty/anaconda/lib/python2.7/site-packages/ipykernel_launcher.py:8: UserWarning: Boolean Series key will be reindexed to match DataFrame index.\n",
      "  \n",
      "/cellar/users/ramarty/anaconda/lib/python2.7/site-packages/ipykernel_launcher.py:8: UserWarning: Boolean Series key will be reindexed to match DataFrame index.\n",
      "  \n",
      "/cellar/users/ramarty/anaconda/lib/python2.7/site-packages/ipykernel_launcher.py:8: UserWarning: Boolean Series key will be reindexed to match DataFrame index.\n",
      "  \n",
      "/cellar/users/ramarty/anaconda/lib/python2.7/site-packages/ipykernel_launcher.py:8: UserWarning: Boolean Series key will be reindexed to match DataFrame index.\n",
      "  \n",
      "/cellar/users/ramarty/anaconda/lib/python2.7/site-packages/ipykernel_launcher.py:8: UserWarning: Boolean Series key will be reindexed to match DataFrame index.\n",
      "  \n",
      "/cellar/users/ramarty/anaconda/lib/python2.7/site-packages/ipykernel_launcher.py:8: UserWarning: Boolean Series key will be reindexed to match DataFrame index.\n",
      "  \n",
      "/cellar/users/ramarty/anaconda/lib/python2.7/site-packages/ipykernel_launcher.py:8: UserWarning: Boolean Series key will be reindexed to match DataFrame index.\n",
      "  \n",
      "/cellar/users/ramarty/anaconda/lib/python2.7/site-packages/ipykernel_launcher.py:8: UserWarning: Boolean Series key will be reindexed to match DataFrame index.\n",
      "  \n",
      "/cellar/users/ramarty/anaconda/lib/python2.7/site-packages/ipykernel_launcher.py:8: UserWarning: Boolean Series key will be reindexed to match DataFrame index.\n",
      "  \n",
      "/cellar/users/ramarty/anaconda/lib/python2.7/site-packages/ipykernel_launcher.py:8: UserWarning: Boolean Series key will be reindexed to match DataFrame index.\n",
      "  \n",
      "/cellar/users/ramarty/anaconda/lib/python2.7/site-packages/ipykernel_launcher.py:8: UserWarning: Boolean Series key will be reindexed to match DataFrame index.\n",
      "  \n",
      "/cellar/users/ramarty/anaconda/lib/python2.7/site-packages/ipykernel_launcher.py:8: UserWarning: Boolean Series key will be reindexed to match DataFrame index.\n",
      "  \n",
      "/cellar/users/ramarty/anaconda/lib/python2.7/site-packages/ipykernel_launcher.py:8: UserWarning: Boolean Series key will be reindexed to match DataFrame index.\n",
      "  \n",
      "/cellar/users/ramarty/anaconda/lib/python2.7/site-packages/ipykernel_launcher.py:8: UserWarning: Boolean Series key will be reindexed to match DataFrame index.\n",
      "  \n",
      "/cellar/users/ramarty/anaconda/lib/python2.7/site-packages/ipykernel_launcher.py:8: UserWarning: Boolean Series key will be reindexed to match DataFrame index.\n",
      "  \n"
     ]
    },
    {
     "name": "stderr",
     "output_type": "stream",
     "text": [
      "/cellar/users/ramarty/anaconda/lib/python2.7/site-packages/ipykernel_launcher.py:8: UserWarning: Boolean Series key will be reindexed to match DataFrame index.\n",
      "  \n",
      "/cellar/users/ramarty/anaconda/lib/python2.7/site-packages/ipykernel_launcher.py:8: UserWarning: Boolean Series key will be reindexed to match DataFrame index.\n",
      "  \n",
      "/cellar/users/ramarty/anaconda/lib/python2.7/site-packages/ipykernel_launcher.py:8: UserWarning: Boolean Series key will be reindexed to match DataFrame index.\n",
      "  \n",
      "/cellar/users/ramarty/anaconda/lib/python2.7/site-packages/ipykernel_launcher.py:8: UserWarning: Boolean Series key will be reindexed to match DataFrame index.\n",
      "  \n",
      "/cellar/users/ramarty/anaconda/lib/python2.7/site-packages/ipykernel_launcher.py:8: UserWarning: Boolean Series key will be reindexed to match DataFrame index.\n",
      "  \n",
      "/cellar/users/ramarty/anaconda/lib/python2.7/site-packages/ipykernel_launcher.py:8: UserWarning: Boolean Series key will be reindexed to match DataFrame index.\n",
      "  \n",
      "/cellar/users/ramarty/anaconda/lib/python2.7/site-packages/ipykernel_launcher.py:8: UserWarning: Boolean Series key will be reindexed to match DataFrame index.\n",
      "  \n",
      "/cellar/users/ramarty/anaconda/lib/python2.7/site-packages/ipykernel_launcher.py:8: UserWarning: Boolean Series key will be reindexed to match DataFrame index.\n",
      "  \n",
      "/cellar/users/ramarty/anaconda/lib/python2.7/site-packages/ipykernel_launcher.py:8: UserWarning: Boolean Series key will be reindexed to match DataFrame index.\n",
      "  \n",
      "/cellar/users/ramarty/anaconda/lib/python2.7/site-packages/ipykernel_launcher.py:8: UserWarning: Boolean Series key will be reindexed to match DataFrame index.\n",
      "  \n",
      "/cellar/users/ramarty/anaconda/lib/python2.7/site-packages/ipykernel_launcher.py:8: UserWarning: Boolean Series key will be reindexed to match DataFrame index.\n",
      "  \n",
      "/cellar/users/ramarty/anaconda/lib/python2.7/site-packages/ipykernel_launcher.py:8: UserWarning: Boolean Series key will be reindexed to match DataFrame index.\n",
      "  \n",
      "/cellar/users/ramarty/anaconda/lib/python2.7/site-packages/ipykernel_launcher.py:8: UserWarning: Boolean Series key will be reindexed to match DataFrame index.\n",
      "  \n",
      "/cellar/users/ramarty/anaconda/lib/python2.7/site-packages/ipykernel_launcher.py:8: UserWarning: Boolean Series key will be reindexed to match DataFrame index.\n",
      "  \n",
      "/cellar/users/ramarty/anaconda/lib/python2.7/site-packages/ipykernel_launcher.py:8: UserWarning: Boolean Series key will be reindexed to match DataFrame index.\n",
      "  \n",
      "/cellar/users/ramarty/anaconda/lib/python2.7/site-packages/ipykernel_launcher.py:8: UserWarning: Boolean Series key will be reindexed to match DataFrame index.\n",
      "  \n",
      "/cellar/users/ramarty/anaconda/lib/python2.7/site-packages/ipykernel_launcher.py:8: UserWarning: Boolean Series key will be reindexed to match DataFrame index.\n",
      "  \n",
      "/cellar/users/ramarty/anaconda/lib/python2.7/site-packages/ipykernel_launcher.py:8: UserWarning: Boolean Series key will be reindexed to match DataFrame index.\n",
      "  \n",
      "/cellar/users/ramarty/anaconda/lib/python2.7/site-packages/ipykernel_launcher.py:8: UserWarning: Boolean Series key will be reindexed to match DataFrame index.\n",
      "  \n",
      "/cellar/users/ramarty/anaconda/lib/python2.7/site-packages/ipykernel_launcher.py:8: UserWarning: Boolean Series key will be reindexed to match DataFrame index.\n",
      "  \n",
      "/cellar/users/ramarty/anaconda/lib/python2.7/site-packages/ipykernel_launcher.py:8: UserWarning: Boolean Series key will be reindexed to match DataFrame index.\n",
      "  \n"
     ]
    },
    {
     "name": "stdout",
     "output_type": "stream",
     "text": [
      "22\n"
     ]
    },
    {
     "name": "stderr",
     "output_type": "stream",
     "text": [
      "/cellar/users/ramarty/anaconda/lib/python2.7/site-packages/ipykernel_launcher.py:8: UserWarning: Boolean Series key will be reindexed to match DataFrame index.\n",
      "  \n",
      "/cellar/users/ramarty/anaconda/lib/python2.7/site-packages/ipykernel_launcher.py:8: UserWarning: Boolean Series key will be reindexed to match DataFrame index.\n",
      "  \n",
      "/cellar/users/ramarty/anaconda/lib/python2.7/site-packages/ipykernel_launcher.py:8: UserWarning: Boolean Series key will be reindexed to match DataFrame index.\n",
      "  \n",
      "/cellar/users/ramarty/anaconda/lib/python2.7/site-packages/ipykernel_launcher.py:8: UserWarning: Boolean Series key will be reindexed to match DataFrame index.\n",
      "  \n",
      "/cellar/users/ramarty/anaconda/lib/python2.7/site-packages/ipykernel_launcher.py:8: UserWarning: Boolean Series key will be reindexed to match DataFrame index.\n",
      "  \n",
      "/cellar/users/ramarty/anaconda/lib/python2.7/site-packages/ipykernel_launcher.py:8: UserWarning: Boolean Series key will be reindexed to match DataFrame index.\n",
      "  \n",
      "/cellar/users/ramarty/anaconda/lib/python2.7/site-packages/ipykernel_launcher.py:8: UserWarning: Boolean Series key will be reindexed to match DataFrame index.\n",
      "  \n"
     ]
    }
   ],
   "source": [
    "predicted_total = 1\n",
    "total = 0\n",
    "for tissue in df.tissue.unique():\n",
    "    for activating_combo in [activating_combo1, activating_combo2, activating_combo3]:\n",
    "        for cell in ['NKcells', 'Tcells']:\n",
    "            t = df.tissue == tissue\n",
    "            df_t = df[t]\n",
    "            a = df_t[activating_combo]\n",
    "\n",
    "            T = df_t.days\n",
    "            C = df_t.observed_event\n",
    "\n",
    "            if sum(C[activating_combo]) > 4 and sum(C[~activating_combo]) > 4:\n",
    "                total += 1\n",
    "                results = logrank_test(T[activating_combo], T[~(activating_combo)], C[activating_combo], C[~(activating_combo)], alpha=.99 )\n",
    "                if results.p_value * predicted_total < 0.05:\n",
    "                    print len(df[activating_combo]), len(df[~activating_combo])\n",
    "                    print activating_combo, tissue, results.p_value, results.p_value * predicted_total\n",
    "                    ax = plt.subplot(111)\n",
    "                    kmf.fit(T[activating_combo], event_observed=C[activating_combo], label=\"{0},{1}\".format(hla1, hla2))\n",
    "                    kmf.plot(ax=ax, ci_force_lines=False)\n",
    "                    kmf.fit(T[~activating_combo], event_observed=C[~activating_combo], label=\"Other\")\n",
    "                    kmf.plot(ax=ax, ci_force_lines=False)\n",
    "                    plt.xlim(0, 1825)\n",
    "                    plt.show()\n",
    "                    plt.clf()\n",
    "print total"
   ]
  },
  {
   "cell_type": "code",
   "execution_count": 41,
   "metadata": {},
   "outputs": [
    {
     "name": "stderr",
     "output_type": "stream",
     "text": [
      "/cellar/users/ramarty/anaconda/lib/python2.7/site-packages/ipykernel_launcher.py:7: UserWarning: Boolean Series key will be reindexed to match DataFrame index.\n",
      "  import sys\n"
     ]
    },
    {
     "ename": "TypeError",
     "evalue": "Indexing a Series with DataFrame is not supported, use the appropriate DataFrame column",
     "output_type": "error",
     "traceback": [
      "\u001b[0;31m---------------------------------------------------------------------------\u001b[0m",
      "\u001b[0;31mTypeError\u001b[0m                                 Traceback (most recent call last)",
      "\u001b[0;32m<ipython-input-41-139dc79e4a74>\u001b[0m in \u001b[0;36m<module>\u001b[0;34m()\u001b[0m\n\u001b[1;32m     10\u001b[0m         \u001b[0mC\u001b[0m \u001b[0;34m=\u001b[0m \u001b[0mdf_t\u001b[0m\u001b[0;34m.\u001b[0m\u001b[0mobserved_event\u001b[0m\u001b[0;34m\u001b[0m\u001b[0m\n\u001b[1;32m     11\u001b[0m \u001b[0;34m\u001b[0m\u001b[0m\n\u001b[0;32m---> 12\u001b[0;31m         \u001b[0;32mif\u001b[0m \u001b[0msum\u001b[0m\u001b[0;34m(\u001b[0m\u001b[0mC\u001b[0m\u001b[0;34m[\u001b[0m\u001b[0ma\u001b[0m\u001b[0;34m]\u001b[0m\u001b[0;34m)\u001b[0m \u001b[0;34m>\u001b[0m \u001b[0;36m8\u001b[0m \u001b[0;32mand\u001b[0m \u001b[0msum\u001b[0m\u001b[0;34m(\u001b[0m\u001b[0mC\u001b[0m\u001b[0;34m[\u001b[0m\u001b[0;34m~\u001b[0m\u001b[0ma\u001b[0m\u001b[0;34m]\u001b[0m\u001b[0;34m)\u001b[0m \u001b[0;34m>\u001b[0m \u001b[0;36m8\u001b[0m\u001b[0;34m:\u001b[0m\u001b[0;34m\u001b[0m\u001b[0m\n\u001b[0m\u001b[1;32m     13\u001b[0m             \u001b[0;32mprint\u001b[0m \u001b[0mtissue\u001b[0m\u001b[0;34m,\u001b[0m \u001b[0msum\u001b[0m\u001b[0;34m(\u001b[0m\u001b[0mC\u001b[0m\u001b[0;34m[\u001b[0m\u001b[0ma\u001b[0m\u001b[0;34m]\u001b[0m\u001b[0;34m)\u001b[0m\u001b[0;34m,\u001b[0m \u001b[0msum\u001b[0m\u001b[0;34m(\u001b[0m\u001b[0mC\u001b[0m\u001b[0;34m[\u001b[0m\u001b[0;34m~\u001b[0m\u001b[0ma\u001b[0m\u001b[0;34m]\u001b[0m\u001b[0;34m)\u001b[0m\u001b[0;34m\u001b[0m\u001b[0m\n\u001b[1;32m     14\u001b[0m             \u001b[0mtotal\u001b[0m \u001b[0;34m+=\u001b[0m \u001b[0;36m1\u001b[0m\u001b[0;34m\u001b[0m\u001b[0m\n",
      "\u001b[0;32m/cellar/users/ramarty/anaconda/lib/python2.7/site-packages/pandas/core/series.pyc\u001b[0m in \u001b[0;36m__getitem__\u001b[0;34m(self, key)\u001b[0m\n\u001b[1;32m    807\u001b[0m             \u001b[0mkey\u001b[0m \u001b[0;34m=\u001b[0m \u001b[0mcheck_bool_indexer\u001b[0m\u001b[0;34m(\u001b[0m\u001b[0mself\u001b[0m\u001b[0;34m.\u001b[0m\u001b[0mindex\u001b[0m\u001b[0;34m,\u001b[0m \u001b[0mkey\u001b[0m\u001b[0;34m)\u001b[0m\u001b[0;34m\u001b[0m\u001b[0m\n\u001b[1;32m    808\u001b[0m \u001b[0;34m\u001b[0m\u001b[0m\n\u001b[0;32m--> 809\u001b[0;31m         \u001b[0;32mreturn\u001b[0m \u001b[0mself\u001b[0m\u001b[0;34m.\u001b[0m\u001b[0m_get_with\u001b[0m\u001b[0;34m(\u001b[0m\u001b[0mkey\u001b[0m\u001b[0;34m)\u001b[0m\u001b[0;34m\u001b[0m\u001b[0m\n\u001b[0m\u001b[1;32m    810\u001b[0m \u001b[0;34m\u001b[0m\u001b[0m\n\u001b[1;32m    811\u001b[0m     \u001b[0;32mdef\u001b[0m \u001b[0m_get_with\u001b[0m\u001b[0;34m(\u001b[0m\u001b[0mself\u001b[0m\u001b[0;34m,\u001b[0m \u001b[0mkey\u001b[0m\u001b[0;34m)\u001b[0m\u001b[0;34m:\u001b[0m\u001b[0;34m\u001b[0m\u001b[0m\n",
      "\u001b[0;32m/cellar/users/ramarty/anaconda/lib/python2.7/site-packages/pandas/core/series.pyc\u001b[0m in \u001b[0;36m_get_with\u001b[0;34m(self, key)\u001b[0m\n\u001b[1;32m    815\u001b[0m             \u001b[0;32mreturn\u001b[0m \u001b[0mself\u001b[0m\u001b[0;34m.\u001b[0m\u001b[0m_get_values\u001b[0m\u001b[0;34m(\u001b[0m\u001b[0mindexer\u001b[0m\u001b[0;34m)\u001b[0m\u001b[0;34m\u001b[0m\u001b[0m\n\u001b[1;32m    816\u001b[0m         \u001b[0;32melif\u001b[0m \u001b[0misinstance\u001b[0m\u001b[0;34m(\u001b[0m\u001b[0mkey\u001b[0m\u001b[0;34m,\u001b[0m \u001b[0mABCDataFrame\u001b[0m\u001b[0;34m)\u001b[0m\u001b[0;34m:\u001b[0m\u001b[0;34m\u001b[0m\u001b[0m\n\u001b[0;32m--> 817\u001b[0;31m             raise TypeError('Indexing a Series with DataFrame is not '\n\u001b[0m\u001b[1;32m    818\u001b[0m                             'supported, use the appropriate DataFrame column')\n\u001b[1;32m    819\u001b[0m         \u001b[0;32melse\u001b[0m\u001b[0;34m:\u001b[0m\u001b[0;34m\u001b[0m\u001b[0m\n",
      "\u001b[0;31mTypeError\u001b[0m: Indexing a Series with DataFrame is not supported, use the appropriate DataFrame column"
     ]
    }
   ],
   "source": [
    "predicted_total = 1\n",
    "total = 0\n",
    "for tissue in df.tissue.unique():\n",
    "    for i, activating_combo in enumerate([inactivating_combo1, inactivating_combo2, inactivating_combo3, inactivating_combo4]):\n",
    "        t = df.tissue == tissue\n",
    "        df_t = df[t]\n",
    "        a = df_t[activating_combo]\n",
    "\n",
    "        T = df_t.days\n",
    "        C = df_t.observed_event\n",
    "\n",
    "        if sum(C[a]) > 8 and sum(C[~a]) > 8:\n",
    "            print tissue, sum(C[a]), sum(C[~a])\n",
    "            total += 1\n",
    "            results = logrank_test(T[a], T[~(a)], C[a], C[~(a)], alpha=.99 )\n",
    "            if results.p_value * predicted_total < 0.05:\n",
    "                \n",
    "                print i, tissue, results.p_value, results.p_value * predicted_total\n",
    "                ax = plt.subplot(111)\n",
    "                kmf.fit(T[a], event_observed=C[a], label=\"Inactivating\")\n",
    "                kmf.plot(ax=ax, ci_force_lines=False)\n",
    "                kmf.fit(T[~a], event_observed=C[~a], label=\"Non-Inactivating\")\n",
    "                kmf.plot(ax=ax, ci_force_lines=False)\n",
    "                plt.title('KIR3DL1,Bw4 - {0}'.format(str(results.p_value * predicted_total)))\n",
    "                plt.xlim(0, 1825)\n",
    "                plt.show()\n",
    "                plt.clf()\n",
    "print total"
   ]
  },
  {
   "cell_type": "markdown",
   "metadata": {
    "collapsed": true
   },
   "source": [
    "More known interactions"
   ]
  },
  {
   "cell_type": "code",
   "execution_count": 49,
   "metadata": {},
   "outputs": [],
   "source": [
    "binding_pairs_A = [['A*23:01', 'KIR3DL1'], ['A*03:01', 'KIR3DL2'], ['A*23:04', 'KIR3DL1'], ['A*23:02', 'KIR3DL1']]\n",
    "\n",
    "binding_pairs_B =  [['B*53:01', 'KIR3DL1'], ['B*52:01', 'KIR3DL1'], ['B*44:03', 'KIR3DL1'], ['B*58:01', 'KIR3DL1'],\n",
    "                 ['B*15:16', 'KIR3DL1'], ['B*49:01', 'KIR3DL1'], ['B*51:16', 'KIR3DL1'], ['B*57:04', 'KIR3DL1']]\n",
    "\n",
    "binding_pairs_C = [#['C*04:01', ['KIR2DL1', 'KIR2DS1', 'KIR2DL2', 'KIR2DL3', 'KIR2DS4']], \n",
    "                    ['C*04:01', ['KIR2DL1', 'KIR2DL2', 'KIR2DL3']], \n",
    "                    ['C*04:01', ['KIR2DS1', 'KIR2DS4']], \n",
    "                   #['C*16:01', ['KIR2DL2', 'KIR2DL3', 'KIR2DS4', 'KIR2DS4']],\n",
    "                    ['C*16:01', ['KIR2DL2', 'KIR2DL3']],\n",
    "                    ['C*16:01', ['KIR2DS4']],\n",
    "                   #['C*17:01', ['KIR2DL1', 'KIR2DS1', 'KIR2DL2', 'KIR2DL3']], \n",
    "                    ['C*17:01', ['KIR2DL1', 'KIR2DL2', 'KIR2DL3']], \n",
    "                    ['C*17:01', ['KIR2DS1']], \n",
    "                   #['C*02:02', ['KIR2DL1', 'KIR2DS1', 'KIR2DL2', 'KIR2DL3', 'KIR2DS4']],\n",
    "                    ['C*02:02', ['KIR2DL1', 'KIR2DL2', 'KIR2DL3']],\n",
    "                    ['C*02:02', ['KIR2DS1', 'KIR2DS4']],\n",
    "                   ['C*03:04', ['KIR2DL2', 'KIR2DL3']], \n",
    "                   ['C*07:01', ['KIR2DL2', 'KIR2DL3']],\n",
    "                   ['C*07:02', ['KIR2DL2', 'KIR2DL3']], \n",
    "                   ['C*03:02', ['KIR2DL2', 'KIR2DL3']],\n",
    "                   ['C*18:01', ['KIR2DL1', 'KIR2DS1', 'KIR2DL2']], \n",
    "                   ['C*18:02', ['KIR2DL2', 'KIR2DL3']]]"
   ]
  },
  {
   "cell_type": "code",
   "execution_count": 59,
   "metadata": {},
   "outputs": [
    {
     "name": "stdout",
     "output_type": "stream",
     "text": [
      "GBM 5.969582568212535\n",
      "OV 2.3717411248817015\n",
      "LUAD 2.1464685439503057\n",
      "LUSC 4.5298801490866865\n",
      "HNSC 0.04714464325104249\n",
      "85 323\n",
      "1 HNSC A*03:01 KIR3DL2 0.007857440541840415 0.04714464325104249\n"
     ]
    },
    {
     "data": {
      "image/png": "[encoded data removed]",
      "text/plain": [
       "<Figure size 432x288 with 1 Axes>"
      ]
     },
     "metadata": {},
     "output_type": "display_data"
    },
    {
     "name": "stdout",
     "output_type": "stream",
     "text": [
      "LGG 5.199824606124778\n",
      "6\n"
     ]
    },
    {
     "data": {
      "text/plain": [
       "<Figure size 432x288 with 0 Axes>"
      ]
     },
     "metadata": {},
     "output_type": "display_data"
    }
   ],
   "source": [
    "predicted_total = 6\n",
    "total = 0\n",
    "for tissue in df.tissue.unique():\n",
    "    for i, binding_pair in enumerate(binding_pairs_A):\n",
    "        \n",
    "        t = df.tissue == tissue\n",
    "        df_t = df[t]\n",
    "\n",
    "        T = df_t.days\n",
    "        C = df_t.observed_event\n",
    "        \n",
    "        hla_allele = binding_pair[0]\n",
    "        kir_gene = binding_pair[1]\n",
    "        hla = (df_t.A1_ == hla_allele) | (df_t.A2_ == hla_allele)\n",
    "        kir = (df_t[kir_gene] > 0)\n",
    "\n",
    "        if sum(C[hla&kir]) > 10 and sum(C[~(hla&kir)]) > 10:\n",
    "            results = logrank_test(T[hla&kir], T[~(hla&kir)], C[hla&kir], C[~(hla&kir)], alpha=.99 )\n",
    "            print tissue, results.p_value * predicted_total\n",
    "            total += 1\n",
    "            if results.p_value * predicted_total < 0.05:\n",
    "                print len(df_t[hla&kir]), len(df_t[~(hla&kir)])\n",
    "                print i, tissue, hla_allele, kir_gene, results.p_value, results.p_value * predicted_total\n",
    "                ax = plt.subplot(111)\n",
    "                kmf.fit(T[hla&kir], event_observed=C[hla&kir], label=\"Binding - {0}\".format(sum(C[hla&kir])))\n",
    "                kmf.plot(ax=ax, ci_force_lines=False)\n",
    "                kmf.fit(T[~(hla&kir)], event_observed=C[~(hla&kir)], label=\"Non-Binding - {0}\".format(sum(C[~(hla&kir)])))\n",
    "                kmf.plot(ax=ax, ci_force_lines=False)\n",
    "                plt.title('{0},{1} - {2}'.format(hla_allele, kir_gene, str(results.p_value * predicted_total)))\n",
    "                plt.xlim(0, 1825)\n",
    "                #plt.savefig('/cellar/users/ramarty/Data/kir/figures/survival.{0}.{1}_{2}.pdf'.format(tissue, hla_allele, kir_gene))\n",
    "                plt.show()\n",
    "                plt.clf()\n",
    "print total"
   ]
  },
  {
   "cell_type": "code",
   "execution_count": 43,
   "metadata": {},
   "outputs": [],
   "source": [
    "# follow-up\n",
    "df_t = df[df.tissue == 'HNSC']\n",
    "hla_allele = 'A*03:01'\n",
    "kir_gene = 'KIR3DL2'\n",
    "hla = (df_t.A1_ == hla_allele) | (df_t.A2_ == hla_allele)\n",
    "kir = (df_t[kir_gene] > 0)"
   ]
  },
  {
   "cell_type": "code",
   "execution_count": 45,
   "metadata": {},
   "outputs": [],
   "source": [
    "binding = list(df_t[hla&kir].index)\n",
    "non_binding = list(df_t[~(hla&kir)].index)"
   ]
  },
  {
   "cell_type": "code",
   "execution_count": 46,
   "metadata": {},
   "outputs": [
    {
     "data": {
      "text/plain": [
       "Negative    12\n",
       "Positive     4\n",
       "Name: viral_status, dtype: int64"
      ]
     },
     "execution_count": 46,
     "metadata": {},
     "output_type": "execute_result"
    }
   ],
   "source": [
    "hnsc_clinical[hnsc_clinical.barcode.isin(binding)].viral_status.value_counts()"
   ]
  },
  {
   "cell_type": "code",
   "execution_count": 47,
   "metadata": {},
   "outputs": [
    {
     "data": {
      "text/plain": [
       "Negative    49\n",
       "Positive    22\n",
       "Name: viral_status, dtype: int64"
      ]
     },
     "execution_count": 47,
     "metadata": {},
     "output_type": "execute_result"
    }
   ],
   "source": [
    "hnsc_clinical[hnsc_clinical.barcode.isin(non_binding)].viral_status.value_counts()"
   ]
  },
  {
   "cell_type": "code",
   "execution_count": null,
   "metadata": {
    "collapsed": true
   },
   "outputs": [],
   "source": []
  },
  {
   "cell_type": "code",
   "execution_count": 52,
   "metadata": {},
   "outputs": [
    {
     "name": "stdout",
     "output_type": "stream",
     "text": [
      "HNSC\n",
      "LGG\n",
      "2\n"
     ]
    }
   ],
   "source": [
    "predicted_total = 1\n",
    "total = 0\n",
    "for tissue in df.tissue.unique():\n",
    "    for i, binding_pair in enumerate(binding_pairs_B):\n",
    "        hla_allele = binding_pair[0]\n",
    "        kir_gene = binding_pair[1]\n",
    "        hla = (df.B1_ == hla_allele) | (df.B2_ == hla_allele)\n",
    "        kir = (df[kir_gene] > 0)\n",
    "        \n",
    "        t = df.tissue == tissue\n",
    "        df_t = df[t]\n",
    "        #a = df_t[activating_combo]\n",
    "\n",
    "        T = df_t.days\n",
    "        C = df_t.observed_event\n",
    "\n",
    "        if sum(C[hla&kir]) > 10 and sum(C[~(hla&kir)]) > 10:\n",
    "            print tissue\n",
    "            total += 1\n",
    "            results = logrank_test(T[hla&kir], T[~(hla&kir)], C[hla&kir], C[~(hla&kir)], alpha=.99 )\n",
    "            if results.p_value * predicted_total < 0.05:\n",
    "                print sum(C[hla&kir]), sum(C[~(hla&kir)])\n",
    "                print i, tissue, hla_allele, kir_gene, results.p_value, results.p_value * predicted_total\n",
    "                ax = plt.subplot(111)\n",
    "                kmf.fit(T[hla&kir], event_observed=C[hla&kir], label=\"Binding\")\n",
    "                kmf.plot(ax=ax, ci_force_lines=False)\n",
    "                kmf.fit(T[~(hla&kir)], event_observed=C[~(hla&kir)], label=\"Non-Binding\")\n",
    "                kmf.plot(ax=ax, ci_force_lines=False)\n",
    "                plt.title('KIR3DL1,Bw4 - {0}'.format(str(results.p_value * predicted_total)))\n",
    "                plt.xlim(0, 1825)\n",
    "                plt.show()\n",
    "                plt.clf()\n",
    "print total"
   ]
  },
  {
   "cell_type": "code",
   "execution_count": 60,
   "metadata": {
    "scrolled": false
   },
   "outputs": [
    {
     "name": "stdout",
     "output_type": "stream",
     "text": [
      "GBM\n",
      "GBM\n",
      "GBM\n",
      "OV\n",
      "OV\n",
      "OV\n",
      "LUAD\n",
      "12 69\n",
      "0 C*04:01 ['KIR2DL1', 'KIR2DL2', 'KIR2DL3'] LUAD 0.008587172472617774 0.008587172472617774\n"
     ]
    },
    {
     "data": {
      "image/png": "[encoded data removed]",
      "text/plain": [
       "<Figure size 432x288 with 1 Axes>"
      ]
     },
     "metadata": {},
     "output_type": "display_data"
    },
    {
     "name": "stdout",
     "output_type": "stream",
     "text": [
      "LUAD\n",
      "HNSC\n",
      "HNSC\n",
      "HNSC\n",
      "HNSC\n",
      "LGG\n",
      "LGG\n",
      "14\n"
     ]
    },
    {
     "data": {
      "text/plain": [
       "<Figure size 432x288 with 0 Axes>"
      ]
     },
     "metadata": {},
     "output_type": "display_data"
    }
   ],
   "source": [
    "predicted_total = 1\n",
    "total = 0\n",
    "for tissue in df.tissue.unique():\n",
    "    for i, binding_pair in enumerate(binding_pairs_C):\n",
    "        \n",
    "        t = df.tissue == tissue\n",
    "        df_t = df[t]\n",
    "\n",
    "        T = df_t.days\n",
    "        C = df_t.observed_event\n",
    "        \n",
    "        hla_allele = binding_pair[0]\n",
    "        kir_gene = binding_pair[1]\n",
    "        hla = (df_t.C1_ == hla_allele) | (df_t.C2_ == hla_allele)\n",
    "        greater_than_value = 1\n",
    "        try:\n",
    "            kir = (df[kir_gene[0]] + df[kir_gene[1]] > greater_than_value) | (df[kir_gene[2]] > greater_than_value) | (df[kir_gene[3]] > greater_than_value) | (df[kir_gene[4]] > greater_than_value)\n",
    "        except:\n",
    "            try:\n",
    "                kir = (df[kir_gene[0]] > greater_than_value) | (df[kir_gene[1]] > greater_than_value) | (df[kir_gene[2]] > greater_than_value) | (df[kir_gene[3]] > greater_than_value) \n",
    "            except:\n",
    "                try:\n",
    "                    kir = (df[kir_gene[0]] > greater_than_value) | (df[kir_gene[1]] > greater_than_value) | (df[kir_gene[2]] > greater_than_value) \n",
    "                except:\n",
    "                    try:\n",
    "                        kir = (df[kir_gene[0]] > greater_than_value) | (df[kir_gene[1]] > greater_than_value)\n",
    "                    except:\n",
    "                        kir = (df[kir_gene[0]] > greater_than_value)\n",
    "                    \n",
    "        \n",
    "        if sum(C[hla&kir]) > 11 and sum(C[~(hla&kir)]) > 11:\n",
    "            print tissue\n",
    "            total += 1\n",
    "            results = logrank_test(T[hla&kir], T[~(hla&kir)], C[hla&kir], C[~(hla&kir)], alpha=.99 )\n",
    "            if results.p_value * predicted_total < 0.05:\n",
    "                print sum(C[hla&kir]), sum(C[~(hla&kir)])\n",
    "                print i, hla_allele, kir_gene, tissue, results.p_value, results.p_value * predicted_total\n",
    "                ax = plt.subplot(111)\n",
    "                kmf.fit(T[hla&kir], event_observed=C[hla&kir], label=\"Binding\")\n",
    "                kmf.plot(ax=ax, ci_force_lines=False)\n",
    "                kmf.fit(T[~(hla&kir)], event_observed=C[~(hla&kir)], label=\"Non-Binding\")\n",
    "                kmf.plot(ax=ax, ci_force_lines=False)\n",
    "                plt.xlim(0, 1825)\n",
    "                plt.title('KIR3DL1,Bw4 - {0}'.format(str(results.p_value * predicted_total)))\n",
    "                plt.show()\n",
    "                plt.clf()\n",
    "print total"
   ]
  },
  {
   "cell_type": "code",
   "execution_count": 55,
   "metadata": {
    "scrolled": false
   },
   "outputs": [
    {
     "name": "stdout",
     "output_type": "stream",
     "text": [
      "GBM\n",
      "OV\n",
      "HNSC\n",
      "3\n"
     ]
    }
   ],
   "source": [
    "# can we look at the sum instead of the individual? they should all be inhibitory???\n",
    "predicted_total = 1\n",
    "total = 0\n",
    "for tissue in df.tissue.unique():\n",
    "    for i, binding_pair in enumerate(binding_pairs_C):\n",
    "        \n",
    "        t = df.tissue == tissue\n",
    "        df_t = df[t]\n",
    "\n",
    "        T = df_t.days\n",
    "        C = df_t.observed_event\n",
    "        \n",
    "        hla_allele = binding_pair[0]\n",
    "        kir_gene = binding_pair[1]\n",
    "        hla = (df_t.C1_ == hla_allele) | (df_t.C2_ == hla_allele)\n",
    "        greater_than_value = 1\n",
    "\n",
    "        try:\n",
    "            kir = (df[kir_gene[0]] + df[kir_gene[1]] + df[kir_gene[2]] > 3) \n",
    "        except:\n",
    "            try:\n",
    "                kir = (df[kir_gene[0]] + df[kir_gene[1]] > 2)\n",
    "            except:\n",
    "                 kir = (df[kir_gene[0]] > 1)\n",
    "\n",
    "        if sum(C[hla&kir]) > 11 and sum(C[~(hla&kir)]) > 11:\n",
    "            print tissue\n",
    "            total += 1\n",
    "            results = logrank_test(T[hla&kir], T[~(hla&kir)], C[hla&kir], C[~(hla&kir)], alpha=.99 )\n",
    "            if results.p_value * predicted_total < 0.05:\n",
    "                print sum(C[hla&kir]), sum(C[~(hla&kir)])\n",
    "                print i, hla_allele, kir_gene, tissue, results.p_value, results.p_value * predicted_total\n",
    "                ax = plt.subplot(111)\n",
    "                kmf.fit(T[hla&kir], event_observed=C[hla&kir], label=\"Binding - {0}\".format(sum(C[hla&kir])))\n",
    "                kmf.plot(ax=ax, ci_force_lines=False)\n",
    "                kmf.fit(T[~(hla&kir)], event_observed=C[~(hla&kir)], label=\"Non-Binding - {0}\".format(sum(C[~(hla&kir)])))\n",
    "                kmf.plot(ax=ax, ci_force_lines=False)\n",
    "                plt.title('{0},{1} - {2}'.format(hla_allele, kir_gene, str(results.p_value * predicted_total)))\n",
    "                plt.xlim(0, 1825)\n",
    "                plt.savefig('/cellar/users/ramarty/Data/kir/figures/survival.{0}.{1}_{2}.pdf'.format(tissue, hla_allele, kir_gene[0]))\n",
    "                \n",
    "                plt.show()\n",
    "                plt.clf()\n",
    "print total"
   ]
  },
  {
   "cell_type": "code",
   "execution_count": 58,
   "metadata": {},
   "outputs": [],
   "source": [
    "df_t = df[df.tissue == 'HNSC']\n",
    "hla_allele = 'C*04:01'\n",
    "kir = (df['KIR2DL1'] + df['KIR2DL2'] + df['KIR2DL3'] > 3) \n",
    "hla = (df_t.C1_ == hla_allele) | (df_t.C2_ == hla_allele)"
   ]
  },
  {
   "cell_type": "code",
   "execution_count": 59,
   "metadata": {},
   "outputs": [
    {
     "name": "stderr",
     "output_type": "stream",
     "text": [
      "/cellar/users/ramarty/anaconda/lib/python2.7/site-packages/ipykernel_launcher.py:1: UserWarning: Boolean Series key will be reindexed to match DataFrame index.\n",
      "  \"\"\"Entry point for launching an IPython kernel.\n"
     ]
    },
    {
     "ename": "AttributeError",
     "evalue": "'DataFrame' object has no attribute 'Tumor_Sample_Barcode'",
     "output_type": "error",
     "traceback": [
      "\u001b[0;31m---------------------------------------------------------------------------\u001b[0m",
      "\u001b[0;31mAttributeError\u001b[0m                            Traceback (most recent call last)",
      "\u001b[0;32m<ipython-input-59-8e5e97561bb5>\u001b[0m in \u001b[0;36m<module>\u001b[0;34m()\u001b[0m\n\u001b[0;32m----> 1\u001b[0;31m \u001b[0mbinding\u001b[0m \u001b[0;34m=\u001b[0m \u001b[0mlist\u001b[0m\u001b[0;34m(\u001b[0m\u001b[0mdf_t\u001b[0m\u001b[0;34m[\u001b[0m\u001b[0mhla\u001b[0m\u001b[0;34m&\u001b[0m\u001b[0mkir\u001b[0m\u001b[0;34m]\u001b[0m\u001b[0;34m.\u001b[0m\u001b[0mTumor_Sample_Barcode\u001b[0m\u001b[0;34m)\u001b[0m\u001b[0;34m\u001b[0m\u001b[0m\n\u001b[0m\u001b[1;32m      2\u001b[0m \u001b[0mnon_binding\u001b[0m \u001b[0;34m=\u001b[0m \u001b[0mlist\u001b[0m\u001b[0;34m(\u001b[0m\u001b[0mdf_t\u001b[0m\u001b[0;34m[\u001b[0m\u001b[0;34m~\u001b[0m\u001b[0;34m(\u001b[0m\u001b[0mhla\u001b[0m\u001b[0;34m&\u001b[0m\u001b[0mkir\u001b[0m\u001b[0;34m)\u001b[0m\u001b[0;34m]\u001b[0m\u001b[0;34m.\u001b[0m\u001b[0mTumor_Sample_Barcode\u001b[0m\u001b[0;34m)\u001b[0m\u001b[0;34m\u001b[0m\u001b[0m\n",
      "\u001b[0;32m/cellar/users/ramarty/anaconda/lib/python2.7/site-packages/pandas/core/generic.pyc\u001b[0m in \u001b[0;36m__getattr__\u001b[0;34m(self, name)\u001b[0m\n\u001b[1;32m   4370\u001b[0m             \u001b[0;32mif\u001b[0m \u001b[0mself\u001b[0m\u001b[0;34m.\u001b[0m\u001b[0m_info_axis\u001b[0m\u001b[0;34m.\u001b[0m\u001b[0m_can_hold_identifiers_and_holds_name\u001b[0m\u001b[0;34m(\u001b[0m\u001b[0mname\u001b[0m\u001b[0;34m)\u001b[0m\u001b[0;34m:\u001b[0m\u001b[0;34m\u001b[0m\u001b[0m\n\u001b[1;32m   4371\u001b[0m                 \u001b[0;32mreturn\u001b[0m \u001b[0mself\u001b[0m\u001b[0;34m[\u001b[0m\u001b[0mname\u001b[0m\u001b[0;34m]\u001b[0m\u001b[0;34m\u001b[0m\u001b[0m\n\u001b[0;32m-> 4372\u001b[0;31m             \u001b[0;32mreturn\u001b[0m \u001b[0mobject\u001b[0m\u001b[0;34m.\u001b[0m\u001b[0m__getattribute__\u001b[0m\u001b[0;34m(\u001b[0m\u001b[0mself\u001b[0m\u001b[0;34m,\u001b[0m \u001b[0mname\u001b[0m\u001b[0;34m)\u001b[0m\u001b[0;34m\u001b[0m\u001b[0m\n\u001b[0m\u001b[1;32m   4373\u001b[0m \u001b[0;34m\u001b[0m\u001b[0m\n\u001b[1;32m   4374\u001b[0m     \u001b[0;32mdef\u001b[0m \u001b[0m__setattr__\u001b[0m\u001b[0;34m(\u001b[0m\u001b[0mself\u001b[0m\u001b[0;34m,\u001b[0m \u001b[0mname\u001b[0m\u001b[0;34m,\u001b[0m \u001b[0mvalue\u001b[0m\u001b[0;34m)\u001b[0m\u001b[0;34m:\u001b[0m\u001b[0;34m\u001b[0m\u001b[0m\n",
      "\u001b[0;31mAttributeError\u001b[0m: 'DataFrame' object has no attribute 'Tumor_Sample_Barcode'"
     ]
    }
   ],
   "source": [
    "binding = list(df_t[hla&kir].Tumor_Sample_Barcode)\n",
    "non_binding = list(df_t[~(hla&kir)].Tumor_Sample_Barcode)"
   ]
  },
  {
   "cell_type": "code",
   "execution_count": null,
   "metadata": {},
   "outputs": [],
   "source": [
    "hnsc_clinical[hnsc_clinical.barcode.isin(binding)].viral_status.value_counts()"
   ]
  },
  {
   "cell_type": "code",
   "execution_count": null,
   "metadata": {},
   "outputs": [],
   "source": [
    "hnsc_clinical[hnsc_clinical.barcode.isin(non_binding)].viral_status.value_counts()"
   ]
  },
  {
   "cell_type": "markdown",
   "metadata": {
    "collapsed": true
   },
   "source": [
    "Activating and inhibitory"
   ]
  },
  {
   "cell_type": "code",
   "execution_count": 57,
   "metadata": {},
   "outputs": [
    {
     "name": "stdout",
     "output_type": "stream",
     "text": [
      "GBM 27 27\n",
      "0.2333916059291759\n",
      "OV 23 26\n",
      "0.009868288856019211\n",
      "23 26\n",
      "13 C*18:02 OV 0.009868288856019211 0.009868288856019211\n"
     ]
    },
    {
     "data": {
      "image/png": "[encoded data removed]",
      "text/plain": [
       "<Figure size 432x288 with 1 Axes>"
      ]
     },
     "metadata": {},
     "output_type": "display_data"
    },
    {
     "name": "stdout",
     "output_type": "stream",
     "text": [
      "LUAD 22 25\n",
      "0.9937668401160206\n",
      "HNSC 43 37\n",
      "0.7453465791787699\n",
      "4\n"
     ]
    },
    {
     "data": {
      "text/plain": [
       "<Figure size 432x288 with 0 Axes>"
      ]
     },
     "metadata": {},
     "output_type": "display_data"
    }
   ],
   "source": [
    "predicted_total = 1\n",
    "total = 0\n",
    "for tissue in df.tissue.unique():\n",
    "\n",
    "    t = df.tissue == tissue\n",
    "    df_t = df[t]\n",
    "\n",
    "    T = df_t.days\n",
    "    C = df_t.observed_event\n",
    "    \n",
    "    low_activating = (df_t.activating < 5)\n",
    "    high_activating = (df_t.activating > 6)\n",
    "\n",
    "    if sum(C[low_activating]) > 20 and sum(C[high_activating]) > 20:\n",
    "        print tissue, sum(C[low_activating]), sum(C[high_activating])\n",
    "        total += 1\n",
    "        results = logrank_test(T[low_activating], T[high_activating], C[low_activating], C[high_activating], alpha=.99)\n",
    "        print results.p_value\n",
    "        if results.p_value * predicted_total < 0.05:\n",
    "            print sum(C[low_activating]), sum(C[high_activating])\n",
    "            print i, hla_allele, tissue, results.p_value, results.p_value * predicted_total\n",
    "            ax = plt.subplot(111)\n",
    "            kmf.fit(T[low_activating], event_observed=C[low_activating], label=\"Binding\")\n",
    "            kmf.plot(ax=ax, ci_force_lines=False)\n",
    "            kmf.fit(T[high_activating], event_observed=C[high_activating], label=\"Non-Binding\")\n",
    "            kmf.plot(ax=ax, ci_force_lines=False)\n",
    "            plt.title('KIR3DL1,Bw4 - {0}'.format(str(results.p_value * predicted_total)))\n",
    "            plt.xlim(0, 1825)\n",
    "            plt.show()\n",
    "            plt.clf()\n",
    "print total"
   ]
  },
  {
   "cell_type": "code",
   "execution_count": 60,
   "metadata": {},
   "outputs": [
    {
     "data": {
      "text/plain": [
       "count    3501.000000\n",
       "mean       11.924307\n",
       "std         1.430379\n",
       "min         6.000000\n",
       "25%        11.000000\n",
       "50%        12.000000\n",
       "75%        12.000000\n",
       "max        20.000000\n",
       "Name: inhibitory, dtype: float64"
      ]
     },
     "execution_count": 60,
     "metadata": {},
     "output_type": "execute_result"
    }
   ],
   "source": [
    "df.inhibitory.describe()"
   ]
  },
  {
   "cell_type": "code",
   "execution_count": 58,
   "metadata": {},
   "outputs": [
    {
     "name": "stdout",
     "output_type": "stream",
     "text": [
      "GBM 26 64\n",
      "0.10525043342327911\n",
      "OV 13 63\n",
      "0.9240271723193527\n",
      "LUAD 23 58\n",
      "0.8776662105486885\n",
      "LUSC 11 25\n",
      "0.3462019047117919\n",
      "PAAD 14 14\n",
      "0.528451277171625\n",
      "KIRC 10 19\n",
      "0.581579205240436\n",
      "HNSC 29 109\n",
      "0.12311399696425407\n",
      "BLCA 8 26\n",
      "0.35983188945078415\n",
      "LGG 24 61\n",
      "0.11104544678572838\n",
      "UCS 12 16\n",
      "0.7963490002466653\n",
      "10\n"
     ]
    }
   ],
   "source": [
    "predicted_total = 1\n",
    "total = 0\n",
    "for tissue in df.tissue.unique():\n",
    "\n",
    "    t = df.tissue == tissue\n",
    "    df_t = df[t]\n",
    "\n",
    "    T = df_t.days\n",
    "    C = df_t.observed_event\n",
    "    \n",
    "    low_activating = (df_t.inhibitory <= 11)\n",
    "    high_activating = (df_t.inhibitory >= 12)\n",
    "\n",
    "    if sum(C[low_activating]) > 5 and sum(C[high_activating]) > 5:\n",
    "        print tissue, sum(C[low_activating]), sum(C[high_activating])\n",
    "        total += 1\n",
    "        results = logrank_test(T[low_activating], T[high_activating], C[low_activating], C[high_activating], alpha=.99)\n",
    "        print results.p_value\n",
    "        if results.p_value * predicted_total < 0.05:\n",
    "            print sum(C[low_activating]), sum(C[high_activating])\n",
    "            print i, hla_allele, tissue, results.p_value, results.p_value * predicted_total\n",
    "            ax = plt.subplot(111)\n",
    "            kmf.fit(T[low_activating], event_observed=C[low_activating], label=\"Binding\")\n",
    "            kmf.plot(ax=ax, ci_force_lines=False)\n",
    "            kmf.fit(T[high_activating], event_observed=C[high_activating], label=\"Non-Binding\")\n",
    "            kmf.plot(ax=ax, ci_force_lines=False)\n",
    "            plt.title('KIR3DL1,Bw4 - {0}'.format(str(results.p_value * predicted_total)))\n",
    "            plt.xlim(0, 1825)\n",
    "            plt.show()\n",
    "            plt.clf()\n",
    "print total"
   ]
  },
  {
   "cell_type": "markdown",
   "metadata": {},
   "source": [
    "Combine all inhibitory and activating instead of testing them individually"
   ]
  },
  {
   "cell_type": "code",
   "execution_count": null,
   "metadata": {
    "collapsed": true
   },
   "outputs": [],
   "source": []
  }
 ],
 "metadata": {
  "kernelspec": {
   "display_name": "Python 2",
   "language": "python",
   "name": "python2"
  },
  "language_info": {
   "codemirror_mode": {
    "name": "ipython",
    "version": 2
   },
   "file_extension": ".py",
   "mimetype": "text/x-python",
   "name": "python",
   "nbconvert_exporter": "python",
   "pygments_lexer": "ipython2",
   "version": "2.7.15"
  }
 },
 "nbformat": 4,
 "nbformat_minor": 1
}
