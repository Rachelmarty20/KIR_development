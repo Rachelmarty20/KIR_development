{
 "cells": [
  {
   "cell_type": "code",
   "execution_count": 1,
   "metadata": {
    "scrolled": true
   },
   "outputs": [
    {
     "name": "stderr",
     "output_type": "stream",
     "text": [
      "/cellar/users/ramarty/anaconda/lib/python2.7/site-packages/IPython/nbformat.py:13: ShimWarning: The `IPython.nbformat` package has been deprecated since IPython 4.0. You should import from nbformat instead.\n",
      "  \"You should import from nbformat instead.\", ShimWarning)\n",
      "/cellar/users/ramarty/anaconda/lib/python2.7/site-packages/nbformat/current.py:19: UserWarning: nbformat.current is deprecated.\n",
      "\n",
      "- use nbformat for read/write/validate public API\n",
      "- use nbformat.vX directly to composing notebooks of a particular version\n",
      "\n",
      "  \"\"\")\n"
     ]
    },
    {
     "name": "stdout",
     "output_type": "stream",
     "text": [
      "Populating the interactive namespace from numpy and matplotlib\n",
      "Populating the interactive namespace from numpy and matplotlib\n"
     ]
    }
   ],
   "source": [
    "import io\n",
    "from IPython.nbformat import current\n",
    "def execute_notebook(nbfile):\n",
    "    with io.open(nbfile) as f:\n",
    "        nb = current.read(f, 'json')\n",
    "    ip = get_ipython()\n",
    "    for cell in nb.worksheets[0].cells:\n",
    "        if cell.cell_type != 'code':\n",
    "            continue\n",
    "        ip.run_cell(cell.input)\n",
    "execute_notebook(\"/cellar/users/ramarty/Projects/kir/KIR_development/bin/imports.ipynb\")\n",
    "execute_notebook(\"/cellar/users/ramarty/Projects/kir/KIR_development/bin/samples.ipynb\")"
   ]
  },
  {
   "cell_type": "markdown",
   "metadata": {},
   "source": [
    "### Get set of patients"
   ]
  },
  {
   "cell_type": "code",
   "execution_count": 2,
   "metadata": {},
   "outputs": [],
   "source": [
    "def get_TARGET(x):\n",
    "    if 'TARGET' in x:\n",
    "        return True\n",
    "    else:\n",
    "        return False\n",
    "def get_origin(x):\n",
    "    return int(x.split('-')[3][:2])\n",
    "\n",
    "uuid_barcode_map = pd.read_csv('/cellar/users/andreabc/GDC_barcodes/uuid_barcode_map.txt', sep='\\t')\n",
    "\n",
    "# only exome\n",
    "uuid_barcode_map = uuid_barcode_map[uuid_barcode_map.type == 'aligned_reads']\n",
    "# remove target\n",
    "uuid_barcode_map['TARGET'] = uuid_barcode_map.sample_barcode.apply(get_TARGET)\n",
    "uuid_barcode_map = uuid_barcode_map[~uuid_barcode_map['TARGET']]\n",
    "\n",
    "uuid_barcode_map['origin'] = uuid_barcode_map.sample_barcode.apply(get_origin)\n",
    "uuid_barcode_map = uuid_barcode_map[uuid_barcode_map.origin.isin([10, 11])]\n",
    "\n",
    "uuid_barcode_map = uuid_barcode_map.drop_duplicates('barcode')"
   ]
  },
  {
   "cell_type": "code",
   "execution_count": 3,
   "metadata": {},
   "outputs": [],
   "source": [
    "samples = list(uuid_barcode_map.file_id)\n",
    "barcodes = list(uuid_barcode_map.barcode)\n",
    "file_names = list(uuid_barcode_map.file_name)\n",
    "out_dirs = ['/nrnb/users/ramarty/TCGA/exomes/{0}'.format(x) for x in barcodes]"
   ]
  },
  {
   "cell_type": "code",
   "execution_count": 4,
   "metadata": {},
   "outputs": [
    {
     "data": {
      "text/plain": [
       "(10505, 10505, 10505)"
      ]
     },
     "execution_count": 4,
     "metadata": {},
     "output_type": "execute_result"
    }
   ],
   "source": [
    "len(samples), len(barcodes), len(out_dirs)"
   ]
  },
  {
   "cell_type": "code",
   "execution_count": 5,
   "metadata": {},
   "outputs": [
    {
     "data": {
      "text/plain": [
       "['/nrnb/users/ramarty/TCGA/exomes/TCGA-BP-4967',\n",
       " '/nrnb/users/ramarty/TCGA/exomes/TCGA-TM-A84O',\n",
       " '/nrnb/users/ramarty/TCGA/exomes/TCGA-BF-AAP2']"
      ]
     },
     "execution_count": 5,
     "metadata": {},
     "output_type": "execute_result"
    }
   ],
   "source": [
    "out_dirs[:3]"
   ]
  },
  {
   "cell_type": "code",
   "execution_count": 6,
   "metadata": {},
   "outputs": [],
   "source": [
    "output = [x for x in open('/cellar/users/ramarty/Data/kir/scratch/patients_with_chr19.bam').readlines()]\n",
    "\n",
    "valid_barcodes = []\n",
    "for x in output:\n",
    "    try:\n",
    "        valid_barcodes.append(x.split(' ')[10][:12])\n",
    "    except:\n",
    "        None\n",
    "\n",
    "barcodes = valid_barcodes\n",
    "out_dirs = ['/nrnb/users/ramarty/TCGA/exomes/{0}'.format(x) for x in barcodes]"
   ]
  },
  {
   "cell_type": "code",
   "execution_count": 7,
   "metadata": {},
   "outputs": [
    {
     "data": {
      "text/plain": [
       "(6408, 6408)"
      ]
     },
     "execution_count": 7,
     "metadata": {},
     "output_type": "execute_result"
    }
   ],
   "source": [
    "len(barcodes), len(out_dirs)"
   ]
  },
  {
   "cell_type": "code",
   "execution_count": 8,
   "metadata": {},
   "outputs": [
    {
     "data": {
      "text/plain": [
       "['TCGA-02-0003',\n",
       " 'TCGA-02-0033',\n",
       " 'TCGA-02-0047',\n",
       " 'TCGA-02-0055',\n",
       " 'TCGA-02-2466',\n",
       " 'TCGA-02-2470',\n",
       " 'TCGA-02-2483',\n",
       " 'TCGA-02-2485',\n",
       " 'TCGA-02-2486',\n",
       " 'TCGA-04-1331']"
      ]
     },
     "execution_count": 8,
     "metadata": {},
     "output_type": "execute_result"
    }
   ],
   "source": [
    "barcodes[:10]"
   ]
  },
  {
   "cell_type": "markdown",
   "metadata": {},
   "source": [
    "### Create cluster script"
   ]
  },
  {
   "cell_type": "code",
   "execution_count": 16,
   "metadata": {},
   "outputs": [],
   "source": [
    "def create_cluster_script_download(barcodes, out_dirs):\n",
    "\n",
    "    new_script_file = '/cellar/users/ramarty/Projects/kir/KIR_development/data_gathering/tcga/run_PING.sh'\n",
    "\n",
    "    with open(new_script_file, 'w') as out_file:\n",
    "        out_file.write(\"#! /bin/csh\\n\")\n",
    "        out_file.write(\"#$ -V\\n\")\n",
    "        out_file.write(\"#$ -S /bin/csh\\n\")\n",
    "        out_file.write(\"#$ -o /cellar/users/ramarty/Data/kir/sge-system_files\\n\")\n",
    "        out_file.write(\"#$ -e /cellar/users/ramarty/Data/kir/sge-system_files\\n\")\n",
    "        out_file.write(\"#$ -cwd\\n\")\n",
    "        out_file.write(\"#$ -t 1-{0}\\n\".format(len(barcodes)))\n",
    "        #out_file.write(\"#$ -t 1-10\\n\".format(len(barcodes)))\n",
    "        out_file.write(\"#$ -l h_vmem=3G\\n\")\n",
    "        out_file.write(\"#$ -tc 5\\n\")\n",
    "        out_file.write(\"#$ -l long\")\n",
    "        out_file.write(\"\\n\")\n",
    "\n",
    "        out_file.write(\"set barcodes=({0})\\n\".format(\" \".join(barcodes)))\n",
    "        out_file.write(\"set outs=({0})\\n\".format(\" \".join(out_dirs)))\n",
    "        out_file.write(\"\\n\")\n",
    "\n",
    "        out_file.write(\"set barcode=$barcodes[$SGE_TASK_ID]\\n\")\n",
    "        out_file.write(\"set out=$outs[$SGE_TASK_ID]\\n\")\n",
    "\n",
    "        out_file.write(\"date\\n\")\n",
    "        out_file.write(\"hostname\\n\")\n",
    "        out_file.write(\"echo $barcode\\n\")\n",
    "        \n",
    "        # Make directory\n",
    "        out_file.write(\"mkdir $out\\n\")\n",
    "        out_file.write(\"mkdir $out/PING\\n\")\n",
    "        out_file.write(\"mkdir /tmp/ramarty\\n\")\n",
    "        out_file.write(\"mkdir /tmp/ramarty/$barcode\\n\")\n",
    "        out_file.write(\"echo Directories created.\\n\")\n",
    "        \n",
    "        # Pre-processing data\n",
    "        out_file.write(\"python /cellar/users/ramarty/Projects/kir/KIR_development/data_gathering/bin/convert_to_fastqTWO.py \" + \\\n",
    "                       \"$out/chr19.bam /tmp/ramarty/$barcode/chr19_sorted /tmp/ramarty/$barcode/chr19_dedup \" + \\\n",
    "                       \"$out/PING_sequences/_full_exome_1.fastq $out/PING_sequences/_full_exome_2.fastq cellar\\n\")\n",
    "        out_file.write(\"echo python /cellar/users/ramarty/Projects/kir/KIR_development/data_gathering/bin/convert_to_fastqTWO.py \" + \\\n",
    "                       \"$out/chr19.bam /tmp/ramarty/$barcode/chr19_sorted /tmp/ramarty/$barcode/chr19_dedup \" + \\\n",
    "                       \"$out/PING_sequences/full_exome_1.fastq $out/PING_sequences/full_exome_2.fastq cellar\\n\")\n",
    "        out_file.write(\"echo Pre-processing complete.\\n\")\n",
    "        out_file.write(\"\\n\")\n",
    "        \n",
    "        # Ping: step 1\n",
    "        out_file.write(\"cd /nrnb/users/ramarty/programs/PING\\n\")\n",
    "        out_file.write(\"Rscript --vanilla \" + \\\n",
    "                       \"/cellar/users/ramarty/Projects/kir/KIR_development/data_gathering/bin/runPING_extractor.R \" + \\\n",
    "                       \"$out/PING_sequences/ full_exome_1.fastq full_exome_2.fastq $out/PING_sequences/ 4\\n\")\n",
    "        out_file.write(\"echo Rscript --vanilla \" + \\\n",
    "                       \"/cellar/users/ramarty/Projects/kir/KIR_development/data_gathering/bin/runPING_extractor.R \" + \\\n",
    "                       \"$out/PING_sequences/ full_exome_1.fastq full_exome_2.fastq $out/PING_sequences/ 4\\n\")\n",
    "        \n",
    "        # Ping: step 2\n",
    "        out_file.write(\"Rscript --vanilla \" + \\\n",
    "                       \"/cellar/users/ramarty/Projects/kir/KIR_development/data_gathering/bin/runPING_gc_caller.R \" + \\\n",
    "                       \"$out/PING_sequences/  $out/PING/ 40000\\n\")\n",
    "        out_file.write(\"echo Rscript --vanilla \" + \\\n",
    "                       \"/cellar/users/ramarty/Projects/kir/KIR_development/data_gathering/bin/runPING_gc_caller.R \" + \\\n",
    "                       \"$out/PING_sequences/  $out/PING/ 40000\\n\")\n",
    "        \n",
    "        # Clean up\n",
    "        out_file.write(\"rm -r /tmp/ramarty/$barcode\\n\")\n",
    "        out_file.write(\"date\\n\")"
   ]
  },
  {
   "cell_type": "code",
   "execution_count": 17,
   "metadata": {},
   "outputs": [],
   "source": [
    "create_cluster_script_download(['TCGA-02-2483'], ['/nrnb/users/ramarty/TCGA/exomes/TCGA-02-2483/'])"
   ]
  },
  {
   "cell_type": "code",
   "execution_count": 18,
   "metadata": {},
   "outputs": [],
   "source": [
    "create_cluster_script_download(barcodes, out_dirs)"
   ]
  },
  {
   "cell_type": "markdown",
   "metadata": {},
   "source": [
    "### Collect output <br>"
   ]
  },
  {
   "cell_type": "code",
   "execution_count": 9,
   "metadata": {},
   "outputs": [
    {
     "ename": "KeyboardInterrupt",
     "evalue": "",
     "output_type": "error",
     "traceback": [
      "\u001b[0;31m---------------------------------------------------------------------------\u001b[0m",
      "\u001b[0;31mKeyboardInterrupt\u001b[0m                         Traceback (most recent call last)",
      "\u001b[0;32m<ipython-input-9-fe456a8710c7>\u001b[0m in \u001b[0;36m<module>\u001b[0;34m()\u001b[0m\n\u001b[1;32m      1\u001b[0m \u001b[0mbarcodes\u001b[0m\u001b[0;34m,\u001b[0m \u001b[0msuccess\u001b[0m\u001b[0;34m,\u001b[0m \u001b[0mindices\u001b[0m \u001b[0;34m=\u001b[0m \u001b[0;34m[\u001b[0m\u001b[0;34m]\u001b[0m\u001b[0;34m,\u001b[0m \u001b[0;34m[\u001b[0m\u001b[0;34m]\u001b[0m\u001b[0;34m,\u001b[0m \u001b[0;34m[\u001b[0m\u001b[0;34m]\u001b[0m\u001b[0;34m\u001b[0m\u001b[0m\n\u001b[1;32m      2\u001b[0m \u001b[0;32mfor\u001b[0m \u001b[0mi\u001b[0m \u001b[0;32min\u001b[0m \u001b[0mrange\u001b[0m\u001b[0;34m(\u001b[0m\u001b[0;36m1\u001b[0m\u001b[0;34m,\u001b[0m \u001b[0;36m6408\u001b[0m\u001b[0;34m)\u001b[0m\u001b[0;34m:\u001b[0m\u001b[0;34m\u001b[0m\u001b[0m\n\u001b[0;32m----> 3\u001b[0;31m     \u001b[0mlines\u001b[0m \u001b[0;34m=\u001b[0m \u001b[0mopen\u001b[0m\u001b[0;34m(\u001b[0m\u001b[0;34m'/cellar/users/ramarty/Data/kir/sge-system_files/run_PING.sh.o427297.{0}'\u001b[0m\u001b[0;34m.\u001b[0m\u001b[0mformat\u001b[0m\u001b[0;34m(\u001b[0m\u001b[0mstr\u001b[0m\u001b[0;34m(\u001b[0m\u001b[0mi\u001b[0m\u001b[0;34m)\u001b[0m\u001b[0;34m)\u001b[0m\u001b[0;34m)\u001b[0m\u001b[0;34m.\u001b[0m\u001b[0mreadlines\u001b[0m\u001b[0;34m(\u001b[0m\u001b[0;34m)\u001b[0m\u001b[0;34m\u001b[0m\u001b[0m\n\u001b[0m\u001b[1;32m      4\u001b[0m     \u001b[0mbarcodes\u001b[0m\u001b[0;34m.\u001b[0m\u001b[0mappend\u001b[0m\u001b[0;34m(\u001b[0m\u001b[0mlines\u001b[0m\u001b[0;34m[\u001b[0m\u001b[0;36m4\u001b[0m\u001b[0;34m]\u001b[0m\u001b[0;34m.\u001b[0m\u001b[0mstrip\u001b[0m\u001b[0;34m(\u001b[0m\u001b[0;34m)\u001b[0m\u001b[0;34m)\u001b[0m\u001b[0;34m\u001b[0m\u001b[0m\n\u001b[1;32m      5\u001b[0m     \u001b[0;32mif\u001b[0m \u001b[0;34m'Finished! Please look at MIRA_results.csv.\\n'\u001b[0m \u001b[0;32min\u001b[0m \u001b[0mlines\u001b[0m\u001b[0;34m:\u001b[0m\u001b[0;34m\u001b[0m\u001b[0m\n",
      "\u001b[0;31mKeyboardInterrupt\u001b[0m: "
     ]
    }
   ],
   "source": [
    "barcodes, success, indices = [], [], []\n",
    "for i in range(1, 6408):\n",
    "    lines = open('/cellar/users/ramarty/Data/kir/sge-system_files/run_PING.sh.o427297.{0}'.format(str(i))).readlines()\n",
    "    barcodes.append(lines[4].strip())\n",
    "    if 'Finished! Please look at MIRA_results.csv.\\n' in lines:\n",
    "        success.append(True)\n",
    "    else:\n",
    "        success.append(False)\n",
    "    indices.append(i)"
   ]
  },
  {
   "cell_type": "code",
   "execution_count": null,
   "metadata": {},
   "outputs": [],
   "source": [
    "output = pd.DataFrame({'Barcode': barcodes,\n",
    "                         'Typed': success,\n",
    "                          'Index': indices})"
   ]
  },
  {
   "cell_type": "code",
   "execution_count": null,
   "metadata": {},
   "outputs": [],
   "source": [
    "output.Typed.value_counts()"
   ]
  },
  {
   "cell_type": "code",
   "execution_count": null,
   "metadata": {},
   "outputs": [],
   "source": [
    "output.head()"
   ]
  },
  {
   "cell_type": "markdown",
   "metadata": {},
   "source": [
    "Get speeds"
   ]
  },
  {
   "cell_type": "code",
   "execution_count": null,
   "metadata": {},
   "outputs": [],
   "source": [
    "lines = open('/cellar/users/ramarty/Data/kir/sge-system_files/run_PING.sh.o427297.{0}'.format(str(438))).readlines()\n",
    "\n",
    "x = np.asarray([float(j) for j in lines[2].split(' ')[3].split(':')])\n",
    "\n",
    "y = np.asarray([float(j) for j in lines[-1].split(' ')[3].split(':')])\n",
    "\n",
    "t = np.subtract(y, x)\n",
    "\n",
    "s = t[0]*3600 + t[1]*60 + t[2]"
   ]
  },
  {
   "cell_type": "code",
   "execution_count": 7,
   "metadata": {},
   "outputs": [
    {
     "data": {
      "text/plain": [
       "(array([20., 59., 18.]), array([21.,  5., 54.]))"
      ]
     },
     "execution_count": 7,
     "metadata": {},
     "output_type": "execute_result"
    }
   ],
   "source": [
    "x, y"
   ]
  },
  {
   "cell_type": "code",
   "execution_count": 8,
   "metadata": {},
   "outputs": [
    {
     "data": {
      "text/plain": [
       "array([  1., -54.,  36.])"
      ]
     },
     "execution_count": 8,
     "metadata": {},
     "output_type": "execute_result"
    }
   ],
   "source": [
    "t"
   ]
  },
  {
   "cell_type": "code",
   "execution_count": 9,
   "metadata": {},
   "outputs": [
    {
     "data": {
      "text/plain": [
       "396.0"
      ]
     },
     "execution_count": 9,
     "metadata": {},
     "output_type": "execute_result"
    }
   ],
   "source": [
    "s"
   ]
  },
  {
   "cell_type": "code",
   "execution_count": 10,
   "metadata": {},
   "outputs": [],
   "source": [
    "times, barcodes, indices = [], [], []\n",
    "for i, barcode in zip(output[output.Typed].Index, output[output.Typed].Barcode):\n",
    "    lines = open('/cellar/users/ramarty/Data/kir/sge-system_files/run_PING.sh.o427297.{0}'.format(str(i))).readlines()\n",
    "\n",
    "    x = np.asarray([float(j) for j in lines[2].split(' ')[3].split(':')])\n",
    "    y = np.asarray([float(j) for j in lines[-1].split(' ')[3].split(':')])\n",
    "\n",
    "    t = np.subtract(y, x)\n",
    "    s = t[0]*3600 + t[1]*60 + t[2]\n",
    "    \n",
    "    times.append(s)\n",
    "    barcodes.append(barcode)\n",
    "    indices.append(i)"
   ]
  },
  {
   "cell_type": "code",
   "execution_count": 11,
   "metadata": {},
   "outputs": [],
   "source": [
    "ping_timing = pd.DataFrame({'Barcode': barcodes,\n",
    "                           'Time': times,\n",
    "                           'Index': indices})"
   ]
  },
  {
   "cell_type": "code",
   "execution_count": 12,
   "metadata": {},
   "outputs": [
    {
     "data": {
      "text/plain": [
       "count     154.000000\n",
       "mean      275.331169\n",
       "std       115.757977\n",
       "min        87.000000\n",
       "25%       202.500000\n",
       "50%       243.000000\n",
       "75%       323.250000\n",
       "max      1050.000000\n",
       "Name: Time, dtype: float64"
      ]
     },
     "execution_count": 12,
     "metadata": {},
     "output_type": "execute_result"
    }
   ],
   "source": [
    "ping_timing.Time.describe()"
   ]
  },
  {
   "cell_type": "code",
   "execution_count": 127,
   "metadata": {},
   "outputs": [],
   "source": [
    "ping_timing.to_csv('/cellar/users/ramarty/Data/kir/validation/PING/run_time.csv')"
   ]
  },
  {
   "cell_type": "code",
   "execution_count": 2,
   "metadata": {},
   "outputs": [],
   "source": [
    "ping_timing = pd.read_csv('/cellar/users/ramarty/Data/kir/validation/PING/run_time.csv', index_col=0)"
   ]
  },
  {
   "cell_type": "markdown",
   "metadata": {},
   "source": [
    "### Get timing for same patients with KIRcount"
   ]
  },
  {
   "cell_type": "code",
   "execution_count": 154,
   "metadata": {},
   "outputs": [],
   "source": [
    "def create_cluster_script_gather(barcodes, out_dirs):\n",
    "\n",
    "    new_script_file = '/cellar/users/ramarty/Projects/kir/KIR_development/data_gathering/tcga/gather_components.sh'\n",
    "    \n",
    "    with open(new_script_file, 'w') as out_file:\n",
    "        out_file.write(\"#! /bin/csh\\n\")\n",
    "        out_file.write(\"#$ -V\\n\")\n",
    "        out_file.write(\"#$ -S /bin/csh\\n\")\n",
    "        out_file.write(\"#$ -o /cellar/users/ramarty/Data/kir/sge-system_files\\n\")\n",
    "        out_file.write(\"#$ -e /cellar/users/ramarty/Data/kir/sge-system_files\\n\")\n",
    "        out_file.write(\"#$ -cwd\\n\")\n",
    "        out_file.write(\"#$ -t 1-{0}\\n\".format(len(barcodes)))\n",
    "        #out_file.write(\"#$ -t 1-2\\n\".format(len(barcodes)))\n",
    "        out_file.write(\"#$ -l h_vmem=2G\\n\")\n",
    "        out_file.write(\"#$ -tc 5\\n\")\n",
    "        out_file.write(\"#$ -pe smp 8\\n\")\n",
    "        out_file.write(\"#$ -l long\")\n",
    "        out_file.write(\"\\n\")\n",
    "\n",
    "        out_file.write(\"set barcodes=({0})\\n\".format(\" \".join(barcodes)))\n",
    "        out_file.write(\"set outs=({0})\\n\".format(\" \".join(out_dirs)))\n",
    "        out_file.write(\"\\n\")\n",
    "\n",
    "        out_file.write(\"set barcode=$barcodes[$SGE_TASK_ID]\\n\")\n",
    "        out_file.write(\"set out=$outs[$SGE_TASK_ID]\\n\")\n",
    "        out_file.write(\"\\n\")\n",
    "\n",
    "        out_file.write(\"date\\n\")\n",
    "        out_file.write(\"hostname\\n\")\n",
    "        out_file.write(\"echo $barcode\\n\")\n",
    "        out_file.write(\"\\n\")\n",
    "        \n",
    "        # Make directories\n",
    "        out_file.write(\"mkdir $out/features\\n\")\n",
    "        out_file.write(\"\\n\")\n",
    "        \n",
    "        # Strip fastq - just import chr19 instead. That would be comparable.\n",
    "        out_file.write(\"python /cellar/users/ramarty/Projects/kir/KIR_development/data_gathering/bin/convert_to_fastq2.py \" + \\\n",
    "                       \"$out/chr19.bam $out/KIR_sorted \" + \\\n",
    "                       \"$out/KIR_dedup $out/KIR_and_unmapped.fastq cellar\\n\")\n",
    "        out_file.write(\"echo Fastq stripped.\\n\")\n",
    "        out_file.write(\"\\n\")\n",
    "        \n",
    "        # Map to reference\n",
    "        out_file.write(\"python /cellar/users/ramarty/Projects/kir/KIR_development/data_gathering/bin/map_to_reference.py \" + \\\n",
    "                       \"$out/KIR_and_unmapped.fastq $out/KIR_and_unmapped.aligned.test.bam \" + \\\n",
    "                       \"/cellar/users/ramarty/Data/kir/ref/all_alleles_and_random cellar\\n\")\n",
    "        out_file.write(\"echo Mapped to KIR.\\n\")\n",
    "        out_file.write(\"\\n\")\n",
    "        \n",
    "        # Strip reads from KIR bam\n",
    "        out_file.write(\"python /cellar/users/ramarty/Projects/kir/KIR_development/data_gathering/bin/convert_to_fastq2.py \" + \\\n",
    "                       \"$out/KIR_and_unmapped.aligned.test.bam $out/KIR_sorted $out/KIR_dedup \" + \\\n",
    "                       \"$out/KIR_and_unmapped.aligned.fastq cellar\\n\")\n",
    "        out_file.write(\"echo Stripped reads.\\n\")\n",
    "        out_file.write(\"\\n\")\n",
    "        \n",
    "        # Collect components        \n",
    "        out_file.write(\"python /cellar/users/ramarty/Projects/kir/KIR_development/data_gathering/bin/component_collection.py \" + \\\n",
    "                       \"$out/KIR_and_unmapped.aligned.fastq $out/features \" + \\\n",
    "                       \"/cellar/users/ramarty/Data/kir/kmers/kmer_groups/kir_four_random.txt \" + \\\n",
    "                       \"kir_four_random\\n\")\n",
    "        out_file.write(\"echo Components gathered - KIR.\\n\")\n",
    "        out_file.write(\"\\n\")\n",
    "        \n",
    "        # Clean up\n",
    "        out_file.write(\"rm $out/KIR_sorted\\n\")\n",
    "        out_file.write(\"rm $out/KIR_dedup\\n\")\n",
    "        out_file.write(\"rm $out/*fastq\\n\")\n",
    "        out_file.write(\"date\\n\")"
   ]
  },
  {
   "cell_type": "code",
   "execution_count": 12,
   "metadata": {},
   "outputs": [],
   "source": [
    "barcodes = list(ping_timing.Barcode)\n",
    "out_dirs = ['/nrnb/users/ramarty/TCGA/exomes/{0}'.format(x) for x in barcodes]"
   ]
  },
  {
   "cell_type": "code",
   "execution_count": 156,
   "metadata": {},
   "outputs": [],
   "source": [
    "create_cluster_script_gather(barcodes, out_dirs)"
   ]
  },
  {
   "cell_type": "code",
   "execution_count": 3,
   "metadata": {},
   "outputs": [],
   "source": [
    "times, barcodes, indices = [], [], []\n",
    "for i, barcode in enumerate(list(ping_timing.Barcode)):\n",
    "    lines = open('/cellar/users/ramarty/Data/kir/sge-system_files/gather_components.sh.o427863.{0}'.format(str(i+1))).readlines()\n",
    "\n",
    "    x = np.asarray([float(j) for j in lines[2].split(' ')[3].split(':')])\n",
    "    y = np.asarray([float(j) for j in lines[-1].split(' ')[3].split(':')])\n",
    "\n",
    "    t = np.subtract(y, x)\n",
    "    s = t[0]*3600 + t[1]*60 + t[2]\n",
    "    \n",
    "    times.append(s)\n",
    "    barcodes.append(barcode)\n",
    "    indices.append(i+1)"
   ]
  },
  {
   "cell_type": "code",
   "execution_count": 4,
   "metadata": {},
   "outputs": [],
   "source": [
    "kircount_timing = pd.DataFrame({'Barcode': barcodes,\n",
    "                           'Time': times,\n",
    "                           'Index': indices})"
   ]
  },
  {
   "cell_type": "code",
   "execution_count": 5,
   "metadata": {},
   "outputs": [
    {
     "data": {
      "text/plain": [
       "count    154.000000\n",
       "mean      65.337662\n",
       "std       29.413487\n",
       "min       24.000000\n",
       "25%       45.000000\n",
       "50%       55.000000\n",
       "75%       80.000000\n",
       "max      198.000000\n",
       "Name: Time, dtype: float64"
      ]
     },
     "execution_count": 5,
     "metadata": {},
     "output_type": "execute_result"
    }
   ],
   "source": [
    "kircount_timing.Time.describe()"
   ]
  },
  {
   "cell_type": "markdown",
   "metadata": {},
   "source": [
    "Plot the difference in timing"
   ]
  },
  {
   "cell_type": "code",
   "execution_count": 6,
   "metadata": {},
   "outputs": [
    {
     "data": {
      "text/html": [
       "<div>\n",
       "<style scoped>\n",
       "    .dataframe tbody tr th:only-of-type {\n",
       "        vertical-align: middle;\n",
       "    }\n",
       "\n",
       "    .dataframe tbody tr th {\n",
       "        vertical-align: top;\n",
       "    }\n",
       "\n",
       "    .dataframe thead th {\n",
       "        text-align: right;\n",
       "    }\n",
       "</style>\n",
       "<table border=\"1\" class=\"dataframe\">\n",
       "  <thead>\n",
       "    <tr style=\"text-align: right;\">\n",
       "      <th></th>\n",
       "      <th>Barcode</th>\n",
       "      <th>Index</th>\n",
       "      <th>Time</th>\n",
       "    </tr>\n",
       "  </thead>\n",
       "  <tbody>\n",
       "    <tr>\n",
       "      <th>0</th>\n",
       "      <td>TCGA-02-0033</td>\n",
       "      <td>1</td>\n",
       "      <td>93.0</td>\n",
       "    </tr>\n",
       "    <tr>\n",
       "      <th>1</th>\n",
       "      <td>TCGA-02-0047</td>\n",
       "      <td>2</td>\n",
       "      <td>94.0</td>\n",
       "    </tr>\n",
       "    <tr>\n",
       "      <th>2</th>\n",
       "      <td>TCGA-06-0185</td>\n",
       "      <td>3</td>\n",
       "      <td>84.0</td>\n",
       "    </tr>\n",
       "    <tr>\n",
       "      <th>3</th>\n",
       "      <td>TCGA-06-0221</td>\n",
       "      <td>4</td>\n",
       "      <td>138.0</td>\n",
       "    </tr>\n",
       "    <tr>\n",
       "      <th>4</th>\n",
       "      <td>TCGA-06-0876</td>\n",
       "      <td>5</td>\n",
       "      <td>129.0</td>\n",
       "    </tr>\n",
       "  </tbody>\n",
       "</table>\n",
       "</div>"
      ],
      "text/plain": [
       "        Barcode  Index   Time\n",
       "0  TCGA-02-0033      1   93.0\n",
       "1  TCGA-02-0047      2   94.0\n",
       "2  TCGA-06-0185      3   84.0\n",
       "3  TCGA-06-0221      4  138.0\n",
       "4  TCGA-06-0876      5  129.0"
      ]
     },
     "execution_count": 6,
     "metadata": {},
     "output_type": "execute_result"
    }
   ],
   "source": [
    "kircount_timing.head()"
   ]
  },
  {
   "cell_type": "code",
   "execution_count": 7,
   "metadata": {},
   "outputs": [
    {
     "data": {
      "text/html": [
       "<div>\n",
       "<style scoped>\n",
       "    .dataframe tbody tr th:only-of-type {\n",
       "        vertical-align: middle;\n",
       "    }\n",
       "\n",
       "    .dataframe tbody tr th {\n",
       "        vertical-align: top;\n",
       "    }\n",
       "\n",
       "    .dataframe thead th {\n",
       "        text-align: right;\n",
       "    }\n",
       "</style>\n",
       "<table border=\"1\" class=\"dataframe\">\n",
       "  <thead>\n",
       "    <tr style=\"text-align: right;\">\n",
       "      <th></th>\n",
       "      <th>Barcode</th>\n",
       "      <th>Index</th>\n",
       "      <th>Time</th>\n",
       "    </tr>\n",
       "  </thead>\n",
       "  <tbody>\n",
       "    <tr>\n",
       "      <th>0</th>\n",
       "      <td>TCGA-02-0033</td>\n",
       "      <td>2</td>\n",
       "      <td>399.0</td>\n",
       "    </tr>\n",
       "    <tr>\n",
       "      <th>1</th>\n",
       "      <td>TCGA-02-0047</td>\n",
       "      <td>3</td>\n",
       "      <td>272.0</td>\n",
       "    </tr>\n",
       "    <tr>\n",
       "      <th>2</th>\n",
       "      <td>TCGA-06-0185</td>\n",
       "      <td>72</td>\n",
       "      <td>201.0</td>\n",
       "    </tr>\n",
       "    <tr>\n",
       "      <th>3</th>\n",
       "      <td>TCGA-06-0221</td>\n",
       "      <td>83</td>\n",
       "      <td>321.0</td>\n",
       "    </tr>\n",
       "    <tr>\n",
       "      <th>4</th>\n",
       "      <td>TCGA-06-0876</td>\n",
       "      <td>98</td>\n",
       "      <td>494.0</td>\n",
       "    </tr>\n",
       "  </tbody>\n",
       "</table>\n",
       "</div>"
      ],
      "text/plain": [
       "        Barcode  Index   Time\n",
       "0  TCGA-02-0033      2  399.0\n",
       "1  TCGA-02-0047      3  272.0\n",
       "2  TCGA-06-0185     72  201.0\n",
       "3  TCGA-06-0221     83  321.0\n",
       "4  TCGA-06-0876     98  494.0"
      ]
     },
     "execution_count": 7,
     "metadata": {},
     "output_type": "execute_result"
    }
   ],
   "source": [
    "ping_timing.head()"
   ]
  },
  {
   "cell_type": "code",
   "execution_count": 8,
   "metadata": {},
   "outputs": [],
   "source": [
    "kircount_timing['KIRcount'] = kircount_timing.Time\n",
    "ping_timing['PING'] = ping_timing.Time"
   ]
  },
  {
   "cell_type": "code",
   "execution_count": 9,
   "metadata": {},
   "outputs": [],
   "source": [
    "comparison = pd.merge(kircount_timing.loc[:, ['Barcode', 'KIRcount']],\n",
    "        ping_timing.loc[:, ['Barcode', 'PING']], on='Barcode', how='inner')"
   ]
  },
  {
   "cell_type": "code",
   "execution_count": 10,
   "metadata": {},
   "outputs": [
    {
     "data": {
      "text/html": [
       "<div>\n",
       "<style scoped>\n",
       "    .dataframe tbody tr th:only-of-type {\n",
       "        vertical-align: middle;\n",
       "    }\n",
       "\n",
       "    .dataframe tbody tr th {\n",
       "        vertical-align: top;\n",
       "    }\n",
       "\n",
       "    .dataframe thead th {\n",
       "        text-align: right;\n",
       "    }\n",
       "</style>\n",
       "<table border=\"1\" class=\"dataframe\">\n",
       "  <thead>\n",
       "    <tr style=\"text-align: right;\">\n",
       "      <th></th>\n",
       "      <th>KIRcount</th>\n",
       "      <th>PING</th>\n",
       "    </tr>\n",
       "  </thead>\n",
       "  <tbody>\n",
       "    <tr>\n",
       "      <th>count</th>\n",
       "      <td>154.000000</td>\n",
       "      <td>154.000000</td>\n",
       "    </tr>\n",
       "    <tr>\n",
       "      <th>mean</th>\n",
       "      <td>65.337662</td>\n",
       "      <td>275.331169</td>\n",
       "    </tr>\n",
       "    <tr>\n",
       "      <th>std</th>\n",
       "      <td>29.413487</td>\n",
       "      <td>115.757977</td>\n",
       "    </tr>\n",
       "    <tr>\n",
       "      <th>min</th>\n",
       "      <td>24.000000</td>\n",
       "      <td>87.000000</td>\n",
       "    </tr>\n",
       "    <tr>\n",
       "      <th>25%</th>\n",
       "      <td>45.000000</td>\n",
       "      <td>202.500000</td>\n",
       "    </tr>\n",
       "    <tr>\n",
       "      <th>50%</th>\n",
       "      <td>55.000000</td>\n",
       "      <td>243.000000</td>\n",
       "    </tr>\n",
       "    <tr>\n",
       "      <th>75%</th>\n",
       "      <td>80.000000</td>\n",
       "      <td>323.250000</td>\n",
       "    </tr>\n",
       "    <tr>\n",
       "      <th>max</th>\n",
       "      <td>198.000000</td>\n",
       "      <td>1050.000000</td>\n",
       "    </tr>\n",
       "  </tbody>\n",
       "</table>\n",
       "</div>"
      ],
      "text/plain": [
       "         KIRcount         PING\n",
       "count  154.000000   154.000000\n",
       "mean    65.337662   275.331169\n",
       "std     29.413487   115.757977\n",
       "min     24.000000    87.000000\n",
       "25%     45.000000   202.500000\n",
       "50%     55.000000   243.000000\n",
       "75%     80.000000   323.250000\n",
       "max    198.000000  1050.000000"
      ]
     },
     "execution_count": 10,
     "metadata": {},
     "output_type": "execute_result"
    }
   ],
   "source": [
    "comparison.describe()"
   ]
  },
  {
   "cell_type": "code",
   "execution_count": 24,
   "metadata": {},
   "outputs": [
    {
     "data": {
      "text/plain": [
       "(0, 1100)"
      ]
     },
     "execution_count": 24,
     "metadata": {},
     "output_type": "execute_result"
    },
    {
     "data": {
      "image/png": "[encoded data removed]",
      "text/plain": [
       "<Figure size 432x288 with 1 Axes>"
      ]
     },
     "metadata": {},
     "output_type": "display_data"
    }
   ],
   "source": [
    "plt.scatter(comparison.KIRcount[:100], comparison.PING[:100], color='lightgrey')\n",
    "plt.ylabel('PING (sec)')\n",
    "plt.xlabel('Our method (sec)')\n",
    "plt.plot((0, 1100), (0, 1100))\n",
    "plt.xlim(0, 230)\n",
    "plt.ylim(0, 1100)"
   ]
  },
  {
   "cell_type": "markdown",
   "metadata": {},
   "source": [
    "### Comparison of copy number"
   ]
  },
  {
   "cell_type": "code",
   "execution_count": 116,
   "metadata": {},
   "outputs": [],
   "source": [
    "types = pd.read_csv('/cellar/users/ramarty/Data/kir/TCGA/data_frames/TCGA.gene_copy_numbers.kir_mean.csv',\n",
    "                    index_col=0)"
   ]
  },
  {
   "cell_type": "code",
   "execution_count": 117,
   "metadata": {},
   "outputs": [],
   "source": [
    "shortened_types = [x[3:] for x in types.columns]"
   ]
  },
  {
   "cell_type": "code",
   "execution_count": 118,
   "metadata": {},
   "outputs": [],
   "source": [
    "types.columns = shortened_types"
   ]
  },
  {
   "cell_type": "code",
   "execution_count": 119,
   "metadata": {},
   "outputs": [],
   "source": [
    "genes = ['2DL1', '2DS1', '2DL4', '2DP1', '2DS2', '2DS3', '2DS4', '2DS5', '3DL1', '3DL2', '3DL3', '3DP1','3DS1']"
   ]
  },
  {
   "cell_type": "code",
   "execution_count": 120,
   "metadata": {},
   "outputs": [],
   "source": [
    "types = types.loc[:, genes]"
   ]
  },
  {
   "cell_type": "code",
   "execution_count": 121,
   "metadata": {},
   "outputs": [],
   "source": [
    "ping = pd.read_csv('/cellar/users/ramarty/Data/kir/validation/PING/results.csv', index_col=0)"
   ]
  },
  {
   "cell_type": "code",
   "execution_count": 122,
   "metadata": {},
   "outputs": [],
   "source": [
    "ping = ping.loc[:, genes]"
   ]
  },
  {
   "cell_type": "code",
   "execution_count": 140,
   "metadata": {},
   "outputs": [
    {
     "data": {
      "text/plain": [
       "97"
      ]
     },
     "execution_count": 140,
     "metadata": {},
     "output_type": "execute_result"
    }
   ],
   "source": [
    "patients = [x for x in ping.index if x in types.index]\n",
    "len(patients)"
   ]
  },
  {
   "cell_type": "code",
   "execution_count": 124,
   "metadata": {},
   "outputs": [],
   "source": [
    "ping = ping.loc[patients]\n",
    "types = types.loc[patients]"
   ]
  },
  {
   "cell_type": "code",
   "execution_count": 141,
   "metadata": {},
   "outputs": [
    {
     "data": {
      "text/plain": [
       "(97, 97)"
      ]
     },
     "execution_count": 141,
     "metadata": {},
     "output_type": "execute_result"
    }
   ],
   "source": [
    "len(ping), len(types)"
   ]
  },
  {
   "cell_type": "code",
   "execution_count": 143,
   "metadata": {},
   "outputs": [
    {
     "data": {
      "text/plain": [
       "(97, 97)"
      ]
     },
     "execution_count": 143,
     "metadata": {},
     "output_type": "execute_result"
    }
   ],
   "source": [
    "len(ping.dropna()), len(types.dropna())"
   ]
  },
  {
   "cell_type": "code",
   "execution_count": 125,
   "metadata": {},
   "outputs": [
    {
     "data": {
      "text/html": [
       "<div>\n",
       "<style scoped>\n",
       "    .dataframe tbody tr th:only-of-type {\n",
       "        vertical-align: middle;\n",
       "    }\n",
       "\n",
       "    .dataframe tbody tr th {\n",
       "        vertical-align: top;\n",
       "    }\n",
       "\n",
       "    .dataframe thead th {\n",
       "        text-align: right;\n",
       "    }\n",
       "</style>\n",
       "<table border=\"1\" class=\"dataframe\">\n",
       "  <thead>\n",
       "    <tr style=\"text-align: right;\">\n",
       "      <th></th>\n",
       "      <th>2DL1</th>\n",
       "      <th>2DS1</th>\n",
       "      <th>2DL4</th>\n",
       "      <th>2DP1</th>\n",
       "      <th>2DS2</th>\n",
       "      <th>2DS3</th>\n",
       "      <th>2DS4</th>\n",
       "      <th>2DS5</th>\n",
       "      <th>3DL1</th>\n",
       "      <th>3DL2</th>\n",
       "      <th>3DL3</th>\n",
       "      <th>3DP1</th>\n",
       "      <th>3DS1</th>\n",
       "    </tr>\n",
       "  </thead>\n",
       "  <tbody>\n",
       "    <tr>\n",
       "      <th>TCGA-02-0033</th>\n",
       "      <td>1</td>\n",
       "      <td>1</td>\n",
       "      <td>1</td>\n",
       "      <td>1</td>\n",
       "      <td>1</td>\n",
       "      <td>0</td>\n",
       "      <td>1</td>\n",
       "      <td>0</td>\n",
       "      <td>1</td>\n",
       "      <td>2</td>\n",
       "      <td>2</td>\n",
       "      <td>2</td>\n",
       "      <td>0</td>\n",
       "    </tr>\n",
       "    <tr>\n",
       "      <th>TCGA-02-0047</th>\n",
       "      <td>1</td>\n",
       "      <td>0</td>\n",
       "      <td>2</td>\n",
       "      <td>1</td>\n",
       "      <td>1</td>\n",
       "      <td>0</td>\n",
       "      <td>1</td>\n",
       "      <td>0</td>\n",
       "      <td>2</td>\n",
       "      <td>2</td>\n",
       "      <td>2</td>\n",
       "      <td>2</td>\n",
       "      <td>0</td>\n",
       "    </tr>\n",
       "    <tr>\n",
       "      <th>TCGA-06-0185</th>\n",
       "      <td>1</td>\n",
       "      <td>0</td>\n",
       "      <td>2</td>\n",
       "      <td>2</td>\n",
       "      <td>0</td>\n",
       "      <td>0</td>\n",
       "      <td>1</td>\n",
       "      <td>0</td>\n",
       "      <td>2</td>\n",
       "      <td>2</td>\n",
       "      <td>2</td>\n",
       "      <td>2</td>\n",
       "      <td>0</td>\n",
       "    </tr>\n",
       "    <tr>\n",
       "      <th>TCGA-06-0876</th>\n",
       "      <td>1</td>\n",
       "      <td>1</td>\n",
       "      <td>2</td>\n",
       "      <td>2</td>\n",
       "      <td>1</td>\n",
       "      <td>0</td>\n",
       "      <td>1</td>\n",
       "      <td>0</td>\n",
       "      <td>1</td>\n",
       "      <td>2</td>\n",
       "      <td>2</td>\n",
       "      <td>2</td>\n",
       "      <td>1</td>\n",
       "    </tr>\n",
       "    <tr>\n",
       "      <th>TCGA-06-0877</th>\n",
       "      <td>1</td>\n",
       "      <td>1</td>\n",
       "      <td>2</td>\n",
       "      <td>1</td>\n",
       "      <td>2</td>\n",
       "      <td>1</td>\n",
       "      <td>1</td>\n",
       "      <td>0</td>\n",
       "      <td>1</td>\n",
       "      <td>2</td>\n",
       "      <td>2</td>\n",
       "      <td>3</td>\n",
       "      <td>1</td>\n",
       "    </tr>\n",
       "  </tbody>\n",
       "</table>\n",
       "</div>"
      ],
      "text/plain": [
       "              2DL1  2DS1  2DL4  2DP1  2DS2  2DS3  2DS4  2DS5  3DL1  3DL2  \\\n",
       "TCGA-02-0033     1     1     1     1     1     0     1     0     1     2   \n",
       "TCGA-02-0047     1     0     2     1     1     0     1     0     2     2   \n",
       "TCGA-06-0185     1     0     2     2     0     0     1     0     2     2   \n",
       "TCGA-06-0876     1     1     2     2     1     0     1     0     1     2   \n",
       "TCGA-06-0877     1     1     2     1     2     1     1     0     1     2   \n",
       "\n",
       "              3DL3  3DP1  3DS1  \n",
       "TCGA-02-0033     2     2     0  \n",
       "TCGA-02-0047     2     2     0  \n",
       "TCGA-06-0185     2     2     0  \n",
       "TCGA-06-0876     2     2     1  \n",
       "TCGA-06-0877     2     3     1  "
      ]
     },
     "execution_count": 125,
     "metadata": {},
     "output_type": "execute_result"
    }
   ],
   "source": [
    "ping.head()"
   ]
  },
  {
   "cell_type": "code",
   "execution_count": 126,
   "metadata": {},
   "outputs": [
    {
     "data": {
      "text/html": [
       "<div>\n",
       "<style scoped>\n",
       "    .dataframe tbody tr th:only-of-type {\n",
       "        vertical-align: middle;\n",
       "    }\n",
       "\n",
       "    .dataframe tbody tr th {\n",
       "        vertical-align: top;\n",
       "    }\n",
       "\n",
       "    .dataframe thead th {\n",
       "        text-align: right;\n",
       "    }\n",
       "</style>\n",
       "<table border=\"1\" class=\"dataframe\">\n",
       "  <thead>\n",
       "    <tr style=\"text-align: right;\">\n",
       "      <th></th>\n",
       "      <th>2DL1</th>\n",
       "      <th>2DS1</th>\n",
       "      <th>2DL4</th>\n",
       "      <th>2DP1</th>\n",
       "      <th>2DS2</th>\n",
       "      <th>2DS3</th>\n",
       "      <th>2DS4</th>\n",
       "      <th>2DS5</th>\n",
       "      <th>3DL1</th>\n",
       "      <th>3DL2</th>\n",
       "      <th>3DL3</th>\n",
       "      <th>3DP1</th>\n",
       "      <th>3DS1</th>\n",
       "    </tr>\n",
       "  </thead>\n",
       "  <tbody>\n",
       "    <tr>\n",
       "      <th>TCGA-02-0033</th>\n",
       "      <td>1</td>\n",
       "      <td>0</td>\n",
       "      <td>1</td>\n",
       "      <td>1</td>\n",
       "      <td>1</td>\n",
       "      <td>0</td>\n",
       "      <td>1</td>\n",
       "      <td>1</td>\n",
       "      <td>1</td>\n",
       "      <td>2</td>\n",
       "      <td>2</td>\n",
       "      <td>1</td>\n",
       "      <td>0</td>\n",
       "    </tr>\n",
       "    <tr>\n",
       "      <th>TCGA-02-0047</th>\n",
       "      <td>1</td>\n",
       "      <td>0</td>\n",
       "      <td>2</td>\n",
       "      <td>1</td>\n",
       "      <td>1</td>\n",
       "      <td>0</td>\n",
       "      <td>2</td>\n",
       "      <td>0</td>\n",
       "      <td>2</td>\n",
       "      <td>2</td>\n",
       "      <td>2</td>\n",
       "      <td>2</td>\n",
       "      <td>0</td>\n",
       "    </tr>\n",
       "    <tr>\n",
       "      <th>TCGA-06-0185</th>\n",
       "      <td>2</td>\n",
       "      <td>0</td>\n",
       "      <td>2</td>\n",
       "      <td>2</td>\n",
       "      <td>0</td>\n",
       "      <td>0</td>\n",
       "      <td>2</td>\n",
       "      <td>0</td>\n",
       "      <td>2</td>\n",
       "      <td>2</td>\n",
       "      <td>2</td>\n",
       "      <td>2</td>\n",
       "      <td>0</td>\n",
       "    </tr>\n",
       "    <tr>\n",
       "      <th>TCGA-06-0876</th>\n",
       "      <td>1</td>\n",
       "      <td>1</td>\n",
       "      <td>2</td>\n",
       "      <td>1</td>\n",
       "      <td>1</td>\n",
       "      <td>0</td>\n",
       "      <td>1</td>\n",
       "      <td>1</td>\n",
       "      <td>1</td>\n",
       "      <td>2</td>\n",
       "      <td>2</td>\n",
       "      <td>2</td>\n",
       "      <td>1</td>\n",
       "    </tr>\n",
       "    <tr>\n",
       "      <th>TCGA-06-0877</th>\n",
       "      <td>1</td>\n",
       "      <td>1</td>\n",
       "      <td>2</td>\n",
       "      <td>1</td>\n",
       "      <td>1</td>\n",
       "      <td>1</td>\n",
       "      <td>1</td>\n",
       "      <td>1</td>\n",
       "      <td>1</td>\n",
       "      <td>2</td>\n",
       "      <td>2</td>\n",
       "      <td>2</td>\n",
       "      <td>1</td>\n",
       "    </tr>\n",
       "  </tbody>\n",
       "</table>\n",
       "</div>"
      ],
      "text/plain": [
       "              2DL1  2DS1  2DL4  2DP1  2DS2  2DS3  2DS4  2DS5  3DL1  3DL2  \\\n",
       "TCGA-02-0033     1     0     1     1     1     0     1     1     1     2   \n",
       "TCGA-02-0047     1     0     2     1     1     0     2     0     2     2   \n",
       "TCGA-06-0185     2     0     2     2     0     0     2     0     2     2   \n",
       "TCGA-06-0876     1     1     2     1     1     0     1     1     1     2   \n",
       "TCGA-06-0877     1     1     2     1     1     1     1     1     1     2   \n",
       "\n",
       "              3DL3  3DP1  3DS1  \n",
       "TCGA-02-0033     2     1     0  \n",
       "TCGA-02-0047     2     2     0  \n",
       "TCGA-06-0185     2     2     0  \n",
       "TCGA-06-0876     2     2     1  \n",
       "TCGA-06-0877     2     2     1  "
      ]
     },
     "execution_count": 126,
     "metadata": {},
     "output_type": "execute_result"
    }
   ],
   "source": [
    "types.head()"
   ]
  },
  {
   "cell_type": "code",
   "execution_count": 147,
   "metadata": {},
   "outputs": [
    {
     "name": "stdout",
     "output_type": "stream",
     "text": [
      "2DL1 0.6907216494845361\n",
      "2DS1 0.8762886597938144\n",
      "2DL4 0.8041237113402062\n",
      "2DP1 0.8350515463917526\n",
      "2DS2 0.8865979381443299\n",
      "2DS3 0.8144329896907216\n",
      "2DS4 0.35051546391752575\n",
      "2DS5 0.7422680412371134\n",
      "3DL1 0.8762886597938144\n",
      "3DL2 0.9072164948453608\n",
      "3DL3 0.8969072164948454\n",
      "3DP1 0.41237113402061853\n",
      "3DS1 0.865979381443299\n"
     ]
    }
   ],
   "source": [
    "agreement = []\n",
    "for gene in genes:\n",
    "    print gene, (ping.loc[:, gene] == types.loc[:, gene]).mean()\n",
    "    agreement.append((ping.loc[:, gene] == types.loc[:, gene]).mean())"
   ]
  },
  {
   "cell_type": "code",
   "execution_count": 148,
   "metadata": {},
   "outputs": [],
   "source": [
    "agreement_df = pd.DataFrame({'Gene': genes,\n",
    "                            'Agreement': agreement})"
   ]
  },
  {
   "cell_type": "code",
   "execution_count": 159,
   "metadata": {},
   "outputs": [
    {
     "data": {
      "text/plain": [
       "Text(0,0.5,'Percentage of patients where PING\\nand our method agreed on copy number')"
      ]
     },
     "execution_count": 159,
     "metadata": {},
     "output_type": "execute_result"
    },
    {
     "data": {
      "image/png": "[encoded data removed]",
      "text/plain": [
       "<Figure size 432x288 with 1 Axes>"
      ]
     },
     "metadata": {},
     "output_type": "display_data"
    }
   ],
   "source": [
    "sns.barplot(x='Gene', y='Agreement', data=agreement_df, color='lightgrey')\n",
    "plt.xticks(rotation=90)\n",
    "plt.ylabel('Percentage of patients where PING\\nand our method agreed on copy number')"
   ]
  },
  {
   "cell_type": "code",
   "execution_count": 164,
   "metadata": {},
   "outputs": [
    {
     "name": "stdout",
     "output_type": "stream",
     "text": [
      "2DL1 0.685567010309 0.855670103093\n",
      "2DS1 0.139175257732 0.159793814433\n",
      "2DL4 0.90206185567 1.01030927835\n",
      "2DP1 0.850515463918 0.860824742268\n",
      "2DS2 0.30412371134 0.268041237113\n",
      "2DS3 0.0360824742268 0.134020618557\n",
      "2DS4 0.515463917526 0.865979381443\n",
      "2DS5 0.0103092783505 0.144329896907\n",
      "3DL1 0.840206185567 0.865979381443\n",
      "3DL2 1.0 1.04639175258\n",
      "3DL3 1.0 1.0412371134\n",
      "3DP1 1.24226804124 1.0206185567\n",
      "3DS1 0.113402061856 0.159793814433\n"
     ]
    }
   ],
   "source": [
    "for gene in genes:\n",
    "    print gene, ping.loc[:, gene].mean()/2, types.loc[:, gene].mean()/2"
   ]
  },
  {
   "cell_type": "code",
   "execution_count": 138,
   "metadata": {},
   "outputs": [
    {
     "name": "stdout",
     "output_type": "stream",
     "text": [
      "2DL1\n",
      "1    53\n",
      "2    40\n",
      "0     4\n",
      "Name: 2DL1, dtype: int64 2    61\n",
      "1    26\n",
      "3     6\n",
      "0     4\n",
      "Name: 2DL1, dtype: int64\n",
      "2DS1\n",
      "0    70\n",
      "1    27\n",
      "Name: 2DS1, dtype: int64 0    67\n",
      "1    29\n",
      "2     1\n",
      "Name: 2DS1, dtype: int64\n",
      "2DL4\n",
      "2    78\n",
      "1    19\n",
      "Name: 2DL4, dtype: int64 2    91\n",
      "3     4\n",
      "1     2\n",
      "Name: 2DL4, dtype: int64\n",
      "2DP1\n",
      "2    68\n",
      "1    29\n",
      "Name: 2DP1, dtype: int64 2    64\n",
      "1    24\n",
      "3     5\n",
      "0     4\n",
      "Name: 2DP1, dtype: int64\n",
      "2DS2\n",
      "0    46\n",
      "1    43\n",
      "2     8\n",
      "Name: 2DS2, dtype: int64 0    48\n",
      "1    46\n",
      "2     3\n",
      "Name: 2DS2, dtype: int64\n",
      "2DS3\n",
      "0    90\n",
      "1     7\n",
      "Name: 2DS3, dtype: int64 0    73\n",
      "1    22\n",
      "2     2\n",
      "Name: 2DS3, dtype: int64\n",
      "2DS4\n",
      "1    92\n",
      "2     4\n",
      "0     1\n",
      "Name: 2DS4, dtype: int64 2    62\n",
      "1    29\n",
      "3     5\n",
      "0     1\n",
      "Name: 2DS4, dtype: int64\n",
      "2DS5\n",
      "0    95\n",
      "1     2\n",
      "Name: 2DS5, dtype: int64 0    70\n",
      "1    26\n",
      "2     1\n",
      "Name: 2DS5, dtype: int64\n",
      "3DL1\n",
      "2    57\n",
      "1    34\n",
      "3     5\n",
      "0     1\n",
      "Name: 3DL1, dtype: int64 2    62\n",
      "1    29\n",
      "3     5\n",
      "0     1\n",
      "Name: 3DL1, dtype: int64\n",
      "3DL2\n",
      "2    97\n",
      "Name: 3DL2, dtype: int64 2    88\n",
      "3     9\n",
      "Name: 3DL2, dtype: int64\n",
      "3DL3\n",
      "2    97\n",
      "Name: 3DL3, dtype: int64 2    87\n",
      "3     9\n",
      "1     1\n",
      "Name: 3DL3, dtype: int64\n",
      "3DP1\n",
      "2    50\n",
      "3    47\n",
      "Name: 3DP1, dtype: int64 2    87\n",
      "3     7\n",
      "1     3\n",
      "Name: 3DP1, dtype: int64\n",
      "3DS1\n",
      "0    75\n",
      "1    22\n",
      "Name: 3DS1, dtype: int64 0    67\n",
      "1    29\n",
      "2     1\n",
      "Name: 3DS1, dtype: int64\n"
     ]
    }
   ],
   "source": [
    "for gene in genes:\n",
    "    print gene\n",
    "    print ping.loc[:, gene].value_counts(), types.loc[:, gene].value_counts()"
   ]
  },
  {
   "cell_type": "code",
   "execution_count": null,
   "metadata": {},
   "outputs": [],
   "source": []
  }
 ],
 "metadata": {
  "kernelspec": {
   "display_name": "Python 2",
   "language": "python",
   "name": "python2"
  },
  "language_info": {
   "codemirror_mode": {
    "name": "ipython",
    "version": 2
   },
   "file_extension": ".py",
   "mimetype": "text/x-python",
   "name": "python",
   "nbconvert_exporter": "python",
   "pygments_lexer": "ipython2",
   "version": "2.7.15"
  }
 },
 "nbformat": 4,
 "nbformat_minor": 2
}
